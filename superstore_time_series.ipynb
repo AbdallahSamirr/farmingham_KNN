{
  "nbformat": 4,
  "nbformat_minor": 0,
  "metadata": {
    "colab": {
      "provenance": [],
      "authorship_tag": "ABX9TyP+YzCsKNwi5bWSwZ/h/5Fv",
      "include_colab_link": true
    },
    "kernelspec": {
      "name": "python3",
      "display_name": "Python 3"
    },
    "language_info": {
      "name": "python"
    }
  },
  "cells": [
    {
      "cell_type": "markdown",
      "metadata": {
        "id": "view-in-github",
        "colab_type": "text"
      },
      "source": [
        "<a href=\"https://colab.research.google.com/github/AbdallahSamirr/farmingham_KNN/blob/main/superstore_time_series.ipynb\" target=\"_parent\"><img src=\"https://colab.research.google.com/assets/colab-badge.svg\" alt=\"Open In Colab\"/></a>"
      ]
    },
    {
      "cell_type": "code",
      "execution_count": 16,
      "metadata": {
        "id": "sEiKgWiSAGTd"
      },
      "outputs": [],
      "source": [
        "import pandas as pd\n",
        "import numpy as np\n",
        "import matplotlib.pyplot as plt\n",
        "import plotly.express as px\n",
        "import seaborn as sns"
      ]
    },
    {
      "cell_type": "code",
      "source": [
        "df = pd.read_csv('/content/superstore.csv')"
      ],
      "metadata": {
        "id": "-3LEeJXyAX2m"
      },
      "execution_count": 17,
      "outputs": []
    },
    {
      "cell_type": "code",
      "source": [
        "df.head()"
      ],
      "metadata": {
        "colab": {
          "base_uri": "https://localhost:8080/",
          "height": 600
        },
        "id": "cF9Ol2cnAiNo",
        "outputId": "1e756e31-5e81-42b2-84f6-1425e9c29123"
      },
      "execution_count": 18,
      "outputs": [
        {
          "output_type": "execute_result",
          "data": {
            "text/plain": [
              "   Row ID        Order ID  Order Date   Ship Date       Ship Mode Customer ID  \\\n",
              "0       1  CA-2017-152156  08/11/2017  11/11/2017    Second Class    CG-12520   \n",
              "1       2  CA-2017-152156  08/11/2017  11/11/2017    Second Class    CG-12520   \n",
              "2       3  CA-2017-138688  12/06/2017  16/06/2017    Second Class    DV-13045   \n",
              "3       4  US-2016-108966  11/10/2016  18/10/2016  Standard Class    SO-20335   \n",
              "4       5  US-2016-108966  11/10/2016  18/10/2016  Standard Class    SO-20335   \n",
              "\n",
              "     Customer Name    Segment        Country             City       State  \\\n",
              "0      Claire Gute   Consumer  United States        Henderson    Kentucky   \n",
              "1      Claire Gute   Consumer  United States        Henderson    Kentucky   \n",
              "2  Darrin Van Huff  Corporate  United States      Los Angeles  California   \n",
              "3   Sean O'Donnell   Consumer  United States  Fort Lauderdale     Florida   \n",
              "4   Sean O'Donnell   Consumer  United States  Fort Lauderdale     Florida   \n",
              "\n",
              "   Postal Code Region       Product ID         Category Sub-Category  \\\n",
              "0      42420.0  South  FUR-BO-10001798        Furniture    Bookcases   \n",
              "1      42420.0  South  FUR-CH-10000454        Furniture       Chairs   \n",
              "2      90036.0   West  OFF-LA-10000240  Office Supplies       Labels   \n",
              "3      33311.0  South  FUR-TA-10000577        Furniture       Tables   \n",
              "4      33311.0  South  OFF-ST-10000760  Office Supplies      Storage   \n",
              "\n",
              "                                        Product Name     Sales  \n",
              "0                  Bush Somerset Collection Bookcase  261.9600  \n",
              "1  Hon Deluxe Fabric Upholstered Stacking Chairs,...  731.9400  \n",
              "2  Self-Adhesive Address Labels for Typewriters b...   14.6200  \n",
              "3      Bretford CR4500 Series Slim Rectangular Table  957.5775  \n",
              "4                     Eldon Fold 'N Roll Cart System   22.3680  "
            ],
            "text/html": [
              "\n",
              "  <div id=\"df-b505725d-e5d8-48f5-9aeb-e8e6ca708b12\">\n",
              "    <div class=\"colab-df-container\">\n",
              "      <div>\n",
              "<style scoped>\n",
              "    .dataframe tbody tr th:only-of-type {\n",
              "        vertical-align: middle;\n",
              "    }\n",
              "\n",
              "    .dataframe tbody tr th {\n",
              "        vertical-align: top;\n",
              "    }\n",
              "\n",
              "    .dataframe thead th {\n",
              "        text-align: right;\n",
              "    }\n",
              "</style>\n",
              "<table border=\"1\" class=\"dataframe\">\n",
              "  <thead>\n",
              "    <tr style=\"text-align: right;\">\n",
              "      <th></th>\n",
              "      <th>Row ID</th>\n",
              "      <th>Order ID</th>\n",
              "      <th>Order Date</th>\n",
              "      <th>Ship Date</th>\n",
              "      <th>Ship Mode</th>\n",
              "      <th>Customer ID</th>\n",
              "      <th>Customer Name</th>\n",
              "      <th>Segment</th>\n",
              "      <th>Country</th>\n",
              "      <th>City</th>\n",
              "      <th>State</th>\n",
              "      <th>Postal Code</th>\n",
              "      <th>Region</th>\n",
              "      <th>Product ID</th>\n",
              "      <th>Category</th>\n",
              "      <th>Sub-Category</th>\n",
              "      <th>Product Name</th>\n",
              "      <th>Sales</th>\n",
              "    </tr>\n",
              "  </thead>\n",
              "  <tbody>\n",
              "    <tr>\n",
              "      <th>0</th>\n",
              "      <td>1</td>\n",
              "      <td>CA-2017-152156</td>\n",
              "      <td>08/11/2017</td>\n",
              "      <td>11/11/2017</td>\n",
              "      <td>Second Class</td>\n",
              "      <td>CG-12520</td>\n",
              "      <td>Claire Gute</td>\n",
              "      <td>Consumer</td>\n",
              "      <td>United States</td>\n",
              "      <td>Henderson</td>\n",
              "      <td>Kentucky</td>\n",
              "      <td>42420.0</td>\n",
              "      <td>South</td>\n",
              "      <td>FUR-BO-10001798</td>\n",
              "      <td>Furniture</td>\n",
              "      <td>Bookcases</td>\n",
              "      <td>Bush Somerset Collection Bookcase</td>\n",
              "      <td>261.9600</td>\n",
              "    </tr>\n",
              "    <tr>\n",
              "      <th>1</th>\n",
              "      <td>2</td>\n",
              "      <td>CA-2017-152156</td>\n",
              "      <td>08/11/2017</td>\n",
              "      <td>11/11/2017</td>\n",
              "      <td>Second Class</td>\n",
              "      <td>CG-12520</td>\n",
              "      <td>Claire Gute</td>\n",
              "      <td>Consumer</td>\n",
              "      <td>United States</td>\n",
              "      <td>Henderson</td>\n",
              "      <td>Kentucky</td>\n",
              "      <td>42420.0</td>\n",
              "      <td>South</td>\n",
              "      <td>FUR-CH-10000454</td>\n",
              "      <td>Furniture</td>\n",
              "      <td>Chairs</td>\n",
              "      <td>Hon Deluxe Fabric Upholstered Stacking Chairs,...</td>\n",
              "      <td>731.9400</td>\n",
              "    </tr>\n",
              "    <tr>\n",
              "      <th>2</th>\n",
              "      <td>3</td>\n",
              "      <td>CA-2017-138688</td>\n",
              "      <td>12/06/2017</td>\n",
              "      <td>16/06/2017</td>\n",
              "      <td>Second Class</td>\n",
              "      <td>DV-13045</td>\n",
              "      <td>Darrin Van Huff</td>\n",
              "      <td>Corporate</td>\n",
              "      <td>United States</td>\n",
              "      <td>Los Angeles</td>\n",
              "      <td>California</td>\n",
              "      <td>90036.0</td>\n",
              "      <td>West</td>\n",
              "      <td>OFF-LA-10000240</td>\n",
              "      <td>Office Supplies</td>\n",
              "      <td>Labels</td>\n",
              "      <td>Self-Adhesive Address Labels for Typewriters b...</td>\n",
              "      <td>14.6200</td>\n",
              "    </tr>\n",
              "    <tr>\n",
              "      <th>3</th>\n",
              "      <td>4</td>\n",
              "      <td>US-2016-108966</td>\n",
              "      <td>11/10/2016</td>\n",
              "      <td>18/10/2016</td>\n",
              "      <td>Standard Class</td>\n",
              "      <td>SO-20335</td>\n",
              "      <td>Sean O'Donnell</td>\n",
              "      <td>Consumer</td>\n",
              "      <td>United States</td>\n",
              "      <td>Fort Lauderdale</td>\n",
              "      <td>Florida</td>\n",
              "      <td>33311.0</td>\n",
              "      <td>South</td>\n",
              "      <td>FUR-TA-10000577</td>\n",
              "      <td>Furniture</td>\n",
              "      <td>Tables</td>\n",
              "      <td>Bretford CR4500 Series Slim Rectangular Table</td>\n",
              "      <td>957.5775</td>\n",
              "    </tr>\n",
              "    <tr>\n",
              "      <th>4</th>\n",
              "      <td>5</td>\n",
              "      <td>US-2016-108966</td>\n",
              "      <td>11/10/2016</td>\n",
              "      <td>18/10/2016</td>\n",
              "      <td>Standard Class</td>\n",
              "      <td>SO-20335</td>\n",
              "      <td>Sean O'Donnell</td>\n",
              "      <td>Consumer</td>\n",
              "      <td>United States</td>\n",
              "      <td>Fort Lauderdale</td>\n",
              "      <td>Florida</td>\n",
              "      <td>33311.0</td>\n",
              "      <td>South</td>\n",
              "      <td>OFF-ST-10000760</td>\n",
              "      <td>Office Supplies</td>\n",
              "      <td>Storage</td>\n",
              "      <td>Eldon Fold 'N Roll Cart System</td>\n",
              "      <td>22.3680</td>\n",
              "    </tr>\n",
              "  </tbody>\n",
              "</table>\n",
              "</div>\n",
              "      <button class=\"colab-df-convert\" onclick=\"convertToInteractive('df-b505725d-e5d8-48f5-9aeb-e8e6ca708b12')\"\n",
              "              title=\"Convert this dataframe to an interactive table.\"\n",
              "              style=\"display:none;\">\n",
              "        \n",
              "  <svg xmlns=\"http://www.w3.org/2000/svg\" height=\"24px\"viewBox=\"0 0 24 24\"\n",
              "       width=\"24px\">\n",
              "    <path d=\"M0 0h24v24H0V0z\" fill=\"none\"/>\n",
              "    <path d=\"M18.56 5.44l.94 2.06.94-2.06 2.06-.94-2.06-.94-.94-2.06-.94 2.06-2.06.94zm-11 1L8.5 8.5l.94-2.06 2.06-.94-2.06-.94L8.5 2.5l-.94 2.06-2.06.94zm10 10l.94 2.06.94-2.06 2.06-.94-2.06-.94-.94-2.06-.94 2.06-2.06.94z\"/><path d=\"M17.41 7.96l-1.37-1.37c-.4-.4-.92-.59-1.43-.59-.52 0-1.04.2-1.43.59L10.3 9.45l-7.72 7.72c-.78.78-.78 2.05 0 2.83L4 21.41c.39.39.9.59 1.41.59.51 0 1.02-.2 1.41-.59l7.78-7.78 2.81-2.81c.8-.78.8-2.07 0-2.86zM5.41 20L4 18.59l7.72-7.72 1.47 1.35L5.41 20z\"/>\n",
              "  </svg>\n",
              "      </button>\n",
              "      \n",
              "  <style>\n",
              "    .colab-df-container {\n",
              "      display:flex;\n",
              "      flex-wrap:wrap;\n",
              "      gap: 12px;\n",
              "    }\n",
              "\n",
              "    .colab-df-convert {\n",
              "      background-color: #E8F0FE;\n",
              "      border: none;\n",
              "      border-radius: 50%;\n",
              "      cursor: pointer;\n",
              "      display: none;\n",
              "      fill: #1967D2;\n",
              "      height: 32px;\n",
              "      padding: 0 0 0 0;\n",
              "      width: 32px;\n",
              "    }\n",
              "\n",
              "    .colab-df-convert:hover {\n",
              "      background-color: #E2EBFA;\n",
              "      box-shadow: 0px 1px 2px rgba(60, 64, 67, 0.3), 0px 1px 3px 1px rgba(60, 64, 67, 0.15);\n",
              "      fill: #174EA6;\n",
              "    }\n",
              "\n",
              "    [theme=dark] .colab-df-convert {\n",
              "      background-color: #3B4455;\n",
              "      fill: #D2E3FC;\n",
              "    }\n",
              "\n",
              "    [theme=dark] .colab-df-convert:hover {\n",
              "      background-color: #434B5C;\n",
              "      box-shadow: 0px 1px 3px 1px rgba(0, 0, 0, 0.15);\n",
              "      filter: drop-shadow(0px 1px 2px rgba(0, 0, 0, 0.3));\n",
              "      fill: #FFFFFF;\n",
              "    }\n",
              "  </style>\n",
              "\n",
              "      <script>\n",
              "        const buttonEl =\n",
              "          document.querySelector('#df-b505725d-e5d8-48f5-9aeb-e8e6ca708b12 button.colab-df-convert');\n",
              "        buttonEl.style.display =\n",
              "          google.colab.kernel.accessAllowed ? 'block' : 'none';\n",
              "\n",
              "        async function convertToInteractive(key) {\n",
              "          const element = document.querySelector('#df-b505725d-e5d8-48f5-9aeb-e8e6ca708b12');\n",
              "          const dataTable =\n",
              "            await google.colab.kernel.invokeFunction('convertToInteractive',\n",
              "                                                     [key], {});\n",
              "          if (!dataTable) return;\n",
              "\n",
              "          const docLinkHtml = 'Like what you see? Visit the ' +\n",
              "            '<a target=\"_blank\" href=https://colab.research.google.com/notebooks/data_table.ipynb>data table notebook</a>'\n",
              "            + ' to learn more about interactive tables.';\n",
              "          element.innerHTML = '';\n",
              "          dataTable['output_type'] = 'display_data';\n",
              "          await google.colab.output.renderOutput(dataTable, element);\n",
              "          const docLink = document.createElement('div');\n",
              "          docLink.innerHTML = docLinkHtml;\n",
              "          element.appendChild(docLink);\n",
              "        }\n",
              "      </script>\n",
              "    </div>\n",
              "  </div>\n",
              "  "
            ]
          },
          "metadata": {},
          "execution_count": 18
        }
      ]
    },
    {
      "cell_type": "code",
      "source": [
        "df.drop([])"
      ],
      "metadata": {
        "colab": {
          "base_uri": "https://localhost:8080/",
          "height": 1000
        },
        "id": "Im9_rNn8AkR8",
        "outputId": "a4e76710-c6c6-4a69-bb9f-f003ec714116"
      },
      "execution_count": 19,
      "outputs": [
        {
          "output_type": "execute_result",
          "data": {
            "text/plain": [
              "      Row ID        Order ID  Order Date   Ship Date       Ship Mode  \\\n",
              "0          1  CA-2017-152156  08/11/2017  11/11/2017    Second Class   \n",
              "1          2  CA-2017-152156  08/11/2017  11/11/2017    Second Class   \n",
              "2          3  CA-2017-138688  12/06/2017  16/06/2017    Second Class   \n",
              "3          4  US-2016-108966  11/10/2016  18/10/2016  Standard Class   \n",
              "4          5  US-2016-108966  11/10/2016  18/10/2016  Standard Class   \n",
              "...      ...             ...         ...         ...             ...   \n",
              "9795    9796  CA-2017-125920  21/05/2017  28/05/2017  Standard Class   \n",
              "9796    9797  CA-2016-128608  12/01/2016  17/01/2016  Standard Class   \n",
              "9797    9798  CA-2016-128608  12/01/2016  17/01/2016  Standard Class   \n",
              "9798    9799  CA-2016-128608  12/01/2016  17/01/2016  Standard Class   \n",
              "9799    9800  CA-2016-128608  12/01/2016  17/01/2016  Standard Class   \n",
              "\n",
              "     Customer ID     Customer Name    Segment        Country             City  \\\n",
              "0       CG-12520       Claire Gute   Consumer  United States        Henderson   \n",
              "1       CG-12520       Claire Gute   Consumer  United States        Henderson   \n",
              "2       DV-13045   Darrin Van Huff  Corporate  United States      Los Angeles   \n",
              "3       SO-20335    Sean O'Donnell   Consumer  United States  Fort Lauderdale   \n",
              "4       SO-20335    Sean O'Donnell   Consumer  United States  Fort Lauderdale   \n",
              "...          ...               ...        ...            ...              ...   \n",
              "9795    SH-19975     Sally Hughsby  Corporate  United States          Chicago   \n",
              "9796    CS-12490  Cindy Schnelling  Corporate  United States           Toledo   \n",
              "9797    CS-12490  Cindy Schnelling  Corporate  United States           Toledo   \n",
              "9798    CS-12490  Cindy Schnelling  Corporate  United States           Toledo   \n",
              "9799    CS-12490  Cindy Schnelling  Corporate  United States           Toledo   \n",
              "\n",
              "           State  Postal Code   Region       Product ID         Category  \\\n",
              "0       Kentucky      42420.0    South  FUR-BO-10001798        Furniture   \n",
              "1       Kentucky      42420.0    South  FUR-CH-10000454        Furniture   \n",
              "2     California      90036.0     West  OFF-LA-10000240  Office Supplies   \n",
              "3        Florida      33311.0    South  FUR-TA-10000577        Furniture   \n",
              "4        Florida      33311.0    South  OFF-ST-10000760  Office Supplies   \n",
              "...          ...          ...      ...              ...              ...   \n",
              "9795    Illinois      60610.0  Central  OFF-BI-10003429  Office Supplies   \n",
              "9796        Ohio      43615.0     East  OFF-AR-10001374  Office Supplies   \n",
              "9797        Ohio      43615.0     East  TEC-PH-10004977       Technology   \n",
              "9798        Ohio      43615.0     East  TEC-PH-10000912       Technology   \n",
              "9799        Ohio      43615.0     East  TEC-AC-10000487       Technology   \n",
              "\n",
              "     Sub-Category                                       Product Name     Sales  \n",
              "0       Bookcases                  Bush Somerset Collection Bookcase  261.9600  \n",
              "1          Chairs  Hon Deluxe Fabric Upholstered Stacking Chairs,...  731.9400  \n",
              "2          Labels  Self-Adhesive Address Labels for Typewriters b...   14.6200  \n",
              "3          Tables      Bretford CR4500 Series Slim Rectangular Table  957.5775  \n",
              "4         Storage                     Eldon Fold 'N Roll Cart System   22.3680  \n",
              "...           ...                                                ...       ...  \n",
              "9795      Binders  Cardinal HOLDit! Binder Insert Strips,Extra St...    3.7980  \n",
              "9796          Art           BIC Brite Liner Highlighters, Chisel Tip   10.3680  \n",
              "9797       Phones                                        GE 30524EE4  235.1880  \n",
              "9798       Phones           Anker 24W Portable Micro USB Car Charger   26.3760  \n",
              "9799  Accessories                SanDisk Cruzer 4 GB USB Flash Drive   10.3840  \n",
              "\n",
              "[9800 rows x 18 columns]"
            ],
            "text/html": [
              "\n",
              "  <div id=\"df-0978f47e-67e0-47da-a9d7-f1a6a173ec05\">\n",
              "    <div class=\"colab-df-container\">\n",
              "      <div>\n",
              "<style scoped>\n",
              "    .dataframe tbody tr th:only-of-type {\n",
              "        vertical-align: middle;\n",
              "    }\n",
              "\n",
              "    .dataframe tbody tr th {\n",
              "        vertical-align: top;\n",
              "    }\n",
              "\n",
              "    .dataframe thead th {\n",
              "        text-align: right;\n",
              "    }\n",
              "</style>\n",
              "<table border=\"1\" class=\"dataframe\">\n",
              "  <thead>\n",
              "    <tr style=\"text-align: right;\">\n",
              "      <th></th>\n",
              "      <th>Row ID</th>\n",
              "      <th>Order ID</th>\n",
              "      <th>Order Date</th>\n",
              "      <th>Ship Date</th>\n",
              "      <th>Ship Mode</th>\n",
              "      <th>Customer ID</th>\n",
              "      <th>Customer Name</th>\n",
              "      <th>Segment</th>\n",
              "      <th>Country</th>\n",
              "      <th>City</th>\n",
              "      <th>State</th>\n",
              "      <th>Postal Code</th>\n",
              "      <th>Region</th>\n",
              "      <th>Product ID</th>\n",
              "      <th>Category</th>\n",
              "      <th>Sub-Category</th>\n",
              "      <th>Product Name</th>\n",
              "      <th>Sales</th>\n",
              "    </tr>\n",
              "  </thead>\n",
              "  <tbody>\n",
              "    <tr>\n",
              "      <th>0</th>\n",
              "      <td>1</td>\n",
              "      <td>CA-2017-152156</td>\n",
              "      <td>08/11/2017</td>\n",
              "      <td>11/11/2017</td>\n",
              "      <td>Second Class</td>\n",
              "      <td>CG-12520</td>\n",
              "      <td>Claire Gute</td>\n",
              "      <td>Consumer</td>\n",
              "      <td>United States</td>\n",
              "      <td>Henderson</td>\n",
              "      <td>Kentucky</td>\n",
              "      <td>42420.0</td>\n",
              "      <td>South</td>\n",
              "      <td>FUR-BO-10001798</td>\n",
              "      <td>Furniture</td>\n",
              "      <td>Bookcases</td>\n",
              "      <td>Bush Somerset Collection Bookcase</td>\n",
              "      <td>261.9600</td>\n",
              "    </tr>\n",
              "    <tr>\n",
              "      <th>1</th>\n",
              "      <td>2</td>\n",
              "      <td>CA-2017-152156</td>\n",
              "      <td>08/11/2017</td>\n",
              "      <td>11/11/2017</td>\n",
              "      <td>Second Class</td>\n",
              "      <td>CG-12520</td>\n",
              "      <td>Claire Gute</td>\n",
              "      <td>Consumer</td>\n",
              "      <td>United States</td>\n",
              "      <td>Henderson</td>\n",
              "      <td>Kentucky</td>\n",
              "      <td>42420.0</td>\n",
              "      <td>South</td>\n",
              "      <td>FUR-CH-10000454</td>\n",
              "      <td>Furniture</td>\n",
              "      <td>Chairs</td>\n",
              "      <td>Hon Deluxe Fabric Upholstered Stacking Chairs,...</td>\n",
              "      <td>731.9400</td>\n",
              "    </tr>\n",
              "    <tr>\n",
              "      <th>2</th>\n",
              "      <td>3</td>\n",
              "      <td>CA-2017-138688</td>\n",
              "      <td>12/06/2017</td>\n",
              "      <td>16/06/2017</td>\n",
              "      <td>Second Class</td>\n",
              "      <td>DV-13045</td>\n",
              "      <td>Darrin Van Huff</td>\n",
              "      <td>Corporate</td>\n",
              "      <td>United States</td>\n",
              "      <td>Los Angeles</td>\n",
              "      <td>California</td>\n",
              "      <td>90036.0</td>\n",
              "      <td>West</td>\n",
              "      <td>OFF-LA-10000240</td>\n",
              "      <td>Office Supplies</td>\n",
              "      <td>Labels</td>\n",
              "      <td>Self-Adhesive Address Labels for Typewriters b...</td>\n",
              "      <td>14.6200</td>\n",
              "    </tr>\n",
              "    <tr>\n",
              "      <th>3</th>\n",
              "      <td>4</td>\n",
              "      <td>US-2016-108966</td>\n",
              "      <td>11/10/2016</td>\n",
              "      <td>18/10/2016</td>\n",
              "      <td>Standard Class</td>\n",
              "      <td>SO-20335</td>\n",
              "      <td>Sean O'Donnell</td>\n",
              "      <td>Consumer</td>\n",
              "      <td>United States</td>\n",
              "      <td>Fort Lauderdale</td>\n",
              "      <td>Florida</td>\n",
              "      <td>33311.0</td>\n",
              "      <td>South</td>\n",
              "      <td>FUR-TA-10000577</td>\n",
              "      <td>Furniture</td>\n",
              "      <td>Tables</td>\n",
              "      <td>Bretford CR4500 Series Slim Rectangular Table</td>\n",
              "      <td>957.5775</td>\n",
              "    </tr>\n",
              "    <tr>\n",
              "      <th>4</th>\n",
              "      <td>5</td>\n",
              "      <td>US-2016-108966</td>\n",
              "      <td>11/10/2016</td>\n",
              "      <td>18/10/2016</td>\n",
              "      <td>Standard Class</td>\n",
              "      <td>SO-20335</td>\n",
              "      <td>Sean O'Donnell</td>\n",
              "      <td>Consumer</td>\n",
              "      <td>United States</td>\n",
              "      <td>Fort Lauderdale</td>\n",
              "      <td>Florida</td>\n",
              "      <td>33311.0</td>\n",
              "      <td>South</td>\n",
              "      <td>OFF-ST-10000760</td>\n",
              "      <td>Office Supplies</td>\n",
              "      <td>Storage</td>\n",
              "      <td>Eldon Fold 'N Roll Cart System</td>\n",
              "      <td>22.3680</td>\n",
              "    </tr>\n",
              "    <tr>\n",
              "      <th>...</th>\n",
              "      <td>...</td>\n",
              "      <td>...</td>\n",
              "      <td>...</td>\n",
              "      <td>...</td>\n",
              "      <td>...</td>\n",
              "      <td>...</td>\n",
              "      <td>...</td>\n",
              "      <td>...</td>\n",
              "      <td>...</td>\n",
              "      <td>...</td>\n",
              "      <td>...</td>\n",
              "      <td>...</td>\n",
              "      <td>...</td>\n",
              "      <td>...</td>\n",
              "      <td>...</td>\n",
              "      <td>...</td>\n",
              "      <td>...</td>\n",
              "      <td>...</td>\n",
              "    </tr>\n",
              "    <tr>\n",
              "      <th>9795</th>\n",
              "      <td>9796</td>\n",
              "      <td>CA-2017-125920</td>\n",
              "      <td>21/05/2017</td>\n",
              "      <td>28/05/2017</td>\n",
              "      <td>Standard Class</td>\n",
              "      <td>SH-19975</td>\n",
              "      <td>Sally Hughsby</td>\n",
              "      <td>Corporate</td>\n",
              "      <td>United States</td>\n",
              "      <td>Chicago</td>\n",
              "      <td>Illinois</td>\n",
              "      <td>60610.0</td>\n",
              "      <td>Central</td>\n",
              "      <td>OFF-BI-10003429</td>\n",
              "      <td>Office Supplies</td>\n",
              "      <td>Binders</td>\n",
              "      <td>Cardinal HOLDit! Binder Insert Strips,Extra St...</td>\n",
              "      <td>3.7980</td>\n",
              "    </tr>\n",
              "    <tr>\n",
              "      <th>9796</th>\n",
              "      <td>9797</td>\n",
              "      <td>CA-2016-128608</td>\n",
              "      <td>12/01/2016</td>\n",
              "      <td>17/01/2016</td>\n",
              "      <td>Standard Class</td>\n",
              "      <td>CS-12490</td>\n",
              "      <td>Cindy Schnelling</td>\n",
              "      <td>Corporate</td>\n",
              "      <td>United States</td>\n",
              "      <td>Toledo</td>\n",
              "      <td>Ohio</td>\n",
              "      <td>43615.0</td>\n",
              "      <td>East</td>\n",
              "      <td>OFF-AR-10001374</td>\n",
              "      <td>Office Supplies</td>\n",
              "      <td>Art</td>\n",
              "      <td>BIC Brite Liner Highlighters, Chisel Tip</td>\n",
              "      <td>10.3680</td>\n",
              "    </tr>\n",
              "    <tr>\n",
              "      <th>9797</th>\n",
              "      <td>9798</td>\n",
              "      <td>CA-2016-128608</td>\n",
              "      <td>12/01/2016</td>\n",
              "      <td>17/01/2016</td>\n",
              "      <td>Standard Class</td>\n",
              "      <td>CS-12490</td>\n",
              "      <td>Cindy Schnelling</td>\n",
              "      <td>Corporate</td>\n",
              "      <td>United States</td>\n",
              "      <td>Toledo</td>\n",
              "      <td>Ohio</td>\n",
              "      <td>43615.0</td>\n",
              "      <td>East</td>\n",
              "      <td>TEC-PH-10004977</td>\n",
              "      <td>Technology</td>\n",
              "      <td>Phones</td>\n",
              "      <td>GE 30524EE4</td>\n",
              "      <td>235.1880</td>\n",
              "    </tr>\n",
              "    <tr>\n",
              "      <th>9798</th>\n",
              "      <td>9799</td>\n",
              "      <td>CA-2016-128608</td>\n",
              "      <td>12/01/2016</td>\n",
              "      <td>17/01/2016</td>\n",
              "      <td>Standard Class</td>\n",
              "      <td>CS-12490</td>\n",
              "      <td>Cindy Schnelling</td>\n",
              "      <td>Corporate</td>\n",
              "      <td>United States</td>\n",
              "      <td>Toledo</td>\n",
              "      <td>Ohio</td>\n",
              "      <td>43615.0</td>\n",
              "      <td>East</td>\n",
              "      <td>TEC-PH-10000912</td>\n",
              "      <td>Technology</td>\n",
              "      <td>Phones</td>\n",
              "      <td>Anker 24W Portable Micro USB Car Charger</td>\n",
              "      <td>26.3760</td>\n",
              "    </tr>\n",
              "    <tr>\n",
              "      <th>9799</th>\n",
              "      <td>9800</td>\n",
              "      <td>CA-2016-128608</td>\n",
              "      <td>12/01/2016</td>\n",
              "      <td>17/01/2016</td>\n",
              "      <td>Standard Class</td>\n",
              "      <td>CS-12490</td>\n",
              "      <td>Cindy Schnelling</td>\n",
              "      <td>Corporate</td>\n",
              "      <td>United States</td>\n",
              "      <td>Toledo</td>\n",
              "      <td>Ohio</td>\n",
              "      <td>43615.0</td>\n",
              "      <td>East</td>\n",
              "      <td>TEC-AC-10000487</td>\n",
              "      <td>Technology</td>\n",
              "      <td>Accessories</td>\n",
              "      <td>SanDisk Cruzer 4 GB USB Flash Drive</td>\n",
              "      <td>10.3840</td>\n",
              "    </tr>\n",
              "  </tbody>\n",
              "</table>\n",
              "<p>9800 rows × 18 columns</p>\n",
              "</div>\n",
              "      <button class=\"colab-df-convert\" onclick=\"convertToInteractive('df-0978f47e-67e0-47da-a9d7-f1a6a173ec05')\"\n",
              "              title=\"Convert this dataframe to an interactive table.\"\n",
              "              style=\"display:none;\">\n",
              "        \n",
              "  <svg xmlns=\"http://www.w3.org/2000/svg\" height=\"24px\"viewBox=\"0 0 24 24\"\n",
              "       width=\"24px\">\n",
              "    <path d=\"M0 0h24v24H0V0z\" fill=\"none\"/>\n",
              "    <path d=\"M18.56 5.44l.94 2.06.94-2.06 2.06-.94-2.06-.94-.94-2.06-.94 2.06-2.06.94zm-11 1L8.5 8.5l.94-2.06 2.06-.94-2.06-.94L8.5 2.5l-.94 2.06-2.06.94zm10 10l.94 2.06.94-2.06 2.06-.94-2.06-.94-.94-2.06-.94 2.06-2.06.94z\"/><path d=\"M17.41 7.96l-1.37-1.37c-.4-.4-.92-.59-1.43-.59-.52 0-1.04.2-1.43.59L10.3 9.45l-7.72 7.72c-.78.78-.78 2.05 0 2.83L4 21.41c.39.39.9.59 1.41.59.51 0 1.02-.2 1.41-.59l7.78-7.78 2.81-2.81c.8-.78.8-2.07 0-2.86zM5.41 20L4 18.59l7.72-7.72 1.47 1.35L5.41 20z\"/>\n",
              "  </svg>\n",
              "      </button>\n",
              "      \n",
              "  <style>\n",
              "    .colab-df-container {\n",
              "      display:flex;\n",
              "      flex-wrap:wrap;\n",
              "      gap: 12px;\n",
              "    }\n",
              "\n",
              "    .colab-df-convert {\n",
              "      background-color: #E8F0FE;\n",
              "      border: none;\n",
              "      border-radius: 50%;\n",
              "      cursor: pointer;\n",
              "      display: none;\n",
              "      fill: #1967D2;\n",
              "      height: 32px;\n",
              "      padding: 0 0 0 0;\n",
              "      width: 32px;\n",
              "    }\n",
              "\n",
              "    .colab-df-convert:hover {\n",
              "      background-color: #E2EBFA;\n",
              "      box-shadow: 0px 1px 2px rgba(60, 64, 67, 0.3), 0px 1px 3px 1px rgba(60, 64, 67, 0.15);\n",
              "      fill: #174EA6;\n",
              "    }\n",
              "\n",
              "    [theme=dark] .colab-df-convert {\n",
              "      background-color: #3B4455;\n",
              "      fill: #D2E3FC;\n",
              "    }\n",
              "\n",
              "    [theme=dark] .colab-df-convert:hover {\n",
              "      background-color: #434B5C;\n",
              "      box-shadow: 0px 1px 3px 1px rgba(0, 0, 0, 0.15);\n",
              "      filter: drop-shadow(0px 1px 2px rgba(0, 0, 0, 0.3));\n",
              "      fill: #FFFFFF;\n",
              "    }\n",
              "  </style>\n",
              "\n",
              "      <script>\n",
              "        const buttonEl =\n",
              "          document.querySelector('#df-0978f47e-67e0-47da-a9d7-f1a6a173ec05 button.colab-df-convert');\n",
              "        buttonEl.style.display =\n",
              "          google.colab.kernel.accessAllowed ? 'block' : 'none';\n",
              "\n",
              "        async function convertToInteractive(key) {\n",
              "          const element = document.querySelector('#df-0978f47e-67e0-47da-a9d7-f1a6a173ec05');\n",
              "          const dataTable =\n",
              "            await google.colab.kernel.invokeFunction('convertToInteractive',\n",
              "                                                     [key], {});\n",
              "          if (!dataTable) return;\n",
              "\n",
              "          const docLinkHtml = 'Like what you see? Visit the ' +\n",
              "            '<a target=\"_blank\" href=https://colab.research.google.com/notebooks/data_table.ipynb>data table notebook</a>'\n",
              "            + ' to learn more about interactive tables.';\n",
              "          element.innerHTML = '';\n",
              "          dataTable['output_type'] = 'display_data';\n",
              "          await google.colab.output.renderOutput(dataTable, element);\n",
              "          const docLink = document.createElement('div');\n",
              "          docLink.innerHTML = docLinkHtml;\n",
              "          element.appendChild(docLink);\n",
              "        }\n",
              "      </script>\n",
              "    </div>\n",
              "  </div>\n",
              "  "
            ]
          },
          "metadata": {},
          "execution_count": 19
        }
      ]
    },
    {
      "cell_type": "code",
      "source": [
        "df.columns"
      ],
      "metadata": {
        "colab": {
          "base_uri": "https://localhost:8080/"
        },
        "id": "SmvIzQ4nAxlR",
        "outputId": "3ccab5a2-abaa-4009-8176-120b219bf4d6"
      },
      "execution_count": 20,
      "outputs": [
        {
          "output_type": "execute_result",
          "data": {
            "text/plain": [
              "Index(['Row ID', 'Order ID', 'Order Date', 'Ship Date', 'Ship Mode',\n",
              "       'Customer ID', 'Customer Name', 'Segment', 'Country', 'City', 'State',\n",
              "       'Postal Code', 'Region', 'Product ID', 'Category', 'Sub-Category',\n",
              "       'Product Name', 'Sales'],\n",
              "      dtype='object')"
            ]
          },
          "metadata": {},
          "execution_count": 20
        }
      ]
    },
    {
      "cell_type": "code",
      "source": [
        "df.drop(['Order ID','Product ID','Customer ID'],axis=1,inplace=True)"
      ],
      "metadata": {
        "id": "9XjcWFZiAxoY"
      },
      "execution_count": 22,
      "outputs": []
    },
    {
      "cell_type": "code",
      "source": [
        "df.head()"
      ],
      "metadata": {
        "colab": {
          "base_uri": "https://localhost:8080/",
          "height": 600
        },
        "id": "4tnfIswKBuU1",
        "outputId": "dbf607b2-7b50-4b24-bf18-92ae0c1a6c45"
      },
      "execution_count": 23,
      "outputs": [
        {
          "output_type": "execute_result",
          "data": {
            "text/plain": [
              "   Row ID  Order Date   Ship Date       Ship Mode    Customer Name    Segment  \\\n",
              "0       1  08/11/2017  11/11/2017    Second Class      Claire Gute   Consumer   \n",
              "1       2  08/11/2017  11/11/2017    Second Class      Claire Gute   Consumer   \n",
              "2       3  12/06/2017  16/06/2017    Second Class  Darrin Van Huff  Corporate   \n",
              "3       4  11/10/2016  18/10/2016  Standard Class   Sean O'Donnell   Consumer   \n",
              "4       5  11/10/2016  18/10/2016  Standard Class   Sean O'Donnell   Consumer   \n",
              "\n",
              "         Country             City       State  Postal Code Region  \\\n",
              "0  United States        Henderson    Kentucky      42420.0  South   \n",
              "1  United States        Henderson    Kentucky      42420.0  South   \n",
              "2  United States      Los Angeles  California      90036.0   West   \n",
              "3  United States  Fort Lauderdale     Florida      33311.0  South   \n",
              "4  United States  Fort Lauderdale     Florida      33311.0  South   \n",
              "\n",
              "          Category Sub-Category  \\\n",
              "0        Furniture    Bookcases   \n",
              "1        Furniture       Chairs   \n",
              "2  Office Supplies       Labels   \n",
              "3        Furniture       Tables   \n",
              "4  Office Supplies      Storage   \n",
              "\n",
              "                                        Product Name     Sales  \n",
              "0                  Bush Somerset Collection Bookcase  261.9600  \n",
              "1  Hon Deluxe Fabric Upholstered Stacking Chairs,...  731.9400  \n",
              "2  Self-Adhesive Address Labels for Typewriters b...   14.6200  \n",
              "3      Bretford CR4500 Series Slim Rectangular Table  957.5775  \n",
              "4                     Eldon Fold 'N Roll Cart System   22.3680  "
            ],
            "text/html": [
              "\n",
              "  <div id=\"df-59363535-5c9b-4bbc-8098-592df580a82a\">\n",
              "    <div class=\"colab-df-container\">\n",
              "      <div>\n",
              "<style scoped>\n",
              "    .dataframe tbody tr th:only-of-type {\n",
              "        vertical-align: middle;\n",
              "    }\n",
              "\n",
              "    .dataframe tbody tr th {\n",
              "        vertical-align: top;\n",
              "    }\n",
              "\n",
              "    .dataframe thead th {\n",
              "        text-align: right;\n",
              "    }\n",
              "</style>\n",
              "<table border=\"1\" class=\"dataframe\">\n",
              "  <thead>\n",
              "    <tr style=\"text-align: right;\">\n",
              "      <th></th>\n",
              "      <th>Row ID</th>\n",
              "      <th>Order Date</th>\n",
              "      <th>Ship Date</th>\n",
              "      <th>Ship Mode</th>\n",
              "      <th>Customer Name</th>\n",
              "      <th>Segment</th>\n",
              "      <th>Country</th>\n",
              "      <th>City</th>\n",
              "      <th>State</th>\n",
              "      <th>Postal Code</th>\n",
              "      <th>Region</th>\n",
              "      <th>Category</th>\n",
              "      <th>Sub-Category</th>\n",
              "      <th>Product Name</th>\n",
              "      <th>Sales</th>\n",
              "    </tr>\n",
              "  </thead>\n",
              "  <tbody>\n",
              "    <tr>\n",
              "      <th>0</th>\n",
              "      <td>1</td>\n",
              "      <td>08/11/2017</td>\n",
              "      <td>11/11/2017</td>\n",
              "      <td>Second Class</td>\n",
              "      <td>Claire Gute</td>\n",
              "      <td>Consumer</td>\n",
              "      <td>United States</td>\n",
              "      <td>Henderson</td>\n",
              "      <td>Kentucky</td>\n",
              "      <td>42420.0</td>\n",
              "      <td>South</td>\n",
              "      <td>Furniture</td>\n",
              "      <td>Bookcases</td>\n",
              "      <td>Bush Somerset Collection Bookcase</td>\n",
              "      <td>261.9600</td>\n",
              "    </tr>\n",
              "    <tr>\n",
              "      <th>1</th>\n",
              "      <td>2</td>\n",
              "      <td>08/11/2017</td>\n",
              "      <td>11/11/2017</td>\n",
              "      <td>Second Class</td>\n",
              "      <td>Claire Gute</td>\n",
              "      <td>Consumer</td>\n",
              "      <td>United States</td>\n",
              "      <td>Henderson</td>\n",
              "      <td>Kentucky</td>\n",
              "      <td>42420.0</td>\n",
              "      <td>South</td>\n",
              "      <td>Furniture</td>\n",
              "      <td>Chairs</td>\n",
              "      <td>Hon Deluxe Fabric Upholstered Stacking Chairs,...</td>\n",
              "      <td>731.9400</td>\n",
              "    </tr>\n",
              "    <tr>\n",
              "      <th>2</th>\n",
              "      <td>3</td>\n",
              "      <td>12/06/2017</td>\n",
              "      <td>16/06/2017</td>\n",
              "      <td>Second Class</td>\n",
              "      <td>Darrin Van Huff</td>\n",
              "      <td>Corporate</td>\n",
              "      <td>United States</td>\n",
              "      <td>Los Angeles</td>\n",
              "      <td>California</td>\n",
              "      <td>90036.0</td>\n",
              "      <td>West</td>\n",
              "      <td>Office Supplies</td>\n",
              "      <td>Labels</td>\n",
              "      <td>Self-Adhesive Address Labels for Typewriters b...</td>\n",
              "      <td>14.6200</td>\n",
              "    </tr>\n",
              "    <tr>\n",
              "      <th>3</th>\n",
              "      <td>4</td>\n",
              "      <td>11/10/2016</td>\n",
              "      <td>18/10/2016</td>\n",
              "      <td>Standard Class</td>\n",
              "      <td>Sean O'Donnell</td>\n",
              "      <td>Consumer</td>\n",
              "      <td>United States</td>\n",
              "      <td>Fort Lauderdale</td>\n",
              "      <td>Florida</td>\n",
              "      <td>33311.0</td>\n",
              "      <td>South</td>\n",
              "      <td>Furniture</td>\n",
              "      <td>Tables</td>\n",
              "      <td>Bretford CR4500 Series Slim Rectangular Table</td>\n",
              "      <td>957.5775</td>\n",
              "    </tr>\n",
              "    <tr>\n",
              "      <th>4</th>\n",
              "      <td>5</td>\n",
              "      <td>11/10/2016</td>\n",
              "      <td>18/10/2016</td>\n",
              "      <td>Standard Class</td>\n",
              "      <td>Sean O'Donnell</td>\n",
              "      <td>Consumer</td>\n",
              "      <td>United States</td>\n",
              "      <td>Fort Lauderdale</td>\n",
              "      <td>Florida</td>\n",
              "      <td>33311.0</td>\n",
              "      <td>South</td>\n",
              "      <td>Office Supplies</td>\n",
              "      <td>Storage</td>\n",
              "      <td>Eldon Fold 'N Roll Cart System</td>\n",
              "      <td>22.3680</td>\n",
              "    </tr>\n",
              "  </tbody>\n",
              "</table>\n",
              "</div>\n",
              "      <button class=\"colab-df-convert\" onclick=\"convertToInteractive('df-59363535-5c9b-4bbc-8098-592df580a82a')\"\n",
              "              title=\"Convert this dataframe to an interactive table.\"\n",
              "              style=\"display:none;\">\n",
              "        \n",
              "  <svg xmlns=\"http://www.w3.org/2000/svg\" height=\"24px\"viewBox=\"0 0 24 24\"\n",
              "       width=\"24px\">\n",
              "    <path d=\"M0 0h24v24H0V0z\" fill=\"none\"/>\n",
              "    <path d=\"M18.56 5.44l.94 2.06.94-2.06 2.06-.94-2.06-.94-.94-2.06-.94 2.06-2.06.94zm-11 1L8.5 8.5l.94-2.06 2.06-.94-2.06-.94L8.5 2.5l-.94 2.06-2.06.94zm10 10l.94 2.06.94-2.06 2.06-.94-2.06-.94-.94-2.06-.94 2.06-2.06.94z\"/><path d=\"M17.41 7.96l-1.37-1.37c-.4-.4-.92-.59-1.43-.59-.52 0-1.04.2-1.43.59L10.3 9.45l-7.72 7.72c-.78.78-.78 2.05 0 2.83L4 21.41c.39.39.9.59 1.41.59.51 0 1.02-.2 1.41-.59l7.78-7.78 2.81-2.81c.8-.78.8-2.07 0-2.86zM5.41 20L4 18.59l7.72-7.72 1.47 1.35L5.41 20z\"/>\n",
              "  </svg>\n",
              "      </button>\n",
              "      \n",
              "  <style>\n",
              "    .colab-df-container {\n",
              "      display:flex;\n",
              "      flex-wrap:wrap;\n",
              "      gap: 12px;\n",
              "    }\n",
              "\n",
              "    .colab-df-convert {\n",
              "      background-color: #E8F0FE;\n",
              "      border: none;\n",
              "      border-radius: 50%;\n",
              "      cursor: pointer;\n",
              "      display: none;\n",
              "      fill: #1967D2;\n",
              "      height: 32px;\n",
              "      padding: 0 0 0 0;\n",
              "      width: 32px;\n",
              "    }\n",
              "\n",
              "    .colab-df-convert:hover {\n",
              "      background-color: #E2EBFA;\n",
              "      box-shadow: 0px 1px 2px rgba(60, 64, 67, 0.3), 0px 1px 3px 1px rgba(60, 64, 67, 0.15);\n",
              "      fill: #174EA6;\n",
              "    }\n",
              "\n",
              "    [theme=dark] .colab-df-convert {\n",
              "      background-color: #3B4455;\n",
              "      fill: #D2E3FC;\n",
              "    }\n",
              "\n",
              "    [theme=dark] .colab-df-convert:hover {\n",
              "      background-color: #434B5C;\n",
              "      box-shadow: 0px 1px 3px 1px rgba(0, 0, 0, 0.15);\n",
              "      filter: drop-shadow(0px 1px 2px rgba(0, 0, 0, 0.3));\n",
              "      fill: #FFFFFF;\n",
              "    }\n",
              "  </style>\n",
              "\n",
              "      <script>\n",
              "        const buttonEl =\n",
              "          document.querySelector('#df-59363535-5c9b-4bbc-8098-592df580a82a button.colab-df-convert');\n",
              "        buttonEl.style.display =\n",
              "          google.colab.kernel.accessAllowed ? 'block' : 'none';\n",
              "\n",
              "        async function convertToInteractive(key) {\n",
              "          const element = document.querySelector('#df-59363535-5c9b-4bbc-8098-592df580a82a');\n",
              "          const dataTable =\n",
              "            await google.colab.kernel.invokeFunction('convertToInteractive',\n",
              "                                                     [key], {});\n",
              "          if (!dataTable) return;\n",
              "\n",
              "          const docLinkHtml = 'Like what you see? Visit the ' +\n",
              "            '<a target=\"_blank\" href=https://colab.research.google.com/notebooks/data_table.ipynb>data table notebook</a>'\n",
              "            + ' to learn more about interactive tables.';\n",
              "          element.innerHTML = '';\n",
              "          dataTable['output_type'] = 'display_data';\n",
              "          await google.colab.output.renderOutput(dataTable, element);\n",
              "          const docLink = document.createElement('div');\n",
              "          docLink.innerHTML = docLinkHtml;\n",
              "          element.appendChild(docLink);\n",
              "        }\n",
              "      </script>\n",
              "    </div>\n",
              "  </div>\n",
              "  "
            ]
          },
          "metadata": {},
          "execution_count": 23
        }
      ]
    },
    {
      "cell_type": "code",
      "source": [
        "df.info()"
      ],
      "metadata": {
        "colab": {
          "base_uri": "https://localhost:8080/"
        },
        "id": "DejFfU6bB0ij",
        "outputId": "91816bba-4e37-4511-9fa8-3ccb158f7371"
      },
      "execution_count": 24,
      "outputs": [
        {
          "output_type": "stream",
          "name": "stdout",
          "text": [
            "<class 'pandas.core.frame.DataFrame'>\n",
            "RangeIndex: 9800 entries, 0 to 9799\n",
            "Data columns (total 15 columns):\n",
            " #   Column         Non-Null Count  Dtype  \n",
            "---  ------         --------------  -----  \n",
            " 0   Row ID         9800 non-null   int64  \n",
            " 1   Order Date     9800 non-null   object \n",
            " 2   Ship Date      9800 non-null   object \n",
            " 3   Ship Mode      9800 non-null   object \n",
            " 4   Customer Name  9800 non-null   object \n",
            " 5   Segment        9800 non-null   object \n",
            " 6   Country        9800 non-null   object \n",
            " 7   City           9800 non-null   object \n",
            " 8   State          9800 non-null   object \n",
            " 9   Postal Code    9789 non-null   float64\n",
            " 10  Region         9800 non-null   object \n",
            " 11  Category       9800 non-null   object \n",
            " 12  Sub-Category   9800 non-null   object \n",
            " 13  Product Name   9800 non-null   object \n",
            " 14  Sales          9800 non-null   float64\n",
            "dtypes: float64(2), int64(1), object(12)\n",
            "memory usage: 1.1+ MB\n"
          ]
        }
      ]
    },
    {
      "cell_type": "code",
      "source": [
        "df.drop('Customer Name',axis =1,inplace=True)"
      ],
      "metadata": {
        "id": "tgrgl13KB2po"
      },
      "execution_count": 25,
      "outputs": []
    },
    {
      "cell_type": "code",
      "source": [
        "df.info()"
      ],
      "metadata": {
        "colab": {
          "base_uri": "https://localhost:8080/"
        },
        "id": "bqItbv17COlW",
        "outputId": "7e088ca4-f185-4dbe-9455-b9b3a6f86d2d"
      },
      "execution_count": 26,
      "outputs": [
        {
          "output_type": "stream",
          "name": "stdout",
          "text": [
            "<class 'pandas.core.frame.DataFrame'>\n",
            "RangeIndex: 9800 entries, 0 to 9799\n",
            "Data columns (total 14 columns):\n",
            " #   Column        Non-Null Count  Dtype  \n",
            "---  ------        --------------  -----  \n",
            " 0   Row ID        9800 non-null   int64  \n",
            " 1   Order Date    9800 non-null   object \n",
            " 2   Ship Date     9800 non-null   object \n",
            " 3   Ship Mode     9800 non-null   object \n",
            " 4   Segment       9800 non-null   object \n",
            " 5   Country       9800 non-null   object \n",
            " 6   City          9800 non-null   object \n",
            " 7   State         9800 non-null   object \n",
            " 8   Postal Code   9789 non-null   float64\n",
            " 9   Region        9800 non-null   object \n",
            " 10  Category      9800 non-null   object \n",
            " 11  Sub-Category  9800 non-null   object \n",
            " 12  Product Name  9800 non-null   object \n",
            " 13  Sales         9800 non-null   float64\n",
            "dtypes: float64(2), int64(1), object(11)\n",
            "memory usage: 1.0+ MB\n"
          ]
        }
      ]
    },
    {
      "cell_type": "code",
      "source": [
        "df.describe().T"
      ],
      "metadata": {
        "colab": {
          "base_uri": "https://localhost:8080/",
          "height": 143
        },
        "id": "fEQaJbnpCQdv",
        "outputId": "dcffabb4-4c84-485a-b460-93990a549616"
      },
      "execution_count": 27,
      "outputs": [
        {
          "output_type": "execute_result",
          "data": {
            "text/plain": [
              "              count          mean           std       min        25%  \\\n",
              "Row ID       9800.0   4900.500000   2829.160653     1.000   2450.750   \n",
              "Postal Code  9789.0  55273.322403  32041.223413  1040.000  23223.000   \n",
              "Sales        9800.0    230.769059    626.651875     0.444     17.248   \n",
              "\n",
              "                  50%        75%       max  \n",
              "Row ID        4900.50   7350.250   9800.00  \n",
              "Postal Code  58103.00  90008.000  99301.00  \n",
              "Sales           54.49    210.605  22638.48  "
            ],
            "text/html": [
              "\n",
              "  <div id=\"df-62f57a0c-9201-4113-920b-f8d5cb229cfd\">\n",
              "    <div class=\"colab-df-container\">\n",
              "      <div>\n",
              "<style scoped>\n",
              "    .dataframe tbody tr th:only-of-type {\n",
              "        vertical-align: middle;\n",
              "    }\n",
              "\n",
              "    .dataframe tbody tr th {\n",
              "        vertical-align: top;\n",
              "    }\n",
              "\n",
              "    .dataframe thead th {\n",
              "        text-align: right;\n",
              "    }\n",
              "</style>\n",
              "<table border=\"1\" class=\"dataframe\">\n",
              "  <thead>\n",
              "    <tr style=\"text-align: right;\">\n",
              "      <th></th>\n",
              "      <th>count</th>\n",
              "      <th>mean</th>\n",
              "      <th>std</th>\n",
              "      <th>min</th>\n",
              "      <th>25%</th>\n",
              "      <th>50%</th>\n",
              "      <th>75%</th>\n",
              "      <th>max</th>\n",
              "    </tr>\n",
              "  </thead>\n",
              "  <tbody>\n",
              "    <tr>\n",
              "      <th>Row ID</th>\n",
              "      <td>9800.0</td>\n",
              "      <td>4900.500000</td>\n",
              "      <td>2829.160653</td>\n",
              "      <td>1.000</td>\n",
              "      <td>2450.750</td>\n",
              "      <td>4900.50</td>\n",
              "      <td>7350.250</td>\n",
              "      <td>9800.00</td>\n",
              "    </tr>\n",
              "    <tr>\n",
              "      <th>Postal Code</th>\n",
              "      <td>9789.0</td>\n",
              "      <td>55273.322403</td>\n",
              "      <td>32041.223413</td>\n",
              "      <td>1040.000</td>\n",
              "      <td>23223.000</td>\n",
              "      <td>58103.00</td>\n",
              "      <td>90008.000</td>\n",
              "      <td>99301.00</td>\n",
              "    </tr>\n",
              "    <tr>\n",
              "      <th>Sales</th>\n",
              "      <td>9800.0</td>\n",
              "      <td>230.769059</td>\n",
              "      <td>626.651875</td>\n",
              "      <td>0.444</td>\n",
              "      <td>17.248</td>\n",
              "      <td>54.49</td>\n",
              "      <td>210.605</td>\n",
              "      <td>22638.48</td>\n",
              "    </tr>\n",
              "  </tbody>\n",
              "</table>\n",
              "</div>\n",
              "      <button class=\"colab-df-convert\" onclick=\"convertToInteractive('df-62f57a0c-9201-4113-920b-f8d5cb229cfd')\"\n",
              "              title=\"Convert this dataframe to an interactive table.\"\n",
              "              style=\"display:none;\">\n",
              "        \n",
              "  <svg xmlns=\"http://www.w3.org/2000/svg\" height=\"24px\"viewBox=\"0 0 24 24\"\n",
              "       width=\"24px\">\n",
              "    <path d=\"M0 0h24v24H0V0z\" fill=\"none\"/>\n",
              "    <path d=\"M18.56 5.44l.94 2.06.94-2.06 2.06-.94-2.06-.94-.94-2.06-.94 2.06-2.06.94zm-11 1L8.5 8.5l.94-2.06 2.06-.94-2.06-.94L8.5 2.5l-.94 2.06-2.06.94zm10 10l.94 2.06.94-2.06 2.06-.94-2.06-.94-.94-2.06-.94 2.06-2.06.94z\"/><path d=\"M17.41 7.96l-1.37-1.37c-.4-.4-.92-.59-1.43-.59-.52 0-1.04.2-1.43.59L10.3 9.45l-7.72 7.72c-.78.78-.78 2.05 0 2.83L4 21.41c.39.39.9.59 1.41.59.51 0 1.02-.2 1.41-.59l7.78-7.78 2.81-2.81c.8-.78.8-2.07 0-2.86zM5.41 20L4 18.59l7.72-7.72 1.47 1.35L5.41 20z\"/>\n",
              "  </svg>\n",
              "      </button>\n",
              "      \n",
              "  <style>\n",
              "    .colab-df-container {\n",
              "      display:flex;\n",
              "      flex-wrap:wrap;\n",
              "      gap: 12px;\n",
              "    }\n",
              "\n",
              "    .colab-df-convert {\n",
              "      background-color: #E8F0FE;\n",
              "      border: none;\n",
              "      border-radius: 50%;\n",
              "      cursor: pointer;\n",
              "      display: none;\n",
              "      fill: #1967D2;\n",
              "      height: 32px;\n",
              "      padding: 0 0 0 0;\n",
              "      width: 32px;\n",
              "    }\n",
              "\n",
              "    .colab-df-convert:hover {\n",
              "      background-color: #E2EBFA;\n",
              "      box-shadow: 0px 1px 2px rgba(60, 64, 67, 0.3), 0px 1px 3px 1px rgba(60, 64, 67, 0.15);\n",
              "      fill: #174EA6;\n",
              "    }\n",
              "\n",
              "    [theme=dark] .colab-df-convert {\n",
              "      background-color: #3B4455;\n",
              "      fill: #D2E3FC;\n",
              "    }\n",
              "\n",
              "    [theme=dark] .colab-df-convert:hover {\n",
              "      background-color: #434B5C;\n",
              "      box-shadow: 0px 1px 3px 1px rgba(0, 0, 0, 0.15);\n",
              "      filter: drop-shadow(0px 1px 2px rgba(0, 0, 0, 0.3));\n",
              "      fill: #FFFFFF;\n",
              "    }\n",
              "  </style>\n",
              "\n",
              "      <script>\n",
              "        const buttonEl =\n",
              "          document.querySelector('#df-62f57a0c-9201-4113-920b-f8d5cb229cfd button.colab-df-convert');\n",
              "        buttonEl.style.display =\n",
              "          google.colab.kernel.accessAllowed ? 'block' : 'none';\n",
              "\n",
              "        async function convertToInteractive(key) {\n",
              "          const element = document.querySelector('#df-62f57a0c-9201-4113-920b-f8d5cb229cfd');\n",
              "          const dataTable =\n",
              "            await google.colab.kernel.invokeFunction('convertToInteractive',\n",
              "                                                     [key], {});\n",
              "          if (!dataTable) return;\n",
              "\n",
              "          const docLinkHtml = 'Like what you see? Visit the ' +\n",
              "            '<a target=\"_blank\" href=https://colab.research.google.com/notebooks/data_table.ipynb>data table notebook</a>'\n",
              "            + ' to learn more about interactive tables.';\n",
              "          element.innerHTML = '';\n",
              "          dataTable['output_type'] = 'display_data';\n",
              "          await google.colab.output.renderOutput(dataTable, element);\n",
              "          const docLink = document.createElement('div');\n",
              "          docLink.innerHTML = docLinkHtml;\n",
              "          element.appendChild(docLink);\n",
              "        }\n",
              "      </script>\n",
              "    </div>\n",
              "  </div>\n",
              "  "
            ]
          },
          "metadata": {},
          "execution_count": 27
        }
      ]
    },
    {
      "cell_type": "code",
      "source": [
        "sns.displot(data=df,x='Sales',kind='kde')\n",
        "plt.show()"
      ],
      "metadata": {
        "colab": {
          "base_uri": "https://localhost:8080/",
          "height": 369
        },
        "id": "TxiARahPCW2P",
        "outputId": "64be2d73-4b4c-43f7-c8fc-8b9c2d1aa65b"
      },
      "execution_count": 30,
      "outputs": [
        {
          "output_type": "display_data",
          "data": {
            "text/plain": [
              "<Figure size 360x360 with 1 Axes>"
            ],
            "image/png": "[encoded data removed]"
          },
          "metadata": {
            "needs_background": "light"
          }
        }
      ]
    },
    {
      "cell_type": "code",
      "source": [
        "df['Sales_scaled']=np.log(df['Sales'])"
      ],
      "metadata": {
        "id": "4xs8lnhuCiyR"
      },
      "execution_count": 43,
      "outputs": []
    },
    {
      "cell_type": "code",
      "source": [
        "df.info()\n"
      ],
      "metadata": {
        "colab": {
          "base_uri": "https://localhost:8080/"
        },
        "id": "whM-JjDdDGds",
        "outputId": "16beb2d9-6622-4415-c9b1-fbc5c770aa3e"
      },
      "execution_count": 44,
      "outputs": [
        {
          "output_type": "stream",
          "name": "stdout",
          "text": [
            "<class 'pandas.core.frame.DataFrame'>\n",
            "RangeIndex: 9800 entries, 0 to 9799\n",
            "Data columns (total 15 columns):\n",
            " #   Column        Non-Null Count  Dtype  \n",
            "---  ------        --------------  -----  \n",
            " 0   Row ID        9800 non-null   int64  \n",
            " 1   Order Date    9800 non-null   object \n",
            " 2   Ship Date     9800 non-null   object \n",
            " 3   Ship Mode     9800 non-null   object \n",
            " 4   Segment       9800 non-null   object \n",
            " 5   Country       9800 non-null   object \n",
            " 6   City          9800 non-null   object \n",
            " 7   State         9800 non-null   object \n",
            " 8   Postal Code   9789 non-null   float64\n",
            " 9   Region        9800 non-null   object \n",
            " 10  Category      9800 non-null   object \n",
            " 11  Sub-Category  9800 non-null   object \n",
            " 12  Product Name  9800 non-null   object \n",
            " 13  Sales         9800 non-null   float64\n",
            " 14  Sales_scaled  9800 non-null   float64\n",
            "dtypes: float64(3), int64(1), object(11)\n",
            "memory usage: 1.1+ MB\n"
          ]
        }
      ]
    },
    {
      "cell_type": "code",
      "source": [
        "sns.displot(data=df,x='Sales_scaled',kind='kde')\n",
        "plt.show()"
      ],
      "metadata": {
        "colab": {
          "base_uri": "https://localhost:8080/",
          "height": 369
        },
        "id": "MmzYYEogDNHr",
        "outputId": "3c7a1ef4-f9d2-4774-ce73-8cda1a237016"
      },
      "execution_count": 46,
      "outputs": [
        {
          "output_type": "display_data",
          "data": {
            "text/plain": [
              "<Figure size 360x360 with 1 Axes>"
            ],
            "image/png": "[encoded data removed]"
          },
          "metadata": {
            "needs_background": "light"
          }
        }
      ]
    },
    {
      "cell_type": "code",
      "source": [
        "df.drop('Row ID',axis=1,inplace=True)"
      ],
      "metadata": {
        "id": "-L0rEHF4FXw6"
      },
      "execution_count": 47,
      "outputs": []
    },
    {
      "cell_type": "code",
      "source": [
        "df.info()"
      ],
      "metadata": {
        "colab": {
          "base_uri": "https://localhost:8080/"
        },
        "id": "LoZMObrFFZ6p",
        "outputId": "d654310f-7cb6-4f21-91f6-a8a747ad3c78"
      },
      "execution_count": 48,
      "outputs": [
        {
          "output_type": "stream",
          "name": "stdout",
          "text": [
            "<class 'pandas.core.frame.DataFrame'>\n",
            "RangeIndex: 9800 entries, 0 to 9799\n",
            "Data columns (total 14 columns):\n",
            " #   Column        Non-Null Count  Dtype  \n",
            "---  ------        --------------  -----  \n",
            " 0   Order Date    9800 non-null   object \n",
            " 1   Ship Date     9800 non-null   object \n",
            " 2   Ship Mode     9800 non-null   object \n",
            " 3   Segment       9800 non-null   object \n",
            " 4   Country       9800 non-null   object \n",
            " 5   City          9800 non-null   object \n",
            " 6   State         9800 non-null   object \n",
            " 7   Postal Code   9789 non-null   float64\n",
            " 8   Region        9800 non-null   object \n",
            " 9   Category      9800 non-null   object \n",
            " 10  Sub-Category  9800 non-null   object \n",
            " 11  Product Name  9800 non-null   object \n",
            " 12  Sales         9800 non-null   float64\n",
            " 13  Sales_scaled  9800 non-null   float64\n",
            "dtypes: float64(3), object(11)\n",
            "memory usage: 1.0+ MB\n"
          ]
        }
      ]
    },
    {
      "cell_type": "code",
      "source": [
        "df.duplicated().sum()"
      ],
      "metadata": {
        "colab": {
          "base_uri": "https://localhost:8080/"
        },
        "id": "5ccxBL_DGGBR",
        "outputId": "1587c408-228e-42e5-fc31-a48e326e0024"
      },
      "execution_count": 53,
      "outputs": [
        {
          "output_type": "execute_result",
          "data": {
            "text/plain": [
              "1"
            ]
          },
          "metadata": {},
          "execution_count": 53
        }
      ]
    },
    {
      "cell_type": "code",
      "source": [
        "df.drop_duplicates(inplace=True)"
      ],
      "metadata": {
        "id": "BXkusqnlGKGj"
      },
      "execution_count": 54,
      "outputs": []
    },
    {
      "cell_type": "code",
      "source": [
        "df.isna().sum()"
      ],
      "metadata": {
        "colab": {
          "base_uri": "https://localhost:8080/"
        },
        "id": "0OQ3i-d0GZFr",
        "outputId": "e158c573-8b35-429a-fa83-a6063f8f4f5d"
      },
      "execution_count": 56,
      "outputs": [
        {
          "output_type": "execute_result",
          "data": {
            "text/plain": [
              "Order Date       0\n",
              "Ship Date        0\n",
              "Ship Mode        0\n",
              "Segment          0\n",
              "Country          0\n",
              "City             0\n",
              "State            0\n",
              "Postal Code     11\n",
              "Region           0\n",
              "Category         0\n",
              "Sub-Category     0\n",
              "Product Name     0\n",
              "Sales            0\n",
              "Sales_scaled     0\n",
              "dtype: int64"
            ]
          },
          "metadata": {},
          "execution_count": 56
        }
      ]
    },
    {
      "cell_type": "code",
      "source": [
        "df['Postal Code'].fillna(5401,inplace=True)"
      ],
      "metadata": {
        "id": "42ZWaNWuGbiu"
      },
      "execution_count": 57,
      "outputs": []
    },
    {
      "cell_type": "code",
      "source": [],
      "metadata": {
        "colab": {
          "base_uri": "https://localhost:8080/"
        },
        "id": "4apbKeLmGqGs",
        "outputId": "85aac06e-530a-42f7-81f4-527b9a6575d6"
      },
      "execution_count": 58,
      "outputs": [
        {
          "output_type": "execute_result",
          "data": {
            "text/plain": [
              "Order Date      0\n",
              "Ship Date       0\n",
              "Ship Mode       0\n",
              "Segment         0\n",
              "Country         0\n",
              "City            0\n",
              "State           0\n",
              "Postal Code     0\n",
              "Region          0\n",
              "Category        0\n",
              "Sub-Category    0\n",
              "Product Name    0\n",
              "Sales           0\n",
              "Sales_scaled    0\n",
              "dtype: int64"
            ]
          },
          "metadata": {},
          "execution_count": 58
        }
      ]
    },
    {
      "cell_type": "code",
      "source": [
        "df['Order Date']=pd.to_datetime(df['Order Date'])"
      ],
      "metadata": {
        "id": "zEkp_A-aGs7e"
      },
      "execution_count": null,
      "outputs": []
    },
    {
      "cell_type": "code",
      "source": [
        "df['Ship Date']=pd.to_datetime(df['Ship Date'])"
      ],
      "metadata": {
        "id": "2EASr2LjGzh6"
      },
      "execution_count": null,
      "outputs": []
    },
    {
      "cell_type": "code",
      "source": [
        "df.info()"
      ],
      "metadata": {
        "colab": {
          "base_uri": "https://localhost:8080/"
        },
        "id": "LD57z8xHG2xI",
        "outputId": "c8fedd04-baf0-426b-d33d-b195a58e797d"
      },
      "execution_count": 61,
      "outputs": [
        {
          "output_type": "stream",
          "name": "stdout",
          "text": [
            "<class 'pandas.core.frame.DataFrame'>\n",
            "Int64Index: 9799 entries, 0 to 9799\n",
            "Data columns (total 14 columns):\n",
            " #   Column        Non-Null Count  Dtype         \n",
            "---  ------        --------------  -----         \n",
            " 0   Order Date    9799 non-null   datetime64[ns]\n",
            " 1   Ship Date     9799 non-null   datetime64[ns]\n",
            " 2   Ship Mode     9799 non-null   object        \n",
            " 3   Segment       9799 non-null   object        \n",
            " 4   Country       9799 non-null   object        \n",
            " 5   City          9799 non-null   object        \n",
            " 6   State         9799 non-null   object        \n",
            " 7   Postal Code   9799 non-null   float64       \n",
            " 8   Region        9799 non-null   object        \n",
            " 9   Category      9799 non-null   object        \n",
            " 10  Sub-Category  9799 non-null   object        \n",
            " 11  Product Name  9799 non-null   object        \n",
            " 12  Sales         9799 non-null   float64       \n",
            " 13  Sales_scaled  9799 non-null   float64       \n",
            "dtypes: datetime64[ns](2), float64(3), object(9)\n",
            "memory usage: 1.1+ MB\n"
          ]
        }
      ]
    },
    {
      "cell_type": "code",
      "source": [
        "df.columns"
      ],
      "metadata": {
        "colab": {
          "base_uri": "https://localhost:8080/"
        },
        "id": "OK8fyTAIG4w-",
        "outputId": "3f7a5f9c-a4ca-481a-964c-e42d95eba239"
      },
      "execution_count": 62,
      "outputs": [
        {
          "output_type": "execute_result",
          "data": {
            "text/plain": [
              "Index(['Order Date', 'Ship Date', 'Ship Mode', 'Segment', 'Country', 'City',\n",
              "       'State', 'Postal Code', 'Region', 'Category', 'Sub-Category',\n",
              "       'Product Name', 'Sales', 'Sales_scaled'],\n",
              "      dtype='object')"
            ]
          },
          "metadata": {},
          "execution_count": 62
        }
      ]
    },
    {
      "cell_type": "code",
      "source": [
        "sns.countplot(data=df,x='Segment')"
      ],
      "metadata": {
        "colab": {
          "base_uri": "https://localhost:8080/",
          "height": 297
        },
        "id": "ZEWz-ON3HFMV",
        "outputId": "f976809b-f9d1-4e00-aad7-8603d1105875"
      },
      "execution_count": 63,
      "outputs": [
        {
          "output_type": "execute_result",
          "data": {
            "text/plain": [
              "<Axes: xlabel='Segment', ylabel='count'>"
            ]
          },
          "metadata": {},
          "execution_count": 63
        },
        {
          "output_type": "display_data",
          "data": {
            "text/plain": [
              "<Figure size 432x288 with 1 Axes>"
            ],
            "image/png": "[encoded data removed]"
          },
          "metadata": {
            "needs_background": "light"
          }
        }
      ]
    },
    {
      "cell_type": "code",
      "source": [
        "fig = px.pie(df, values=np.ones(9799), names='Ship Mode', title='Ship Mode')\n",
        "fig.show()"
      ],
      "metadata": {
        "colab": {
          "base_uri": "https://localhost:8080/",
          "height": 542
        },
        "id": "d-_kfayjHOuP",
        "outputId": "c0a6e2cd-1af1-42f2-b00d-9e1809501b59"
      },
      "execution_count": 64,
      "outputs": [
        {
          "output_type": "display_data",
          "data": {
            "text/html": [
              "<html>\n",
              "<head><meta charset=\"utf-8\" /></head>\n",
              "<body>\n",
              "    <div>            <script src=\"https://cdnjs.cloudflare.com/ajax/libs/mathjax/2.7.5/MathJax.js?config=TeX-AMS-MML_SVG\"></script><script type=\"text/javascript\">if (window.MathJax && window.MathJax.Hub && window.MathJax.Hub.Config) {window.MathJax.Hub.Config({SVG: {font: \"STIX-Web\"}});}</script>                <script type=\"text/javascript\">window.PlotlyConfig = {MathJaxConfig: 'local'};</script>\n",
              "        <script src=\"https://cdn.plot.ly/plotly-2.18.2.min.js\"></script>                <div id=\"afcb339a-a4a3-4b62-adf2-731ba9c51958\" class=\"plotly-graph-div\" style=\"height:525px; width:100%;\"></div>            <script type=\"text/javascript\">                                    window.PLOTLYENV=window.PLOTLYENV || {};                                    if (document.getElementById(\"afcb339a-a4a3-4b62-adf2-731ba9c51958\")) {                    Plotly.newPlot(                        \"afcb339a-a4a3-4b62-adf2-731ba9c51958\",                        [{\"domain\":{\"x\":[0.0,1.0],\"y\":[0.0,1.0]},\"hovertemplate\":\"Ship Mode=%{label}<br>value=%{value}<extra></extra>\",\"labels\":[\"Second Class\",\"Second Class\",\"Second Class\",\"Standard Class\",\"Standard Class\",\"Standard Class\",\"Standard Class\",\"Standard Class\",\"Standard Class\",\"Standard Class\",\"Standard Class\",\"Standard Class\",\"Standard Class\",\"Standard Class\",\"Standard Class\",\"Standard Class\",\"Standard Class\",\"Second Class\",\"Second Class\",\"Second Class\",\"Second Class\",\"Standard Class\",\"Standard Class\",\"Second Class\",\"Standard Class\",\"Second Class\",\"Second Class\",\"Standard Class\",\"Standard Class\",\"Standard Class\",\"Standard Class\",\"Standard Class\",\"Standard Class\",\"Standard Class\",\"Second Class\",\"First Class\",\"First Class\",\"Standard Class\",\"Standard Class\",\"Standard Class\",\"Standard Class\",\"Standard Class\",\"Standard Class\",\"Standard Class\",\"First Class\",\"First Class\",\"Second Class\",\"Standard Class\",\"Standard Class\",\"Standard Class\",\"Standard Class\",\"Standard Class\",\"Standard Class\",\"Standard Class\",\"Standard Class\",\"First Class\",\"First Class\",\"First Class\",\"First Class\",\"First Class\",\"First Class\",\"First Class\",\"Standard Class\",\"Standard Class\",\"Standard Class\",\"Standard Class\",\"Standard Class\",\"Standard Class\",\"Standard Class\",\"First Class\",\"Standard Class\",\"Second Class\",\"Standard Class\",\"Standard Class\",\"Standard Class\",\"First Class\",\"First Class\",\"First Class\",\"Second Class\",\"First Class\",\"First Class\",\"Standard Class\",\"Standard Class\",\"Standard Class\",\"First Class\",\"Second Class\",\"Standard Class\",\"Standard Class\",\"Second Class\",\"Standard Class\",\"Standard Class\",\"Standard Class\",\"Second Class\",\"Second Class\",\"Second Class\",\"Standard Class\",\"Second Class\",\"First Class\",\"Standard Class\",\"Standard Class\",\"Standard Class\",\"Standard Class\",\"Second Class\",\"Standard Class\",\"Standard Class\",\"Standard Class\",\"Standard Class\",\"Standard Class\",\"Standard Class\",\"Standard Class\",\"Standard Class\",\"Standard Class\",\"Standard Class\",\"Second Class\",\"Second Class\",\"Second Class\",\"Second Class\",\"Standard Class\",\"Standard Class\",\"First Class\",\"First Class\",\"First Class\",\"First Class\",\"First Class\",\"Second Class\",\"Standard Class\",\"Standard Class\",\"Standard Class\",\"Second Class\",\"Second Class\",\"First Class\",\"First Class\",\"First Class\",\"Standard Class\",\"Standard Class\",\"Standard Class\",\"Standard Class\",\"Standard Class\",\"Standard Class\",\"Standard Class\",\"Second Class\",\"Standard Class\",\"Standard Class\",\"Standard Class\",\"Standard Class\",\"Standard Class\",\"Standard Class\",\"Standard Class\",\"Standard Class\",\"Standard Class\",\"Standard Class\",\"First Class\",\"First Class\",\"First Class\",\"First Class\",\"First Class\",\"Standard Class\",\"Second Class\",\"Standard Class\",\"Standard Class\",\"First Class\",\"Second Class\",\"Standard Class\",\"Standard Class\",\"Standard Class\",\"Standard Class\",\"Standard Class\",\"Standard Class\",\"Standard Class\",\"Standard Class\",\"Standard Class\",\"Standard Class\",\"Standard Class\",\"Standard Class\",\"Standard Class\",\"Standard Class\",\"Second Class\",\"Second Class\",\"Second Class\",\"Standard Class\",\"Second Class\",\"Second Class\",\"Second Class\",\"Second Class\",\"Second Class\",\"Standard Class\",\"Standard Class\",\"Standard Class\",\"Standard Class\",\"First Class\",\"First Class\",\"First Class\",\"First Class\",\"First Class\",\"Standard Class\",\"Standard Class\",\"Standard Class\",\"Standard Class\",\"Standard Class\",\"Standard Class\",\"Standard Class\",\"First Class\",\"First Class\",\"Second Class\",\"Standard Class\",\"Standard Class\",\"Standard Class\",\"Standard Class\",\"Standard Class\",\"Standard Class\",\"Standard Class\",\"Second Class\",\"Standard Class\",\"Standard Class\",\"Standard Class\",\"Standard Class\",\"Standard Class\",\"Standard Class\",\"Standard Class\",\"First Class\",\"First Class\",\"First Class\",\"First Class\",\"First Class\",\"First Class\",\"Standard Class\",\"Standard Class\",\"Standard Class\",\"Standard Class\",\"Standard Class\",\"Standard Class\",\"Standard Class\",\"Standard Class\",\"Standard Class\",\"Standard Class\",\"Standard Class\",\"Standard Class\",\"Second Class\",\"Second Class\",\"Second Class\",\"Second Class\",\"Second Class\",\"Second Class\",\"Second Class\",\"Second Class\",\"Second Class\",\"Second Class\",\"Second Class\",\"Second Class\",\"Second Class\",\"Standard Class\",\"Standard Class\",\"First Class\",\"First Class\",\"Standard Class\",\"Standard Class\",\"Standard Class\",\"Standard Class\",\"Second Class\",\"Second Class\",\"Second Class\",\"Standard Class\",\"Second Class\",\"Second Class\",\"Standard Class\",\"Standard Class\",\"Standard Class\",\"Standard Class\",\"Standard Class\",\"Standard Class\",\"Second Class\",\"First Class\",\"First Class\",\"First Class\",\"First Class\",\"First Class\",\"Standard Class\",\"Standard Class\",\"Standard Class\",\"Standard Class\",\"Second Class\",\"Second Class\",\"Standard Class\",\"Standard Class\",\"Standard Class\",\"Standard Class\",\"Second Class\",\"Second Class\",\"Second Class\",\"Second Class\",\"Second Class\",\"Second Class\",\"Second Class\",\"First Class\",\"First Class\",\"First Class\",\"First Class\",\"First Class\",\"Standard Class\",\"Standard Class\",\"Standard Class\",\"Standard Class\",\"Standard Class\",\"Standard Class\",\"Second Class\",\"Standard Class\",\"Standard Class\",\"Standard Class\",\"First Class\",\"Second Class\",\"Second Class\",\"Second Class\",\"Second Class\",\"Standard Class\",\"Standard Class\",\"Standard Class\",\"First Class\",\"Standard Class\",\"Standard Class\",\"Standard Class\",\"Standard Class\",\"Standard Class\",\"Standard Class\",\"Standard Class\",\"Standard Class\",\"Second Class\",\"First Class\",\"First Class\",\"First Class\",\"First Class\",\"First Class\",\"Second Class\",\"Second Class\",\"Second Class\",\"Second Class\",\"Second Class\",\"Second Class\",\"Standard Class\",\"Standard Class\",\"Second Class\",\"Second Class\",\"Second Class\",\"Second Class\",\"Second Class\",\"Standard Class\",\"Standard Class\",\"Standard Class\",\"Standard Class\",\"Standard Class\",\"First Class\",\"First Class\",\"First Class\",\"First Class\",\"First Class\",\"Standard Class\",\"Standard Class\",\"Standard Class\",\"Standard Class\",\"Standard Class\",\"First Class\",\"First Class\",\"Standard Class\",\"Standard Class\",\"Standard Class\",\"Standard Class\",\"Standard Class\",\"Same Day\",\"Same Day\",\"Same Day\",\"Same Day\",\"Standard Class\",\"Standard Class\",\"Standard Class\",\"Standard Class\",\"Standard Class\",\"Standard Class\",\"First Class\",\"Standard Class\",\"Standard Class\",\"Standard Class\",\"Standard Class\",\"First Class\",\"First Class\",\"Second Class\",\"Standard Class\",\"Standard Class\",\"Standard Class\",\"Standard Class\",\"First Class\",\"Standard Class\",\"Standard Class\",\"Second Class\",\"Second Class\",\"Second Class\",\"Standard Class\",\"Second Class\",\"Second Class\",\"Standard Class\",\"Second Class\",\"Second Class\",\"Second Class\",\"Second Class\",\"First Class\",\"Standard Class\",\"Standard Class\",\"Standard Class\",\"Standard Class\",\"Standard Class\",\"Standard Class\",\"Standard Class\",\"Standard Class\",\"Standard Class\",\"Standard Class\",\"Standard Class\",\"Standard Class\",\"Standard Class\",\"Standard Class\",\"Standard Class\",\"Standard Class\",\"Standard Class\",\"Standard Class\",\"First Class\",\"Standard Class\",\"Standard Class\",\"Second Class\",\"Second Class\",\"Second Class\",\"First Class\",\"Standard Class\",\"Standard Class\",\"Standard Class\",\"Standard Class\",\"Standard Class\",\"First Class\",\"Standard Class\",\"Standard Class\",\"Second Class\",\"Second Class\",\"Standard Class\",\"Second Class\",\"Second Class\",\"Second Class\",\"Second Class\",\"Second Class\",\"Second Class\",\"Second Class\",\"Second Class\",\"Second Class\",\"Second Class\",\"Second Class\",\"Second Class\",\"Second Class\",\"Second Class\",\"Standard Class\",\"Standard Class\",\"Standard Class\",\"Standard Class\",\"Standard Class\",\"Standard Class\",\"Standard Class\",\"Standard Class\",\"Standard Class\",\"Standard Class\",\"Standard Class\",\"Standard Class\",\"Standard Class\",\"Standard Class\",\"Standard Class\",\"Standard Class\",\"Second Class\",\"Standard Class\",\"Second Class\",\"Second Class\",\"Second Class\",\"Second Class\",\"Second Class\",\"Second Class\",\"Standard Class\",\"Standard Class\",\"Standard Class\",\"Standard Class\",\"Standard Class\",\"Standard Class\",\"Standard Class\",\"First Class\",\"First Class\",\"First Class\",\"First Class\",\"Second Class\",\"Second Class\",\"Second Class\",\"Standard Class\",\"Standard Class\",\"Standard Class\",\"Second Class\",\"Standard Class\",\"Standard Class\",\"Standard Class\",\"Standard Class\",\"Standard Class\",\"Standard Class\",\"Standard Class\",\"Standard Class\",\"Standard Class\",\"Standard Class\",\"Second Class\",\"Standard Class\",\"Standard Class\",\"Standard Class\",\"Standard Class\",\"First Class\",\"First Class\",\"First Class\",\"Standard Class\",\"Standard Class\",\"Standard Class\",\"Standard Class\",\"Standard Class\",\"Standard Class\",\"Standard Class\",\"Standard Class\",\"Standard Class\",\"First Class\",\"First Class\",\"First Class\",\"Standard Class\",\"Standard Class\",\"Standard Class\",\"Standard Class\",\"Standard Class\",\"Standard Class\",\"Second Class\",\"Standard Class\",\"Second Class\",\"Second Class\",\"Standard Class\",\"Second Class\",\"Standard Class\",\"Standard Class\",\"Standard Class\",\"First Class\",\"First Class\",\"Standard Class\",\"Standard Class\",\"Standard Class\",\"Standard Class\",\"First Class\",\"First Class\",\"Second Class\",\"Second Class\",\"Second Class\",\"Second Class\",\"First Class\",\"Standard Class\",\"Second Class\",\"Second Class\",\"Standard Class\",\"Standard Class\",\"Standard Class\",\"Second Class\",\"Second Class\",\"Second Class\",\"Second Class\",\"First Class\",\"First Class\",\"First Class\",\"Standard Class\",\"Standard Class\",\"Standard Class\",\"Standard Class\",\"Standard Class\",\"Standard Class\",\"Standard Class\",\"Standard Class\",\"Standard Class\",\"Second Class\",\"Second Class\",\"Second Class\",\"Standard Class\",\"Standard Class\",\"Standard Class\",\"Standard Class\",\"Standard Class\",\"Standard Class\",\"Standard Class\",\"Standard Class\",\"Standard Class\",\"Standard Class\",\"Standard Class\",\"Standard Class\",\"Standard Class\",\"Standard Class\",\"Standard Class\",\"Standard Class\",\"Standard Class\",\"Standard Class\",\"Standard Class\",\"Standard Class\",\"First Class\",\"Standard Class\",\"Standard Class\",\"Standard Class\",\"Standard Class\",\"Standard Class\",\"Standard Class\",\"Standard Class\",\"Standard Class\",\"Standard Class\",\"Standard Class\",\"Standard Class\",\"First Class\",\"First Class\",\"Second Class\",\"Second Class\",\"Second Class\",\"Second Class\",\"Second Class\",\"Second Class\",\"Second Class\",\"Second Class\",\"Second Class\",\"Standard Class\",\"Standard Class\",\"Standard Class\",\"Standard Class\",\"Standard Class\",\"Standard Class\",\"Standard Class\",\"Standard Class\",\"Standard Class\",\"Second Class\",\"Second Class\",\"Second Class\",\"Second Class\",\"Second Class\",\"Second Class\",\"Standard Class\",\"Standard Class\",\"Standard Class\",\"Standard Class\",\"Standard Class\",\"Second Class\",\"Second Class\",\"Standard Class\",\"Standard Class\",\"Standard Class\",\"Standard Class\",\"Standard Class\",\"Second Class\",\"Second Class\",\"Second Class\",\"Standard Class\",\"Standard Class\",\"Standard Class\",\"Standard Class\",\"Standard Class\",\"Standard Class\",\"Same Day\",\"Same Day\",\"Standard Class\",\"Standard Class\",\"Standard Class\",\"Standard Class\",\"Standard Class\",\"Same Day\",\"Second Class\",\"Second Class\",\"Second Class\",\"First Class\",\"Standard Class\",\"Standard Class\",\"Standard Class\",\"Standard Class\",\"First Class\",\"First Class\",\"First Class\",\"Standard Class\",\"Standard Class\",\"Standard Class\",\"Standard Class\",\"Standard Class\",\"Standard Class\",\"Standard Class\",\"Same Day\",\"Same Day\",\"First Class\",\"First Class\",\"First Class\",\"Standard Class\",\"Second Class\",\"Second Class\",\"Second Class\",\"Standard Class\",\"Standard Class\",\"First Class\",\"First Class\",\"First Class\",\"First Class\",\"First Class\",\"First Class\",\"First Class\",\"Standard Class\",\"Second Class\",\"Standard Class\",\"Standard Class\",\"Standard Class\",\"Standard Class\",\"First Class\",\"First Class\",\"First Class\",\"First Class\",\"Standard Class\",\"Standard Class\",\"Standard Class\",\"Standard Class\",\"Second Class\",\"First Class\",\"Standard Class\",\"Standard Class\",\"Standard Class\",\"Standard Class\",\"Standard Class\",\"Standard Class\",\"Standard Class\",\"Standard Class\",\"Standard Class\",\"Standard Class\",\"First Class\",\"First Class\",\"First Class\",\"First Class\",\"First Class\",\"Standard Class\",\"Standard Class\",\"Standard Class\",\"Standard Class\",\"Standard Class\",\"Standard Class\",\"Standard Class\",\"Standard Class\",\"Standard Class\",\"Standard Class\",\"Standard Class\",\"Standard Class\",\"Standard Class\",\"Standard Class\",\"Same Day\",\"Same Day\",\"Second Class\",\"Standard Class\",\"Standard Class\",\"Standard Class\",\"Standard Class\",\"First Class\",\"Standard Class\",\"Standard Class\",\"Standard Class\",\"Standard Class\",\"Standard Class\",\"Standard Class\",\"Standard Class\",\"Standard Class\",\"Standard Class\",\"Second Class\",\"Second Class\",\"Second Class\",\"Second Class\",\"Second Class\",\"Standard Class\",\"Standard Class\",\"Standard Class\",\"Standard Class\",\"Standard Class\",\"Standard Class\",\"Standard Class\",\"Standard Class\",\"Standard Class\",\"First Class\",\"First Class\",\"First Class\",\"First Class\",\"Second Class\",\"Second Class\",\"Second Class\",\"Second Class\",\"Standard Class\",\"Second Class\",\"Standard Class\",\"Standard Class\",\"Standard Class\",\"Standard Class\",\"Standard Class\",\"Same Day\",\"Standard Class\",\"Standard Class\",\"Standard Class\",\"First Class\",\"First Class\",\"First Class\",\"Standard Class\",\"First Class\",\"First Class\",\"Second Class\",\"Standard Class\",\"First Class\",\"Standard Class\",\"Standard Class\",\"First Class\",\"First Class\",\"First Class\",\"First Class\",\"First Class\",\"First Class\",\"Same Day\",\"Same Day\",\"First Class\",\"Standard Class\",\"Standard Class\",\"Standard Class\",\"Standard Class\",\"Standard Class\",\"Standard Class\",\"Standard Class\",\"Standard Class\",\"Standard Class\",\"Standard Class\",\"Standard Class\",\"Standard Class\",\"Standard Class\",\"Second Class\",\"Second Class\",\"Second Class\",\"Second Class\",\"Standard Class\",\"Standard Class\",\"Standard Class\",\"Second Class\",\"Standard Class\",\"Standard Class\",\"Standard Class\",\"Standard Class\",\"Standard Class\",\"First Class\",\"First Class\",\"First Class\",\"First Class\",\"Standard Class\",\"Standard Class\",\"Standard Class\",\"Standard Class\",\"Second Class\",\"Second Class\",\"Standard Class\",\"Standard Class\",\"Standard Class\",\"Standard Class\",\"Standard Class\",\"Standard Class\",\"Standard Class\",\"Standard Class\",\"Standard Class\",\"Standard Class\",\"Second Class\",\"Second Class\",\"Second Class\",\"Standard Class\",\"Standard Class\",\"First Class\",\"Standard Class\",\"First Class\",\"First Class\",\"First Class\",\"Standard Class\",\"Standard Class\",\"Standard Class\",\"Standard Class\",\"Standard Class\",\"Standard Class\",\"Standard Class\",\"Second Class\",\"Second Class\",\"Standard Class\",\"Same Day\",\"First Class\",\"Standard Class\",\"Second Class\",\"Standard Class\",\"Standard Class\",\"Standard Class\",\"Standard Class\",\"Standard Class\",\"First Class\",\"First Class\",\"First Class\",\"First Class\",\"First Class\",\"Second Class\",\"Standard Class\",\"Second Class\",\"First Class\",\"First Class\",\"First Class\",\"First Class\",\"Standard Class\",\"Standard Class\",\"Standard Class\",\"Standard Class\",\"Standard Class\",\"Standard Class\",\"Standard Class\",\"Standard Class\",\"Standard Class\",\"Standard Class\",\"First Class\",\"First Class\",\"Standard Class\",\"Standard Class\",\"Standard Class\",\"Standard Class\",\"Standard Class\",\"Standard Class\",\"Standard Class\",\"Standard Class\",\"Standard Class\",\"Standard Class\",\"First Class\",\"First Class\",\"Standard Class\",\"Standard Class\",\"First Class\",\"First Class\",\"First Class\",\"Standard Class\",\"Standard Class\",\"Standard Class\",\"Standard Class\",\"Standard Class\",\"First Class\",\"Standard Class\",\"Standard Class\",\"First Class\",\"Standard Class\",\"Standard Class\",\"Standard Class\",\"Standard Class\",\"Standard Class\",\"First Class\",\"Standard Class\",\"Standard Class\",\"Standard Class\",\"Standard Class\",\"Standard Class\",\"Standard Class\",\"Standard Class\",\"Standard Class\",\"Standard Class\",\"Second Class\",\"Second Class\",\"Second Class\",\"Same Day\",\"Standard Class\",\"Standard Class\",\"First Class\",\"Second Class\",\"First Class\",\"First Class\",\"First Class\",\"First Class\",\"First Class\",\"First Class\",\"Second Class\",\"Second Class\",\"Second Class\",\"Second Class\",\"Second Class\",\"Second Class\",\"Standard Class\",\"First Class\",\"First Class\",\"First Class\",\"Standard Class\",\"Second Class\",\"Second Class\",\"Second Class\",\"Standard Class\",\"Standard Class\",\"Standard Class\",\"Same Day\",\"Standard Class\",\"Standard Class\",\"Second Class\",\"First Class\",\"First Class\",\"First Class\",\"Standard Class\",\"Standard Class\",\"Standard Class\",\"Standard Class\",\"Standard Class\",\"Standard Class\",\"Standard Class\",\"Same Day\",\"Same Day\",\"Same Day\",\"Standard Class\",\"Standard Class\",\"First Class\",\"First Class\",\"Standard Class\",\"First Class\",\"First Class\",\"Second Class\",\"Second Class\",\"Second Class\",\"Second Class\",\"Second Class\",\"Standard Class\",\"Standard Class\",\"Standard Class\",\"Standard Class\",\"Standard Class\",\"Standard Class\",\"Standard Class\",\"Standard Class\",\"First Class\",\"Second Class\",\"Second Class\",\"Second Class\",\"Standard Class\",\"Standard Class\",\"Standard Class\",\"Standard Class\",\"Standard Class\",\"First Class\",\"First Class\",\"First Class\",\"Standard Class\",\"First Class\",\"First Class\",\"First Class\",\"Standard Class\",\"Second Class\",\"Second Class\",\"First Class\",\"First Class\",\"Standard Class\",\"Standard Class\",\"Standard Class\",\"Second Class\",\"Second Class\",\"First Class\",\"First Class\",\"First Class\",\"Standard Class\",\"Standard Class\",\"Standard Class\",\"Standard Class\",\"Standard Class\",\"Standard Class\",\"Standard Class\",\"Standard Class\",\"Standard Class\",\"Standard Class\",\"Standard Class\",\"Standard Class\",\"Standard Class\",\"Standard Class\",\"First Class\",\"Second Class\",\"Standard Class\",\"Standard Class\",\"Standard Class\",\"Standard Class\",\"Standard Class\",\"Standard Class\",\"Standard Class\",\"First Class\",\"Second Class\",\"Second Class\",\"Second Class\",\"Standard Class\",\"Standard Class\",\"Standard Class\",\"Standard Class\",\"Standard Class\",\"Standard Class\",\"Same Day\",\"Second Class\",\"Second Class\",\"Standard Class\",\"Standard Class\",\"Standard Class\",\"Standard Class\",\"Standard Class\",\"Standard Class\",\"Standard Class\",\"Standard Class\",\"First Class\",\"First Class\",\"First Class\",\"First Class\",\"First Class\",\"Standard Class\",\"Standard Class\",\"Standard Class\",\"Standard Class\",\"Standard Class\",\"Standard Class\",\"Standard Class\",\"Standard Class\",\"Standard Class\",\"Standard Class\",\"Standard Class\",\"Second Class\",\"Second Class\",\"Second Class\",\"Second Class\",\"Standard Class\",\"Standard Class\",\"Standard Class\",\"Standard Class\",\"Standard Class\",\"Standard Class\",\"Standard Class\",\"Standard Class\",\"Standard Class\",\"Standard Class\",\"Standard Class\",\"Standard Class\",\"Standard Class\",\"Standard Class\",\"Standard Class\",\"First Class\",\"Standard Class\",\"Standard Class\",\"Same Day\",\"Second Class\",\"Second Class\",\"Second Class\",\"Second Class\",\"Second Class\",\"Standard Class\",\"Standard Class\",\"Standard Class\",\"Standard Class\",\"Standard Class\",\"Same Day\",\"Same Day\",\"Same Day\",\"Same Day\",\"Same Day\",\"Standard Class\",\"Standard Class\",\"Standard Class\",\"First Class\",\"First Class\",\"First Class\",\"First Class\",\"Second Class\",\"Standard Class\",\"Standard Class\",\"Second Class\",\"Standard Class\",\"Standard Class\",\"Standard Class\",\"Standard Class\",\"Same Day\",\"Second Class\",\"Second Class\",\"Second Class\",\"Second Class\",\"Standard Class\",\"Standard Class\",\"Standard Class\",\"First Class\",\"Standard Class\",\"Second Class\",\"Standard Class\",\"Standard Class\",\"Second Class\",\"Standard Class\",\"Standard Class\",\"First Class\",\"First Class\",\"Standard Class\",\"Standard Class\",\"Standard Class\",\"Standard Class\",\"Second Class\",\"Second Class\",\"Second Class\",\"Second Class\",\"Second Class\",\"Same Day\",\"Same Day\",\"Same Day\",\"Same Day\",\"Standard Class\",\"Standard Class\",\"Standard Class\",\"Standard Class\",\"Standard Class\",\"Standard Class\",\"Standard Class\",\"Standard Class\",\"First Class\",\"Second Class\",\"Second Class\",\"Second Class\",\"Second Class\",\"Second Class\",\"Second Class\",\"Standard Class\",\"Standard Class\",\"Standard Class\",\"Standard Class\",\"Standard Class\",\"Standard Class\",\"Standard Class\",\"Standard Class\",\"Standard Class\",\"Standard Class\",\"First Class\",\"First Class\",\"First Class\",\"First Class\",\"First Class\",\"First Class\",\"Standard Class\",\"Standard Class\",\"Standard Class\",\"Second Class\",\"Second Class\",\"First Class\",\"Same Day\",\"Same Day\",\"Same Day\",\"Same Day\",\"Standard Class\",\"Standard Class\",\"Standard Class\",\"Standard Class\",\"Standard Class\",\"Standard Class\",\"Standard Class\",\"Second Class\",\"Second Class\",\"Second Class\",\"Standard Class\",\"Standard Class\",\"Standard Class\",\"Standard Class\",\"Standard Class\",\"Standard Class\",\"Standard Class\",\"Standard Class\",\"Standard Class\",\"Second Class\",\"Second Class\",\"Second Class\",\"Standard Class\",\"Standard Class\",\"Second Class\",\"First Class\",\"First Class\",\"Standard Class\",\"Standard Class\",\"Standard Class\",\"Standard Class\",\"Standard Class\",\"Standard Class\",\"Standard Class\",\"Standard Class\",\"Same Day\",\"Same Day\",\"Same Day\",\"Same Day\",\"Standard Class\",\"First Class\",\"First Class\",\"First Class\",\"First Class\",\"First Class\",\"First Class\",\"Standard Class\",\"Standard Class\",\"Standard Class\",\"Standard Class\",\"Standard Class\",\"Standard Class\",\"First Class\",\"First Class\",\"Standard Class\",\"Standard Class\",\"Standard Class\",\"Standard Class\",\"Standard Class\",\"Standard Class\",\"Second Class\",\"First Class\",\"Second Class\",\"Second Class\",\"Second Class\",\"Standard Class\",\"Standard Class\",\"Second Class\",\"First Class\",\"First Class\",\"First Class\",\"First Class\",\"First Class\",\"Standard Class\",\"Standard Class\",\"Standard Class\",\"Standard Class\",\"Standard Class\",\"Standard Class\",\"Standard Class\",\"Standard Class\",\"Standard Class\",\"Standard Class\",\"Standard Class\",\"Standard Class\",\"First Class\",\"Standard Class\",\"First Class\",\"Standard Class\",\"First Class\",\"Second Class\",\"Standard Class\",\"Standard Class\",\"Standard Class\",\"Standard Class\",\"Standard Class\",\"Standard Class\",\"Standard Class\",\"Standard Class\",\"Second Class\",\"Second Class\",\"Second Class\",\"First Class\",\"First Class\",\"First Class\",\"Standard Class\",\"Standard Class\",\"Standard Class\",\"Standard Class\",\"Standard Class\",\"Standard Class\",\"Standard Class\",\"Second Class\",\"First Class\",\"Standard Class\",\"Standard Class\",\"Standard Class\",\"Same Day\",\"Same Day\",\"First Class\",\"First Class\",\"Second Class\",\"Standard Class\",\"Standard Class\",\"Standard Class\",\"First Class\",\"First Class\",\"First Class\",\"First Class\",\"First Class\",\"First Class\",\"Standard Class\",\"Standard Class\",\"Standard Class\",\"Second Class\",\"Second Class\",\"Standard Class\",\"Second Class\",\"Second Class\",\"Second Class\",\"Second Class\",\"Second Class\",\"Second Class\",\"Standard Class\",\"Same Day\",\"Same Day\",\"Same Day\",\"Same Day\",\"Same Day\",\"Same Day\",\"Same Day\",\"Same Day\",\"Same Day\",\"Same Day\",\"Same Day\",\"First Class\",\"Standard Class\",\"Standard Class\",\"First Class\",\"First Class\",\"First Class\",\"First Class\",\"Standard Class\",\"Standard Class\",\"Standard Class\",\"Standard Class\",\"First Class\",\"First Class\",\"First Class\",\"Standard Class\",\"Standard Class\",\"Standard Class\",\"Standard Class\",\"Standard Class\",\"Standard Class\",\"Standard Class\",\"Second Class\",\"Second Class\",\"First Class\",\"First Class\",\"First Class\",\"Standard Class\",\"Standard Class\",\"Standard Class\",\"Standard Class\",\"Standard Class\",\"Standard Class\",\"Standard Class\",\"Second Class\",\"Second Class\",\"Second Class\",\"Second Class\",\"Standard Class\",\"Second Class\",\"Second Class\",\"Second Class\",\"Standard Class\",\"Standard Class\",\"Standard Class\",\"Same Day\",\"Same Day\",\"Second Class\",\"Second Class\",\"Second Class\",\"First Class\",\"Standard Class\",\"Standard Class\",\"First Class\",\"First Class\",\"First Class\",\"First Class\",\"Standard Class\",\"First Class\",\"First Class\",\"First Class\",\"First Class\",\"First Class\",\"Standard Class\",\"Standard Class\",\"Standard Class\",\"Standard Class\",\"Same Day\",\"Standard Class\",\"Standard Class\",\"First Class\",\"First Class\",\"First Class\",\"Standard Class\",\"Standard Class\",\"Same Day\",\"Standard Class\",\"Standard Class\",\"Standard Class\",\"Second Class\",\"Standard Class\",\"Same Day\",\"Standard Class\",\"Standard Class\",\"Standard Class\",\"Standard Class\",\"First Class\",\"Standard Class\",\"Standard Class\",\"Standard Class\",\"Second Class\",\"Second Class\",\"Standard Class\",\"Standard Class\",\"Standard Class\",\"Standard Class\",\"Standard Class\",\"Standard Class\",\"Second Class\",\"Standard Class\",\"Standard Class\",\"Standard Class\",\"Second Class\",\"Standard Class\",\"Standard Class\",\"Standard Class\",\"First Class\",\"Standard Class\",\"Standard Class\",\"Standard Class\",\"Standard Class\",\"Standard Class\",\"Standard Class\",\"Standard Class\",\"Standard Class\",\"Standard Class\",\"Same Day\",\"First Class\",\"Standard Class\",\"Standard Class\",\"Standard Class\",\"Standard Class\",\"Standard Class\",\"Standard Class\",\"Second Class\",\"Second Class\",\"Second Class\",\"Second Class\",\"Standard Class\",\"Standard Class\",\"Standard Class\",\"Standard Class\",\"Standard Class\",\"Standard Class\",\"Standard Class\",\"Standard Class\",\"Second Class\",\"Second Class\",\"Standard Class\",\"Standard Class\",\"Standard Class\",\"Standard Class\",\"Standard Class\",\"Standard Class\",\"Standard Class\",\"Second Class\",\"Second Class\",\"Second Class\",\"Second Class\",\"Second Class\",\"Second Class\",\"Standard Class\",\"Standard Class\",\"Second Class\",\"Standard Class\",\"Standard Class\",\"Standard Class\",\"First Class\",\"Second Class\",\"Standard Class\",\"First Class\",\"Standard Class\",\"Standard Class\",\"Standard Class\",\"Standard Class\",\"Standard Class\",\"Second Class\",\"Standard Class\",\"Standard Class\",\"First Class\",\"Same Day\",\"Same Day\",\"Same Day\",\"Standard Class\",\"First Class\",\"First Class\",\"Same Day\",\"Standard Class\",\"First Class\",\"First Class\",\"First Class\",\"First Class\",\"First Class\",\"First Class\",\"Standard Class\",\"Standard Class\",\"First Class\",\"First Class\",\"First Class\",\"First Class\",\"First Class\",\"First Class\",\"First Class\",\"First Class\",\"First Class\",\"First Class\",\"First Class\",\"Standard Class\",\"Standard Class\",\"Standard Class\",\"Second Class\",\"Same Day\",\"First Class\",\"Standard Class\",\"First Class\",\"Second Class\",\"Second Class\",\"Second Class\",\"Second Class\",\"Second Class\",\"Standard Class\",\"Standard Class\",\"Second Class\",\"Second Class\",\"Second Class\",\"Second Class\",\"Second Class\",\"Second Class\",\"Standard Class\",\"Standard Class\",\"Standard Class\",\"Standard Class\",\"Standard Class\",\"Standard Class\",\"Standard Class\",\"Standard Class\",\"Second Class\",\"Second Class\",\"Standard Class\",\"Standard Class\",\"Standard Class\",\"Standard Class\",\"Standard Class\",\"Standard Class\",\"Standard Class\",\"Standard Class\",\"Second Class\",\"Second Class\",\"Same Day\",\"Same Day\",\"Same Day\",\"Same Day\",\"Same Day\",\"Standard Class\",\"Standard Class\",\"Standard Class\",\"Standard Class\",\"Standard Class\",\"Standard Class\",\"Standard Class\",\"Standard Class\",\"First Class\",\"First Class\",\"First Class\",\"First Class\",\"First Class\",\"Second Class\",\"Second Class\",\"Same Day\",\"Same Day\",\"First Class\",\"First Class\",\"First Class\",\"First Class\",\"First Class\",\"First Class\",\"Standard Class\",\"Standard Class\",\"Standard Class\",\"Standard Class\",\"Standard Class\",\"Second Class\",\"Second Class\",\"Second Class\",\"Second Class\",\"Second Class\",\"Second Class\",\"Standard Class\",\"Standard Class\",\"First Class\",\"Standard Class\",\"First Class\",\"Standard Class\",\"Standard Class\",\"Standard Class\",\"Standard Class\",\"Standard Class\",\"Standard Class\",\"Standard Class\",\"Standard Class\",\"Second Class\",\"Standard Class\",\"First Class\",\"First Class\",\"First Class\",\"First Class\",\"First Class\",\"Standard Class\",\"Standard Class\",\"Standard Class\",\"Standard Class\",\"Second Class\",\"Second Class\",\"Second Class\",\"Second Class\",\"Standard Class\",\"Standard Class\",\"Second Class\",\"Second Class\",\"Second Class\",\"Second Class\",\"Standard Class\",\"Same Day\",\"Standard Class\",\"Standard Class\",\"Standard Class\",\"Standard Class\",\"Standard Class\",\"Standard Class\",\"Standard Class\",\"Standard Class\",\"Second Class\",\"Standard Class\",\"Standard Class\",\"Standard Class\",\"Standard Class\",\"Standard Class\",\"Standard Class\",\"Standard Class\",\"Standard Class\",\"Standard Class\",\"Standard Class\",\"First Class\",\"First Class\",\"First Class\",\"Second Class\",\"Same Day\",\"Same Day\",\"Standard Class\",\"Standard Class\",\"Standard Class\",\"Standard Class\",\"Second Class\",\"Second Class\",\"Second Class\",\"Standard Class\",\"Standard Class\",\"Standard Class\",\"Standard Class\",\"Standard Class\",\"Standard Class\",\"Standard Class\",\"Standard Class\",\"First Class\",\"Second Class\",\"Second Class\",\"Standard Class\",\"Standard Class\",\"Standard Class\",\"First Class\",\"First Class\",\"First Class\",\"First Class\",\"Second Class\",\"Second Class\",\"First Class\",\"Standard Class\",\"Standard Class\",\"Standard Class\",\"Standard Class\",\"Standard Class\",\"Standard Class\",\"Standard Class\",\"Standard Class\",\"Standard Class\",\"Standard Class\",\"Standard Class\",\"Standard Class\",\"Standard Class\",\"Second Class\",\"Second Class\",\"Standard Class\",\"Standard Class\",\"Standard Class\",\"Standard Class\",\"Standard Class\",\"Standard Class\",\"Standard Class\",\"Standard Class\",\"Standard Class\",\"Standard Class\",\"Standard Class\",\"Standard Class\",\"Standard Class\",\"Standard Class\",\"Standard Class\",\"Standard Class\",\"Standard Class\",\"Standard Class\",\"First Class\",\"First Class\",\"Standard Class\",\"Standard Class\",\"First Class\",\"First Class\",\"First Class\",\"Standard Class\",\"Second Class\",\"Second Class\",\"Standard Class\",\"Second Class\",\"Second Class\",\"Second Class\",\"First Class\",\"First Class\",\"First Class\",\"First Class\",\"Standard Class\",\"Standard Class\",\"Second Class\",\"Standard Class\",\"Standard Class\",\"Standard Class\",\"Same Day\",\"Same Day\",\"Second Class\",\"Standard Class\",\"Standard Class\",\"Standard Class\",\"Standard Class\",\"Standard Class\",\"Standard Class\",\"Standard Class\",\"Standard Class\",\"Standard Class\",\"Second Class\",\"Second Class\",\"Standard Class\",\"Same Day\",\"Same Day\",\"Standard Class\",\"Standard Class\",\"Standard Class\",\"First Class\",\"Second Class\",\"Standard Class\",\"Standard Class\",\"Standard Class\",\"Standard Class\",\"Standard Class\",\"Second Class\",\"Second Class\",\"Standard Class\",\"Second Class\",\"Second Class\",\"Same Day\",\"Same Day\",\"Second Class\",\"Second Class\",\"Second Class\",\"Second Class\",\"Second Class\",\"Second Class\",\"Standard Class\",\"Second Class\",\"Second Class\",\"First Class\",\"First Class\",\"First Class\",\"First Class\",\"Same Day\",\"Standard Class\",\"Standard Class\",\"Same Day\",\"First Class\",\"Standard Class\",\"Standard Class\",\"Second Class\",\"Standard Class\",\"Standard Class\",\"Standard Class\",\"Standard Class\",\"Standard Class\",\"Standard Class\",\"Standard Class\",\"Standard Class\",\"Standard Class\",\"Standard Class\",\"Same Day\",\"Same Day\",\"Same Day\",\"Standard Class\",\"Second Class\",\"Second Class\",\"First Class\",\"First Class\",\"First Class\",\"First Class\",\"Standard Class\",\"Standard Class\",\"Second Class\",\"Standard Class\",\"First Class\",\"Standard Class\",\"First Class\",\"Second Class\",\"Second Class\",\"Second Class\",\"Second Class\",\"First Class\",\"First Class\",\"First Class\",\"First Class\",\"First Class\",\"Standard Class\",\"Standard Class\",\"First Class\",\"Standard Class\",\"Standard Class\",\"Second Class\",\"Second Class\",\"First Class\",\"Standard Class\",\"Standard Class\",\"Standard Class\",\"Standard Class\",\"Second Class\",\"First Class\",\"First Class\",\"Standard Class\",\"Second Class\",\"Second Class\",\"Second Class\",\"Standard Class\",\"Standard Class\",\"First Class\",\"Second Class\",\"Second Class\",\"Second Class\",\"Second Class\",\"Second Class\",\"Second Class\",\"Standard Class\",\"Standard Class\",\"Second Class\",\"Standard Class\",\"Standard Class\",\"Standard Class\",\"Standard Class\",\"First Class\",\"First Class\",\"First Class\",\"Standard Class\",\"Standard Class\",\"Standard Class\",\"Standard Class\",\"Standard Class\",\"Standard Class\",\"Standard Class\",\"Standard Class\",\"Standard Class\",\"Standard Class\",\"Standard Class\",\"Standard Class\",\"Standard Class\",\"Standard Class\",\"Second Class\",\"Second Class\",\"Second Class\",\"Second Class\",\"Second Class\",\"Second Class\",\"Second Class\",\"Second Class\",\"Standard Class\",\"Standard Class\",\"Standard Class\",\"Standard Class\",\"Standard Class\",\"Standard Class\",\"Standard Class\",\"Standard Class\",\"Standard Class\",\"Second Class\",\"Second Class\",\"Second Class\",\"Standard Class\",\"Same Day\",\"Same Day\",\"Second Class\",\"Standard Class\",\"Second Class\",\"Second Class\",\"Second Class\",\"First Class\",\"Standard Class\",\"Standard Class\",\"Standard Class\",\"Standard Class\",\"Standard Class\",\"Standard Class\",\"Standard Class\",\"Standard Class\",\"Second Class\",\"Second Class\",\"First Class\",\"First Class\",\"First Class\",\"Standard Class\",\"Standard Class\",\"Second Class\",\"Second Class\",\"Standard Class\",\"Standard Class\",\"Standard Class\",\"First Class\",\"Standard Class\",\"Standard Class\",\"Standard Class\",\"Same Day\",\"Same Day\",\"Standard Class\",\"Standard Class\",\"Standard Class\",\"Standard Class\",\"Standard Class\",\"Standard Class\",\"Standard Class\",\"First Class\",\"First Class\",\"First Class\",\"First Class\",\"Second Class\",\"First Class\",\"Second Class\",\"Second Class\",\"Standard Class\",\"Standard Class\",\"Standard Class\",\"Standard Class\",\"Standard Class\",\"Standard Class\",\"Standard Class\",\"Standard Class\",\"Standard Class\",\"Standard Class\",\"Standard Class\",\"Standard Class\",\"Standard Class\",\"Standard Class\",\"Standard Class\",\"Standard Class\",\"Standard Class\",\"Standard Class\",\"Standard Class\",\"Standard Class\",\"First Class\",\"First Class\",\"First Class\",\"First Class\",\"First Class\",\"First Class\",\"Standard Class\",\"First Class\",\"First Class\",\"First Class\",\"First Class\",\"Standard Class\",\"Standard Class\",\"Standard Class\",\"Standard Class\",\"Standard Class\",\"Standard Class\",\"Standard Class\",\"Standard Class\",\"Standard Class\",\"Standard Class\",\"Standard Class\",\"Second Class\",\"Standard Class\",\"Standard Class\",\"Second Class\",\"Second Class\",\"Standard Class\",\"First Class\",\"First Class\",\"First Class\",\"Standard Class\",\"Standard Class\",\"Standard Class\",\"Standard Class\",\"Standard Class\",\"Standard Class\",\"Standard Class\",\"Standard Class\",\"Standard Class\",\"Standard Class\",\"Standard Class\",\"Standard Class\",\"Standard Class\",\"Standard Class\",\"Second Class\",\"Standard Class\",\"Standard Class\",\"Standard Class\",\"Standard Class\",\"Standard Class\",\"Standard Class\",\"Standard Class\",\"Standard Class\",\"Same Day\",\"Second Class\",\"Second Class\",\"Standard Class\",\"Same Day\",\"Same Day\",\"Same Day\",\"Same Day\",\"Same Day\",\"Same Day\",\"Same Day\",\"Same Day\",\"Same Day\",\"Same Day\",\"Second Class\",\"Standard Class\",\"First Class\",\"First Class\",\"Standard Class\",\"First Class\",\"Second Class\",\"Second Class\",\"Standard Class\",\"Standard Class\",\"Standard Class\",\"Standard Class\",\"Standard Class\",\"Second Class\",\"Second Class\",\"Second Class\",\"Standard Class\",\"Standard Class\",\"Standard Class\",\"Standard Class\",\"Standard Class\",\"Standard Class\",\"Same Day\",\"Standard Class\",\"Standard Class\",\"Standard Class\",\"Standard Class\",\"Standard Class\",\"Standard Class\",\"Standard Class\",\"Standard Class\",\"Standard Class\",\"Standard Class\",\"Standard Class\",\"Standard Class\",\"Second Class\",\"Standard Class\",\"Standard Class\",\"Standard Class\",\"Second Class\",\"First Class\",\"First Class\",\"Standard Class\",\"Standard Class\",\"Same Day\",\"Standard Class\",\"Standard Class\",\"Standard Class\",\"Standard Class\",\"Standard Class\",\"Standard Class\",\"Standard Class\",\"Second Class\",\"Second Class\",\"Second Class\",\"Standard Class\",\"First Class\",\"Standard Class\",\"Second Class\",\"Standard Class\",\"Standard Class\",\"Standard Class\",\"Standard Class\",\"Standard Class\",\"Standard Class\",\"Standard Class\",\"Standard Class\",\"Standard Class\",\"Standard Class\",\"Second Class\",\"Same Day\",\"Standard Class\",\"Standard Class\",\"Standard Class\",\"Standard Class\",\"Standard Class\",\"Standard Class\",\"Standard Class\",\"Standard Class\",\"Standard Class\",\"Standard Class\",\"Standard Class\",\"Standard Class\",\"Standard Class\",\"Standard Class\",\"Standard Class\",\"Standard Class\",\"Standard Class\",\"Standard Class\",\"Second Class\",\"Standard Class\",\"Standard Class\",\"Standard Class\",\"Second Class\",\"Second Class\",\"First Class\",\"Standard Class\",\"First Class\",\"First Class\",\"First Class\",\"First Class\",\"Standard Class\",\"Standard Class\",\"Standard Class\",\"Standard Class\",\"Same Day\",\"Same Day\",\"Same Day\",\"Standard Class\",\"Second Class\",\"Standard Class\",\"Standard Class\",\"Standard Class\",\"Standard Class\",\"Standard Class\",\"Standard Class\",\"Standard Class\",\"Second Class\",\"Standard Class\",\"Second Class\",\"Second Class\",\"Standard Class\",\"Standard Class\",\"Second Class\",\"Second Class\",\"Standard Class\",\"Standard Class\",\"Standard Class\",\"Standard Class\",\"Standard Class\",\"Standard Class\",\"Second Class\",\"Second Class\",\"Second Class\",\"Second Class\",\"Second Class\",\"Second Class\",\"First Class\",\"First Class\",\"Standard Class\",\"Standard Class\",\"First Class\",\"First Class\",\"Second Class\",\"Second Class\",\"Same Day\",\"First Class\",\"Second Class\",\"Second Class\",\"Second Class\",\"Same Day\",\"Same Day\",\"Standard Class\",\"Standard Class\",\"Standard Class\",\"Standard Class\",\"Standard Class\",\"Standard Class\",\"Second Class\",\"Second Class\",\"Standard Class\",\"Standard Class\",\"Standard Class\",\"First Class\",\"First Class\",\"First Class\",\"First Class\",\"Standard Class\",\"Standard Class\",\"First Class\",\"Standard Class\",\"Second Class\",\"First Class\",\"First Class\",\"Standard Class\",\"Standard Class\",\"Standard Class\",\"Standard Class\",\"Standard Class\",\"Standard Class\",\"Standard Class\",\"Standard Class\",\"Standard Class\",\"Standard Class\",\"Standard Class\",\"Standard Class\",\"Standard Class\",\"Second Class\",\"Second Class\",\"First Class\",\"First Class\",\"Standard Class\",\"First Class\",\"First Class\",\"First Class\",\"First Class\",\"First Class\",\"Standard Class\",\"Standard Class\",\"Standard Class\",\"Standard Class\",\"Standard Class\",\"Standard Class\",\"First Class\",\"Standard Class\",\"Second Class\",\"Second Class\",\"Second Class\",\"Second Class\",\"Second Class\",\"Second Class\",\"Second Class\",\"First Class\",\"Standard Class\",\"Second Class\",\"Second Class\",\"Standard Class\",\"Standard Class\",\"Standard Class\",\"Same Day\",\"Same Day\",\"Same Day\",\"Same Day\",\"Standard Class\",\"Standard Class\",\"First Class\",\"First Class\",\"Second Class\",\"Standard Class\",\"Standard Class\",\"Standard Class\",\"Standard Class\",\"Same Day\",\"Same Day\",\"Same Day\",\"Same Day\",\"Same Day\",\"First Class\",\"First Class\",\"First Class\",\"First Class\",\"Standard Class\",\"Standard Class\",\"Standard Class\",\"Standard Class\",\"Standard Class\",\"Standard Class\",\"Standard Class\",\"Standard Class\",\"Standard Class\",\"Second Class\",\"First Class\",\"Standard Class\",\"Standard Class\",\"Second Class\",\"Second Class\",\"Second Class\",\"Second Class\",\"Second Class\",\"Standard Class\",\"Second Class\",\"Second Class\",\"Standard Class\",\"Standard Class\",\"Standard Class\",\"Standard Class\",\"First Class\",\"First Class\",\"First Class\",\"First Class\",\"First Class\",\"First Class\",\"First Class\",\"Standard Class\",\"Standard Class\",\"Standard Class\",\"Standard Class\",\"Standard Class\",\"Standard Class\",\"Standard Class\",\"Standard Class\",\"Second Class\",\"Second Class\",\"Standard Class\",\"Standard Class\",\"Second Class\",\"Second Class\",\"Standard Class\",\"Standard Class\",\"Standard Class\",\"Standard Class\",\"Standard Class\",\"Standard Class\",\"First Class\",\"Standard Class\",\"Second Class\",\"Standard Class\",\"Standard Class\",\"Standard Class\",\"Standard Class\",\"Standard Class\",\"Standard Class\",\"Standard Class\",\"Standard Class\",\"Standard Class\",\"Standard Class\",\"Standard Class\",\"Standard Class\",\"Standard Class\",\"Standard Class\",\"Standard Class\",\"Standard Class\",\"Standard Class\",\"Standard Class\",\"Standard Class\",\"Standard Class\",\"Standard Class\",\"Standard Class\",\"First Class\",\"First Class\",\"Standard Class\",\"Second Class\",\"Second Class\",\"Standard Class\",\"Standard Class\",\"Standard Class\",\"Standard Class\",\"Standard Class\",\"Standard Class\",\"Standard Class\",\"Standard Class\",\"Standard Class\",\"Second Class\",\"Standard Class\",\"Second Class\",\"Second Class\",\"Second Class\",\"Second Class\",\"Second Class\",\"Second Class\",\"Second Class\",\"Second Class\",\"Second Class\",\"Standard Class\",\"Second Class\",\"Second Class\",\"Standard Class\",\"Standard Class\",\"Standard Class\",\"Standard Class\",\"Standard Class\",\"Standard Class\",\"Standard Class\",\"Standard Class\",\"Standard Class\",\"Standard Class\",\"Standard Class\",\"First Class\",\"First Class\",\"First Class\",\"First Class\",\"Second Class\",\"Standard Class\",\"Standard Class\",\"Standard Class\",\"Standard Class\",\"Standard Class\",\"Standard Class\",\"Standard Class\",\"Standard Class\",\"Second Class\",\"Second Class\",\"Second Class\",\"Second Class\",\"Second Class\",\"Second Class\",\"Standard Class\",\"Second Class\",\"Second Class\",\"Standard Class\",\"Standard Class\",\"Standard Class\",\"Standard Class\",\"First Class\",\"First Class\",\"First Class\",\"First Class\",\"Standard Class\",\"Second Class\",\"Second Class\",\"Second Class\",\"Same Day\",\"Standard Class\",\"Standard Class\",\"Standard Class\",\"First Class\",\"Standard Class\",\"Standard Class\",\"Standard Class\",\"Standard Class\",\"Standard Class\",\"Standard Class\",\"Standard Class\",\"Standard Class\",\"Standard Class\",\"Standard Class\",\"Standard Class\",\"Standard Class\",\"Standard Class\",\"Standard Class\",\"Standard Class\",\"Standard Class\",\"Standard Class\",\"Standard Class\",\"Standard Class\",\"Standard Class\",\"Standard Class\",\"Standard Class\",\"Second Class\",\"First Class\",\"Second Class\",\"Second Class\",\"Second Class\",\"Same Day\",\"Same Day\",\"Standard Class\",\"Second Class\",\"Standard Class\",\"Standard Class\",\"Standard Class\",\"Standard Class\",\"Standard Class\",\"Standard Class\",\"Standard Class\",\"Standard Class\",\"Standard Class\",\"Standard Class\",\"Standard Class\",\"Standard Class\",\"Standard Class\",\"Standard Class\",\"Standard Class\",\"Standard Class\",\"Standard Class\",\"Standard Class\",\"Standard Class\",\"Standard Class\",\"Second Class\",\"Second Class\",\"First Class\",\"Second Class\",\"Second Class\",\"Standard Class\",\"Same Day\",\"Same Day\",\"Standard Class\",\"Second Class\",\"Standard Class\",\"Standard Class\",\"Standard Class\",\"Standard Class\",\"Standard Class\",\"Standard Class\",\"Standard Class\",\"Standard Class\",\"Standard Class\",\"Standard Class\",\"Standard Class\",\"Standard Class\",\"Standard Class\",\"Standard Class\",\"Standard Class\",\"Standard Class\",\"Standard Class\",\"Standard Class\",\"Standard Class\",\"Second Class\",\"Second Class\",\"Standard Class\",\"Standard Class\",\"Standard Class\",\"Standard Class\",\"Standard Class\",\"Standard Class\",\"Standard Class\",\"Same Day\",\"Same Day\",\"Same Day\",\"Same Day\",\"Standard Class\",\"Standard Class\",\"Standard Class\",\"Standard Class\",\"Standard Class\",\"Standard Class\",\"Standard Class\",\"Standard Class\",\"Standard Class\",\"Standard Class\",\"Standard Class\",\"Standard Class\",\"Standard Class\",\"Standard Class\",\"Standard Class\",\"Standard Class\",\"Standard Class\",\"Second Class\",\"First Class\",\"First Class\",\"First Class\",\"First Class\",\"First Class\",\"First Class\",\"First Class\",\"Standard Class\",\"Standard Class\",\"Standard Class\",\"Standard Class\",\"Second Class\",\"Second Class\",\"Standard Class\",\"Standard Class\",\"Standard Class\",\"Standard Class\",\"Standard Class\",\"Standard Class\",\"First Class\",\"Second Class\",\"Second Class\",\"Second Class\",\"Second Class\",\"Second Class\",\"Second Class\",\"Second Class\",\"Standard Class\",\"Second Class\",\"Second Class\",\"Second Class\",\"Second Class\",\"Second Class\",\"Second Class\",\"Second Class\",\"Standard Class\",\"Standard Class\",\"Standard Class\",\"Standard Class\",\"First Class\",\"First Class\",\"First Class\",\"First Class\",\"Same Day\",\"Same Day\",\"Standard Class\",\"Standard Class\",\"Second Class\",\"Second Class\",\"Second Class\",\"Second Class\",\"Same Day\",\"Standard Class\",\"Standard Class\",\"Same Day\",\"Same Day\",\"Standard Class\",\"Standard Class\",\"Standard Class\",\"Standard Class\",\"Standard Class\",\"Standard Class\",\"Standard Class\",\"Standard Class\",\"First Class\",\"First Class\",\"First Class\",\"Standard Class\",\"Standard Class\",\"Standard Class\",\"Standard Class\",\"Standard Class\",\"First Class\",\"Standard Class\",\"Standard Class\",\"Standard Class\",\"Standard Class\",\"Standard Class\",\"Standard Class\",\"Standard Class\",\"Standard Class\",\"Second Class\",\"Standard Class\",\"Standard Class\",\"Standard Class\",\"Standard Class\",\"Standard Class\",\"Standard Class\",\"First Class\",\"Second Class\",\"Standard Class\",\"Standard Class\",\"Standard Class\",\"Standard Class\",\"Standard Class\",\"Standard Class\",\"Second Class\",\"Second Class\",\"Second Class\",\"Second Class\",\"Standard Class\",\"Standard Class\",\"Standard Class\",\"Standard Class\",\"First Class\",\"First Class\",\"Standard Class\",\"Standard Class\",\"Standard Class\",\"Standard Class\",\"Standard Class\",\"Second Class\",\"Standard Class\",\"Standard Class\",\"Standard Class\",\"Standard Class\",\"First Class\",\"First Class\",\"Second Class\",\"Standard Class\",\"Second Class\",\"Second Class\",\"Second Class\",\"Standard Class\",\"Standard Class\",\"Standard Class\",\"Standard Class\",\"Second Class\",\"Standard Class\",\"Standard Class\",\"Standard Class\",\"Standard Class\",\"Standard Class\",\"Standard Class\",\"Second Class\",\"Standard Class\",\"Standard Class\",\"First Class\",\"First Class\",\"First Class\",\"Standard Class\",\"Standard Class\",\"Standard Class\",\"First Class\",\"First Class\",\"Standard Class\",\"Standard Class\",\"Standard Class\",\"Standard Class\",\"First Class\",\"Standard Class\",\"Standard Class\",\"Standard Class\",\"Standard Class\",\"Second Class\",\"Standard Class\",\"Standard Class\",\"First Class\",\"Standard Class\",\"Standard Class\",\"Standard Class\",\"Standard Class\",\"First Class\",\"First Class\",\"Standard Class\",\"Standard Class\",\"Standard Class\",\"First Class\",\"First Class\",\"First Class\",\"Standard Class\",\"Standard Class\",\"Standard Class\",\"Standard Class\",\"Standard Class\",\"Standard Class\",\"Standard Class\",\"First Class\",\"First Class\",\"Standard Class\",\"Standard Class\",\"Standard Class\",\"Standard Class\",\"Second Class\",\"Second Class\",\"Second Class\",\"Second Class\",\"Second Class\",\"Second Class\",\"Second Class\",\"Second Class\",\"Second Class\",\"Standard Class\",\"Standard Class\",\"Standard Class\",\"Standard Class\",\"First Class\",\"First Class\",\"Standard Class\",\"First Class\",\"First Class\",\"Standard Class\",\"Standard Class\",\"Standard Class\",\"Standard Class\",\"First Class\",\"First Class\",\"First Class\",\"Standard Class\",\"Standard Class\",\"Second Class\",\"Second Class\",\"Standard Class\",\"Standard Class\",\"Standard Class\",\"First Class\",\"Second Class\",\"Standard Class\",\"Second Class\",\"Standard Class\",\"Standard Class\",\"Standard Class\",\"First Class\",\"Standard Class\",\"Standard Class\",\"Standard Class\",\"Standard Class\",\"First Class\",\"Standard Class\",\"Second Class\",\"Second Class\",\"Same Day\",\"Standard Class\",\"First Class\",\"Second Class\",\"Standard Class\",\"Standard Class\",\"Standard Class\",\"Standard Class\",\"Standard Class\",\"Same Day\",\"Same Day\",\"Same Day\",\"Same Day\",\"Second Class\",\"Second Class\",\"Standard Class\",\"Standard Class\",\"Standard Class\",\"Standard Class\",\"Standard Class\",\"First Class\",\"Second Class\",\"Second Class\",\"Standard Class\",\"Standard Class\",\"Standard Class\",\"Second Class\",\"Second Class\",\"Standard Class\",\"Second Class\",\"Standard Class\",\"Standard Class\",\"First Class\",\"First Class\",\"First Class\",\"Standard Class\",\"Second Class\",\"Second Class\",\"Standard Class\",\"Standard Class\",\"Standard Class\",\"Standard Class\",\"Standard Class\",\"Standard Class\",\"Standard Class\",\"Standard Class\",\"Standard Class\",\"Standard Class\",\"Standard Class\",\"Standard Class\",\"Standard Class\",\"Standard Class\",\"Standard Class\",\"Standard Class\",\"Standard Class\",\"Standard Class\",\"Standard Class\",\"Standard Class\",\"Standard Class\",\"Standard Class\",\"Second Class\",\"Second Class\",\"Second Class\",\"First Class\",\"Same Day\",\"Same Day\",\"Same Day\",\"Same Day\",\"Second Class\",\"Standard Class\",\"First Class\",\"First Class\",\"Second Class\",\"Standard Class\",\"Standard Class\",\"Standard Class\",\"Same Day\",\"Same Day\",\"Same Day\",\"Standard Class\",\"Standard Class\",\"Standard Class\",\"Standard Class\",\"Standard Class\",\"Standard Class\",\"Standard Class\",\"Standard Class\",\"Standard Class\",\"Standard Class\",\"Standard Class\",\"Standard Class\",\"First Class\",\"Standard Class\",\"Standard Class\",\"Standard Class\",\"Same Day\",\"Same Day\",\"Same Day\",\"Same Day\",\"Same Day\",\"Same Day\",\"Standard Class\",\"Standard Class\",\"Standard Class\",\"Standard Class\",\"Standard Class\",\"Standard Class\",\"Standard Class\",\"Second Class\",\"Second Class\",\"Second Class\",\"Second Class\",\"Standard Class\",\"Standard Class\",\"Second Class\",\"Second Class\",\"Second Class\",\"Second Class\",\"Second Class\",\"Standard Class\",\"Standard Class\",\"Standard Class\",\"Same Day\",\"Second Class\",\"Second Class\",\"Standard Class\",\"Standard Class\",\"Standard Class\",\"Standard Class\",\"Second Class\",\"Second Class\",\"Standard Class\",\"Standard Class\",\"Standard Class\",\"Second Class\",\"Second Class\",\"Second Class\",\"Second Class\",\"Standard Class\",\"Standard Class\",\"Second Class\",\"Standard Class\",\"Standard Class\",\"Standard Class\",\"Standard Class\",\"Standard Class\",\"Standard Class\",\"Standard Class\",\"Standard Class\",\"Standard Class\",\"First Class\",\"Standard Class\",\"First Class\",\"Standard Class\",\"First Class\",\"Standard Class\",\"Standard Class\",\"Standard Class\",\"Standard Class\",\"Standard Class\",\"Standard Class\",\"Standard Class\",\"Standard Class\",\"Standard Class\",\"Standard Class\",\"Standard Class\",\"Standard Class\",\"Standard Class\",\"Standard Class\",\"Standard Class\",\"Standard Class\",\"Standard Class\",\"Standard Class\",\"Same Day\",\"Standard Class\",\"Standard Class\",\"Standard Class\",\"Standard Class\",\"Standard Class\",\"Standard Class\",\"Standard Class\",\"Standard Class\",\"Standard Class\",\"Standard Class\",\"Standard Class\",\"Standard Class\",\"Standard Class\",\"Same Day\",\"Same Day\",\"Same Day\",\"Second Class\",\"Second Class\",\"Second Class\",\"Standard Class\",\"First Class\",\"First Class\",\"Standard Class\",\"Standard Class\",\"Standard Class\",\"Second Class\",\"Second Class\",\"Standard Class\",\"Second Class\",\"Second Class\",\"Second Class\",\"Second Class\",\"Standard Class\",\"Standard Class\",\"First Class\",\"First Class\",\"Second Class\",\"Second Class\",\"Second Class\",\"Second Class\",\"Second Class\",\"Same Day\",\"Standard Class\",\"Standard Class\",\"Standard Class\",\"First Class\",\"Standard Class\",\"Standard Class\",\"Standard Class\",\"Standard Class\",\"Standard Class\",\"First Class\",\"First Class\",\"Standard Class\",\"Standard Class\",\"Standard Class\",\"Standard Class\",\"Standard Class\",\"Standard Class\",\"Standard Class\",\"Second Class\",\"Second Class\",\"Standard Class\",\"Standard Class\",\"Standard Class\",\"Same Day\",\"Same Day\",\"Same Day\",\"Same Day\",\"Standard Class\",\"Standard Class\",\"Standard Class\",\"Standard Class\",\"Second Class\",\"Second Class\",\"Standard Class\",\"Standard Class\",\"Standard Class\",\"Standard Class\",\"Standard Class\",\"Standard Class\",\"Standard Class\",\"Standard Class\",\"Standard Class\",\"Standard Class\",\"Standard Class\",\"Standard Class\",\"Standard Class\",\"Standard Class\",\"Standard Class\",\"First Class\",\"First Class\",\"First Class\",\"First Class\",\"First Class\",\"First Class\",\"First Class\",\"First Class\",\"Standard Class\",\"Standard Class\",\"First Class\",\"First Class\",\"First Class\",\"First Class\",\"First Class\",\"First Class\",\"Standard Class\",\"Standard Class\",\"Standard Class\",\"Standard Class\",\"Standard Class\",\"Standard Class\",\"First Class\",\"Same Day\",\"Second Class\",\"Second Class\",\"Standard Class\",\"Second Class\",\"Second Class\",\"Second Class\",\"First Class\",\"Standard Class\",\"First Class\",\"First Class\",\"First Class\",\"First Class\",\"Standard Class\",\"Second Class\",\"Standard Class\",\"Standard Class\",\"First Class\",\"First Class\",\"Second Class\",\"Standard Class\",\"Standard Class\",\"Standard Class\",\"Standard Class\",\"Standard Class\",\"Standard Class\",\"First Class\",\"Standard Class\",\"Standard Class\",\"Second Class\",\"Standard Class\",\"Standard Class\",\"Standard Class\",\"Standard Class\",\"Standard Class\",\"Standard Class\",\"Same Day\",\"Standard Class\",\"Standard Class\",\"Standard Class\",\"Second Class\",\"Second Class\",\"Second Class\",\"Second Class\",\"First Class\",\"First Class\",\"Standard Class\",\"Second Class\",\"Second Class\",\"Standard Class\",\"Standard Class\",\"Standard Class\",\"First Class\",\"First Class\",\"Standard Class\",\"Standard Class\",\"Same Day\",\"Standard Class\",\"Standard Class\",\"Second Class\",\"Second Class\",\"Standard Class\",\"Standard Class\",\"Standard Class\",\"Standard Class\",\"Standard Class\",\"Standard Class\",\"Standard Class\",\"Standard Class\",\"Standard Class\",\"Standard Class\",\"Standard Class\",\"Standard Class\",\"Standard Class\",\"First Class\",\"Standard Class\",\"Standard Class\",\"Standard Class\",\"Standard Class\",\"Standard Class\",\"Standard Class\",\"First Class\",\"First Class\",\"First Class\",\"First Class\",\"First Class\",\"First Class\",\"First Class\",\"Standard Class\",\"Second Class\",\"Standard Class\",\"Standard Class\",\"Standard Class\",\"First Class\",\"Same Day\",\"Same Day\",\"Same Day\",\"Standard Class\",\"Standard Class\",\"Standard Class\",\"First Class\",\"Second Class\",\"Standard Class\",\"Standard Class\",\"Second Class\",\"Second Class\",\"Second Class\",\"Standard Class\",\"Standard Class\",\"Standard Class\",\"First Class\",\"Second Class\",\"Second Class\",\"Standard Class\",\"Standard Class\",\"Standard Class\",\"Second Class\",\"Second Class\",\"Standard Class\",\"First Class\",\"First Class\",\"First Class\",\"First Class\",\"Second Class\",\"Standard Class\",\"Standard Class\",\"Standard Class\",\"Standard Class\",\"Standard Class\",\"Standard Class\",\"Second Class\",\"Standard Class\",\"Standard Class\",\"Standard Class\",\"Standard Class\",\"Second Class\",\"Second Class\",\"Second Class\",\"Second Class\",\"Second Class\",\"Standard Class\",\"Standard Class\",\"Standard Class\",\"Standard Class\",\"Standard Class\",\"Standard Class\",\"First Class\",\"First Class\",\"First Class\",\"First Class\",\"Standard Class\",\"Standard Class\",\"Standard Class\",\"First Class\",\"First Class\",\"Standard Class\",\"Standard Class\",\"Same Day\",\"Standard Class\",\"Standard Class\",\"Standard Class\",\"Standard Class\",\"Standard Class\",\"Second Class\",\"Second Class\",\"Second Class\",\"Second Class\",\"Second Class\",\"Standard Class\",\"Standard Class\",\"Second Class\",\"Standard Class\",\"Standard Class\",\"Standard Class\",\"Standard Class\",\"Second Class\",\"Standard Class\",\"Standard Class\",\"Standard Class\",\"Standard Class\",\"Standard Class\",\"Standard Class\",\"Standard Class\",\"Standard Class\",\"Standard Class\",\"Standard Class\",\"Standard Class\",\"Standard Class\",\"Standard Class\",\"Standard Class\",\"Standard Class\",\"Standard Class\",\"Standard Class\",\"First Class\",\"First Class\",\"First Class\",\"First Class\",\"First Class\",\"First Class\",\"First Class\",\"Second Class\",\"Second Class\",\"Second Class\",\"Second Class\",\"Second Class\",\"Second Class\",\"Standard Class\",\"First Class\",\"Standard Class\",\"Standard Class\",\"Standard Class\",\"Standard Class\",\"Standard Class\",\"Standard Class\",\"Standard Class\",\"Standard Class\",\"Standard Class\",\"Standard Class\",\"Standard Class\",\"Second Class\",\"Second Class\",\"Standard Class\",\"Standard Class\",\"Second Class\",\"First Class\",\"Standard Class\",\"Standard Class\",\"Standard Class\",\"Standard Class\",\"Same Day\",\"Standard Class\",\"Standard Class\",\"Standard Class\",\"Standard Class\",\"Standard Class\",\"Standard Class\",\"First Class\",\"Standard Class\",\"Standard Class\",\"First Class\",\"First Class\",\"Second Class\",\"Second Class\",\"Second Class\",\"Standard Class\",\"Standard Class\",\"Standard Class\",\"Standard Class\",\"Standard Class\",\"Second Class\",\"Standard Class\",\"Standard Class\",\"First Class\",\"Same Day\",\"Standard Class\",\"Standard Class\",\"Standard Class\",\"Standard Class\",\"Standard Class\",\"Standard Class\",\"Standard Class\",\"First Class\",\"Standard Class\",\"Same Day\",\"Standard Class\",\"Standard Class\",\"Standard Class\",\"Standard Class\",\"Standard Class\",\"Standard Class\",\"Standard Class\",\"Standard Class\",\"Standard Class\",\"Same Day\",\"Same Day\",\"Standard Class\",\"Standard Class\",\"Standard Class\",\"Standard Class\",\"Standard Class\",\"Standard Class\",\"Standard Class\",\"Standard Class\",\"Standard Class\",\"Standard Class\",\"Second Class\",\"Second Class\",\"Second Class\",\"First Class\",\"First Class\",\"First Class\",\"Standard Class\",\"Standard Class\",\"First Class\",\"First Class\",\"Same Day\",\"Same Day\",\"Same Day\",\"Same Day\",\"Second Class\",\"Standard Class\",\"Standard Class\",\"Standard Class\",\"Standard Class\",\"First Class\",\"Standard Class\",\"Standard Class\",\"Standard Class\",\"Standard Class\",\"Standard Class\",\"Second Class\",\"Second Class\",\"Standard Class\",\"Standard Class\",\"First Class\",\"First Class\",\"First Class\",\"First Class\",\"First Class\",\"Second Class\",\"Second Class\",\"Standard Class\",\"Second Class\",\"Standard Class\",\"Standard Class\",\"Standard Class\",\"Standard Class\",\"Standard Class\",\"Standard Class\",\"Standard Class\",\"Standard Class\",\"Standard Class\",\"Standard Class\",\"First Class\",\"First Class\",\"Standard Class\",\"Standard Class\",\"Standard Class\",\"Standard Class\",\"First Class\",\"First Class\",\"First Class\",\"First Class\",\"Standard Class\",\"Same Day\",\"Standard Class\",\"Standard Class\",\"Standard Class\",\"Standard Class\",\"Standard Class\",\"Standard Class\",\"Standard Class\",\"Standard Class\",\"Standard Class\",\"Standard Class\",\"Standard Class\",\"Standard Class\",\"Standard Class\",\"Standard Class\",\"Standard Class\",\"Same Day\",\"Same Day\",\"Second Class\",\"Standard Class\",\"Standard Class\",\"Standard Class\",\"Standard Class\",\"Standard Class\",\"Standard Class\",\"Standard Class\",\"First Class\",\"First Class\",\"First Class\",\"Standard Class\",\"First Class\",\"First Class\",\"First Class\",\"First Class\",\"Standard Class\",\"Second Class\",\"Second Class\",\"Standard Class\",\"Standard Class\",\"Second Class\",\"Second Class\",\"Second Class\",\"Standard Class\",\"Standard Class\",\"Standard Class\",\"Same Day\",\"Standard Class\",\"Standard Class\",\"Standard Class\",\"Standard Class\",\"Second Class\",\"Same Day\",\"Same Day\",\"Same Day\",\"Same Day\",\"First Class\",\"First Class\",\"First Class\",\"Second Class\",\"Second Class\",\"First Class\",\"First Class\",\"First Class\",\"First Class\",\"Second Class\",\"Second Class\",\"Second Class\",\"Second Class\",\"Second Class\",\"Second Class\",\"Standard Class\",\"Standard Class\",\"Standard Class\",\"Standard Class\",\"Second Class\",\"Second Class\",\"Second Class\",\"Second Class\",\"First Class\",\"First Class\",\"Standard Class\",\"Second Class\",\"Same Day\",\"Same Day\",\"Same Day\",\"Same Day\",\"Standard Class\",\"Standard Class\",\"Standard Class\",\"Standard Class\",\"Standard Class\",\"Standard Class\",\"Standard Class\",\"Standard Class\",\"Standard Class\",\"Standard Class\",\"Standard Class\",\"Standard Class\",\"Standard Class\",\"Standard Class\",\"Standard Class\",\"Standard Class\",\"First Class\",\"Standard Class\",\"Standard Class\",\"Second Class\",\"Second Class\",\"Standard Class\",\"Standard Class\",\"Standard Class\",\"Second Class\",\"Second Class\",\"Second Class\",\"Second Class\",\"Standard Class\",\"Standard Class\",\"Standard Class\",\"Standard Class\",\"Standard Class\",\"Standard Class\",\"Second Class\",\"Second Class\",\"Standard Class\",\"Standard Class\",\"Standard Class\",\"Second Class\",\"Standard Class\",\"Standard Class\",\"First Class\",\"First Class\",\"Standard Class\",\"Standard Class\",\"Standard Class\",\"Standard Class\",\"Standard Class\",\"Standard Class\",\"Standard Class\",\"Standard Class\",\"Second Class\",\"Second Class\",\"Second Class\",\"Second Class\",\"Standard Class\",\"Standard Class\",\"Standard Class\",\"Second Class\",\"Second Class\",\"Standard Class\",\"Standard Class\",\"Standard Class\",\"Standard Class\",\"Standard Class\",\"Standard Class\",\"Standard Class\",\"Standard Class\",\"Standard Class\",\"Second Class\",\"Second Class\",\"Second Class\",\"Second Class\",\"Second Class\",\"Second Class\",\"Standard Class\",\"Standard Class\",\"Second Class\",\"Second Class\",\"Second Class\",\"Second Class\",\"Standard Class\",\"Standard Class\",\"Standard Class\",\"Standard Class\",\"Standard Class\",\"Standard Class\",\"Standard Class\",\"Second Class\",\"Standard Class\",\"Standard Class\",\"Standard Class\",\"Standard Class\",\"Standard Class\",\"Standard Class\",\"Standard Class\",\"Standard Class\",\"Standard Class\",\"Standard Class\",\"Standard Class\",\"Standard Class\",\"Standard Class\",\"Standard Class\",\"Standard Class\",\"Standard Class\",\"Standard Class\",\"Standard Class\",\"Standard Class\",\"Standard Class\",\"Standard Class\",\"Standard Class\",\"Standard Class\",\"Standard Class\",\"Standard Class\",\"Standard Class\",\"Second Class\",\"Second Class\",\"Second Class\",\"Second Class\",\"Second Class\",\"Second Class\",\"Standard Class\",\"Standard Class\",\"Standard Class\",\"Second Class\",\"Standard Class\",\"Second Class\",\"Standard Class\",\"Second Class\",\"Standard Class\",\"Standard Class\",\"Standard Class\",\"Standard Class\",\"Standard Class\",\"Standard Class\",\"Standard Class\",\"Standard Class\",\"First Class\",\"First Class\",\"First Class\",\"First Class\",\"Second Class\",\"Second Class\",\"Standard Class\",\"Standard Class\",\"Standard Class\",\"Standard Class\",\"Standard Class\",\"Standard Class\",\"Standard Class\",\"Standard Class\",\"First Class\",\"Standard Class\",\"Standard Class\",\"Standard Class\",\"Standard Class\",\"Standard Class\",\"Standard Class\",\"Standard Class\",\"Standard Class\",\"Standard Class\",\"Second Class\",\"Second Class\",\"Same Day\",\"Same Day\",\"Standard Class\",\"Standard Class\",\"Standard Class\",\"Standard Class\",\"Standard Class\",\"Standard Class\",\"Same Day\",\"Second Class\",\"Second Class\",\"Second Class\",\"Second Class\",\"Second Class\",\"Second Class\",\"Second Class\",\"Second Class\",\"Second Class\",\"Second Class\",\"First Class\",\"First Class\",\"Standard Class\",\"Standard Class\",\"Standard Class\",\"Standard Class\",\"Standard Class\",\"Second Class\",\"Second Class\",\"Standard Class\",\"Standard Class\",\"Standard Class\",\"Second Class\",\"Second Class\",\"Second Class\",\"Standard Class\",\"Standard Class\",\"Second Class\",\"Second Class\",\"Second Class\",\"Second Class\",\"Second Class\",\"Standard Class\",\"Second Class\",\"Standard Class\",\"Standard Class\",\"Second Class\",\"Second Class\",\"Second Class\",\"Standard Class\",\"Standard Class\",\"Standard Class\",\"Standard Class\",\"Standard Class\",\"Standard Class\",\"Standard Class\",\"First Class\",\"First Class\",\"Standard Class\",\"Standard Class\",\"Standard Class\",\"Standard Class\",\"First Class\",\"First Class\",\"First Class\",\"Standard Class\",\"Standard Class\",\"Standard Class\",\"Standard Class\",\"Standard Class\",\"Standard Class\",\"Standard Class\",\"Standard Class\",\"Standard Class\",\"Standard Class\",\"Standard Class\",\"Standard Class\",\"Same Day\",\"Standard Class\",\"Same Day\",\"Same Day\",\"Standard Class\",\"Standard Class\",\"Standard Class\",\"Standard Class\",\"Standard Class\",\"Standard Class\",\"Standard Class\",\"Standard Class\",\"Standard Class\",\"Standard Class\",\"Standard Class\",\"Standard Class\",\"Standard Class\",\"Standard Class\",\"Standard Class\",\"Standard Class\",\"Standard Class\",\"Same Day\",\"Same Day\",\"Standard Class\",\"Standard Class\",\"Standard Class\",\"Standard Class\",\"Standard Class\",\"Standard Class\",\"Standard Class\",\"First Class\",\"First Class\",\"First Class\",\"First Class\",\"First Class\",\"Second Class\",\"First Class\",\"First Class\",\"Standard Class\",\"Same Day\",\"First Class\",\"Standard Class\",\"Standard Class\",\"Second Class\",\"Second Class\",\"Second Class\",\"Same Day\",\"Standard Class\",\"Standard Class\",\"Standard Class\",\"Standard Class\",\"Second Class\",\"Standard Class\",\"Second Class\",\"Second Class\",\"Second Class\",\"Second Class\",\"Second Class\",\"Second Class\",\"Second Class\",\"Second Class\",\"Second Class\",\"Second Class\",\"Second Class\",\"Second Class\",\"Standard Class\",\"First Class\",\"First Class\",\"Standard Class\",\"Standard Class\",\"Standard Class\",\"Standard Class\",\"Standard Class\",\"Standard Class\",\"Second Class\",\"Standard Class\",\"Standard Class\",\"Standard Class\",\"Standard Class\",\"Standard Class\",\"Standard Class\",\"Standard Class\",\"Standard Class\",\"Standard Class\",\"Standard Class\",\"Standard Class\",\"Standard Class\",\"First Class\",\"Standard Class\",\"Standard Class\",\"Second Class\",\"Standard Class\",\"Standard Class\",\"Standard Class\",\"Standard Class\",\"Standard Class\",\"Standard Class\",\"Standard Class\",\"Standard Class\",\"First Class\",\"Standard Class\",\"Standard Class\",\"Standard Class\",\"Standard Class\",\"Standard Class\",\"Standard Class\",\"Standard Class\",\"Standard Class\",\"Standard Class\",\"Second Class\",\"Standard Class\",\"Standard Class\",\"Standard Class\",\"Standard Class\",\"Standard Class\",\"Standard Class\",\"First Class\",\"First Class\",\"First Class\",\"Standard Class\",\"Standard Class\",\"Standard Class\",\"Standard Class\",\"Standard Class\",\"Standard Class\",\"Standard Class\",\"Standard Class\",\"Same Day\",\"Standard Class\",\"Standard Class\",\"Second Class\",\"Standard Class\",\"Second Class\",\"Standard Class\",\"Standard Class\",\"Standard Class\",\"Standard Class\",\"Standard Class\",\"Standard Class\",\"Second Class\",\"Standard Class\",\"Standard Class\",\"Standard Class\",\"Standard Class\",\"Standard Class\",\"Standard Class\",\"Standard Class\",\"Standard Class\",\"Standard Class\",\"Standard Class\",\"First Class\",\"First Class\",\"Standard Class\",\"Second Class\",\"Standard Class\",\"First Class\",\"Standard Class\",\"Standard Class\",\"Standard Class\",\"Second Class\",\"Standard Class\",\"Standard Class\",\"Standard Class\",\"Standard Class\",\"First Class\",\"Standard Class\",\"Standard Class\",\"Standard Class\",\"Standard Class\",\"Standard Class\",\"Second Class\",\"Second Class\",\"Second Class\",\"Standard Class\",\"Standard Class\",\"Standard Class\",\"Standard Class\",\"Second Class\",\"Standard Class\",\"Standard Class\",\"Standard Class\",\"Standard Class\",\"Standard Class\",\"Standard Class\",\"Standard Class\",\"Standard Class\",\"Standard Class\",\"Second Class\",\"Standard Class\",\"Standard Class\",\"Standard Class\",\"Standard Class\",\"Standard Class\",\"Standard Class\",\"Standard Class\",\"Standard Class\",\"Standard Class\",\"Standard Class\",\"First Class\",\"First Class\",\"Standard Class\",\"Standard Class\",\"Standard Class\",\"Standard Class\",\"Standard Class\",\"Standard Class\",\"Standard Class\",\"Standard Class\",\"Standard Class\",\"Standard Class\",\"Standard Class\",\"First Class\",\"First Class\",\"First Class\",\"First Class\",\"First Class\",\"First Class\",\"Standard Class\",\"Standard Class\",\"Standard Class\",\"Standard Class\",\"Standard Class\",\"Same Day\",\"Same Day\",\"Standard Class\",\"Standard Class\",\"Standard Class\",\"Standard Class\",\"Standard Class\",\"Standard Class\",\"Standard Class\",\"Standard Class\",\"Standard Class\",\"Standard Class\",\"Standard Class\",\"First Class\",\"First Class\",\"Second Class\",\"Second Class\",\"Standard Class\",\"Standard Class\",\"Standard Class\",\"Standard Class\",\"Standard Class\",\"Standard Class\",\"Standard Class\",\"Standard Class\",\"Standard Class\",\"Standard Class\",\"First Class\",\"Standard Class\",\"First Class\",\"First Class\",\"Standard Class\",\"Standard Class\",\"Standard Class\",\"Standard Class\",\"First Class\",\"First Class\",\"First Class\",\"Second Class\",\"First Class\",\"Standard Class\",\"Standard Class\",\"Second Class\",\"Second Class\",\"Second Class\",\"First Class\",\"Standard Class\",\"Standard Class\",\"Standard Class\",\"Standard Class\",\"First Class\",\"Second Class\",\"Second Class\",\"Second Class\",\"Standard Class\",\"Standard Class\",\"Standard Class\",\"Standard Class\",\"First Class\",\"Standard Class\",\"Standard Class\",\"Standard Class\",\"Standard Class\",\"Standard Class\",\"Standard Class\",\"Standard Class\",\"Standard Class\",\"Standard Class\",\"Standard Class\",\"Same Day\",\"Standard Class\",\"Standard Class\",\"Standard Class\",\"Same Day\",\"Same Day\",\"Standard Class\",\"Standard Class\",\"Standard Class\",\"Standard Class\",\"Standard Class\",\"Standard Class\",\"First Class\",\"Standard Class\",\"Standard Class\",\"Standard Class\",\"Standard Class\",\"Standard Class\",\"Same Day\",\"Same Day\",\"Same Day\",\"Standard Class\",\"Second Class\",\"First Class\",\"Standard Class\",\"Standard Class\",\"Standard Class\",\"Standard Class\",\"Standard Class\",\"Standard Class\",\"Standard Class\",\"Standard Class\",\"Standard Class\",\"Standard Class\",\"Standard Class\",\"First Class\",\"First Class\",\"First Class\",\"Standard Class\",\"Standard Class\",\"Standard Class\",\"Standard Class\",\"Standard Class\",\"Standard Class\",\"Standard Class\",\"Standard Class\",\"Standard Class\",\"Standard Class\",\"Standard Class\",\"Standard Class\",\"Standard Class\",\"Standard Class\",\"Standard Class\",\"Second Class\",\"Second Class\",\"Standard Class\",\"Standard Class\",\"Standard Class\",\"Standard Class\",\"Standard Class\",\"Standard Class\",\"First Class\",\"First Class\",\"Standard Class\",\"First Class\",\"First Class\",\"First Class\",\"First Class\",\"Standard Class\",\"Same Day\",\"Same Day\",\"Same Day\",\"First Class\",\"Standard Class\",\"Standard Class\",\"Second Class\",\"Standard Class\",\"Standard Class\",\"Standard Class\",\"Standard Class\",\"Standard Class\",\"First Class\",\"First Class\",\"Standard Class\",\"Standard Class\",\"Standard Class\",\"Second Class\",\"Standard Class\",\"Same Day\",\"Standard Class\",\"Standard Class\",\"Standard Class\",\"Standard Class\",\"Second Class\",\"Standard Class\",\"Standard Class\",\"Same Day\",\"Same Day\",\"Same Day\",\"Same Day\",\"Second Class\",\"Second Class\",\"Second Class\",\"Second Class\",\"Second Class\",\"Second Class\",\"Second Class\",\"Standard Class\",\"Second Class\",\"Second Class\",\"Second Class\",\"Standard Class\",\"Standard Class\",\"Standard Class\",\"First Class\",\"First Class\",\"Second Class\",\"Second Class\",\"Second Class\",\"Second Class\",\"Second Class\",\"First Class\",\"Standard Class\",\"Standard Class\",\"Standard Class\",\"First Class\",\"Standard Class\",\"Standard Class\",\"Standard Class\",\"Standard Class\",\"Standard Class\",\"First Class\",\"First Class\",\"Standard Class\",\"Second Class\",\"First Class\",\"Standard Class\",\"Standard Class\",\"Standard Class\",\"First Class\",\"First Class\",\"Standard Class\",\"Standard Class\",\"Standard Class\",\"Standard Class\",\"Second Class\",\"Second Class\",\"Same Day\",\"Same Day\",\"Same Day\",\"Same Day\",\"First Class\",\"First Class\",\"First Class\",\"Standard Class\",\"First Class\",\"Second Class\",\"Second Class\",\"Standard Class\",\"Standard Class\",\"Standard Class\",\"Standard Class\",\"Standard Class\",\"Standard Class\",\"Standard Class\",\"Standard Class\",\"Second Class\",\"Standard Class\",\"Second Class\",\"Same Day\",\"Same Day\",\"Standard Class\",\"Standard Class\",\"Standard Class\",\"Standard Class\",\"Standard Class\",\"Standard Class\",\"Standard Class\",\"Standard Class\",\"First Class\",\"First Class\",\"Second Class\",\"Second Class\",\"Second Class\",\"Standard Class\",\"Standard Class\",\"Standard Class\",\"Second Class\",\"Second Class\",\"Second Class\",\"Standard Class\",\"Standard Class\",\"Standard Class\",\"Standard Class\",\"Second Class\",\"Second Class\",\"Second Class\",\"Second Class\",\"Second Class\",\"Second Class\",\"Same Day\",\"Second Class\",\"Second Class\",\"Same Day\",\"Same Day\",\"Standard Class\",\"Standard Class\",\"Standard Class\",\"Standard Class\",\"Standard Class\",\"Standard Class\",\"Standard Class\",\"Standard Class\",\"Standard Class\",\"Standard Class\",\"Standard Class\",\"Second Class\",\"Second Class\",\"Standard Class\",\"Standard Class\",\"Standard Class\",\"Standard Class\",\"Standard Class\",\"First Class\",\"First Class\",\"Standard Class\",\"Standard Class\",\"Standard Class\",\"Standard Class\",\"Standard Class\",\"Standard Class\",\"Standard Class\",\"Standard Class\",\"Standard Class\",\"Standard Class\",\"Standard Class\",\"Standard Class\",\"Same Day\",\"Standard Class\",\"First Class\",\"First Class\",\"First Class\",\"First Class\",\"Standard Class\",\"Standard Class\",\"Second Class\",\"Second Class\",\"Standard Class\",\"Standard Class\",\"Second Class\",\"Second Class\",\"Second Class\",\"Second Class\",\"Second Class\",\"Same Day\",\"Same Day\",\"Same Day\",\"First Class\",\"Second Class\",\"Second Class\",\"Second Class\",\"Second Class\",\"Second Class\",\"Second Class\",\"Second Class\",\"Second Class\",\"Standard Class\",\"Standard Class\",\"Standard Class\",\"Second Class\",\"Second Class\",\"Standard Class\",\"Standard Class\",\"Standard Class\",\"Standard Class\",\"Second Class\",\"Second Class\",\"Standard Class\",\"Standard Class\",\"Standard Class\",\"Standard Class\",\"Standard Class\",\"Standard Class\",\"Standard Class\",\"Standard Class\",\"First Class\",\"First Class\",\"First Class\",\"First Class\",\"Standard Class\",\"Standard Class\",\"Same Day\",\"Same Day\",\"Standard Class\",\"Standard Class\",\"Standard Class\",\"Same Day\",\"Same Day\",\"Same Day\",\"First Class\",\"First Class\",\"Standard Class\",\"Standard Class\",\"Standard Class\",\"Standard Class\",\"Standard Class\",\"Standard Class\",\"Standard Class\",\"First Class\",\"First Class\",\"First Class\",\"Standard Class\",\"Standard Class\",\"Standard Class\",\"Second Class\",\"Standard Class\",\"Standard Class\",\"Second Class\",\"Standard Class\",\"First Class\",\"First Class\",\"First Class\",\"First Class\",\"First Class\",\"Standard Class\",\"Standard Class\",\"Same Day\",\"Second Class\",\"Second Class\",\"Second Class\",\"Second Class\",\"Second Class\",\"Standard Class\",\"Standard Class\",\"Standard Class\",\"Standard Class\",\"Standard Class\",\"Standard Class\",\"Standard Class\",\"Standard Class\",\"Standard Class\",\"Standard Class\",\"Standard Class\",\"Standard Class\",\"Standard Class\",\"Standard Class\",\"Standard Class\",\"Standard Class\",\"First Class\",\"First Class\",\"First Class\",\"First Class\",\"Standard Class\",\"Standard Class\",\"Standard Class\",\"Standard Class\",\"First Class\",\"First Class\",\"First Class\",\"First Class\",\"First Class\",\"First Class\",\"Standard Class\",\"Standard Class\",\"Standard Class\",\"Standard Class\",\"Standard Class\",\"Standard Class\",\"Same Day\",\"Same Day\",\"Same Day\",\"Same Day\",\"Same Day\",\"Same Day\",\"Same Day\",\"Same Day\",\"Standard Class\",\"Standard Class\",\"Standard Class\",\"Standard Class\",\"Standard Class\",\"Standard Class\",\"Standard Class\",\"Standard Class\",\"Standard Class\",\"Standard Class\",\"Standard Class\",\"Standard Class\",\"Second Class\",\"Second Class\",\"Second Class\",\"Second Class\",\"Standard Class\",\"Standard Class\",\"Standard Class\",\"Standard Class\",\"Standard Class\",\"Standard Class\",\"Standard Class\",\"Standard Class\",\"Standard Class\",\"Standard Class\",\"Standard Class\",\"Standard Class\",\"Standard Class\",\"Standard Class\",\"Standard Class\",\"Standard Class\",\"Standard Class\",\"First Class\",\"First Class\",\"Second Class\",\"Standard Class\",\"Standard Class\",\"Standard Class\",\"Standard Class\",\"Standard Class\",\"Standard Class\",\"Standard Class\",\"Second Class\",\"Standard Class\",\"Standard Class\",\"Standard Class\",\"Standard Class\",\"Standard Class\",\"Second Class\",\"Standard Class\",\"First Class\",\"First Class\",\"Same Day\",\"Same Day\",\"Standard Class\",\"Standard Class\",\"Standard Class\",\"Standard Class\",\"Standard Class\",\"Standard Class\",\"Standard Class\",\"Standard Class\",\"First Class\",\"Second Class\",\"Second Class\",\"Second Class\",\"Second Class\",\"Second Class\",\"Second Class\",\"Second Class\",\"First Class\",\"Standard Class\",\"Standard Class\",\"Standard Class\",\"Second Class\",\"First Class\",\"First Class\",\"Standard Class\",\"Standard Class\",\"First Class\",\"Second Class\",\"Second Class\",\"Second Class\",\"Standard Class\",\"Standard Class\",\"Standard Class\",\"Standard Class\",\"Standard Class\",\"Standard Class\",\"Second Class\",\"Second Class\",\"Second Class\",\"Standard Class\",\"Standard Class\",\"Standard Class\",\"Standard Class\",\"Standard Class\",\"Standard Class\",\"Standard Class\",\"Standard Class\",\"Standard Class\",\"First Class\",\"First Class\",\"Second Class\",\"Second Class\",\"Second Class\",\"Second Class\",\"Second Class\",\"Second Class\",\"Second Class\",\"Standard Class\",\"Standard Class\",\"Standard Class\",\"Standard Class\",\"Standard Class\",\"Standard Class\",\"Second Class\",\"Standard Class\",\"Standard Class\",\"Standard Class\",\"Standard Class\",\"Standard Class\",\"Second Class\",\"Second Class\",\"Second Class\",\"Second Class\",\"Standard Class\",\"Standard Class\",\"Standard Class\",\"Standard Class\",\"Standard Class\",\"Second Class\",\"Standard Class\",\"Standard Class\",\"Standard Class\",\"Standard Class\",\"Second Class\",\"Standard Class\",\"Standard Class\",\"First Class\",\"First Class\",\"Second Class\",\"Standard Class\",\"Standard Class\",\"Standard Class\",\"Standard Class\",\"Standard Class\",\"Standard Class\",\"Standard Class\",\"Standard Class\",\"Same Day\",\"Second Class\",\"Second Class\",\"Standard Class\",\"Standard Class\",\"Standard Class\",\"First Class\",\"First Class\",\"First Class\",\"Standard Class\",\"Standard Class\",\"Second Class\",\"Second Class\",\"Standard Class\",\"Standard Class\",\"Standard Class\",\"Standard Class\",\"Standard Class\",\"Standard Class\",\"Standard Class\",\"Standard Class\",\"Standard Class\",\"Standard Class\",\"Standard Class\",\"Second Class\",\"Standard Class\",\"Standard Class\",\"Standard Class\",\"Standard Class\",\"Standard Class\",\"Standard Class\",\"Standard Class\",\"Standard Class\",\"Standard Class\",\"Standard Class\",\"Standard Class\",\"Standard Class\",\"Standard Class\",\"Standard Class\",\"Standard Class\",\"Standard Class\",\"Standard Class\",\"Standard Class\",\"Standard Class\",\"Standard Class\",\"Second Class\",\"Standard Class\",\"Standard Class\",\"Standard Class\",\"Standard Class\",\"Standard Class\",\"Second Class\",\"Same Day\",\"Standard Class\",\"Standard Class\",\"Standard Class\",\"Standard Class\",\"Standard Class\",\"Standard Class\",\"First Class\",\"First Class\",\"First Class\",\"First Class\",\"First Class\",\"Same Day\",\"Same Day\",\"Same Day\",\"Same Day\",\"Same Day\",\"Standard Class\",\"Standard Class\",\"Standard Class\",\"Standard Class\",\"Standard Class\",\"First Class\",\"First Class\",\"First Class\",\"First Class\",\"First Class\",\"First Class\",\"First Class\",\"Same Day\",\"Standard Class\",\"Standard Class\",\"First Class\",\"Standard Class\",\"Second Class\",\"Standard Class\",\"First Class\",\"Second Class\",\"Second Class\",\"Second Class\",\"Standard Class\",\"Same Day\",\"Standard Class\",\"Standard Class\",\"Second Class\",\"Second Class\",\"Standard Class\",\"Second Class\",\"Second Class\",\"Second Class\",\"Second Class\",\"Second Class\",\"Standard Class\",\"Standard Class\",\"Standard Class\",\"Standard Class\",\"Standard Class\",\"Standard Class\",\"Standard Class\",\"Standard Class\",\"Standard Class\",\"Same Day\",\"Same Day\",\"Same Day\",\"Same Day\",\"Same Day\",\"Same Day\",\"First Class\",\"First Class\",\"Standard Class\",\"Standard Class\",\"Standard Class\",\"Standard Class\",\"Standard Class\",\"Standard Class\",\"Standard Class\",\"Standard Class\",\"Standard Class\",\"Standard Class\",\"Standard Class\",\"Standard Class\",\"Standard Class\",\"First Class\",\"Standard Class\",\"First Class\",\"First Class\",\"Same Day\",\"Second Class\",\"Second Class\",\"Second Class\",\"Standard Class\",\"Standard Class\",\"Standard Class\",\"Standard Class\",\"Second Class\",\"Second Class\",\"Standard Class\",\"First Class\",\"Standard Class\",\"Standard Class\",\"Standard Class\",\"Standard Class\",\"Standard Class\",\"Standard Class\",\"Standard Class\",\"Standard Class\",\"Standard Class\",\"Standard Class\",\"Standard Class\",\"Standard Class\",\"Standard Class\",\"Standard Class\",\"Standard Class\",\"Standard Class\",\"Standard Class\",\"Standard Class\",\"Standard Class\",\"Standard Class\",\"Standard Class\",\"Standard Class\",\"Standard Class\",\"Second Class\",\"Second Class\",\"Second Class\",\"Second Class\",\"Second Class\",\"Standard Class\",\"First Class\",\"First Class\",\"Second Class\",\"Second Class\",\"Second Class\",\"First Class\",\"Standard Class\",\"Standard Class\",\"Standard Class\",\"Standard Class\",\"Standard Class\",\"Standard Class\",\"Standard Class\",\"Same Day\",\"Standard Class\",\"Standard Class\",\"Standard Class\",\"First Class\",\"Standard Class\",\"Standard Class\",\"Standard Class\",\"Standard Class\",\"Standard Class\",\"Standard Class\",\"Standard Class\",\"Standard Class\",\"Standard Class\",\"Standard Class\",\"First Class\",\"First Class\",\"First Class\",\"Standard Class\",\"Standard Class\",\"Standard Class\",\"First Class\",\"First Class\",\"Second Class\",\"Second Class\",\"Second Class\",\"Second Class\",\"Standard Class\",\"Standard Class\",\"Standard Class\",\"Standard Class\",\"Second Class\",\"Second Class\",\"Second Class\",\"Standard Class\",\"Standard Class\",\"Standard Class\",\"Standard Class\",\"Standard Class\",\"Second Class\",\"Standard Class\",\"Standard Class\",\"Standard Class\",\"Standard Class\",\"Standard Class\",\"Standard Class\",\"Standard Class\",\"Standard Class\",\"Standard Class\",\"Standard Class\",\"Standard Class\",\"Standard Class\",\"Standard Class\",\"Standard Class\",\"Standard Class\",\"Standard Class\",\"First Class\",\"Second Class\",\"Second Class\",\"Second Class\",\"Second Class\",\"Standard Class\",\"Standard Class\",\"Standard Class\",\"Second Class\",\"Second Class\",\"Second Class\",\"Second Class\",\"Standard Class\",\"Standard Class\",\"Standard Class\",\"Standard Class\",\"Standard Class\",\"Standard Class\",\"Standard Class\",\"First Class\",\"First Class\",\"Standard Class\",\"Standard Class\",\"Standard Class\",\"Standard Class\",\"Standard Class\",\"Second Class\",\"Second Class\",\"Second Class\",\"Second Class\",\"Second Class\",\"Standard Class\",\"Standard Class\",\"Standard Class\",\"Standard Class\",\"Standard Class\",\"Second Class\",\"Second Class\",\"Second Class\",\"Second Class\",\"Standard Class\",\"Standard Class\",\"Standard Class\",\"Second Class\",\"Second Class\",\"Second Class\",\"Second Class\",\"First Class\",\"Standard Class\",\"Standard Class\",\"Standard Class\",\"First Class\",\"First Class\",\"Standard Class\",\"Standard Class\",\"Standard Class\",\"Standard Class\",\"Standard Class\",\"Standard Class\",\"Standard Class\",\"Standard Class\",\"Standard Class\",\"Standard Class\",\"Standard Class\",\"Standard Class\",\"Standard Class\",\"First Class\",\"First Class\",\"First Class\",\"Standard Class\",\"Standard Class\",\"Standard Class\",\"Second Class\",\"Standard Class\",\"Second Class\",\"Standard Class\",\"Second Class\",\"Second Class\",\"Second Class\",\"Standard Class\",\"Standard Class\",\"Standard Class\",\"Standard Class\",\"First Class\",\"First Class\",\"First Class\",\"Second Class\",\"Second Class\",\"Second Class\",\"Second Class\",\"Second Class\",\"Second Class\",\"First Class\",\"First Class\",\"First Class\",\"First Class\",\"Standard Class\",\"Second Class\",\"First Class\",\"First Class\",\"First Class\",\"Second Class\",\"Second Class\",\"Second Class\",\"Standard Class\",\"Second Class\",\"Standard Class\",\"Same Day\",\"Standard Class\",\"Standard Class\",\"Standard Class\",\"Standard Class\",\"Standard Class\",\"Standard Class\",\"Standard Class\",\"Standard Class\",\"Standard Class\",\"Standard Class\",\"Standard Class\",\"Standard Class\",\"Standard Class\",\"Standard Class\",\"Standard Class\",\"Same Day\",\"Same Day\",\"Standard Class\",\"Second Class\",\"Second Class\",\"Standard Class\",\"Standard Class\",\"Standard Class\",\"Standard Class\",\"Standard Class\",\"First Class\",\"Standard Class\",\"Standard Class\",\"Standard Class\",\"Standard Class\",\"Standard Class\",\"First Class\",\"First Class\",\"First Class\",\"Second Class\",\"Standard Class\",\"Standard Class\",\"Standard Class\",\"Standard Class\",\"Standard Class\",\"Standard Class\",\"Standard Class\",\"Second Class\",\"Standard Class\",\"Standard Class\",\"Standard Class\",\"Standard Class\",\"Standard Class\",\"Second Class\",\"Standard Class\",\"Standard Class\",\"Second Class\",\"First Class\",\"First Class\",\"First Class\",\"Second Class\",\"Second Class\",\"Second Class\",\"Second Class\",\"Second Class\",\"Second Class\",\"Second Class\",\"Standard Class\",\"Standard Class\",\"Standard Class\",\"Standard Class\",\"Same Day\",\"Second Class\",\"Second Class\",\"Second Class\",\"First Class\",\"First Class\",\"Standard Class\",\"Second Class\",\"Second Class\",\"Standard Class\",\"Standard Class\",\"Standard Class\",\"First Class\",\"Standard Class\",\"Standard Class\",\"Standard Class\",\"Standard Class\",\"Standard Class\",\"Standard Class\",\"Standard Class\",\"Standard Class\",\"Same Day\",\"Second Class\",\"Second Class\",\"Second Class\",\"Second Class\",\"Standard Class\",\"Standard Class\",\"Standard Class\",\"Same Day\",\"Standard Class\",\"Standard Class\",\"Second Class\",\"Standard Class\",\"Standard Class\",\"Standard Class\",\"Standard Class\",\"First Class\",\"First Class\",\"Standard Class\",\"Standard Class\",\"Standard Class\",\"Standard Class\",\"Standard Class\",\"Standard Class\",\"Standard Class\",\"Standard Class\",\"Standard Class\",\"Same Day\",\"Same Day\",\"Same Day\",\"Second Class\",\"Second Class\",\"Standard Class\",\"Standard Class\",\"First Class\",\"First Class\",\"Standard Class\",\"Standard Class\",\"Standard Class\",\"Same Day\",\"Second Class\",\"Standard Class\",\"Standard Class\",\"Standard Class\",\"Standard Class\",\"Standard Class\",\"Standard Class\",\"Standard Class\",\"Standard Class\",\"Standard Class\",\"Standard Class\",\"Same Day\",\"Same Day\",\"Same Day\",\"Same Day\",\"Same Day\",\"Same Day\",\"Same Day\",\"Standard Class\",\"Standard Class\",\"Standard Class\",\"Standard Class\",\"Standard Class\",\"Standard Class\",\"Standard Class\",\"Standard Class\",\"Standard Class\",\"Standard Class\",\"Standard Class\",\"Standard Class\",\"Standard Class\",\"Standard Class\",\"Standard Class\",\"Standard Class\",\"Standard Class\",\"Standard Class\",\"Same Day\",\"Second Class\",\"First Class\",\"Standard Class\",\"Standard Class\",\"First Class\",\"First Class\",\"Second Class\",\"Second Class\",\"Second Class\",\"Second Class\",\"Second Class\",\"Standard Class\",\"Second Class\",\"Standard Class\",\"Standard Class\",\"Standard Class\",\"Standard Class\",\"Standard Class\",\"Standard Class\",\"Standard Class\",\"Second Class\",\"Second Class\",\"Second Class\",\"First Class\",\"Standard Class\",\"Standard Class\",\"First Class\",\"Standard Class\",\"Standard Class\",\"Standard Class\",\"Standard Class\",\"First Class\",\"First Class\",\"First Class\",\"First Class\",\"Standard Class\",\"Standard Class\",\"Standard Class\",\"Standard Class\",\"Standard Class\",\"Standard Class\",\"Standard Class\",\"Second Class\",\"Second Class\",\"Second Class\",\"Second Class\",\"Standard Class\",\"Standard Class\",\"Standard Class\",\"Standard Class\",\"Standard Class\",\"Standard Class\",\"Standard Class\",\"Standard Class\",\"Standard Class\",\"Standard Class\",\"Standard Class\",\"Standard Class\",\"Standard Class\",\"Standard Class\",\"Standard Class\",\"Second Class\",\"Same Day\",\"Same Day\",\"Same Day\",\"Same Day\",\"Standard Class\",\"Second Class\",\"Standard Class\",\"Same Day\",\"Standard Class\",\"Second Class\",\"Second Class\",\"Second Class\",\"Second Class\",\"Standard Class\",\"Standard Class\",\"Standard Class\",\"Standard Class\",\"Second Class\",\"Second Class\",\"Second Class\",\"Second Class\",\"Standard Class\",\"First Class\",\"First Class\",\"Standard Class\",\"Standard Class\",\"Standard Class\",\"Standard Class\",\"Standard Class\",\"Second Class\",\"Standard Class\",\"First Class\",\"Second Class\",\"Second Class\",\"Second Class\",\"Standard Class\",\"Second Class\",\"Standard Class\",\"Standard Class\",\"Standard Class\",\"First Class\",\"Second Class\",\"Second Class\",\"Second Class\",\"Standard Class\",\"Standard Class\",\"First Class\",\"Standard Class\",\"First Class\",\"First Class\",\"First Class\",\"First Class\",\"First Class\",\"First Class\",\"First Class\",\"First Class\",\"Standard Class\",\"Same Day\",\"Same Day\",\"Same Day\",\"Same Day\",\"First Class\",\"Second Class\",\"Standard Class\",\"Standard Class\",\"Standard Class\",\"Standard Class\",\"Standard Class\",\"Standard Class\",\"Standard Class\",\"Standard Class\",\"Standard Class\",\"Standard Class\",\"First Class\",\"First Class\",\"First Class\",\"Standard Class\",\"Standard Class\",\"Standard Class\",\"Standard Class\",\"First Class\",\"Standard Class\",\"Standard Class\",\"Standard Class\",\"Standard Class\",\"Standard Class\",\"First Class\",\"First Class\",\"Standard Class\",\"Standard Class\",\"Standard Class\",\"Standard Class\",\"First Class\",\"Standard Class\",\"Standard Class\",\"Standard Class\",\"First Class\",\"First Class\",\"First Class\",\"Standard Class\",\"Standard Class\",\"Standard Class\",\"Standard Class\",\"Standard Class\",\"First Class\",\"First Class\",\"First Class\",\"First Class\",\"First Class\",\"First Class\",\"First Class\",\"Second Class\",\"Standard Class\",\"Standard Class\",\"Standard Class\",\"Second Class\",\"Standard Class\",\"Second Class\",\"Standard Class\",\"Standard Class\",\"Standard Class\",\"Standard Class\",\"Standard Class\",\"Standard Class\",\"Standard Class\",\"Standard Class\",\"Second Class\",\"Second Class\",\"Second Class\",\"Second Class\",\"Standard Class\",\"Standard Class\",\"Second Class\",\"Second Class\",\"Second Class\",\"Second Class\",\"Standard Class\",\"Standard Class\",\"Standard Class\",\"Standard Class\",\"Standard Class\",\"First Class\",\"Standard Class\",\"Standard Class\",\"Standard Class\",\"Standard Class\",\"Standard Class\",\"Standard Class\",\"Standard Class\",\"First Class\",\"Standard Class\",\"Standard Class\",\"Second Class\",\"Standard Class\",\"Standard Class\",\"Standard Class\",\"Standard Class\",\"First Class\",\"Standard Class\",\"Standard Class\",\"Standard Class\",\"Standard Class\",\"Standard Class\",\"Standard Class\",\"Standard Class\",\"First Class\",\"First Class\",\"Standard Class\",\"Standard Class\",\"Second Class\",\"Second Class\",\"Second Class\",\"Standard Class\",\"Standard Class\",\"Standard Class\",\"Second Class\",\"Second Class\",\"Second Class\",\"Second Class\",\"Standard Class\",\"Standard Class\",\"Standard Class\",\"Standard Class\",\"Second Class\",\"Same Day\",\"Standard Class\",\"Standard Class\",\"Standard Class\",\"First Class\",\"First Class\",\"Standard Class\",\"Standard Class\",\"Standard Class\",\"Standard Class\",\"Standard Class\",\"Standard Class\",\"Standard Class\",\"Standard Class\",\"Standard Class\",\"Standard Class\",\"Standard Class\",\"First Class\",\"Standard Class\",\"Standard Class\",\"Standard Class\",\"Second Class\",\"First Class\",\"First Class\",\"Second Class\",\"Second Class\",\"Standard Class\",\"Second Class\",\"Standard Class\",\"First Class\",\"First Class\",\"Same Day\",\"First Class\",\"First Class\",\"Standard Class\",\"Standard Class\",\"Standard Class\",\"Standard Class\",\"Standard Class\",\"Standard Class\",\"First Class\",\"First Class\",\"First Class\",\"Standard Class\",\"Second Class\",\"Standard Class\",\"Standard Class\",\"Standard Class\",\"Standard Class\",\"Standard Class\",\"Standard Class\",\"Standard Class\",\"Standard Class\",\"Standard Class\",\"Standard Class\",\"Standard Class\",\"Standard Class\",\"Standard Class\",\"Standard Class\",\"Standard Class\",\"Standard Class\",\"Standard Class\",\"Second Class\",\"Second Class\",\"Standard Class\",\"Standard Class\",\"First Class\",\"First Class\",\"First Class\",\"First Class\",\"Second Class\",\"Standard Class\",\"First Class\",\"First Class\",\"Standard Class\",\"Standard Class\",\"Standard Class\",\"Standard Class\",\"Same Day\",\"First Class\",\"First Class\",\"First Class\",\"Standard Class\",\"Standard Class\",\"Standard Class\",\"Standard Class\",\"Standard Class\",\"Standard Class\",\"Standard Class\",\"Standard Class\",\"Standard Class\",\"Second Class\",\"Second Class\",\"Second Class\",\"Second Class\",\"First Class\",\"Same Day\",\"Same Day\",\"Same Day\",\"Standard Class\",\"Standard Class\",\"Second Class\",\"Second Class\",\"Second Class\",\"Second Class\",\"Second Class\",\"Standard Class\",\"Standard Class\",\"Standard Class\",\"Standard Class\",\"Same Day\",\"Standard Class\",\"Standard Class\",\"Standard Class\",\"Standard Class\",\"Standard Class\",\"Standard Class\",\"First Class\",\"First Class\",\"First Class\",\"Second Class\",\"Standard Class\",\"Standard Class\",\"Standard Class\",\"Standard Class\",\"Standard Class\",\"First Class\",\"First Class\",\"First Class\",\"Standard Class\",\"Standard Class\",\"First Class\",\"Standard Class\",\"Standard Class\",\"Standard Class\",\"First Class\",\"First Class\",\"First Class\",\"First Class\",\"First Class\",\"First Class\",\"First Class\",\"Standard Class\",\"Standard Class\",\"Standard Class\",\"Standard Class\",\"Standard Class\",\"Standard Class\",\"Standard Class\",\"Standard Class\",\"First Class\",\"First Class\",\"First Class\",\"First Class\",\"Standard Class\",\"Standard Class\",\"Standard Class\",\"Standard Class\",\"Standard Class\",\"Second Class\",\"Standard Class\",\"Standard Class\",\"Standard Class\",\"Standard Class\",\"Standard Class\",\"Second Class\",\"Second Class\",\"Second Class\",\"Same Day\",\"Same Day\",\"Same Day\",\"Same Day\",\"Same Day\",\"Same Day\",\"Same Day\",\"Standard Class\",\"Standard Class\",\"Standard Class\",\"Standard Class\",\"Standard Class\",\"Standard Class\",\"Standard Class\",\"Second Class\",\"Second Class\",\"Second Class\",\"Standard Class\",\"Standard Class\",\"Second Class\",\"Standard Class\",\"Standard Class\",\"Standard Class\",\"First Class\",\"Standard Class\",\"Second Class\",\"Second Class\",\"Second Class\",\"Second Class\",\"Standard Class\",\"Same Day\",\"Same Day\",\"Standard Class\",\"Standard Class\",\"Standard Class\",\"Same Day\",\"Same Day\",\"Same Day\",\"Second Class\",\"Second Class\",\"Standard Class\",\"Standard Class\",\"Standard Class\",\"Standard Class\",\"Standard Class\",\"Standard Class\",\"First Class\",\"Standard Class\",\"Standard Class\",\"Standard Class\",\"Standard Class\",\"Standard Class\",\"Standard Class\",\"Standard Class\",\"First Class\",\"Standard Class\",\"Standard Class\",\"Standard Class\",\"Standard Class\",\"Second Class\",\"Second Class\",\"Second Class\",\"Second Class\",\"Standard Class\",\"Standard Class\",\"Second Class\",\"Standard Class\",\"Standard Class\",\"Standard Class\",\"Second Class\",\"First Class\",\"Standard Class\",\"Standard Class\",\"Standard Class\",\"Standard Class\",\"Standard Class\",\"Standard Class\",\"First Class\",\"Second Class\",\"Second Class\",\"First Class\",\"Standard Class\",\"Standard Class\",\"Standard Class\",\"Second Class\",\"Second Class\",\"Second Class\",\"Second Class\",\"Standard Class\",\"Standard Class\",\"First Class\",\"First Class\",\"First Class\",\"First Class\",\"First Class\",\"First Class\",\"First Class\",\"Standard Class\",\"Standard Class\",\"Same Day\",\"Same Day\",\"Same Day\",\"Same Day\",\"Standard Class\",\"Standard Class\",\"Standard Class\",\"Second Class\",\"Second Class\",\"Standard Class\",\"Standard Class\",\"Standard Class\",\"Standard Class\",\"Standard Class\",\"Standard Class\",\"Standard Class\",\"Standard Class\",\"Standard Class\",\"Standard Class\",\"Standard Class\",\"Standard Class\",\"Standard Class\",\"Same Day\",\"Same Day\",\"Same Day\",\"Same Day\",\"Standard Class\",\"Standard Class\",\"Standard Class\",\"Standard Class\",\"Standard Class\",\"Standard Class\",\"Second Class\",\"Standard Class\",\"Standard Class\",\"Same Day\",\"Standard Class\",\"First Class\",\"First Class\",\"Standard Class\",\"Standard Class\",\"Standard Class\",\"Standard Class\",\"Second Class\",\"Standard Class\",\"Standard Class\",\"Standard Class\",\"Standard Class\",\"Standard Class\",\"Same Day\",\"Standard Class\",\"Standard Class\",\"Second Class\",\"Second Class\",\"Second Class\",\"Second Class\",\"Second Class\",\"First Class\",\"First Class\",\"First Class\",\"Standard Class\",\"Standard Class\",\"First Class\",\"Standard Class\",\"Standard Class\",\"Standard Class\",\"Standard Class\",\"Standard Class\",\"Standard Class\",\"First Class\",\"First Class\",\"First Class\",\"Standard Class\",\"Standard Class\",\"Standard Class\",\"Standard Class\",\"First Class\",\"First Class\",\"First Class\",\"First Class\",\"First Class\",\"First Class\",\"First Class\",\"Standard Class\",\"Standard Class\",\"Standard Class\",\"Standard Class\",\"Standard Class\",\"Standard Class\",\"Standard Class\",\"Standard Class\",\"Second Class\",\"Standard Class\",\"Standard Class\",\"Standard Class\",\"First Class\",\"Same Day\",\"Same Day\",\"First Class\",\"First Class\",\"First Class\",\"Second Class\",\"Standard Class\",\"Standard Class\",\"Second Class\",\"Standard Class\",\"Standard Class\",\"Standard Class\",\"Standard Class\",\"Standard Class\",\"Standard Class\",\"Standard Class\",\"Standard Class\",\"Standard Class\",\"Standard Class\",\"Standard Class\",\"Standard Class\",\"Standard Class\",\"Second Class\",\"Second Class\",\"Second Class\",\"Standard Class\",\"Standard Class\",\"Standard Class\",\"Standard Class\",\"Second Class\",\"Second Class\",\"First Class\",\"First Class\",\"First Class\",\"First Class\",\"First Class\",\"Second Class\",\"Second Class\",\"Second Class\",\"Second Class\",\"Second Class\",\"First Class\",\"First Class\",\"First Class\",\"Standard Class\",\"Standard Class\",\"Standard Class\",\"Second Class\",\"Second Class\",\"Second Class\",\"Standard Class\",\"Standard Class\",\"Standard Class\",\"Standard Class\",\"First Class\",\"First Class\",\"Same Day\",\"Same Day\",\"Same Day\",\"Same Day\",\"Same Day\",\"Standard Class\",\"Standard Class\",\"Standard Class\",\"Standard Class\",\"Same Day\",\"Second Class\",\"Second Class\",\"Second Class\",\"Second Class\",\"Standard Class\",\"Standard Class\",\"Standard Class\",\"Standard Class\",\"Standard Class\",\"Standard Class\",\"Standard Class\",\"Standard Class\",\"Standard Class\",\"Standard Class\",\"Second Class\",\"Second Class\",\"Standard Class\",\"Standard Class\",\"Standard Class\",\"Standard Class\",\"Standard Class\",\"Standard Class\",\"Standard Class\",\"Standard Class\",\"Standard Class\",\"Standard Class\",\"Standard Class\",\"Standard Class\",\"Standard Class\",\"Standard Class\",\"Standard Class\",\"Standard Class\",\"Standard Class\",\"Second Class\",\"Standard Class\",\"Second Class\",\"Second Class\",\"Second Class\",\"Second Class\",\"Second Class\",\"Second Class\",\"Second Class\",\"Standard Class\",\"Standard Class\",\"Standard Class\",\"Same Day\",\"Standard Class\",\"Standard Class\",\"Same Day\",\"Same Day\",\"First Class\",\"Standard Class\",\"Standard Class\",\"Standard Class\",\"Standard Class\",\"Standard Class\",\"Standard Class\",\"Standard Class\",\"Second Class\",\"Second Class\",\"Same Day\",\"Same Day\",\"First Class\",\"Standard Class\",\"First Class\",\"Standard Class\",\"Standard Class\",\"Standard Class\",\"Standard Class\",\"Standard Class\",\"Standard Class\",\"Standard Class\",\"Standard Class\",\"Standard Class\",\"Standard Class\",\"Standard Class\",\"Standard Class\",\"Same Day\",\"Same Day\",\"Same Day\",\"Same Day\",\"Same Day\",\"Standard Class\",\"Standard Class\",\"Standard Class\",\"Standard Class\",\"Standard Class\",\"Second Class\",\"Standard Class\",\"Standard Class\",\"Standard Class\",\"Standard Class\",\"Standard Class\",\"Standard Class\",\"Standard Class\",\"Standard Class\",\"Standard Class\",\"Standard Class\",\"Second Class\",\"Second Class\",\"Standard Class\",\"Standard Class\",\"Standard Class\",\"Standard Class\",\"First Class\",\"First Class\",\"First Class\",\"First Class\",\"First Class\",\"First Class\",\"Same Day\",\"Same Day\",\"Same Day\",\"Standard Class\",\"Standard Class\",\"Second Class\",\"Second Class\",\"Standard Class\",\"Standard Class\",\"Standard Class\",\"Standard Class\",\"Standard Class\",\"Second Class\",\"Same Day\",\"Same Day\",\"Same Day\",\"Same Day\",\"Standard Class\",\"First Class\",\"Second Class\",\"Second Class\",\"Second Class\",\"Second Class\",\"Second Class\",\"Second Class\",\"Second Class\",\"Second Class\",\"Second Class\",\"Second Class\",\"Standard Class\",\"Standard Class\",\"Standard Class\",\"First Class\",\"First Class\",\"First Class\",\"First Class\",\"First Class\",\"Standard Class\",\"Standard Class\",\"Standard Class\",\"Standard Class\",\"Standard Class\",\"First Class\",\"Standard Class\",\"Standard Class\",\"Standard Class\",\"Standard Class\",\"Standard Class\",\"Second Class\",\"Standard Class\",\"Standard Class\",\"Standard Class\",\"Standard Class\",\"Standard Class\",\"Standard Class\",\"Standard Class\",\"Standard Class\",\"Standard Class\",\"Same Day\",\"Same Day\",\"Same Day\",\"Same Day\",\"Same Day\",\"Standard Class\",\"Standard Class\",\"Standard Class\",\"Standard Class\",\"Standard Class\",\"Standard Class\",\"Standard Class\",\"Standard Class\",\"Standard Class\",\"First Class\",\"Standard Class\",\"Standard Class\",\"Standard Class\",\"Standard Class\",\"Standard Class\",\"First Class\",\"First Class\",\"Standard Class\",\"Standard Class\",\"Standard Class\",\"Standard Class\",\"Second Class\",\"Same Day\",\"Same Day\",\"Standard Class\",\"First Class\",\"Second Class\",\"Second Class\",\"Standard Class\",\"Standard Class\",\"First Class\",\"First Class\",\"Same Day\",\"Standard Class\",\"First Class\",\"Standard Class\",\"Standard Class\",\"Standard Class\",\"Standard Class\",\"Standard Class\",\"Standard Class\",\"Standard Class\",\"Standard Class\",\"Standard Class\",\"Standard Class\",\"Second Class\",\"Second Class\",\"Standard Class\",\"Standard Class\",\"Standard Class\",\"Standard Class\",\"First Class\",\"Standard Class\",\"Standard Class\",\"Second Class\",\"Second Class\",\"Second Class\",\"First Class\",\"First Class\",\"Standard Class\",\"Standard Class\",\"Standard Class\",\"Standard Class\",\"Standard Class\",\"Second Class\",\"Second Class\",\"Second Class\",\"First Class\",\"Standard Class\",\"Standard Class\",\"Standard Class\",\"Standard Class\",\"Standard Class\",\"Standard Class\",\"Standard Class\",\"Standard Class\",\"Standard Class\",\"Standard Class\",\"Standard Class\",\"Standard Class\",\"Standard Class\",\"Standard Class\",\"First Class\",\"Same Day\",\"Standard Class\",\"Standard Class\",\"Standard Class\",\"Standard Class\",\"Standard Class\",\"Standard Class\",\"Standard Class\",\"Second Class\",\"Standard Class\",\"Standard Class\",\"Standard Class\",\"Standard Class\",\"Standard Class\",\"Standard Class\",\"Standard Class\",\"Standard Class\",\"Standard Class\",\"Standard Class\",\"Standard Class\",\"Standard Class\",\"Standard Class\",\"Standard Class\",\"First Class\",\"Standard Class\",\"Standard Class\",\"Standard Class\",\"Standard Class\",\"Standard Class\",\"Standard Class\",\"Standard Class\",\"Standard Class\",\"Standard Class\",\"Standard Class\",\"Standard Class\",\"Standard Class\",\"Standard Class\",\"Standard Class\",\"Standard Class\",\"Standard Class\",\"Standard Class\",\"Standard Class\",\"Standard Class\",\"Standard Class\",\"Standard Class\",\"Standard Class\",\"Standard Class\",\"First Class\",\"Standard Class\",\"Standard Class\",\"Standard Class\",\"Standard Class\",\"First Class\",\"Same Day\",\"Standard Class\",\"Standard Class\",\"Second Class\",\"Standard Class\",\"First Class\",\"Standard Class\",\"Standard Class\",\"Standard Class\",\"Standard Class\",\"Standard Class\",\"Standard Class\",\"Standard Class\",\"Standard Class\",\"Second Class\",\"First Class\",\"First Class\",\"Second Class\",\"Standard Class\",\"First Class\",\"First Class\",\"First Class\",\"First Class\",\"Second Class\",\"Second Class\",\"Standard Class\",\"First Class\",\"First Class\",\"First Class\",\"First Class\",\"First Class\",\"First Class\",\"First Class\",\"Standard Class\",\"Second Class\",\"Second Class\",\"Second Class\",\"Second Class\",\"Standard Class\",\"Standard Class\",\"Standard Class\",\"Standard Class\",\"Standard Class\",\"Standard Class\",\"Standard Class\",\"Standard Class\",\"Standard Class\",\"Standard Class\",\"Standard Class\",\"Standard Class\",\"First Class\",\"Standard Class\",\"First Class\",\"First Class\",\"First Class\",\"Standard Class\",\"Standard Class\",\"Same Day\",\"Standard Class\",\"Standard Class\",\"Standard Class\",\"Standard Class\",\"Standard Class\",\"Standard Class\",\"Standard Class\",\"Standard Class\",\"Standard Class\",\"Standard Class\",\"Standard Class\",\"Standard Class\",\"First Class\",\"Second Class\",\"Second Class\",\"Second Class\",\"Standard Class\",\"Standard Class\",\"Standard Class\",\"Standard Class\",\"Second Class\",\"Second Class\",\"Standard Class\",\"Standard Class\",\"Standard Class\",\"Standard Class\",\"Standard Class\",\"Standard Class\",\"Standard Class\",\"Second Class\",\"Standard Class\",\"Standard Class\",\"Standard Class\",\"Standard Class\",\"Standard Class\",\"Standard Class\",\"Standard Class\",\"Standard Class\",\"Standard Class\",\"Same Day\",\"Same Day\",\"Same Day\",\"Same Day\",\"Same Day\",\"Standard Class\",\"Standard Class\",\"Standard Class\",\"Standard Class\",\"Second Class\",\"Second Class\",\"Standard Class\",\"Standard Class\",\"Standard Class\",\"Standard Class\",\"Standard Class\",\"Standard Class\",\"Standard Class\",\"Standard Class\",\"Standard Class\",\"First Class\",\"Same Day\",\"Same Day\",\"Standard Class\",\"Standard Class\",\"Second Class\",\"Second Class\",\"Second Class\",\"Second Class\",\"Standard Class\",\"Standard Class\",\"First Class\",\"Standard Class\",\"Same Day\",\"Standard Class\",\"Standard Class\",\"Second Class\",\"Second Class\",\"Standard Class\",\"Standard Class\",\"Standard Class\",\"First Class\",\"Second Class\",\"Second Class\",\"Second Class\",\"Second Class\",\"Second Class\",\"Second Class\",\"Second Class\",\"Standard Class\",\"Standard Class\",\"Standard Class\",\"Standard Class\",\"Standard Class\",\"Standard Class\",\"Standard Class\",\"Standard Class\",\"Standard Class\",\"Second Class\",\"Second Class\",\"First Class\",\"Standard Class\",\"Standard Class\",\"First Class\",\"Standard Class\",\"Standard Class\",\"Standard Class\",\"Standard Class\",\"First Class\",\"Standard Class\",\"Standard Class\",\"Standard Class\",\"Second Class\",\"Same Day\",\"Second Class\",\"Second Class\",\"Second Class\",\"Second Class\",\"Second Class\",\"Second Class\",\"Standard Class\",\"Standard Class\",\"Standard Class\",\"Standard Class\",\"Standard Class\",\"Standard Class\",\"Standard Class\",\"Second Class\",\"Second Class\",\"Standard Class\",\"Standard Class\",\"Second Class\",\"Standard Class\",\"Standard Class\",\"Standard Class\",\"Standard Class\",\"Standard Class\",\"Standard Class\",\"Standard Class\",\"Standard Class\",\"Standard Class\",\"Standard Class\",\"Standard Class\",\"Standard Class\",\"Standard Class\",\"Standard Class\",\"Standard Class\",\"Standard Class\",\"Standard Class\",\"Standard Class\",\"First Class\",\"First Class\",\"First Class\",\"First Class\",\"First Class\",\"Same Day\",\"Standard Class\",\"Standard Class\",\"Standard Class\",\"Standard Class\",\"Standard Class\",\"Standard Class\",\"Standard Class\",\"Standard Class\",\"Standard Class\",\"Standard Class\",\"Standard Class\",\"Standard Class\",\"Standard Class\",\"Standard Class\",\"Standard Class\",\"Standard Class\",\"Standard Class\",\"Standard Class\",\"First Class\",\"First Class\",\"First Class\",\"Standard Class\",\"Standard Class\",\"Same Day\",\"Second Class\",\"Second Class\",\"Second Class\",\"Standard Class\",\"Standard Class\",\"First Class\",\"Standard Class\",\"Standard Class\",\"Standard Class\",\"Standard Class\",\"Standard Class\",\"Standard Class\",\"First Class\",\"First Class\",\"First Class\",\"First Class\",\"Standard Class\",\"Standard Class\",\"Standard Class\",\"Standard Class\",\"Standard Class\",\"Standard Class\",\"Standard Class\",\"Standard Class\",\"Standard Class\",\"Standard Class\",\"Standard Class\",\"Standard Class\",\"Standard Class\",\"Standard Class\",\"First Class\",\"First Class\",\"First Class\",\"Standard Class\",\"Second Class\",\"Second Class\",\"First Class\",\"First Class\",\"First Class\",\"First Class\",\"First Class\",\"Standard Class\",\"Standard Class\",\"Second Class\",\"Same Day\",\"Standard Class\",\"Standard Class\",\"Standard Class\",\"Standard Class\",\"Standard Class\",\"Standard Class\",\"Standard Class\",\"First Class\",\"Standard Class\",\"Standard Class\",\"Standard Class\",\"Standard Class\",\"Standard Class\",\"Standard Class\",\"Standard Class\",\"Standard Class\",\"Standard Class\",\"Standard Class\",\"Standard Class\",\"First Class\",\"First Class\",\"First Class\",\"Standard Class\",\"First Class\",\"Standard Class\",\"Standard Class\",\"Standard Class\",\"Standard Class\",\"Standard Class\",\"Standard Class\",\"Second Class\",\"Second Class\",\"Second Class\",\"Standard Class\",\"Standard Class\",\"Standard Class\",\"Second Class\",\"Standard Class\",\"First Class\",\"First Class\",\"Standard Class\",\"Standard Class\",\"First Class\",\"First Class\",\"First Class\",\"First Class\",\"First Class\",\"First Class\",\"Standard Class\",\"Standard Class\",\"Second Class\",\"Standard Class\",\"Standard Class\",\"Standard Class\",\"Standard Class\",\"Standard Class\",\"Standard Class\",\"Second Class\",\"First Class\",\"Standard Class\",\"Standard Class\",\"Standard Class\",\"Standard Class\",\"Standard Class\",\"Standard Class\",\"Standard Class\",\"Standard Class\",\"Standard Class\",\"Standard Class\",\"Standard Class\",\"Standard Class\",\"Standard Class\",\"Standard Class\",\"Standard Class\",\"Standard Class\",\"Standard Class\",\"Standard Class\",\"Standard Class\",\"Second Class\",\"Second Class\",\"Second Class\",\"Standard Class\",\"Standard Class\",\"Standard Class\",\"Standard Class\",\"Standard Class\",\"Standard Class\",\"Standard Class\",\"Second Class\",\"Standard Class\",\"Second Class\",\"Second Class\",\"Standard Class\",\"Standard Class\",\"Standard Class\",\"Standard Class\",\"Standard Class\",\"Standard Class\",\"Standard Class\",\"Standard Class\",\"Standard Class\",\"Standard Class\",\"Standard Class\",\"Standard Class\",\"Second Class\",\"Second Class\",\"Second Class\",\"Standard Class\",\"Standard Class\",\"Standard Class\",\"Standard Class\",\"Second Class\",\"Standard Class\",\"Standard Class\",\"Standard Class\",\"Standard Class\",\"Standard Class\",\"Standard Class\",\"Standard Class\",\"Standard Class\",\"First Class\",\"First Class\",\"Standard Class\",\"Standard Class\",\"First Class\",\"First Class\",\"First Class\",\"First Class\",\"Standard Class\",\"Standard Class\",\"Standard Class\",\"Standard Class\",\"Standard Class\",\"First Class\",\"Second Class\",\"Second Class\",\"Second Class\",\"Second Class\",\"Second Class\",\"Second Class\",\"Second Class\",\"Second Class\",\"Standard Class\",\"Standard Class\",\"Standard Class\",\"First Class\",\"Standard Class\",\"Standard Class\",\"Standard Class\",\"Standard Class\",\"Second Class\",\"Second Class\",\"Standard Class\",\"Standard Class\",\"Standard Class\",\"Standard Class\",\"Standard Class\",\"Standard Class\",\"Standard Class\",\"Standard Class\",\"Standard Class\",\"Second Class\",\"Standard Class\",\"Same Day\",\"Same Day\",\"Same Day\",\"Standard Class\",\"Standard Class\",\"Standard Class\",\"Standard Class\",\"Standard Class\",\"Standard Class\",\"Standard Class\",\"Standard Class\",\"First Class\",\"Standard Class\",\"Standard Class\",\"Second Class\",\"Standard Class\",\"First Class\",\"First Class\",\"Standard Class\",\"Standard Class\",\"Standard Class\",\"Standard Class\",\"Standard Class\",\"Standard Class\",\"First Class\",\"Standard Class\",\"Standard Class\",\"Standard Class\",\"Standard Class\",\"Standard Class\",\"Same Day\",\"First Class\",\"Standard Class\",\"Standard Class\",\"Standard Class\",\"Standard Class\",\"First Class\",\"First Class\",\"First Class\",\"Second Class\",\"Second Class\",\"Second Class\",\"Second Class\",\"First Class\",\"First Class\",\"Standard Class\",\"Standard Class\",\"Standard Class\",\"Standard Class\",\"Second Class\",\"Standard Class\",\"Standard Class\",\"Standard Class\",\"Second Class\",\"Same Day\",\"Same Day\",\"Same Day\",\"Same Day\",\"Second Class\",\"Second Class\",\"Second Class\",\"Standard Class\",\"Standard Class\",\"Standard Class\",\"Standard Class\",\"Standard Class\",\"Standard Class\",\"Standard Class\",\"Standard Class\",\"First Class\",\"First Class\",\"First Class\",\"First Class\",\"First Class\",\"First Class\",\"Standard Class\",\"Standard Class\",\"Standard Class\",\"Standard Class\",\"Standard Class\",\"Standard Class\",\"Second Class\",\"Second Class\",\"Second Class\",\"Standard Class\",\"Standard Class\",\"Second Class\",\"Second Class\",\"Second Class\",\"Second Class\",\"Second Class\",\"Standard Class\",\"Second Class\",\"Standard Class\",\"Standard Class\",\"Second Class\",\"Second Class\",\"Second Class\",\"Second Class\",\"Standard Class\",\"Second Class\",\"Second Class\",\"Second Class\",\"First Class\",\"Standard Class\",\"Standard Class\",\"Standard Class\",\"Standard Class\",\"Standard Class\",\"Second Class\",\"Standard Class\",\"Standard Class\",\"Standard Class\",\"Second Class\",\"Second Class\",\"Standard Class\",\"Standard Class\",\"Standard Class\",\"Standard Class\",\"Standard Class\",\"Standard Class\",\"Standard Class\",\"Standard Class\",\"Standard Class\",\"Standard Class\",\"Standard Class\",\"Standard Class\",\"Standard Class\",\"Standard Class\",\"Standard Class\",\"Standard Class\",\"First Class\",\"Second Class\",\"Same Day\",\"Same Day\",\"Same Day\",\"Same Day\",\"Standard Class\",\"Standard Class\",\"Standard Class\",\"First Class\",\"Standard Class\",\"Standard Class\",\"Standard Class\",\"Second Class\",\"Standard Class\",\"Standard Class\",\"Standard Class\",\"Second Class\",\"Standard Class\",\"First Class\",\"First Class\",\"First Class\",\"First Class\",\"First Class\",\"Standard Class\",\"Standard Class\",\"Standard Class\",\"Standard Class\",\"Standard Class\",\"Standard Class\",\"Standard Class\",\"Standard Class\",\"Standard Class\",\"Standard Class\",\"Second Class\",\"Second Class\",\"First Class\",\"Standard Class\",\"Standard Class\",\"Standard Class\",\"Second Class\",\"Second Class\",\"Second Class\",\"Second Class\",\"Second Class\",\"Standard Class\",\"Standard Class\",\"Standard Class\",\"Standard Class\",\"Standard Class\",\"Standard Class\",\"Second Class\",\"Standard Class\",\"Standard Class\",\"Standard Class\",\"Standard Class\",\"Standard Class\",\"Standard Class\",\"Standard Class\",\"Standard Class\",\"Standard Class\",\"Standard Class\",\"Standard Class\",\"Standard Class\",\"Standard Class\",\"Standard Class\",\"Standard Class\",\"Standard Class\",\"Second Class\",\"Second Class\",\"Second Class\",\"Second Class\",\"Second Class\",\"Second Class\",\"Second Class\",\"Second Class\",\"Second Class\",\"Standard Class\",\"Standard Class\",\"Second Class\",\"First Class\",\"Standard Class\",\"First Class\",\"Standard Class\",\"Standard Class\",\"Standard Class\",\"Same Day\",\"Same Day\",\"Same Day\",\"Standard Class\",\"Standard Class\",\"Standard Class\",\"Standard Class\",\"Standard Class\",\"First Class\",\"First Class\",\"Standard Class\",\"Standard Class\",\"Standard Class\",\"First Class\",\"First Class\",\"First Class\",\"First Class\",\"First Class\",\"First Class\",\"Standard Class\",\"Standard Class\",\"Standard Class\",\"Standard Class\",\"Standard Class\",\"Standard Class\",\"Standard Class\",\"Standard Class\",\"Standard Class\",\"Standard Class\",\"Standard Class\",\"Standard Class\",\"Standard Class\",\"Standard Class\",\"Standard Class\",\"Second Class\",\"Standard Class\",\"Standard Class\",\"Same Day\",\"Standard Class\",\"Standard Class\",\"Standard Class\",\"Standard Class\",\"Standard Class\",\"Standard Class\",\"First Class\",\"Standard Class\",\"Standard Class\",\"Standard Class\",\"Standard Class\",\"Standard Class\",\"Standard Class\",\"Standard Class\",\"First Class\",\"Standard Class\",\"Standard Class\",\"Standard Class\",\"Second Class\",\"Second Class\",\"Second Class\",\"Second Class\",\"Second Class\",\"Standard Class\",\"Standard Class\",\"Standard Class\",\"Standard Class\",\"Standard Class\",\"Standard Class\",\"Standard Class\",\"Standard Class\",\"Standard Class\",\"Standard Class\",\"Standard Class\",\"Standard Class\",\"Standard Class\",\"Standard Class\",\"Second Class\",\"First Class\",\"Second Class\",\"Second Class\",\"Standard Class\",\"Standard Class\",\"Same Day\",\"Same Day\",\"Second Class\",\"Second Class\",\"Second Class\",\"Second Class\",\"Second Class\",\"Standard Class\",\"Standard Class\",\"Standard Class\",\"Standard Class\",\"Standard Class\",\"Standard Class\",\"Standard Class\",\"Standard Class\",\"Standard Class\",\"Standard Class\",\"Standard Class\",\"Standard Class\",\"Standard Class\",\"Standard Class\",\"Second Class\",\"Second Class\",\"Standard Class\",\"Same Day\",\"Standard Class\",\"Standard Class\",\"Standard Class\",\"Second Class\",\"Same Day\",\"Standard Class\",\"Standard Class\",\"Second Class\",\"Standard Class\",\"Second Class\",\"Second Class\",\"Standard Class\",\"Standard Class\",\"Standard Class\",\"Standard Class\",\"Standard Class\",\"Second Class\",\"Standard Class\",\"Standard Class\",\"Standard Class\",\"Second Class\",\"Second Class\",\"Standard Class\",\"Standard Class\",\"Standard Class\",\"Second Class\",\"Second Class\",\"Second Class\",\"Second Class\",\"Standard Class\",\"Standard Class\",\"Standard Class\",\"Standard Class\",\"Second Class\",\"First Class\",\"Same Day\",\"Standard Class\",\"Standard Class\",\"Standard Class\",\"Standard Class\",\"Standard Class\",\"Standard Class\",\"Standard Class\",\"Standard Class\",\"Standard Class\",\"Standard Class\",\"Standard Class\",\"Same Day\",\"Same Day\",\"Standard Class\",\"First Class\",\"First Class\",\"First Class\",\"Standard Class\",\"Standard Class\",\"Standard Class\",\"Second Class\",\"Second Class\",\"Second Class\",\"Same Day\",\"Second Class\",\"Second Class\",\"Second Class\",\"Second Class\",\"Second Class\",\"Second Class\",\"Second Class\",\"Second Class\",\"Standard Class\",\"Standard Class\",\"Standard Class\",\"Standard Class\",\"Standard Class\",\"Standard Class\",\"Standard Class\",\"First Class\",\"Second Class\",\"Standard Class\",\"First Class\",\"First Class\",\"Standard Class\",\"Standard Class\",\"Standard Class\",\"Standard Class\",\"Standard Class\",\"Standard Class\",\"Second Class\",\"First Class\",\"Second Class\",\"Second Class\",\"Second Class\",\"Second Class\",\"Second Class\",\"Standard Class\",\"Second Class\",\"Second Class\",\"Standard Class\",\"First Class\",\"First Class\",\"Standard Class\",\"Second Class\",\"Second Class\",\"Standard Class\",\"Standard Class\",\"Standard Class\",\"Standard Class\",\"Standard Class\",\"Standard Class\",\"Standard Class\",\"Standard Class\",\"Standard Class\",\"Second Class\",\"Second Class\",\"Second Class\",\"Second Class\",\"Second Class\",\"Second Class\",\"Standard Class\",\"Standard Class\",\"Standard Class\",\"Standard Class\",\"Standard Class\",\"Standard Class\",\"Standard Class\",\"Standard Class\",\"Standard Class\",\"Second Class\",\"Standard Class\",\"Standard Class\",\"Standard Class\",\"Standard Class\",\"Standard Class\",\"Standard Class\",\"Standard Class\",\"Second Class\",\"Standard Class\",\"Standard Class\",\"Standard Class\",\"Standard Class\",\"Standard Class\",\"Standard Class\",\"Standard Class\",\"Standard Class\",\"Standard Class\",\"Standard Class\",\"Standard Class\",\"First Class\",\"Standard Class\",\"Same Day\",\"Same Day\",\"Same Day\",\"Same Day\",\"Same Day\",\"Same Day\",\"Same Day\",\"Same Day\",\"Same Day\",\"Same Day\",\"Same Day\",\"Second Class\",\"Second Class\",\"Standard Class\",\"Standard Class\",\"First Class\",\"Standard Class\",\"Standard Class\",\"Standard Class\",\"Standard Class\",\"Second Class\",\"Standard Class\",\"Standard Class\",\"Standard Class\",\"Standard Class\",\"Standard Class\",\"Standard Class\",\"Standard Class\",\"Standard Class\",\"Standard Class\",\"Standard Class\",\"Standard Class\",\"Standard Class\",\"Second Class\",\"Second Class\",\"First Class\",\"First Class\",\"Second Class\",\"Second Class\",\"Second Class\",\"Standard Class\",\"Standard Class\",\"Standard Class\",\"Standard Class\",\"Second Class\",\"First Class\",\"First Class\",\"First Class\",\"Standard Class\",\"Second Class\",\"Standard Class\",\"Second Class\",\"First Class\",\"Standard Class\",\"Second Class\",\"Second Class\",\"Second Class\",\"Standard Class\",\"Standard Class\",\"Standard Class\",\"Standard Class\",\"Standard Class\",\"Standard Class\",\"Standard Class\",\"First Class\",\"First Class\",\"Second Class\",\"Second Class\",\"Standard Class\",\"Standard Class\",\"Standard Class\",\"Standard Class\",\"Standard Class\",\"Standard Class\",\"Standard Class\",\"Second Class\",\"Second Class\",\"Standard Class\",\"Standard Class\",\"Standard Class\",\"Standard Class\",\"Standard Class\",\"Standard Class\",\"Standard Class\",\"Standard Class\",\"Standard Class\",\"Standard Class\",\"Standard Class\",\"Standard Class\",\"Standard Class\",\"Same Day\",\"Same Day\",\"Standard Class\",\"Standard Class\",\"Standard Class\",\"Standard Class\",\"Standard Class\",\"Standard Class\",\"Standard Class\",\"Standard Class\",\"Standard Class\",\"Second Class\",\"Standard Class\",\"Standard Class\",\"Second Class\",\"Second Class\",\"Standard Class\",\"Second Class\",\"Second Class\",\"Second Class\",\"Second Class\",\"Standard Class\",\"Standard Class\",\"Second Class\",\"Second Class\",\"First Class\",\"Second Class\",\"Second Class\",\"Second Class\",\"Second Class\",\"Standard Class\",\"Second Class\",\"Standard Class\",\"Standard Class\",\"Standard Class\",\"Standard Class\",\"Standard Class\",\"Standard Class\",\"Standard Class\",\"Standard Class\",\"First Class\",\"Second Class\",\"Standard Class\",\"First Class\",\"Standard Class\",\"Standard Class\",\"Standard Class\",\"Standard Class\",\"Standard Class\",\"First Class\",\"First Class\",\"Second Class\",\"Second Class\",\"First Class\",\"First Class\",\"Standard Class\",\"Standard Class\",\"Standard Class\",\"Standard Class\",\"Standard Class\",\"Standard Class\",\"Standard Class\",\"Same Day\",\"Standard Class\",\"Standard Class\",\"Standard Class\",\"Standard Class\",\"First Class\",\"First Class\",\"First Class\",\"Standard Class\",\"Standard Class\",\"Standard Class\",\"Standard Class\",\"Second Class\",\"Second Class\",\"First Class\",\"First Class\",\"First Class\",\"First Class\",\"Standard Class\",\"Standard Class\",\"Standard Class\",\"Standard Class\",\"Standard Class\",\"Standard Class\",\"Standard Class\",\"Standard Class\",\"First Class\",\"First Class\",\"First Class\",\"First Class\",\"First Class\",\"Standard Class\",\"Standard Class\",\"Standard Class\",\"First Class\",\"Same Day\",\"Standard Class\",\"Standard Class\",\"Second Class\",\"Second Class\",\"Second Class\",\"Second Class\",\"First Class\",\"Standard Class\",\"Standard Class\",\"Standard Class\",\"Standard Class\",\"Second Class\",\"Second Class\",\"Standard Class\",\"Standard Class\",\"Standard Class\",\"Standard Class\",\"Standard Class\",\"Standard Class\",\"Standard Class\",\"Standard Class\",\"Standard Class\",\"Standard Class\",\"Second Class\",\"Standard Class\",\"Standard Class\",\"Standard Class\",\"Second Class\",\"Same Day\",\"Same Day\",\"Standard Class\",\"Standard Class\",\"Standard Class\",\"Standard Class\",\"Standard Class\",\"Standard Class\",\"Standard Class\",\"Standard Class\",\"Standard Class\",\"First Class\",\"First Class\",\"Same Day\",\"Standard Class\",\"Standard Class\",\"Standard Class\",\"Standard Class\",\"Standard Class\",\"Standard Class\",\"Standard Class\",\"Standard Class\",\"Standard Class\",\"First Class\",\"First Class\",\"First Class\",\"Standard Class\",\"Standard Class\",\"Standard Class\",\"First Class\",\"First Class\",\"Second Class\",\"First Class\",\"First Class\",\"First Class\",\"First Class\",\"First Class\",\"Standard Class\",\"Standard Class\",\"Standard Class\",\"Second Class\",\"Second Class\",\"Second Class\",\"Second Class\",\"Standard Class\",\"Standard Class\",\"Standard Class\",\"Standard Class\",\"Standard Class\",\"Second Class\",\"Standard Class\",\"Standard Class\",\"Standard Class\",\"Second Class\",\"Second Class\",\"Standard Class\",\"Standard Class\",\"First Class\",\"First Class\",\"Standard Class\",\"Standard Class\",\"Standard Class\",\"Standard Class\",\"Standard Class\",\"First Class\",\"Standard Class\",\"Standard Class\",\"Standard Class\",\"Standard Class\",\"Standard Class\",\"Standard Class\",\"First Class\",\"Second Class\",\"First Class\",\"Standard Class\",\"Standard Class\",\"Standard Class\",\"Standard Class\",\"Standard Class\",\"Standard Class\",\"Standard Class\",\"Standard Class\",\"Standard Class\",\"Standard Class\",\"Standard Class\",\"Standard Class\",\"Second Class\",\"Standard Class\",\"Standard Class\",\"Second Class\",\"Standard Class\",\"Standard Class\",\"Second Class\",\"Second Class\",\"First Class\",\"First Class\",\"First Class\",\"Standard Class\",\"Standard Class\",\"Standard Class\",\"Standard Class\",\"Standard Class\",\"First Class\",\"Second Class\",\"Standard Class\",\"Second Class\",\"Second Class\",\"Second Class\",\"Second Class\",\"Standard Class\",\"First Class\",\"Standard Class\",\"Same Day\",\"Standard Class\",\"Standard Class\",\"Standard Class\",\"Standard Class\",\"Standard Class\",\"Standard Class\",\"Standard Class\",\"Standard Class\",\"Standard Class\",\"Standard Class\",\"Standard Class\",\"Standard Class\",\"Second Class\",\"Standard Class\",\"Standard Class\",\"Standard Class\",\"Standard Class\",\"Standard Class\",\"Same Day\",\"Second Class\",\"Second Class\",\"Standard Class\",\"Standard Class\",\"Standard Class\",\"Standard Class\",\"Standard Class\",\"Standard Class\",\"Standard Class\",\"First Class\",\"Standard Class\",\"Standard Class\",\"First Class\",\"Standard Class\",\"Standard Class\",\"Standard Class\",\"Second Class\",\"Second Class\",\"Second Class\",\"Second Class\",\"Second Class\",\"Second Class\",\"Second Class\",\"Second Class\",\"Second Class\",\"Standard Class\",\"Standard Class\",\"Second Class\",\"Second Class\",\"Standard Class\",\"Standard Class\",\"Standard Class\",\"Standard Class\",\"Standard Class\",\"Standard Class\",\"Standard Class\",\"Standard Class\",\"Standard Class\",\"Standard Class\",\"Standard Class\",\"Second Class\",\"Standard Class\",\"Standard Class\",\"First Class\",\"First Class\",\"First Class\",\"Second Class\",\"Second Class\",\"Second Class\",\"Second Class\",\"First Class\",\"Second Class\",\"Second Class\",\"Second Class\",\"Second Class\",\"Standard Class\",\"Standard Class\",\"Standard Class\",\"First Class\",\"First Class\",\"First Class\",\"First Class\",\"Second Class\",\"Second Class\",\"Second Class\",\"Standard Class\",\"Standard Class\",\"Standard Class\",\"Standard Class\",\"Second Class\",\"Standard Class\",\"Standard Class\",\"Standard Class\",\"Standard Class\",\"First Class\",\"Standard Class\",\"Standard Class\",\"Standard Class\",\"Standard Class\",\"Standard Class\",\"Standard Class\",\"Standard Class\",\"Standard Class\",\"Second Class\",\"Standard Class\",\"Second Class\",\"Standard Class\",\"Standard Class\",\"Second Class\",\"Second Class\",\"Second Class\",\"Standard Class\",\"Standard Class\",\"Same Day\",\"Standard Class\",\"Standard Class\",\"Standard Class\",\"Standard Class\",\"Standard Class\",\"Standard Class\",\"Standard Class\",\"Standard Class\",\"Standard Class\",\"Standard Class\",\"Same Day\",\"Same Day\",\"Second Class\",\"Standard Class\",\"Standard Class\",\"Standard Class\",\"Standard Class\",\"Standard Class\",\"Standard Class\",\"Standard Class\",\"Standard Class\",\"Standard Class\",\"Second Class\",\"Second Class\",\"Second Class\",\"Second Class\",\"Second Class\",\"Second Class\",\"Second Class\",\"Standard Class\",\"Standard Class\",\"Standard Class\",\"Standard Class\",\"Standard Class\",\"Same Day\",\"Same Day\",\"Same Day\",\"Same Day\",\"Same Day\",\"First Class\",\"First Class\",\"Standard Class\",\"Standard Class\",\"Standard Class\",\"Standard Class\",\"Second Class\",\"Standard Class\",\"Standard Class\",\"Standard Class\",\"Standard Class\",\"Standard Class\",\"Standard Class\",\"Standard Class\",\"Standard Class\",\"Standard Class\",\"Standard Class\",\"Standard Class\",\"First Class\",\"Standard Class\",\"Standard Class\",\"Standard Class\",\"Standard Class\",\"Second Class\",\"Second Class\",\"Standard Class\",\"Standard Class\",\"Standard Class\",\"Standard Class\",\"Standard Class\",\"First Class\",\"Standard Class\",\"First Class\",\"Second Class\",\"Second Class\",\"First Class\",\"First Class\",\"Standard Class\",\"Standard Class\",\"Standard Class\",\"Standard Class\",\"Standard Class\",\"Standard Class\",\"Standard Class\",\"Standard Class\",\"Second Class\",\"Second Class\",\"First Class\",\"Second Class\",\"Second Class\",\"First Class\",\"Standard Class\",\"Standard Class\",\"Standard Class\",\"Standard Class\",\"Standard Class\",\"Standard Class\",\"Standard Class\",\"Standard Class\",\"Standard Class\",\"Standard Class\",\"Standard Class\",\"Standard Class\",\"Standard Class\",\"Standard Class\",\"Standard Class\",\"Standard Class\",\"Standard Class\",\"Standard Class\",\"Standard Class\",\"Standard Class\",\"Standard Class\",\"Standard Class\",\"Standard Class\",\"Standard Class\",\"Standard Class\",\"First Class\",\"Standard Class\",\"Standard Class\",\"First Class\",\"First Class\",\"First Class\",\"First Class\",\"Second Class\",\"Standard Class\",\"Standard Class\",\"Standard Class\",\"First Class\",\"First Class\",\"Standard Class\",\"Standard Class\",\"Standard Class\",\"Standard Class\",\"Second Class\",\"Second Class\",\"Second Class\",\"Second Class\",\"Second Class\",\"First Class\",\"First Class\",\"First Class\",\"Second Class\",\"Second Class\",\"Second Class\",\"Second Class\",\"Second Class\",\"Standard Class\",\"Standard Class\",\"Standard Class\",\"Standard Class\",\"First Class\",\"First Class\",\"First Class\",\"First Class\",\"Standard Class\",\"Standard Class\",\"First Class\",\"First Class\",\"Standard Class\",\"Standard Class\",\"First Class\",\"First Class\",\"Standard Class\",\"Second Class\",\"Second Class\",\"Same Day\",\"Same Day\",\"First Class\",\"Standard Class\",\"Standard Class\",\"Standard Class\",\"First Class\",\"Standard Class\",\"Standard Class\",\"Standard Class\",\"Standard Class\",\"Standard Class\",\"Second Class\",\"Second Class\",\"Second Class\",\"Second Class\",\"Second Class\",\"Second Class\",\"Second Class\",\"Second Class\",\"Same Day\",\"Standard Class\",\"Standard Class\",\"Standard Class\",\"Standard Class\",\"Standard Class\",\"First Class\",\"First Class\",\"Standard Class\",\"Standard Class\",\"Standard Class\",\"Standard Class\",\"Standard Class\",\"First Class\",\"First Class\",\"First Class\",\"Standard Class\",\"Standard Class\",\"Same Day\",\"First Class\",\"First Class\",\"Standard Class\",\"Standard Class\",\"Standard Class\",\"Standard Class\",\"Standard Class\",\"Standard Class\",\"Standard Class\",\"Standard Class\",\"Standard Class\",\"Standard Class\",\"Standard Class\",\"Standard Class\",\"Standard Class\",\"Standard Class\",\"Second Class\",\"Second Class\",\"Second Class\",\"First Class\",\"Standard Class\",\"Standard Class\",\"Standard Class\",\"Standard Class\",\"Standard Class\",\"Standard Class\",\"Standard Class\",\"Standard Class\",\"Standard Class\",\"Standard Class\",\"Standard Class\",\"Standard Class\",\"Second Class\",\"Standard Class\",\"Standard Class\",\"Standard Class\",\"First Class\",\"Standard Class\",\"Second Class\",\"Standard Class\",\"Standard Class\",\"Standard Class\",\"First Class\",\"Standard Class\",\"Standard Class\",\"Standard Class\",\"Second Class\",\"Standard Class\",\"Standard Class\",\"Standard Class\",\"Standard Class\",\"Standard Class\",\"Second Class\",\"Standard Class\",\"Standard Class\",\"Standard Class\",\"Standard Class\",\"Standard Class\",\"First Class\",\"Second Class\",\"Standard Class\",\"Standard Class\",\"Second Class\",\"Second Class\",\"Standard Class\",\"Standard Class\",\"First Class\",\"First Class\",\"Standard Class\",\"Same Day\",\"Same Day\",\"Same Day\",\"First Class\",\"Standard Class\",\"Same Day\",\"Same Day\",\"Standard Class\",\"Standard Class\",\"Standard Class\",\"First Class\",\"Standard Class\",\"Standard Class\",\"Standard Class\",\"Standard Class\",\"Standard Class\",\"Standard Class\",\"Standard Class\",\"Second Class\",\"Second Class\",\"Second Class\",\"Standard Class\",\"First Class\",\"First Class\",\"First Class\",\"First Class\",\"Same Day\",\"Standard Class\",\"First Class\",\"Second Class\",\"Second Class\",\"Standard Class\",\"Standard Class\",\"First Class\",\"First Class\",\"First Class\",\"Standard Class\",\"Second Class\",\"Standard Class\",\"Standard Class\",\"Standard Class\",\"Standard Class\",\"Standard Class\",\"Standard Class\",\"Standard Class\",\"Standard Class\",\"First Class\",\"First Class\",\"First Class\",\"First Class\",\"First Class\",\"First Class\",\"Second Class\",\"Second Class\",\"Second Class\",\"Standard Class\",\"Second Class\",\"Second Class\",\"Standard Class\",\"Standard Class\",\"Standard Class\",\"Standard Class\",\"Standard Class\",\"Standard Class\",\"Standard Class\",\"Standard Class\",\"Standard Class\",\"Standard Class\",\"Standard Class\",\"Standard Class\",\"Second Class\",\"Second Class\",\"Standard Class\",\"Standard Class\",\"Standard Class\",\"Standard Class\",\"Standard Class\",\"Standard Class\",\"Second Class\",\"Second Class\",\"Standard Class\",\"Standard Class\",\"Standard Class\",\"Standard Class\",\"Standard Class\",\"Standard Class\",\"Standard Class\",\"Standard Class\",\"Standard Class\",\"Standard Class\",\"Standard Class\",\"Standard Class\",\"First Class\",\"First Class\",\"First Class\",\"First Class\",\"Standard Class\",\"Standard Class\",\"Standard Class\",\"Second Class\",\"Second Class\",\"Second Class\",\"Second Class\",\"Second Class\",\"Standard Class\",\"Standard Class\",\"Standard Class\",\"Standard Class\",\"Standard Class\",\"Standard Class\",\"Standard Class\",\"Standard Class\",\"Standard Class\",\"Standard Class\",\"Second Class\",\"Standard Class\",\"Second Class\",\"Second Class\",\"Second Class\",\"Second Class\",\"Second Class\",\"Second Class\",\"Second Class\",\"Second Class\",\"Standard Class\",\"Standard Class\",\"Standard Class\",\"Standard Class\",\"Standard Class\",\"Standard Class\",\"Standard Class\",\"Standard Class\",\"Standard Class\",\"Standard Class\",\"Standard Class\",\"Standard Class\",\"Standard Class\",\"Standard Class\",\"Standard Class\",\"Standard Class\",\"Standard Class\",\"Standard Class\",\"Standard Class\",\"First Class\",\"Standard Class\",\"Standard Class\",\"Standard Class\",\"Standard Class\",\"Second Class\",\"First Class\",\"Standard Class\",\"Standard Class\",\"Standard Class\",\"Second Class\",\"Second Class\",\"Standard Class\",\"Standard Class\",\"Standard Class\",\"Standard Class\",\"Standard Class\",\"First Class\",\"First Class\",\"Second Class\",\"Second Class\",\"Second Class\",\"First Class\",\"Second Class\",\"Standard Class\",\"Standard Class\",\"Standard Class\",\"Standard Class\",\"Standard Class\",\"Standard Class\",\"Standard Class\",\"Standard Class\",\"Standard Class\",\"First Class\",\"First Class\",\"Standard Class\",\"Standard Class\",\"Standard Class\",\"Standard Class\",\"Standard Class\",\"Standard Class\",\"Standard Class\",\"Standard Class\",\"Standard Class\",\"Standard Class\",\"Standard Class\",\"Standard Class\",\"Standard Class\",\"Standard Class\",\"Standard Class\",\"Standard Class\",\"Standard Class\",\"Standard Class\",\"Standard Class\",\"Second Class\",\"Second Class\",\"Second Class\",\"Second Class\",\"Second Class\",\"Standard Class\",\"First Class\",\"First Class\",\"First Class\",\"Standard Class\",\"Standard Class\",\"Standard Class\",\"Standard Class\",\"Standard Class\",\"Standard Class\",\"Standard Class\",\"Standard Class\",\"Standard Class\",\"Standard Class\",\"Standard Class\",\"First Class\",\"First Class\",\"Second Class\",\"Second Class\",\"First Class\",\"Second Class\",\"Standard Class\",\"Standard Class\",\"Standard Class\",\"Standard Class\",\"First Class\",\"First Class\",\"Second Class\",\"Second Class\",\"Second Class\",\"First Class\",\"First Class\",\"First Class\",\"First Class\",\"Standard Class\",\"First Class\",\"First Class\",\"First Class\",\"First Class\",\"First Class\",\"Standard Class\",\"Standard Class\",\"Standard Class\",\"Standard Class\",\"Second Class\",\"First Class\",\"Same Day\",\"Same Day\",\"Same Day\",\"Same Day\",\"First Class\",\"First Class\",\"Second Class\",\"First Class\",\"First Class\",\"Standard Class\",\"Standard Class\",\"Standard Class\",\"Standard Class\",\"Second Class\",\"Second Class\",\"Second Class\",\"Second Class\",\"Standard Class\",\"Standard Class\",\"Standard Class\",\"First Class\",\"First Class\",\"First Class\",\"First Class\",\"First Class\",\"Standard Class\",\"Second Class\",\"Second Class\",\"Second Class\",\"Second Class\",\"Standard Class\",\"Standard Class\",\"Second Class\",\"Standard Class\",\"Second Class\",\"Second Class\",\"Standard Class\",\"Standard Class\",\"Standard Class\",\"Standard Class\",\"Second Class\",\"Standard Class\",\"Standard Class\",\"Standard Class\",\"Standard Class\",\"Standard Class\",\"Standard Class\",\"Standard Class\",\"Standard Class\",\"Standard Class\",\"First Class\",\"First Class\",\"First Class\",\"First Class\",\"First Class\",\"Standard Class\",\"Standard Class\",\"Standard Class\",\"Standard Class\",\"Standard Class\",\"Standard Class\",\"Standard Class\",\"Standard Class\",\"Standard Class\",\"Standard Class\",\"Standard Class\",\"Standard Class\",\"Standard Class\",\"Standard Class\",\"Standard Class\",\"Standard Class\",\"Standard Class\",\"Standard Class\",\"Standard Class\",\"Standard Class\",\"Second Class\",\"Standard Class\",\"First Class\",\"Standard Class\",\"Standard Class\",\"Second Class\",\"Second Class\",\"Second Class\",\"Second Class\",\"Second Class\",\"Standard Class\",\"Standard Class\",\"First Class\",\"First Class\",\"Standard Class\",\"Standard Class\",\"Standard Class\",\"Standard Class\",\"First Class\",\"First Class\",\"First Class\",\"Standard Class\",\"Standard Class\",\"Standard Class\",\"Second Class\",\"Second Class\",\"Second Class\",\"Second Class\",\"Standard Class\",\"Same Day\",\"Standard Class\",\"Standard Class\",\"Standard Class\",\"Standard Class\",\"Standard Class\",\"Standard Class\",\"Standard Class\",\"Standard Class\",\"Standard Class\",\"Standard Class\",\"Standard Class\",\"Standard Class\",\"First Class\",\"First Class\",\"First Class\",\"First Class\",\"Standard Class\",\"Standard Class\",\"Standard Class\",\"Standard Class\",\"Standard Class\",\"Standard Class\",\"Standard Class\",\"Standard Class\",\"Standard Class\",\"Standard Class\",\"Standard Class\",\"Standard Class\",\"Standard Class\",\"Standard Class\",\"Standard Class\",\"Standard Class\",\"First Class\",\"First Class\",\"First Class\",\"First Class\",\"First Class\",\"Standard Class\",\"Standard Class\",\"Standard Class\",\"Standard Class\",\"Standard Class\",\"Standard Class\",\"Standard Class\",\"Second Class\",\"Second Class\",\"Standard Class\",\"Standard Class\",\"Standard Class\",\"Standard Class\",\"Standard Class\",\"Standard Class\",\"Standard Class\",\"Standard Class\",\"Standard Class\",\"Standard Class\",\"Standard Class\",\"Standard Class\",\"Standard Class\",\"First Class\",\"First Class\",\"Standard Class\",\"Standard Class\",\"Standard Class\",\"Standard Class\",\"Standard Class\",\"Standard Class\",\"Standard Class\",\"Second Class\",\"Second Class\",\"Standard Class\",\"Second Class\",\"Second Class\",\"Standard Class\",\"Standard Class\",\"First Class\",\"First Class\",\"First Class\",\"Second Class\",\"Standard Class\",\"Standard Class\",\"Standard Class\",\"Standard Class\",\"Standard Class\",\"Same Day\",\"Same Day\",\"Same Day\",\"Same Day\",\"Same Day\",\"Standard Class\",\"Standard Class\",\"Standard Class\",\"Standard Class\",\"Standard Class\",\"Standard Class\",\"Standard Class\",\"Standard Class\",\"Standard Class\",\"Standard Class\",\"Standard Class\",\"Standard Class\",\"Standard Class\",\"Standard Class\",\"Standard Class\",\"Standard Class\",\"Standard Class\",\"Standard Class\",\"Standard Class\",\"Second Class\",\"Second Class\",\"Second Class\",\"Second Class\",\"Second Class\",\"Second Class\",\"Second Class\",\"Standard Class\",\"Standard Class\",\"Standard Class\",\"Standard Class\",\"Standard Class\",\"Same Day\",\"Same Day\",\"Same Day\",\"Same Day\",\"Standard Class\",\"Standard Class\",\"Standard Class\",\"Standard Class\",\"Standard Class\",\"Same Day\",\"Same Day\",\"Second Class\",\"Second Class\",\"Second Class\",\"Second Class\",\"Second Class\",\"Standard Class\",\"Standard Class\",\"Standard Class\",\"Standard Class\",\"Standard Class\",\"Standard Class\",\"Same Day\",\"Same Day\",\"Same Day\",\"Standard Class\",\"Standard Class\",\"Standard Class\",\"Standard Class\",\"Standard Class\",\"Standard Class\",\"Standard Class\",\"Standard Class\",\"Standard Class\",\"Standard Class\",\"Standard Class\",\"Second Class\",\"Standard Class\",\"Standard Class\",\"Standard Class\",\"Standard Class\",\"Standard Class\",\"Standard Class\",\"First Class\",\"First Class\",\"Second Class\",\"Second Class\",\"Second Class\",\"Second Class\",\"Standard Class\",\"Standard Class\",\"Standard Class\",\"Standard Class\",\"Standard Class\",\"Standard Class\",\"Standard Class\",\"Standard Class\",\"Standard Class\",\"Standard Class\",\"Standard Class\",\"Standard Class\",\"Standard Class\",\"Standard Class\",\"Standard Class\",\"Standard Class\",\"Standard Class\",\"Second Class\",\"Standard Class\",\"Standard Class\",\"Standard Class\",\"Standard Class\",\"Same Day\",\"Standard Class\",\"Standard Class\",\"Standard Class\",\"Standard Class\",\"Standard Class\",\"Standard Class\",\"Standard Class\",\"Standard Class\",\"Standard Class\",\"Standard Class\",\"Standard Class\",\"First Class\",\"Standard Class\",\"Standard Class\",\"Standard Class\",\"First Class\",\"First Class\",\"Second Class\",\"Second Class\",\"Standard Class\",\"Standard Class\",\"Standard Class\",\"First Class\",\"First Class\",\"First Class\",\"First Class\",\"Second Class\",\"Standard Class\",\"Standard Class\",\"Standard Class\",\"Standard Class\",\"Standard Class\",\"First Class\",\"Standard Class\",\"Standard Class\",\"Standard Class\",\"Standard Class\",\"Standard Class\",\"Standard Class\",\"Standard Class\",\"Standard Class\",\"Standard Class\",\"Standard Class\",\"Standard Class\",\"Standard Class\",\"Standard Class\",\"Standard Class\",\"Standard Class\",\"Standard Class\",\"Standard Class\",\"Standard Class\",\"Second Class\",\"Second Class\",\"Second Class\",\"Second Class\",\"Standard Class\",\"First Class\",\"Second Class\",\"Second Class\",\"Second Class\",\"Standard Class\",\"Standard Class\",\"First Class\",\"Standard Class\",\"First Class\",\"Standard Class\",\"Standard Class\",\"Standard Class\",\"Standard Class\",\"Standard Class\",\"Standard Class\",\"Second Class\",\"Second Class\",\"Standard Class\",\"First Class\",\"First Class\",\"Standard Class\",\"Standard Class\",\"Standard Class\",\"Standard Class\",\"First Class\",\"First Class\",\"Standard Class\",\"Second Class\",\"Second Class\",\"Second Class\",\"Second Class\",\"Same Day\",\"First Class\",\"Second Class\",\"Standard Class\",\"Second Class\",\"Second Class\",\"Second Class\",\"Standard Class\",\"Standard Class\",\"Standard Class\",\"Standard Class\",\"Standard Class\",\"Standard Class\",\"Standard Class\",\"Same Day\",\"Second Class\",\"Standard Class\",\"Standard Class\",\"Standard Class\",\"Standard Class\",\"First Class\",\"First Class\",\"First Class\",\"First Class\",\"First Class\",\"Standard Class\",\"Standard Class\",\"Standard Class\",\"Standard Class\",\"First Class\",\"Standard Class\",\"First Class\",\"Standard Class\",\"Second Class\",\"Standard Class\",\"Standard Class\",\"Second Class\",\"Second Class\",\"Second Class\",\"Second Class\",\"Standard Class\",\"Standard Class\",\"Standard Class\",\"Second Class\",\"Second Class\",\"Standard Class\",\"Standard Class\",\"Standard Class\",\"Standard Class\",\"First Class\",\"First Class\",\"First Class\",\"First Class\",\"First Class\",\"First Class\",\"First Class\",\"Standard Class\",\"Standard Class\",\"Standard Class\",\"Standard Class\",\"Second Class\",\"Second Class\",\"Standard Class\",\"Standard Class\",\"Standard Class\",\"Standard Class\",\"Second Class\",\"Standard Class\",\"Standard Class\",\"Standard Class\",\"Standard Class\",\"Standard Class\",\"Standard Class\",\"Standard Class\",\"Standard Class\",\"Standard Class\",\"Standard Class\",\"Second Class\",\"Standard Class\",\"Standard Class\",\"Standard Class\",\"Same Day\",\"Standard Class\",\"Standard Class\",\"Standard Class\",\"Standard Class\",\"Standard Class\",\"Standard Class\",\"Same Day\",\"Standard Class\",\"Standard Class\",\"Standard Class\",\"Second Class\",\"Second Class\",\"Second Class\",\"Standard Class\",\"Standard Class\",\"Standard Class\",\"Standard Class\",\"Standard Class\",\"Second Class\",\"Second Class\",\"Second Class\",\"Second Class\",\"Second Class\",\"Second Class\",\"Second Class\",\"Standard Class\",\"Standard Class\",\"Standard Class\",\"Standard Class\",\"Standard Class\",\"First Class\",\"First Class\",\"First Class\",\"Standard Class\",\"Standard Class\",\"Standard Class\",\"Standard Class\",\"Standard Class\",\"Standard Class\",\"Second Class\",\"Standard Class\",\"Standard Class\",\"Standard Class\",\"Standard Class\",\"Standard Class\",\"Standard Class\",\"Same Day\",\"Same Day\",\"Same Day\",\"Same Day\",\"Same Day\",\"Standard Class\",\"Standard Class\",\"Standard Class\",\"Standard Class\",\"Standard Class\",\"Second Class\",\"Standard Class\",\"Standard Class\",\"Standard Class\",\"Standard Class\",\"Standard Class\",\"Standard Class\",\"First Class\",\"First Class\",\"Standard Class\",\"Standard Class\",\"Standard Class\",\"Standard Class\",\"Standard Class\",\"Standard Class\",\"First Class\",\"Standard Class\",\"Standard Class\",\"Standard Class\",\"Standard Class\",\"First Class\",\"Same Day\",\"Same Day\",\"Second Class\",\"Second Class\",\"Second Class\",\"Second Class\",\"Second Class\",\"Second Class\",\"Standard Class\",\"Standard Class\",\"First Class\",\"First Class\",\"First Class\",\"Standard Class\",\"Standard Class\",\"Standard Class\",\"Same Day\",\"Standard Class\",\"First Class\",\"Same Day\",\"Second Class\",\"First Class\",\"Standard Class\",\"Standard Class\",\"Standard Class\",\"Second Class\",\"Second Class\",\"Second Class\",\"Second Class\",\"Second Class\",\"Standard Class\",\"Standard Class\",\"Standard Class\",\"Standard Class\",\"First Class\",\"First Class\",\"First Class\",\"First Class\",\"Standard Class\",\"Standard Class\",\"First Class\",\"First Class\",\"Standard Class\",\"Standard Class\",\"Standard Class\",\"Standard Class\",\"Standard Class\",\"Same Day\",\"Standard Class\",\"Standard Class\",\"Standard Class\",\"Standard Class\",\"Standard Class\",\"Standard Class\",\"Standard Class\",\"Standard Class\",\"Second Class\",\"Second Class\",\"Standard Class\",\"Standard Class\",\"Standard Class\",\"Standard Class\",\"Standard Class\",\"Standard Class\",\"Second Class\",\"Second Class\",\"Standard Class\",\"Standard Class\",\"Standard Class\",\"Standard Class\",\"Standard Class\",\"Standard Class\",\"Standard Class\",\"Standard Class\",\"Standard Class\",\"Standard Class\",\"First Class\",\"First Class\",\"First Class\",\"Standard Class\",\"First Class\",\"First Class\",\"Standard Class\",\"First Class\",\"Second Class\",\"Standard Class\",\"Same Day\",\"Standard Class\",\"Standard Class\",\"Standard Class\",\"Standard Class\",\"Standard Class\",\"First Class\",\"Standard Class\",\"Standard Class\",\"Same Day\",\"Same Day\",\"Same Day\",\"Same Day\",\"Same Day\",\"Same Day\",\"Same Day\",\"Same Day\",\"Standard Class\",\"Standard Class\",\"Standard Class\",\"Standard Class\",\"Standard Class\",\"Standard Class\",\"Second Class\",\"First Class\",\"First Class\",\"Second Class\",\"Second Class\",\"Second Class\",\"Second Class\",\"Second Class\",\"Standard Class\",\"Standard Class\",\"Standard Class\",\"Standard Class\",\"Standard Class\",\"First Class\",\"Second Class\",\"Second Class\",\"Second Class\",\"Second Class\",\"Standard Class\",\"Standard Class\",\"Standard Class\",\"Second Class\",\"Same Day\",\"Same Day\",\"Same Day\",\"Standard Class\",\"Standard Class\",\"Standard Class\",\"Standard Class\",\"Standard Class\",\"Second Class\",\"Second Class\",\"Standard Class\",\"Standard Class\",\"Standard Class\",\"Standard Class\",\"Standard Class\",\"Standard Class\",\"Standard Class\",\"Standard Class\",\"First Class\",\"Standard Class\",\"Standard Class\",\"Standard Class\",\"First Class\",\"First Class\",\"First Class\",\"Standard Class\",\"Standard Class\",\"Standard Class\",\"Standard Class\",\"Second Class\",\"Second Class\",\"Second Class\",\"Second Class\",\"Second Class\",\"Second Class\",\"Second Class\",\"Second Class\",\"Second Class\",\"Second Class\",\"Standard Class\",\"Standard Class\",\"Standard Class\",\"Standard Class\",\"Standard Class\",\"Standard Class\",\"Standard Class\",\"Second Class\",\"Second Class\",\"Second Class\",\"Second Class\",\"Standard Class\",\"Standard Class\",\"First Class\",\"First Class\",\"First Class\",\"Same Day\",\"First Class\",\"First Class\",\"Second Class\",\"Second Class\",\"Standard Class\",\"Standard Class\",\"Standard Class\",\"First Class\",\"First Class\",\"Standard Class\",\"Standard Class\",\"First Class\",\"First Class\",\"First Class\",\"Standard Class\",\"Standard Class\",\"Standard Class\",\"Standard Class\",\"Standard Class\",\"Standard Class\",\"Standard Class\",\"Standard Class\",\"Standard Class\",\"Standard Class\",\"Standard Class\",\"Standard Class\",\"Standard Class\",\"Same Day\",\"Same Day\",\"First Class\",\"First Class\",\"Standard Class\",\"Standard Class\",\"Second Class\",\"First Class\",\"First Class\",\"Standard Class\",\"Second Class\",\"First Class\",\"First Class\",\"Standard Class\",\"Standard Class\",\"Standard Class\",\"Standard Class\",\"Standard Class\",\"Standard Class\",\"Standard Class\",\"Standard Class\",\"Standard Class\",\"Standard Class\",\"First Class\",\"First Class\",\"First Class\",\"First Class\",\"Standard Class\",\"Standard Class\",\"Standard Class\",\"First Class\",\"Standard Class\",\"First Class\",\"First Class\",\"First Class\",\"First Class\",\"Standard Class\",\"Standard Class\",\"Standard Class\",\"Standard Class\",\"Standard Class\",\"Standard Class\",\"Standard Class\",\"Standard Class\",\"Standard Class\",\"Second Class\",\"Second Class\",\"Second Class\",\"Second Class\",\"Second Class\",\"Standard Class\",\"Standard Class\",\"Standard Class\",\"Standard Class\",\"Standard Class\",\"Second Class\",\"First Class\",\"Second Class\",\"Second Class\",\"Standard Class\",\"First Class\",\"Second Class\",\"Standard Class\",\"Standard Class\",\"Standard Class\",\"Standard Class\",\"Standard Class\",\"Standard Class\",\"Standard Class\",\"Second Class\",\"Second Class\",\"Second Class\",\"Standard Class\",\"Standard Class\",\"Second Class\",\"Standard Class\",\"Standard Class\",\"Standard Class\",\"Standard Class\",\"First Class\",\"First Class\",\"First Class\",\"First Class\",\"Second Class\",\"First Class\",\"First Class\",\"Standard Class\",\"Standard Class\",\"Standard Class\",\"Standard Class\",\"Standard Class\",\"Standard Class\",\"Standard Class\",\"Standard Class\",\"Standard Class\",\"Standard Class\",\"Standard Class\",\"First Class\",\"First Class\",\"Standard Class\",\"Standard Class\",\"Standard Class\",\"Standard Class\",\"Same Day\",\"Same Day\",\"Second Class\",\"Standard Class\",\"Standard Class\",\"Standard Class\",\"Standard Class\",\"First Class\",\"First Class\",\"Second Class\",\"Standard Class\",\"Standard Class\",\"Standard Class\",\"Standard Class\",\"Standard Class\",\"Second Class\",\"Standard Class\",\"Second Class\",\"Second Class\",\"First Class\",\"Standard Class\",\"Standard Class\",\"Standard Class\",\"Standard Class\",\"Standard Class\",\"Standard Class\",\"Second Class\",\"Second Class\",\"Standard Class\",\"Standard Class\",\"Standard Class\",\"Standard Class\",\"Same Day\",\"Same Day\",\"Same Day\",\"First Class\",\"Standard Class\",\"Standard Class\",\"Standard Class\",\"Standard Class\",\"Standard Class\",\"Standard Class\",\"Standard Class\",\"Standard Class\",\"Standard Class\",\"Standard Class\",\"Standard Class\",\"Standard Class\",\"Standard Class\",\"Standard Class\",\"Standard Class\",\"Standard Class\",\"Standard Class\",\"Standard Class\",\"Standard Class\",\"Second Class\",\"Standard Class\",\"Standard Class\",\"Standard Class\",\"Standard Class\",\"Standard Class\",\"Standard Class\",\"Same Day\",\"Same Day\",\"Second Class\",\"Second Class\",\"Second Class\",\"Second Class\",\"Second Class\",\"First Class\",\"First Class\",\"Standard Class\",\"First Class\",\"Second Class\",\"Standard Class\",\"Standard Class\",\"First Class\",\"Standard Class\",\"Standard Class\",\"Standard Class\",\"Standard Class\",\"Standard Class\",\"Second Class\",\"Standard Class\",\"First Class\",\"First Class\",\"Standard Class\",\"Standard Class\",\"Standard Class\",\"Standard Class\",\"First Class\",\"First Class\",\"First Class\",\"Standard Class\",\"Standard Class\",\"Standard Class\",\"First Class\",\"Standard Class\",\"Standard Class\",\"Standard Class\",\"First Class\",\"Second Class\",\"First Class\",\"First Class\",\"First Class\",\"First Class\",\"Second Class\",\"Second Class\",\"Second Class\",\"Standard Class\",\"Standard Class\",\"Standard Class\",\"Standard Class\",\"Standard Class\",\"Standard Class\",\"Standard Class\",\"Standard Class\",\"Standard Class\",\"Standard Class\",\"Standard Class\",\"Standard Class\",\"Standard Class\",\"First Class\",\"First Class\",\"First Class\",\"Same Day\",\"Same Day\",\"Standard Class\",\"Same Day\",\"Standard Class\",\"Standard Class\",\"Same Day\",\"Same Day\",\"Same Day\",\"Same Day\",\"Same Day\",\"Same Day\",\"Standard Class\",\"Standard Class\",\"First Class\",\"First Class\",\"Standard Class\",\"Standard Class\",\"Standard Class\",\"Standard Class\",\"Second Class\",\"Second Class\",\"Second Class\",\"Second Class\",\"Standard Class\",\"First Class\",\"First Class\",\"Standard Class\",\"Standard Class\",\"Standard Class\",\"Standard Class\",\"Standard Class\",\"Standard Class\",\"Same Day\",\"Same Day\",\"Standard Class\",\"Standard Class\",\"Standard Class\",\"Standard Class\",\"First Class\",\"First Class\",\"Same Day\",\"Standard Class\",\"Standard Class\",\"Standard Class\",\"Second Class\",\"Standard Class\",\"Second Class\",\"Second Class\",\"Second Class\",\"Second Class\",\"Second Class\",\"Standard Class\",\"Standard Class\",\"Second Class\",\"Second Class\",\"Second Class\",\"Standard Class\",\"Second Class\",\"First Class\",\"Standard Class\",\"Standard Class\",\"Standard Class\",\"First Class\",\"First Class\",\"Standard Class\",\"Standard Class\",\"Standard Class\",\"Standard Class\",\"Standard Class\",\"Standard Class\",\"Second Class\",\"Second Class\",\"First Class\",\"Standard Class\",\"Standard Class\",\"Standard Class\",\"Standard Class\",\"First Class\",\"First Class\",\"Standard Class\",\"Standard Class\",\"Standard Class\",\"Second Class\",\"Second Class\",\"Standard Class\",\"First Class\",\"First Class\",\"Second Class\",\"Standard Class\",\"Standard Class\",\"Standard Class\",\"Second Class\",\"First Class\",\"Second Class\",\"Second Class\",\"Standard Class\",\"Standard Class\",\"Standard Class\",\"Standard Class\",\"Standard Class\",\"Standard Class\",\"Standard Class\",\"Standard Class\",\"Standard Class\",\"Standard Class\",\"Standard Class\",\"Standard Class\",\"Standard Class\",\"Standard Class\",\"First Class\",\"First Class\",\"First Class\",\"First Class\",\"First Class\",\"First Class\",\"First Class\",\"Second Class\",\"Second Class\",\"Second Class\",\"Second Class\",\"Second Class\",\"Standard Class\",\"Standard Class\",\"Second Class\",\"Same Day\",\"Second Class\",\"Second Class\",\"Second Class\",\"Standard Class\",\"Standard Class\",\"First Class\",\"Second Class\",\"Second Class\",\"Standard Class\",\"Standard Class\",\"Standard Class\",\"Standard Class\",\"Standard Class\",\"Standard Class\",\"Standard Class\",\"Standard Class\",\"Standard Class\",\"Second Class\",\"First Class\",\"Standard Class\",\"Standard Class\",\"Standard Class\",\"Standard Class\",\"Standard Class\",\"Standard Class\",\"Standard Class\",\"Standard Class\",\"Standard Class\",\"Second Class\",\"Second Class\",\"Second Class\",\"Second Class\",\"Standard Class\",\"Standard Class\",\"Standard Class\",\"Standard Class\",\"Standard Class\",\"Standard Class\",\"Standard Class\",\"Standard Class\",\"Standard Class\",\"Standard Class\",\"Second Class\",\"Second Class\",\"Second Class\",\"Standard Class\",\"Standard Class\",\"Same Day\",\"Same Day\",\"Same Day\",\"Same Day\",\"Second Class\",\"Second Class\",\"Standard Class\",\"Standard Class\",\"Standard Class\",\"Standard Class\",\"Standard Class\",\"Standard Class\",\"Standard Class\",\"Standard Class\",\"Standard Class\",\"Standard Class\",\"Standard Class\",\"Standard Class\",\"Standard Class\",\"Standard Class\",\"Standard Class\",\"Standard Class\",\"Standard Class\",\"Standard Class\",\"Standard Class\",\"Standard Class\",\"Standard Class\",\"Standard Class\",\"Standard Class\",\"Standard Class\",\"First Class\",\"First Class\",\"Standard Class\",\"Standard Class\",\"Standard Class\",\"Same Day\",\"Same Day\",\"Standard Class\",\"Second Class\",\"Second Class\",\"Second Class\",\"Standard Class\",\"Standard Class\",\"Standard Class\",\"First Class\",\"Standard Class\",\"Standard Class\",\"First Class\",\"Standard Class\",\"Standard Class\",\"First Class\",\"First Class\",\"First Class\",\"Same Day\",\"Same Day\",\"Same Day\",\"Same Day\",\"Standard Class\",\"Same Day\",\"First Class\",\"First Class\",\"Standard Class\",\"Standard Class\",\"Standard Class\",\"Standard Class\",\"Standard Class\",\"Standard Class\",\"Standard Class\",\"First Class\",\"Standard Class\",\"Standard Class\",\"Standard Class\",\"Standard Class\",\"Standard Class\",\"Standard Class\",\"Standard Class\",\"Standard Class\",\"Standard Class\",\"Standard Class\",\"Standard Class\",\"Standard Class\",\"Standard Class\",\"Second Class\",\"Second Class\",\"Second Class\",\"Second Class\",\"Second Class\",\"Second Class\",\"Second Class\",\"Second Class\",\"Second Class\",\"Same Day\",\"Standard Class\",\"Standard Class\",\"Standard Class\",\"Standard Class\",\"First Class\",\"Same Day\",\"Same Day\",\"Standard Class\",\"Standard Class\",\"Standard Class\",\"Standard Class\",\"Standard Class\",\"Same Day\",\"Second Class\",\"Second Class\",\"Standard Class\",\"Standard Class\",\"Standard Class\",\"Standard Class\",\"Standard Class\",\"Standard Class\",\"Second Class\",\"Standard Class\",\"First Class\",\"Standard Class\",\"Standard Class\",\"First Class\",\"Second Class\",\"First Class\",\"First Class\",\"Same Day\",\"Second Class\",\"Standard Class\",\"Standard Class\",\"Second Class\",\"Second Class\",\"Second Class\",\"Second Class\",\"Second Class\",\"Second Class\",\"Second Class\",\"Second Class\",\"Second Class\",\"Standard Class\",\"Standard Class\",\"Standard Class\",\"Standard Class\",\"Standard Class\",\"Standard Class\",\"Standard Class\",\"Standard Class\",\"Same Day\",\"Same Day\",\"Standard Class\",\"Standard Class\",\"Standard Class\",\"Standard Class\",\"Standard Class\",\"Standard Class\",\"Standard Class\",\"Standard Class\",\"Standard Class\",\"Standard Class\",\"Standard Class\",\"First Class\",\"First Class\",\"First Class\",\"First Class\",\"Standard Class\",\"Standard Class\",\"Second Class\",\"Second Class\",\"First Class\",\"First Class\",\"Standard Class\",\"Second Class\",\"Second Class\",\"Second Class\",\"Second Class\",\"Second Class\",\"Standard Class\",\"First Class\",\"First Class\",\"First Class\",\"First Class\",\"First Class\",\"Standard Class\",\"Standard Class\",\"Standard Class\",\"Standard Class\",\"First Class\",\"First Class\",\"Standard Class\",\"Standard Class\",\"Standard Class\",\"Second Class\",\"Second Class\",\"Second Class\",\"Second Class\",\"Standard Class\",\"Standard Class\",\"Standard Class\",\"Standard Class\",\"First Class\",\"Standard Class\",\"Standard Class\",\"First Class\",\"Second Class\",\"First Class\",\"First Class\",\"First Class\",\"Standard Class\",\"Standard Class\",\"Second Class\",\"Standard Class\",\"Standard Class\",\"Standard Class\",\"Second Class\",\"Second Class\",\"Second Class\",\"Second Class\",\"Second Class\",\"Standard Class\",\"Standard Class\",\"Standard Class\",\"Standard Class\",\"Standard Class\",\"Standard Class\",\"Standard Class\",\"First Class\",\"Same Day\",\"First Class\",\"First Class\",\"First Class\",\"First Class\",\"First Class\",\"First Class\",\"Standard Class\",\"Standard Class\",\"Standard Class\",\"Second Class\",\"Second Class\",\"Standard Class\",\"First Class\",\"First Class\",\"Second Class\",\"Second Class\",\"First Class\",\"First Class\",\"Second Class\",\"First Class\",\"First Class\",\"Standard Class\",\"Standard Class\",\"Standard Class\",\"Standard Class\",\"Standard Class\",\"Second Class\",\"Second Class\",\"Standard Class\",\"Standard Class\",\"Standard Class\",\"Standard Class\",\"Second Class\",\"Standard Class\",\"Standard Class\",\"Standard Class\",\"Standard Class\",\"Standard Class\",\"Same Day\",\"Standard Class\",\"Standard Class\",\"Standard Class\",\"Standard Class\",\"Same Day\",\"Standard Class\",\"Standard Class\",\"Standard Class\",\"Standard Class\",\"Second Class\",\"Standard Class\",\"Standard Class\",\"First Class\",\"Standard Class\",\"Standard Class\",\"Standard Class\",\"Standard Class\",\"Standard Class\",\"Standard Class\",\"Standard Class\",\"Standard Class\",\"Standard Class\",\"Standard Class\",\"Second Class\",\"Standard Class\",\"Standard Class\",\"Standard Class\",\"Standard Class\",\"Second Class\",\"Standard Class\",\"Second Class\",\"First Class\",\"Standard Class\",\"Standard Class\",\"Second Class\",\"Second Class\",\"Second Class\",\"Second Class\",\"Second Class\",\"Second Class\",\"Second Class\",\"Second Class\",\"Second Class\",\"Second Class\",\"Second Class\",\"Second Class\",\"Standard Class\",\"Standard Class\",\"Standard Class\",\"Standard Class\",\"Second Class\",\"Standard Class\",\"Second Class\",\"Second Class\",\"Same Day\",\"First Class\",\"First Class\",\"Standard Class\",\"Standard Class\",\"Standard Class\",\"Same Day\",\"Standard Class\",\"Standard Class\",\"Standard Class\",\"Standard Class\",\"First Class\",\"First Class\",\"First Class\",\"Standard Class\",\"Standard Class\",\"Standard Class\",\"Standard Class\",\"Standard Class\",\"Standard Class\",\"Second Class\",\"Second Class\",\"Second Class\",\"Second Class\",\"Standard Class\",\"First Class\",\"Second Class\",\"Standard Class\",\"Standard Class\",\"Standard Class\",\"Second Class\",\"Second Class\",\"Second Class\",\"Second Class\",\"Standard Class\",\"Standard Class\",\"Standard Class\",\"Standard Class\",\"First Class\",\"First Class\",\"First Class\",\"First Class\",\"First Class\",\"Same Day\",\"Standard Class\",\"Standard Class\",\"Standard Class\",\"Standard Class\",\"Standard Class\",\"Standard Class\",\"Second Class\",\"First Class\",\"First Class\",\"First Class\",\"Second Class\",\"Standard Class\",\"Standard Class\",\"Standard Class\",\"Standard Class\",\"Standard Class\",\"Standard Class\",\"Second Class\",\"Second Class\",\"Second Class\",\"First Class\",\"Standard Class\",\"Standard Class\",\"Standard Class\",\"Standard Class\",\"Standard Class\",\"Second Class\",\"Second Class\",\"First Class\",\"First Class\",\"First Class\",\"First Class\",\"First Class\",\"First Class\",\"Standard Class\",\"Same Day\",\"Same Day\",\"Same Day\",\"First Class\",\"Same Day\",\"Same Day\",\"Same Day\",\"Same Day\",\"Same Day\",\"Same Day\",\"Second Class\",\"Second Class\",\"Second Class\",\"First Class\",\"First Class\",\"First Class\",\"First Class\",\"Standard Class\",\"Second Class\",\"First Class\",\"First Class\",\"Same Day\",\"Standard Class\",\"Standard Class\",\"Standard Class\",\"Standard Class\",\"Standard Class\",\"Standard Class\",\"Standard Class\",\"Standard Class\",\"Standard Class\",\"Standard Class\",\"Standard Class\",\"Standard Class\",\"Standard Class\",\"Second Class\",\"Standard Class\",\"First Class\",\"Standard Class\",\"First Class\",\"Standard Class\",\"Standard Class\",\"Second Class\",\"Second Class\",\"Second Class\",\"Second Class\",\"Standard Class\",\"Standard Class\",\"First Class\",\"First Class\",\"First Class\",\"Standard Class\",\"Standard Class\",\"Standard Class\",\"Standard Class\",\"Standard Class\",\"Standard Class\",\"Standard Class\",\"First Class\",\"First Class\",\"First Class\",\"First Class\",\"Standard Class\",\"Standard Class\",\"Standard Class\",\"Standard Class\",\"Standard Class\",\"Standard Class\",\"First Class\",\"First Class\",\"First Class\",\"Standard Class\",\"Standard Class\",\"Second Class\",\"Second Class\",\"Standard Class\",\"Standard Class\",\"Standard Class\",\"Standard Class\",\"Standard Class\",\"Standard Class\",\"Standard Class\",\"Standard Class\",\"Standard Class\",\"Standard Class\",\"Standard Class\",\"Standard Class\",\"Standard Class\",\"Standard Class\",\"Standard Class\",\"Standard Class\",\"Standard Class\",\"Standard Class\",\"Standard Class\",\"Second Class\",\"Standard Class\",\"Standard Class\",\"Standard Class\",\"Standard Class\",\"Same Day\",\"Standard Class\",\"Standard Class\",\"Standard Class\",\"Standard Class\",\"Standard Class\",\"First Class\",\"Standard Class\",\"Standard Class\",\"Standard Class\",\"Second Class\",\"Standard Class\",\"Standard Class\",\"Standard Class\",\"Standard Class\",\"Standard Class\",\"Standard Class\",\"Standard Class\",\"Standard Class\",\"Standard Class\",\"Standard Class\",\"Second Class\",\"Standard Class\",\"Standard Class\",\"Standard Class\",\"Standard Class\",\"First Class\",\"Standard Class\",\"Standard Class\",\"Second Class\",\"Second Class\",\"First Class\",\"Second Class\",\"Same Day\",\"Standard Class\",\"Standard Class\",\"Standard Class\",\"Standard Class\",\"Standard Class\",\"Standard Class\",\"Standard Class\",\"Standard Class\",\"Standard Class\",\"Standard Class\",\"Standard Class\",\"Standard Class\",\"Standard Class\",\"Standard Class\",\"Standard Class\",\"Standard Class\",\"Standard Class\",\"Standard Class\",\"Second Class\",\"Same Day\",\"Same Day\",\"Second Class\",\"Standard Class\",\"Standard Class\",\"Standard Class\",\"Standard Class\",\"Standard Class\",\"First Class\",\"First Class\",\"First Class\",\"First Class\",\"Standard Class\",\"Standard Class\",\"Standard Class\",\"Standard Class\",\"Standard Class\",\"Standard Class\",\"Second Class\",\"Standard Class\",\"Standard Class\",\"Standard Class\",\"Standard Class\",\"Standard Class\",\"Standard Class\",\"Standard Class\",\"Standard Class\",\"Standard Class\",\"Same Day\",\"Same Day\",\"Standard Class\",\"Standard Class\",\"Standard Class\",\"Standard Class\",\"Standard Class\",\"First Class\",\"Second Class\",\"Second Class\",\"Second Class\",\"Second Class\",\"Second Class\",\"Second Class\",\"Standard Class\",\"Standard Class\",\"Standard Class\",\"Standard Class\",\"Standard Class\",\"Standard Class\",\"Standard Class\",\"Standard Class\",\"Standard Class\",\"Standard Class\",\"Standard Class\",\"Standard Class\",\"Standard Class\",\"Same Day\",\"Standard Class\",\"Standard Class\",\"Standard Class\",\"Standard Class\",\"Standard Class\",\"Standard Class\",\"Standard Class\",\"Standard Class\",\"Standard Class\",\"Second Class\",\"Second Class\",\"Second Class\",\"Standard Class\",\"Same Day\",\"Standard Class\",\"Standard Class\",\"Standard Class\",\"Standard Class\",\"Second Class\",\"Second Class\",\"Second Class\",\"Second Class\",\"Standard Class\",\"Standard Class\",\"Standard Class\",\"Standard Class\",\"Standard Class\"],\"legendgroup\":\"\",\"name\":\"\",\"showlegend\":true,\"values\":[1.0,1.0,1.0,1.0,1.0,1.0,1.0,1.0,1.0,1.0,1.0,1.0,1.0,1.0,1.0,1.0,1.0,1.0,1.0,1.0,1.0,1.0,1.0,1.0,1.0,1.0,1.0,1.0,1.0,1.0,1.0,1.0,1.0,1.0,1.0,1.0,1.0,1.0,1.0,1.0,1.0,1.0,1.0,1.0,1.0,1.0,1.0,1.0,1.0,1.0,1.0,1.0,1.0,1.0,1.0,1.0,1.0,1.0,1.0,1.0,1.0,1.0,1.0,1.0,1.0,1.0,1.0,1.0,1.0,1.0,1.0,1.0,1.0,1.0,1.0,1.0,1.0,1.0,1.0,1.0,1.0,1.0,1.0,1.0,1.0,1.0,1.0,1.0,1.0,1.0,1.0,1.0,1.0,1.0,1.0,1.0,1.0,1.0,1.0,1.0,1.0,1.0,1.0,1.0,1.0,1.0,1.0,1.0,1.0,1.0,1.0,1.0,1.0,1.0,1.0,1.0,1.0,1.0,1.0,1.0,1.0,1.0,1.0,1.0,1.0,1.0,1.0,1.0,1.0,1.0,1.0,1.0,1.0,1.0,1.0,1.0,1.0,1.0,1.0,1.0,1.0,1.0,1.0,1.0,1.0,1.0,1.0,1.0,1.0,1.0,1.0,1.0,1.0,1.0,1.0,1.0,1.0,1.0,1.0,1.0,1.0,1.0,1.0,1.0,1.0,1.0,1.0,1.0,1.0,1.0,1.0,1.0,1.0,1.0,1.0,1.0,1.0,1.0,1.0,1.0,1.0,1.0,1.0,1.0,1.0,1.0,1.0,1.0,1.0,1.0,1.0,1.0,1.0,1.0,1.0,1.0,1.0,1.0,1.0,1.0,1.0,1.0,1.0,1.0,1.0,1.0,1.0,1.0,1.0,1.0,1.0,1.0,1.0,1.0,1.0,1.0,1.0,1.0,1.0,1.0,1.0,1.0,1.0,1.0,1.0,1.0,1.0,1.0,1.0,1.0,1.0,1.0,1.0,1.0,1.0,1.0,1.0,1.0,1.0,1.0,1.0,1.0,1.0,1.0,1.0,1.0,1.0,1.0,1.0,1.0,1.0,1.0,1.0,1.0,1.0,1.0,1.0,1.0,1.0,1.0,1.0,1.0,1.0,1.0,1.0,1.0,1.0,1.0,1.0,1.0,1.0,1.0,1.0,1.0,1.0,1.0,1.0,1.0,1.0,1.0,1.0,1.0,1.0,1.0,1.0,1.0,1.0,1.0,1.0,1.0,1.0,1.0,1.0,1.0,1.0,1.0,1.0,1.0,1.0,1.0,1.0,1.0,1.0,1.0,1.0,1.0,1.0,1.0,1.0,1.0,1.0,1.0,1.0,1.0,1.0,1.0,1.0,1.0,1.0,1.0,1.0,1.0,1.0,1.0,1.0,1.0,1.0,1.0,1.0,1.0,1.0,1.0,1.0,1.0,1.0,1.0,1.0,1.0,1.0,1.0,1.0,1.0,1.0,1.0,1.0,1.0,1.0,1.0,1.0,1.0,1.0,1.0,1.0,1.0,1.0,1.0,1.0,1.0,1.0,1.0,1.0,1.0,1.0,1.0,1.0,1.0,1.0,1.0,1.0,1.0,1.0,1.0,1.0,1.0,1.0,1.0,1.0,1.0,1.0,1.0,1.0,1.0,1.0,1.0,1.0,1.0,1.0,1.0,1.0,1.0,1.0,1.0,1.0,1.0,1.0,1.0,1.0,1.0,1.0,1.0,1.0,1.0,1.0,1.0,1.0,1.0,1.0,1.0,1.0,1.0,1.0,1.0,1.0,1.0,1.0,1.0,1.0,1.0,1.0,1.0,1.0,1.0,1.0,1.0,1.0,1.0,1.0,1.0,1.0,1.0,1.0,1.0,1.0,1.0,1.0,1.0,1.0,1.0,1.0,1.0,1.0,1.0,1.0,1.0,1.0,1.0,1.0,1.0,1.0,1.0,1.0,1.0,1.0,1.0,1.0,1.0,1.0,1.0,1.0,1.0,1.0,1.0,1.0,1.0,1.0,1.0,1.0,1.0,1.0,1.0,1.0,1.0,1.0,1.0,1.0,1.0,1.0,1.0,1.0,1.0,1.0,1.0,1.0,1.0,1.0,1.0,1.0,1.0,1.0,1.0,1.0,1.0,1.0,1.0,1.0,1.0,1.0,1.0,1.0,1.0,1.0,1.0,1.0,1.0,1.0,1.0,1.0,1.0,1.0,1.0,1.0,1.0,1.0,1.0,1.0,1.0,1.0,1.0,1.0,1.0,1.0,1.0,1.0,1.0,1.0,1.0,1.0,1.0,1.0,1.0,1.0,1.0,1.0,1.0,1.0,1.0,1.0,1.0,1.0,1.0,1.0,1.0,1.0,1.0,1.0,1.0,1.0,1.0,1.0,1.0,1.0,1.0,1.0,1.0,1.0,1.0,1.0,1.0,1.0,1.0,1.0,1.0,1.0,1.0,1.0,1.0,1.0,1.0,1.0,1.0,1.0,1.0,1.0,1.0,1.0,1.0,1.0,1.0,1.0,1.0,1.0,1.0,1.0,1.0,1.0,1.0,1.0,1.0,1.0,1.0,1.0,1.0,1.0,1.0,1.0,1.0,1.0,1.0,1.0,1.0,1.0,1.0,1.0,1.0,1.0,1.0,1.0,1.0,1.0,1.0,1.0,1.0,1.0,1.0,1.0,1.0,1.0,1.0,1.0,1.0,1.0,1.0,1.0,1.0,1.0,1.0,1.0,1.0,1.0,1.0,1.0,1.0,1.0,1.0,1.0,1.0,1.0,1.0,1.0,1.0,1.0,1.0,1.0,1.0,1.0,1.0,1.0,1.0,1.0,1.0,1.0,1.0,1.0,1.0,1.0,1.0,1.0,1.0,1.0,1.0,1.0,1.0,1.0,1.0,1.0,1.0,1.0,1.0,1.0,1.0,1.0,1.0,1.0,1.0,1.0,1.0,1.0,1.0,1.0,1.0,1.0,1.0,1.0,1.0,1.0,1.0,1.0,1.0,1.0,1.0,1.0,1.0,1.0,1.0,1.0,1.0,1.0,1.0,1.0,1.0,1.0,1.0,1.0,1.0,1.0,1.0,1.0,1.0,1.0,1.0,1.0,1.0,1.0,1.0,1.0,1.0,1.0,1.0,1.0,1.0,1.0,1.0,1.0,1.0,1.0,1.0,1.0,1.0,1.0,1.0,1.0,1.0,1.0,1.0,1.0,1.0,1.0,1.0,1.0,1.0,1.0,1.0,1.0,1.0,1.0,1.0,1.0,1.0,1.0,1.0,1.0,1.0,1.0,1.0,1.0,1.0,1.0,1.0,1.0,1.0,1.0,1.0,1.0,1.0,1.0,1.0,1.0,1.0,1.0,1.0,1.0,1.0,1.0,1.0,1.0,1.0,1.0,1.0,1.0,1.0,1.0,1.0,1.0,1.0,1.0,1.0,1.0,1.0,1.0,1.0,1.0,1.0,1.0,1.0,1.0,1.0,1.0,1.0,1.0,1.0,1.0,1.0,1.0,1.0,1.0,1.0,1.0,1.0,1.0,1.0,1.0,1.0,1.0,1.0,1.0,1.0,1.0,1.0,1.0,1.0,1.0,1.0,1.0,1.0,1.0,1.0,1.0,1.0,1.0,1.0,1.0,1.0,1.0,1.0,1.0,1.0,1.0,1.0,1.0,1.0,1.0,1.0,1.0,1.0,1.0,1.0,1.0,1.0,1.0,1.0,1.0,1.0,1.0,1.0,1.0,1.0,1.0,1.0,1.0,1.0,1.0,1.0,1.0,1.0,1.0,1.0,1.0,1.0,1.0,1.0,1.0,1.0,1.0,1.0,1.0,1.0,1.0,1.0,1.0,1.0,1.0,1.0,1.0,1.0,1.0,1.0,1.0,1.0,1.0,1.0,1.0,1.0,1.0,1.0,1.0,1.0,1.0,1.0,1.0,1.0,1.0,1.0,1.0,1.0,1.0,1.0,1.0,1.0,1.0,1.0,1.0,1.0,1.0,1.0,1.0,1.0,1.0,1.0,1.0,1.0,1.0,1.0,1.0,1.0,1.0,1.0,1.0,1.0,1.0,1.0,1.0,1.0,1.0,1.0,1.0,1.0,1.0,1.0,1.0,1.0,1.0,1.0,1.0,1.0,1.0,1.0,1.0,1.0,1.0,1.0,1.0,1.0,1.0,1.0,1.0,1.0,1.0,1.0,1.0,1.0,1.0,1.0,1.0,1.0,1.0,1.0,1.0,1.0,1.0,1.0,1.0,1.0,1.0,1.0,1.0,1.0,1.0,1.0,1.0,1.0,1.0,1.0,1.0,1.0,1.0,1.0,1.0,1.0,1.0,1.0,1.0,1.0,1.0,1.0,1.0,1.0,1.0,1.0,1.0,1.0,1.0,1.0,1.0,1.0,1.0,1.0,1.0,1.0,1.0,1.0,1.0,1.0,1.0,1.0,1.0,1.0,1.0,1.0,1.0,1.0,1.0,1.0,1.0,1.0,1.0,1.0,1.0,1.0,1.0,1.0,1.0,1.0,1.0,1.0,1.0,1.0,1.0,1.0,1.0,1.0,1.0,1.0,1.0,1.0,1.0,1.0,1.0,1.0,1.0,1.0,1.0,1.0,1.0,1.0,1.0,1.0,1.0,1.0,1.0,1.0,1.0,1.0,1.0,1.0,1.0,1.0,1.0,1.0,1.0,1.0,1.0,1.0,1.0,1.0,1.0,1.0,1.0,1.0,1.0,1.0,1.0,1.0,1.0,1.0,1.0,1.0,1.0,1.0,1.0,1.0,1.0,1.0,1.0,1.0,1.0,1.0,1.0,1.0,1.0,1.0,1.0,1.0,1.0,1.0,1.0,1.0,1.0,1.0,1.0,1.0,1.0,1.0,1.0,1.0,1.0,1.0,1.0,1.0,1.0,1.0,1.0,1.0,1.0,1.0,1.0,1.0,1.0,1.0,1.0,1.0,1.0,1.0,1.0,1.0,1.0,1.0,1.0,1.0,1.0,1.0,1.0,1.0,1.0,1.0,1.0,1.0,1.0,1.0,1.0,1.0,1.0,1.0,1.0,1.0,1.0,1.0,1.0,1.0,1.0,1.0,1.0,1.0,1.0,1.0,1.0,1.0,1.0,1.0,1.0,1.0,1.0,1.0,1.0,1.0,1.0,1.0,1.0,1.0,1.0,1.0,1.0,1.0,1.0,1.0,1.0,1.0,1.0,1.0,1.0,1.0,1.0,1.0,1.0,1.0,1.0,1.0,1.0,1.0,1.0,1.0,1.0,1.0,1.0,1.0,1.0,1.0,1.0,1.0,1.0,1.0,1.0,1.0,1.0,1.0,1.0,1.0,1.0,1.0,1.0,1.0,1.0,1.0,1.0,1.0,1.0,1.0,1.0,1.0,1.0,1.0,1.0,1.0,1.0,1.0,1.0,1.0,1.0,1.0,1.0,1.0,1.0,1.0,1.0,1.0,1.0,1.0,1.0,1.0,1.0,1.0,1.0,1.0,1.0,1.0,1.0,1.0,1.0,1.0,1.0,1.0,1.0,1.0,1.0,1.0,1.0,1.0,1.0,1.0,1.0,1.0,1.0,1.0,1.0,1.0,1.0,1.0,1.0,1.0,1.0,1.0,1.0,1.0,1.0,1.0,1.0,1.0,1.0,1.0,1.0,1.0,1.0,1.0,1.0,1.0,1.0,1.0,1.0,1.0,1.0,1.0,1.0,1.0,1.0,1.0,1.0,1.0,1.0,1.0,1.0,1.0,1.0,1.0,1.0,1.0,1.0,1.0,1.0,1.0,1.0,1.0,1.0,1.0,1.0,1.0,1.0,1.0,1.0,1.0,1.0,1.0,1.0,1.0,1.0,1.0,1.0,1.0,1.0,1.0,1.0,1.0,1.0,1.0,1.0,1.0,1.0,1.0,1.0,1.0,1.0,1.0,1.0,1.0,1.0,1.0,1.0,1.0,1.0,1.0,1.0,1.0,1.0,1.0,1.0,1.0,1.0,1.0,1.0,1.0,1.0,1.0,1.0,1.0,1.0,1.0,1.0,1.0,1.0,1.0,1.0,1.0,1.0,1.0,1.0,1.0,1.0,1.0,1.0,1.0,1.0,1.0,1.0,1.0,1.0,1.0,1.0,1.0,1.0,1.0,1.0,1.0,1.0,1.0,1.0,1.0,1.0,1.0,1.0,1.0,1.0,1.0,1.0,1.0,1.0,1.0,1.0,1.0,1.0,1.0,1.0,1.0,1.0,1.0,1.0,1.0,1.0,1.0,1.0,1.0,1.0,1.0,1.0,1.0,1.0,1.0,1.0,1.0,1.0,1.0,1.0,1.0,1.0,1.0,1.0,1.0,1.0,1.0,1.0,1.0,1.0,1.0,1.0,1.0,1.0,1.0,1.0,1.0,1.0,1.0,1.0,1.0,1.0,1.0,1.0,1.0,1.0,1.0,1.0,1.0,1.0,1.0,1.0,1.0,1.0,1.0,1.0,1.0,1.0,1.0,1.0,1.0,1.0,1.0,1.0,1.0,1.0,1.0,1.0,1.0,1.0,1.0,1.0,1.0,1.0,1.0,1.0,1.0,1.0,1.0,1.0,1.0,1.0,1.0,1.0,1.0,1.0,1.0,1.0,1.0,1.0,1.0,1.0,1.0,1.0,1.0,1.0,1.0,1.0,1.0,1.0,1.0,1.0,1.0,1.0,1.0,1.0,1.0,1.0,1.0,1.0,1.0,1.0,1.0,1.0,1.0,1.0,1.0,1.0,1.0,1.0,1.0,1.0,1.0,1.0,1.0,1.0,1.0,1.0,1.0,1.0,1.0,1.0,1.0,1.0,1.0,1.0,1.0,1.0,1.0,1.0,1.0,1.0,1.0,1.0,1.0,1.0,1.0,1.0,1.0,1.0,1.0,1.0,1.0,1.0,1.0,1.0,1.0,1.0,1.0,1.0,1.0,1.0,1.0,1.0,1.0,1.0,1.0,1.0,1.0,1.0,1.0,1.0,1.0,1.0,1.0,1.0,1.0,1.0,1.0,1.0,1.0,1.0,1.0,1.0,1.0,1.0,1.0,1.0,1.0,1.0,1.0,1.0,1.0,1.0,1.0,1.0,1.0,1.0,1.0,1.0,1.0,1.0,1.0,1.0,1.0,1.0,1.0,1.0,1.0,1.0,1.0,1.0,1.0,1.0,1.0,1.0,1.0,1.0,1.0,1.0,1.0,1.0,1.0,1.0,1.0,1.0,1.0,1.0,1.0,1.0,1.0,1.0,1.0,1.0,1.0,1.0,1.0,1.0,1.0,1.0,1.0,1.0,1.0,1.0,1.0,1.0,1.0,1.0,1.0,1.0,1.0,1.0,1.0,1.0,1.0,1.0,1.0,1.0,1.0,1.0,1.0,1.0,1.0,1.0,1.0,1.0,1.0,1.0,1.0,1.0,1.0,1.0,1.0,1.0,1.0,1.0,1.0,1.0,1.0,1.0,1.0,1.0,1.0,1.0,1.0,1.0,1.0,1.0,1.0,1.0,1.0,1.0,1.0,1.0,1.0,1.0,1.0,1.0,1.0,1.0,1.0,1.0,1.0,1.0,1.0,1.0,1.0,1.0,1.0,1.0,1.0,1.0,1.0,1.0,1.0,1.0,1.0,1.0,1.0,1.0,1.0,1.0,1.0,1.0,1.0,1.0,1.0,1.0,1.0,1.0,1.0,1.0,1.0,1.0,1.0,1.0,1.0,1.0,1.0,1.0,1.0,1.0,1.0,1.0,1.0,1.0,1.0,1.0,1.0,1.0,1.0,1.0,1.0,1.0,1.0,1.0,1.0,1.0,1.0,1.0,1.0,1.0,1.0,1.0,1.0,1.0,1.0,1.0,1.0,1.0,1.0,1.0,1.0,1.0,1.0,1.0,1.0,1.0,1.0,1.0,1.0,1.0,1.0,1.0,1.0,1.0,1.0,1.0,1.0,1.0,1.0,1.0,1.0,1.0,1.0,1.0,1.0,1.0,1.0,1.0,1.0,1.0,1.0,1.0,1.0,1.0,1.0,1.0,1.0,1.0,1.0,1.0,1.0,1.0,1.0,1.0,1.0,1.0,1.0,1.0,1.0,1.0,1.0,1.0,1.0,1.0,1.0,1.0,1.0,1.0,1.0,1.0,1.0,1.0,1.0,1.0,1.0,1.0,1.0,1.0,1.0,1.0,1.0,1.0,1.0,1.0,1.0,1.0,1.0,1.0,1.0,1.0,1.0,1.0,1.0,1.0,1.0,1.0,1.0,1.0,1.0,1.0,1.0,1.0,1.0,1.0,1.0,1.0,1.0,1.0,1.0,1.0,1.0,1.0,1.0,1.0,1.0,1.0,1.0,1.0,1.0,1.0,1.0,1.0,1.0,1.0,1.0,1.0,1.0,1.0,1.0,1.0,1.0,1.0,1.0,1.0,1.0,1.0,1.0,1.0,1.0,1.0,1.0,1.0,1.0,1.0,1.0,1.0,1.0,1.0,1.0,1.0,1.0,1.0,1.0,1.0,1.0,1.0,1.0,1.0,1.0,1.0,1.0,1.0,1.0,1.0,1.0,1.0,1.0,1.0,1.0,1.0,1.0,1.0,1.0,1.0,1.0,1.0,1.0,1.0,1.0,1.0,1.0,1.0,1.0,1.0,1.0,1.0,1.0,1.0,1.0,1.0,1.0,1.0,1.0,1.0,1.0,1.0,1.0,1.0,1.0,1.0,1.0,1.0,1.0,1.0,1.0,1.0,1.0,1.0,1.0,1.0,1.0,1.0,1.0,1.0,1.0,1.0,1.0,1.0,1.0,1.0,1.0,1.0,1.0,1.0,1.0,1.0,1.0,1.0,1.0,1.0,1.0,1.0,1.0,1.0,1.0,1.0,1.0,1.0,1.0,1.0,1.0,1.0,1.0,1.0,1.0,1.0,1.0,1.0,1.0,1.0,1.0,1.0,1.0,1.0,1.0,1.0,1.0,1.0,1.0,1.0,1.0,1.0,1.0,1.0,1.0,1.0,1.0,1.0,1.0,1.0,1.0,1.0,1.0,1.0,1.0,1.0,1.0,1.0,1.0,1.0,1.0,1.0,1.0,1.0,1.0,1.0,1.0,1.0,1.0,1.0,1.0,1.0,1.0,1.0,1.0,1.0,1.0,1.0,1.0,1.0,1.0,1.0,1.0,1.0,1.0,1.0,1.0,1.0,1.0,1.0,1.0,1.0,1.0,1.0,1.0,1.0,1.0,1.0,1.0,1.0,1.0,1.0,1.0,1.0,1.0,1.0,1.0,1.0,1.0,1.0,1.0,1.0,1.0,1.0,1.0,1.0,1.0,1.0,1.0,1.0,1.0,1.0,1.0,1.0,1.0,1.0,1.0,1.0,1.0,1.0,1.0,1.0,1.0,1.0,1.0,1.0,1.0,1.0,1.0,1.0,1.0,1.0,1.0,1.0,1.0,1.0,1.0,1.0,1.0,1.0,1.0,1.0,1.0,1.0,1.0,1.0,1.0,1.0,1.0,1.0,1.0,1.0,1.0,1.0,1.0,1.0,1.0,1.0,1.0,1.0,1.0,1.0,1.0,1.0,1.0,1.0,1.0,1.0,1.0,1.0,1.0,1.0,1.0,1.0,1.0,1.0,1.0,1.0,1.0,1.0,1.0,1.0,1.0,1.0,1.0,1.0,1.0,1.0,1.0,1.0,1.0,1.0,1.0,1.0,1.0,1.0,1.0,1.0,1.0,1.0,1.0,1.0,1.0,1.0,1.0,1.0,1.0,1.0,1.0,1.0,1.0,1.0,1.0,1.0,1.0,1.0,1.0,1.0,1.0,1.0,1.0,1.0,1.0,1.0,1.0,1.0,1.0,1.0,1.0,1.0,1.0,1.0,1.0,1.0,1.0,1.0,1.0,1.0,1.0,1.0,1.0,1.0,1.0,1.0,1.0,1.0,1.0,1.0,1.0,1.0,1.0,1.0,1.0,1.0,1.0,1.0,1.0,1.0,1.0,1.0,1.0,1.0,1.0,1.0,1.0,1.0,1.0,1.0,1.0,1.0,1.0,1.0,1.0,1.0,1.0,1.0,1.0,1.0,1.0,1.0,1.0,1.0,1.0,1.0,1.0,1.0,1.0,1.0,1.0,1.0,1.0,1.0,1.0,1.0,1.0,1.0,1.0,1.0,1.0,1.0,1.0,1.0,1.0,1.0,1.0,1.0,1.0,1.0,1.0,1.0,1.0,1.0,1.0,1.0,1.0,1.0,1.0,1.0,1.0,1.0,1.0,1.0,1.0,1.0,1.0,1.0,1.0,1.0,1.0,1.0,1.0,1.0,1.0,1.0,1.0,1.0,1.0,1.0,1.0,1.0,1.0,1.0,1.0,1.0,1.0,1.0,1.0,1.0,1.0,1.0,1.0,1.0,1.0,1.0,1.0,1.0,1.0,1.0,1.0,1.0,1.0,1.0,1.0,1.0,1.0,1.0,1.0,1.0,1.0,1.0,1.0,1.0,1.0,1.0,1.0,1.0,1.0,1.0,1.0,1.0,1.0,1.0,1.0,1.0,1.0,1.0,1.0,1.0,1.0,1.0,1.0,1.0,1.0,1.0,1.0,1.0,1.0,1.0,1.0,1.0,1.0,1.0,1.0,1.0,1.0,1.0,1.0,1.0,1.0,1.0,1.0,1.0,1.0,1.0,1.0,1.0,1.0,1.0,1.0,1.0,1.0,1.0,1.0,1.0,1.0,1.0,1.0,1.0,1.0,1.0,1.0,1.0,1.0,1.0,1.0,1.0,1.0,1.0,1.0,1.0,1.0,1.0,1.0,1.0,1.0,1.0,1.0,1.0,1.0,1.0,1.0,1.0,1.0,1.0,1.0,1.0,1.0,1.0,1.0,1.0,1.0,1.0,1.0,1.0,1.0,1.0,1.0,1.0,1.0,1.0,1.0,1.0,1.0,1.0,1.0,1.0,1.0,1.0,1.0,1.0,1.0,1.0,1.0,1.0,1.0,1.0,1.0,1.0,1.0,1.0,1.0,1.0,1.0,1.0,1.0,1.0,1.0,1.0,1.0,1.0,1.0,1.0,1.0,1.0,1.0,1.0,1.0,1.0,1.0,1.0,1.0,1.0,1.0,1.0,1.0,1.0,1.0,1.0,1.0,1.0,1.0,1.0,1.0,1.0,1.0,1.0,1.0,1.0,1.0,1.0,1.0,1.0,1.0,1.0,1.0,1.0,1.0,1.0,1.0,1.0,1.0,1.0,1.0,1.0,1.0,1.0,1.0,1.0,1.0,1.0,1.0,1.0,1.0,1.0,1.0,1.0,1.0,1.0,1.0,1.0,1.0,1.0,1.0,1.0,1.0,1.0,1.0,1.0,1.0,1.0,1.0,1.0,1.0,1.0,1.0,1.0,1.0,1.0,1.0,1.0,1.0,1.0,1.0,1.0,1.0,1.0,1.0,1.0,1.0,1.0,1.0,1.0,1.0,1.0,1.0,1.0,1.0,1.0,1.0,1.0,1.0,1.0,1.0,1.0,1.0,1.0,1.0,1.0,1.0,1.0,1.0,1.0,1.0,1.0,1.0,1.0,1.0,1.0,1.0,1.0,1.0,1.0,1.0,1.0,1.0,1.0,1.0,1.0,1.0,1.0,1.0,1.0,1.0,1.0,1.0,1.0,1.0,1.0,1.0,1.0,1.0,1.0,1.0,1.0,1.0,1.0,1.0,1.0,1.0,1.0,1.0,1.0,1.0,1.0,1.0,1.0,1.0,1.0,1.0,1.0,1.0,1.0,1.0,1.0,1.0,1.0,1.0,1.0,1.0,1.0,1.0,1.0,1.0,1.0,1.0,1.0,1.0,1.0,1.0,1.0,1.0,1.0,1.0,1.0,1.0,1.0,1.0,1.0,1.0,1.0,1.0,1.0,1.0,1.0,1.0,1.0,1.0,1.0,1.0,1.0,1.0,1.0,1.0,1.0,1.0,1.0,1.0,1.0,1.0,1.0,1.0,1.0,1.0,1.0,1.0,1.0,1.0,1.0,1.0,1.0,1.0,1.0,1.0,1.0,1.0,1.0,1.0,1.0,1.0,1.0,1.0,1.0,1.0,1.0,1.0,1.0,1.0,1.0,1.0,1.0,1.0,1.0,1.0,1.0,1.0,1.0,1.0,1.0,1.0,1.0,1.0,1.0,1.0,1.0,1.0,1.0,1.0,1.0,1.0,1.0,1.0,1.0,1.0,1.0,1.0,1.0,1.0,1.0,1.0,1.0,1.0,1.0,1.0,1.0,1.0,1.0,1.0,1.0,1.0,1.0,1.0,1.0,1.0,1.0,1.0,1.0,1.0,1.0,1.0,1.0,1.0,1.0,1.0,1.0,1.0,1.0,1.0,1.0,1.0,1.0,1.0,1.0,1.0,1.0,1.0,1.0,1.0,1.0,1.0,1.0,1.0,1.0,1.0,1.0,1.0,1.0,1.0,1.0,1.0,1.0,1.0,1.0,1.0,1.0,1.0,1.0,1.0,1.0,1.0,1.0,1.0,1.0,1.0,1.0,1.0,1.0,1.0,1.0,1.0,1.0,1.0,1.0,1.0,1.0,1.0,1.0,1.0,1.0,1.0,1.0,1.0,1.0,1.0,1.0,1.0,1.0,1.0,1.0,1.0,1.0,1.0,1.0,1.0,1.0,1.0,1.0,1.0,1.0,1.0,1.0,1.0,1.0,1.0,1.0,1.0,1.0,1.0,1.0,1.0,1.0,1.0,1.0,1.0,1.0,1.0,1.0,1.0,1.0,1.0,1.0,1.0,1.0,1.0,1.0,1.0,1.0,1.0,1.0,1.0,1.0,1.0,1.0,1.0,1.0,1.0,1.0,1.0,1.0,1.0,1.0,1.0,1.0,1.0,1.0,1.0,1.0,1.0,1.0,1.0,1.0,1.0,1.0,1.0,1.0,1.0,1.0,1.0,1.0,1.0,1.0,1.0,1.0,1.0,1.0,1.0,1.0,1.0,1.0,1.0,1.0,1.0,1.0,1.0,1.0,1.0,1.0,1.0,1.0,1.0,1.0,1.0,1.0,1.0,1.0,1.0,1.0,1.0,1.0,1.0,1.0,1.0,1.0,1.0,1.0,1.0,1.0,1.0,1.0,1.0,1.0,1.0,1.0,1.0,1.0,1.0,1.0,1.0,1.0,1.0,1.0,1.0,1.0,1.0,1.0,1.0,1.0,1.0,1.0,1.0,1.0,1.0,1.0,1.0,1.0,1.0,1.0,1.0,1.0,1.0,1.0,1.0,1.0,1.0,1.0,1.0,1.0,1.0,1.0,1.0,1.0,1.0,1.0,1.0,1.0,1.0,1.0,1.0,1.0,1.0,1.0,1.0,1.0,1.0,1.0,1.0,1.0,1.0,1.0,1.0,1.0,1.0,1.0,1.0,1.0,1.0,1.0,1.0,1.0,1.0,1.0,1.0,1.0,1.0,1.0,1.0,1.0,1.0,1.0,1.0,1.0,1.0,1.0,1.0,1.0,1.0,1.0,1.0,1.0,1.0,1.0,1.0,1.0,1.0,1.0,1.0,1.0,1.0,1.0,1.0,1.0,1.0,1.0,1.0,1.0,1.0,1.0,1.0,1.0,1.0,1.0,1.0,1.0,1.0,1.0,1.0,1.0,1.0,1.0,1.0,1.0,1.0,1.0,1.0,1.0,1.0,1.0,1.0,1.0,1.0,1.0,1.0,1.0,1.0,1.0,1.0,1.0,1.0,1.0,1.0,1.0,1.0,1.0,1.0,1.0,1.0,1.0,1.0,1.0,1.0,1.0,1.0,1.0,1.0,1.0,1.0,1.0,1.0,1.0,1.0,1.0,1.0,1.0,1.0,1.0,1.0,1.0,1.0,1.0,1.0,1.0,1.0,1.0,1.0,1.0,1.0,1.0,1.0,1.0,1.0,1.0,1.0,1.0,1.0,1.0,1.0,1.0,1.0,1.0,1.0,1.0,1.0,1.0,1.0,1.0,1.0,1.0,1.0,1.0,1.0,1.0,1.0,1.0,1.0,1.0,1.0,1.0,1.0,1.0,1.0,1.0,1.0,1.0,1.0,1.0,1.0,1.0,1.0,1.0,1.0,1.0,1.0,1.0,1.0,1.0,1.0,1.0,1.0,1.0,1.0,1.0,1.0,1.0,1.0,1.0,1.0,1.0,1.0,1.0,1.0,1.0,1.0,1.0,1.0,1.0,1.0,1.0,1.0,1.0,1.0,1.0,1.0,1.0,1.0,1.0,1.0,1.0,1.0,1.0,1.0,1.0,1.0,1.0,1.0,1.0,1.0,1.0,1.0,1.0,1.0,1.0,1.0,1.0,1.0,1.0,1.0,1.0,1.0,1.0,1.0,1.0,1.0,1.0,1.0,1.0,1.0,1.0,1.0,1.0,1.0,1.0,1.0,1.0,1.0,1.0,1.0,1.0,1.0,1.0,1.0,1.0,1.0,1.0,1.0,1.0,1.0,1.0,1.0,1.0,1.0,1.0,1.0,1.0,1.0,1.0,1.0,1.0,1.0,1.0,1.0,1.0,1.0,1.0,1.0,1.0,1.0,1.0,1.0,1.0,1.0,1.0,1.0,1.0,1.0,1.0,1.0,1.0,1.0,1.0,1.0,1.0,1.0,1.0,1.0,1.0,1.0,1.0,1.0,1.0,1.0,1.0,1.0,1.0,1.0,1.0,1.0,1.0,1.0,1.0,1.0,1.0,1.0,1.0,1.0,1.0,1.0,1.0,1.0,1.0,1.0,1.0,1.0,1.0,1.0,1.0,1.0,1.0,1.0,1.0,1.0,1.0,1.0,1.0,1.0,1.0,1.0,1.0,1.0,1.0,1.0,1.0,1.0,1.0,1.0,1.0,1.0,1.0,1.0,1.0,1.0,1.0,1.0,1.0,1.0,1.0,1.0,1.0,1.0,1.0,1.0,1.0,1.0,1.0,1.0,1.0,1.0,1.0,1.0,1.0,1.0,1.0,1.0,1.0,1.0,1.0,1.0,1.0,1.0,1.0,1.0,1.0,1.0,1.0,1.0,1.0,1.0,1.0,1.0,1.0,1.0,1.0,1.0,1.0,1.0,1.0,1.0,1.0,1.0,1.0,1.0,1.0,1.0,1.0,1.0,1.0,1.0,1.0,1.0,1.0,1.0,1.0,1.0,1.0,1.0,1.0,1.0,1.0,1.0,1.0,1.0,1.0,1.0,1.0,1.0,1.0,1.0,1.0,1.0,1.0,1.0,1.0,1.0,1.0,1.0,1.0,1.0,1.0,1.0,1.0,1.0,1.0,1.0,1.0,1.0,1.0,1.0,1.0,1.0,1.0,1.0,1.0,1.0,1.0,1.0,1.0,1.0,1.0,1.0,1.0,1.0,1.0,1.0,1.0,1.0,1.0,1.0,1.0,1.0,1.0,1.0,1.0,1.0,1.0,1.0,1.0,1.0,1.0,1.0,1.0,1.0,1.0,1.0,1.0,1.0,1.0,1.0,1.0,1.0,1.0,1.0,1.0,1.0,1.0,1.0,1.0,1.0,1.0,1.0,1.0,1.0,1.0,1.0,1.0,1.0,1.0,1.0,1.0,1.0,1.0,1.0,1.0,1.0,1.0,1.0,1.0,1.0,1.0,1.0,1.0,1.0,1.0,1.0,1.0,1.0,1.0,1.0,1.0,1.0,1.0,1.0,1.0,1.0,1.0,1.0,1.0,1.0,1.0,1.0,1.0,1.0,1.0,1.0,1.0,1.0,1.0,1.0,1.0,1.0,1.0,1.0,1.0,1.0,1.0,1.0,1.0,1.0,1.0,1.0,1.0,1.0,1.0,1.0,1.0,1.0,1.0,1.0,1.0,1.0,1.0,1.0,1.0,1.0,1.0,1.0,1.0,1.0,1.0,1.0,1.0,1.0,1.0,1.0,1.0,1.0,1.0,1.0,1.0,1.0,1.0,1.0,1.0,1.0,1.0,1.0,1.0,1.0,1.0,1.0,1.0,1.0,1.0,1.0,1.0,1.0,1.0,1.0,1.0,1.0,1.0,1.0,1.0,1.0,1.0,1.0,1.0,1.0,1.0,1.0,1.0,1.0,1.0,1.0,1.0,1.0,1.0,1.0,1.0,1.0,1.0,1.0,1.0,1.0,1.0,1.0,1.0,1.0,1.0,1.0,1.0,1.0,1.0,1.0,1.0,1.0,1.0,1.0,1.0,1.0,1.0,1.0,1.0,1.0,1.0,1.0,1.0,1.0,1.0,1.0,1.0,1.0,1.0,1.0,1.0,1.0,1.0,1.0,1.0,1.0,1.0,1.0,1.0,1.0,1.0,1.0,1.0,1.0,1.0,1.0,1.0,1.0,1.0,1.0,1.0,1.0,1.0,1.0,1.0,1.0,1.0,1.0,1.0,1.0,1.0,1.0,1.0,1.0,1.0,1.0,1.0,1.0,1.0,1.0,1.0,1.0,1.0,1.0,1.0,1.0,1.0,1.0,1.0,1.0,1.0,1.0,1.0,1.0,1.0,1.0,1.0,1.0,1.0,1.0,1.0,1.0,1.0,1.0,1.0,1.0,1.0,1.0,1.0,1.0,1.0,1.0,1.0,1.0,1.0,1.0,1.0,1.0,1.0,1.0,1.0,1.0,1.0,1.0,1.0,1.0,1.0,1.0,1.0,1.0,1.0,1.0,1.0,1.0,1.0,1.0,1.0,1.0,1.0,1.0,1.0,1.0,1.0,1.0,1.0,1.0,1.0,1.0,1.0,1.0,1.0,1.0,1.0,1.0,1.0,1.0,1.0,1.0,1.0,1.0,1.0,1.0,1.0,1.0,1.0,1.0,1.0,1.0,1.0,1.0,1.0,1.0,1.0,1.0,1.0,1.0,1.0,1.0,1.0,1.0,1.0,1.0,1.0,1.0,1.0,1.0,1.0,1.0,1.0,1.0,1.0,1.0,1.0,1.0,1.0,1.0,1.0,1.0,1.0,1.0,1.0,1.0,1.0,1.0,1.0,1.0,1.0,1.0,1.0,1.0,1.0,1.0,1.0,1.0,1.0,1.0,1.0,1.0,1.0,1.0,1.0,1.0,1.0,1.0,1.0,1.0,1.0,1.0,1.0,1.0,1.0,1.0,1.0,1.0,1.0,1.0,1.0,1.0,1.0,1.0,1.0,1.0,1.0,1.0,1.0,1.0,1.0,1.0,1.0,1.0,1.0,1.0,1.0,1.0,1.0,1.0,1.0,1.0,1.0,1.0,1.0,1.0,1.0,1.0,1.0,1.0,1.0,1.0,1.0,1.0,1.0,1.0,1.0,1.0,1.0,1.0,1.0,1.0,1.0,1.0,1.0,1.0,1.0,1.0,1.0,1.0,1.0,1.0,1.0,1.0,1.0,1.0,1.0,1.0,1.0,1.0,1.0,1.0,1.0,1.0,1.0,1.0,1.0,1.0,1.0,1.0,1.0,1.0,1.0,1.0,1.0,1.0,1.0,1.0,1.0,1.0,1.0,1.0,1.0,1.0,1.0,1.0,1.0,1.0,1.0,1.0,1.0,1.0,1.0,1.0,1.0,1.0,1.0,1.0,1.0,1.0,1.0,1.0,1.0,1.0,1.0,1.0,1.0,1.0,1.0,1.0,1.0,1.0,1.0,1.0,1.0,1.0,1.0,1.0,1.0,1.0,1.0,1.0,1.0,1.0,1.0,1.0,1.0,1.0,1.0,1.0,1.0,1.0,1.0,1.0,1.0,1.0,1.0,1.0,1.0,1.0,1.0,1.0,1.0,1.0,1.0,1.0,1.0,1.0,1.0,1.0,1.0,1.0,1.0,1.0,1.0,1.0,1.0,1.0,1.0,1.0,1.0,1.0,1.0,1.0,1.0,1.0,1.0,1.0,1.0,1.0,1.0,1.0,1.0,1.0,1.0,1.0,1.0,1.0,1.0,1.0,1.0,1.0,1.0,1.0,1.0,1.0,1.0,1.0,1.0,1.0,1.0,1.0,1.0,1.0,1.0,1.0,1.0,1.0,1.0,1.0,1.0,1.0,1.0,1.0,1.0,1.0,1.0,1.0,1.0,1.0,1.0,1.0,1.0,1.0,1.0,1.0,1.0,1.0,1.0,1.0,1.0,1.0,1.0,1.0,1.0,1.0,1.0,1.0,1.0,1.0,1.0,1.0,1.0,1.0,1.0,1.0,1.0,1.0,1.0,1.0,1.0,1.0,1.0,1.0,1.0,1.0,1.0,1.0,1.0,1.0,1.0,1.0,1.0,1.0,1.0,1.0,1.0,1.0,1.0,1.0,1.0,1.0,1.0,1.0,1.0,1.0,1.0,1.0,1.0,1.0,1.0,1.0,1.0,1.0,1.0,1.0,1.0,1.0,1.0,1.0,1.0,1.0,1.0,1.0,1.0,1.0,1.0,1.0,1.0,1.0,1.0,1.0,1.0,1.0,1.0,1.0,1.0,1.0,1.0,1.0,1.0,1.0,1.0,1.0,1.0,1.0,1.0,1.0,1.0,1.0,1.0,1.0,1.0,1.0,1.0,1.0,1.0,1.0,1.0,1.0,1.0,1.0,1.0,1.0,1.0,1.0,1.0,1.0,1.0,1.0,1.0,1.0,1.0,1.0,1.0,1.0,1.0,1.0,1.0,1.0,1.0,1.0,1.0,1.0,1.0,1.0,1.0,1.0,1.0,1.0,1.0,1.0,1.0,1.0,1.0,1.0,1.0,1.0,1.0,1.0,1.0,1.0,1.0,1.0,1.0,1.0,1.0,1.0,1.0,1.0,1.0,1.0,1.0,1.0,1.0,1.0,1.0,1.0,1.0,1.0,1.0,1.0,1.0,1.0,1.0,1.0,1.0,1.0,1.0,1.0,1.0,1.0,1.0,1.0,1.0,1.0,1.0,1.0,1.0,1.0,1.0,1.0,1.0,1.0,1.0,1.0,1.0,1.0,1.0,1.0,1.0,1.0,1.0,1.0,1.0,1.0,1.0,1.0,1.0,1.0,1.0,1.0,1.0,1.0,1.0,1.0,1.0,1.0,1.0,1.0,1.0,1.0,1.0,1.0,1.0,1.0,1.0,1.0,1.0,1.0,1.0,1.0,1.0,1.0,1.0,1.0,1.0,1.0,1.0,1.0,1.0,1.0,1.0,1.0,1.0,1.0,1.0,1.0,1.0,1.0,1.0,1.0,1.0,1.0,1.0,1.0,1.0,1.0,1.0,1.0,1.0,1.0,1.0,1.0,1.0,1.0,1.0,1.0,1.0,1.0,1.0,1.0,1.0,1.0,1.0,1.0,1.0,1.0,1.0,1.0,1.0,1.0,1.0,1.0,1.0,1.0,1.0,1.0,1.0,1.0,1.0,1.0,1.0,1.0,1.0,1.0,1.0,1.0,1.0,1.0,1.0,1.0,1.0,1.0,1.0,1.0,1.0,1.0,1.0,1.0,1.0,1.0,1.0,1.0,1.0,1.0,1.0,1.0,1.0,1.0,1.0,1.0,1.0,1.0,1.0,1.0,1.0,1.0,1.0,1.0,1.0,1.0,1.0,1.0,1.0,1.0,1.0,1.0,1.0,1.0,1.0,1.0,1.0,1.0,1.0,1.0,1.0,1.0,1.0,1.0,1.0,1.0,1.0,1.0,1.0,1.0,1.0,1.0,1.0,1.0,1.0,1.0,1.0,1.0,1.0,1.0,1.0,1.0,1.0,1.0,1.0,1.0,1.0,1.0,1.0,1.0,1.0,1.0,1.0,1.0,1.0,1.0,1.0,1.0,1.0,1.0,1.0,1.0,1.0,1.0,1.0,1.0,1.0,1.0,1.0,1.0,1.0,1.0,1.0,1.0,1.0,1.0,1.0,1.0,1.0,1.0,1.0,1.0,1.0,1.0,1.0,1.0,1.0,1.0,1.0,1.0,1.0,1.0,1.0,1.0,1.0,1.0,1.0,1.0,1.0,1.0,1.0,1.0,1.0,1.0,1.0,1.0,1.0,1.0,1.0,1.0,1.0,1.0,1.0,1.0,1.0,1.0,1.0,1.0,1.0,1.0,1.0,1.0,1.0,1.0,1.0,1.0,1.0,1.0,1.0,1.0,1.0,1.0,1.0,1.0,1.0,1.0,1.0,1.0,1.0,1.0,1.0,1.0,1.0,1.0,1.0,1.0,1.0,1.0,1.0,1.0,1.0,1.0,1.0,1.0,1.0,1.0,1.0,1.0,1.0,1.0,1.0,1.0,1.0,1.0,1.0,1.0,1.0,1.0,1.0,1.0,1.0,1.0,1.0,1.0,1.0,1.0,1.0,1.0,1.0,1.0,1.0,1.0,1.0,1.0,1.0,1.0,1.0,1.0,1.0,1.0,1.0,1.0,1.0,1.0,1.0,1.0,1.0,1.0,1.0,1.0,1.0,1.0,1.0,1.0,1.0,1.0,1.0,1.0,1.0,1.0,1.0,1.0,1.0,1.0,1.0,1.0,1.0,1.0,1.0,1.0,1.0,1.0,1.0,1.0,1.0,1.0,1.0,1.0,1.0,1.0,1.0,1.0,1.0,1.0,1.0,1.0,1.0,1.0,1.0,1.0,1.0,1.0,1.0,1.0,1.0,1.0,1.0,1.0,1.0,1.0,1.0,1.0,1.0,1.0,1.0,1.0,1.0,1.0,1.0,1.0,1.0,1.0,1.0,1.0,1.0,1.0,1.0,1.0,1.0,1.0,1.0,1.0,1.0,1.0,1.0,1.0,1.0,1.0,1.0,1.0,1.0,1.0,1.0,1.0,1.0,1.0,1.0,1.0,1.0,1.0,1.0,1.0,1.0,1.0,1.0,1.0,1.0,1.0,1.0,1.0,1.0,1.0,1.0,1.0,1.0,1.0,1.0,1.0,1.0,1.0,1.0,1.0,1.0,1.0,1.0,1.0,1.0,1.0,1.0,1.0,1.0,1.0,1.0,1.0,1.0,1.0,1.0,1.0,1.0,1.0,1.0,1.0,1.0,1.0,1.0,1.0,1.0,1.0,1.0,1.0,1.0,1.0,1.0,1.0,1.0,1.0,1.0,1.0,1.0,1.0,1.0,1.0,1.0,1.0,1.0,1.0,1.0,1.0,1.0,1.0,1.0,1.0,1.0,1.0,1.0,1.0,1.0,1.0,1.0,1.0,1.0,1.0,1.0,1.0,1.0,1.0,1.0,1.0,1.0,1.0,1.0,1.0,1.0,1.0,1.0,1.0,1.0,1.0,1.0,1.0,1.0,1.0,1.0,1.0,1.0,1.0,1.0,1.0,1.0,1.0,1.0,1.0,1.0,1.0,1.0,1.0,1.0,1.0,1.0,1.0,1.0,1.0,1.0,1.0,1.0,1.0,1.0,1.0,1.0,1.0,1.0,1.0,1.0,1.0,1.0,1.0,1.0,1.0,1.0,1.0,1.0,1.0,1.0,1.0,1.0,1.0,1.0,1.0,1.0,1.0,1.0,1.0,1.0,1.0,1.0,1.0,1.0,1.0,1.0,1.0,1.0,1.0,1.0,1.0,1.0,1.0,1.0,1.0,1.0,1.0,1.0,1.0,1.0,1.0,1.0,1.0,1.0,1.0,1.0,1.0,1.0,1.0,1.0,1.0,1.0,1.0,1.0,1.0,1.0,1.0,1.0,1.0,1.0,1.0,1.0,1.0,1.0,1.0,1.0,1.0,1.0,1.0,1.0,1.0,1.0,1.0,1.0,1.0,1.0,1.0,1.0,1.0,1.0,1.0,1.0,1.0,1.0,1.0,1.0,1.0,1.0,1.0,1.0,1.0,1.0,1.0,1.0,1.0,1.0,1.0,1.0,1.0,1.0,1.0,1.0,1.0,1.0,1.0,1.0,1.0,1.0,1.0,1.0,1.0,1.0,1.0,1.0,1.0,1.0,1.0,1.0,1.0,1.0,1.0,1.0,1.0,1.0,1.0,1.0,1.0,1.0,1.0,1.0,1.0,1.0,1.0,1.0,1.0,1.0,1.0,1.0,1.0,1.0,1.0,1.0,1.0,1.0,1.0,1.0,1.0,1.0,1.0,1.0,1.0,1.0,1.0,1.0,1.0,1.0,1.0,1.0,1.0,1.0,1.0,1.0,1.0,1.0,1.0,1.0,1.0,1.0,1.0,1.0,1.0,1.0,1.0,1.0,1.0,1.0,1.0,1.0,1.0,1.0,1.0,1.0,1.0,1.0,1.0,1.0,1.0,1.0,1.0,1.0,1.0,1.0,1.0,1.0,1.0,1.0,1.0,1.0,1.0,1.0,1.0,1.0,1.0,1.0,1.0,1.0,1.0,1.0,1.0,1.0,1.0,1.0,1.0,1.0,1.0,1.0,1.0,1.0,1.0,1.0,1.0,1.0,1.0,1.0,1.0,1.0,1.0,1.0,1.0,1.0,1.0,1.0,1.0,1.0,1.0,1.0,1.0,1.0,1.0,1.0,1.0,1.0,1.0,1.0,1.0,1.0,1.0,1.0,1.0,1.0,1.0,1.0,1.0,1.0,1.0,1.0,1.0,1.0,1.0,1.0,1.0,1.0,1.0,1.0,1.0,1.0,1.0,1.0,1.0,1.0,1.0,1.0,1.0,1.0,1.0,1.0,1.0,1.0,1.0,1.0,1.0,1.0,1.0,1.0,1.0,1.0,1.0,1.0,1.0,1.0,1.0,1.0,1.0,1.0,1.0,1.0,1.0,1.0,1.0,1.0,1.0,1.0,1.0,1.0,1.0,1.0,1.0,1.0,1.0,1.0,1.0,1.0,1.0,1.0,1.0,1.0,1.0,1.0,1.0,1.0,1.0,1.0,1.0,1.0,1.0,1.0,1.0,1.0,1.0,1.0,1.0,1.0,1.0,1.0,1.0,1.0,1.0,1.0,1.0,1.0,1.0,1.0,1.0,1.0,1.0,1.0,1.0,1.0,1.0,1.0,1.0,1.0,1.0,1.0,1.0,1.0,1.0,1.0,1.0,1.0,1.0,1.0,1.0,1.0,1.0,1.0,1.0,1.0,1.0,1.0,1.0,1.0,1.0,1.0,1.0,1.0,1.0,1.0,1.0,1.0,1.0,1.0,1.0,1.0,1.0,1.0,1.0,1.0,1.0,1.0,1.0,1.0,1.0,1.0,1.0,1.0,1.0,1.0,1.0,1.0,1.0,1.0,1.0,1.0,1.0,1.0,1.0,1.0,1.0,1.0,1.0,1.0,1.0,1.0,1.0,1.0,1.0,1.0,1.0,1.0,1.0,1.0,1.0,1.0,1.0,1.0,1.0,1.0,1.0,1.0,1.0,1.0,1.0,1.0,1.0,1.0,1.0,1.0,1.0,1.0,1.0,1.0,1.0,1.0,1.0,1.0,1.0,1.0,1.0,1.0,1.0,1.0,1.0,1.0,1.0,1.0,1.0,1.0,1.0,1.0,1.0,1.0,1.0,1.0,1.0,1.0,1.0,1.0,1.0,1.0,1.0,1.0,1.0,1.0,1.0,1.0,1.0,1.0,1.0,1.0,1.0,1.0,1.0,1.0,1.0,1.0,1.0,1.0,1.0,1.0,1.0,1.0,1.0,1.0,1.0,1.0,1.0,1.0,1.0,1.0,1.0,1.0,1.0,1.0,1.0,1.0,1.0,1.0,1.0,1.0,1.0,1.0,1.0,1.0,1.0,1.0,1.0,1.0,1.0,1.0,1.0,1.0,1.0,1.0,1.0,1.0,1.0,1.0,1.0,1.0,1.0,1.0,1.0,1.0,1.0,1.0,1.0,1.0,1.0,1.0,1.0,1.0,1.0,1.0,1.0,1.0,1.0,1.0,1.0,1.0,1.0,1.0,1.0,1.0,1.0,1.0,1.0,1.0,1.0,1.0,1.0,1.0,1.0,1.0,1.0,1.0,1.0,1.0,1.0,1.0,1.0,1.0,1.0,1.0,1.0,1.0,1.0,1.0,1.0,1.0,1.0,1.0,1.0,1.0,1.0,1.0,1.0,1.0,1.0,1.0,1.0,1.0,1.0,1.0,1.0,1.0,1.0,1.0,1.0,1.0,1.0,1.0,1.0,1.0,1.0,1.0,1.0,1.0,1.0,1.0,1.0,1.0,1.0,1.0,1.0,1.0,1.0,1.0,1.0,1.0,1.0,1.0,1.0,1.0,1.0,1.0,1.0,1.0,1.0,1.0,1.0,1.0,1.0,1.0,1.0,1.0,1.0,1.0,1.0,1.0,1.0,1.0,1.0,1.0,1.0,1.0,1.0,1.0,1.0,1.0,1.0,1.0,1.0,1.0,1.0,1.0,1.0,1.0,1.0,1.0,1.0,1.0,1.0,1.0,1.0,1.0,1.0,1.0,1.0,1.0,1.0,1.0,1.0,1.0,1.0,1.0,1.0,1.0,1.0,1.0,1.0,1.0,1.0,1.0,1.0,1.0,1.0,1.0,1.0,1.0,1.0,1.0,1.0,1.0,1.0,1.0,1.0,1.0,1.0,1.0,1.0,1.0,1.0,1.0,1.0,1.0,1.0,1.0,1.0,1.0,1.0,1.0,1.0,1.0,1.0,1.0,1.0,1.0,1.0,1.0,1.0,1.0,1.0,1.0,1.0,1.0,1.0,1.0,1.0,1.0,1.0,1.0,1.0,1.0,1.0,1.0,1.0,1.0,1.0,1.0,1.0,1.0,1.0,1.0,1.0,1.0,1.0,1.0,1.0,1.0,1.0,1.0,1.0,1.0,1.0,1.0,1.0,1.0,1.0,1.0,1.0,1.0,1.0,1.0,1.0,1.0,1.0,1.0,1.0,1.0,1.0,1.0,1.0,1.0,1.0,1.0,1.0,1.0,1.0,1.0,1.0,1.0,1.0,1.0,1.0,1.0,1.0,1.0,1.0,1.0,1.0,1.0,1.0,1.0,1.0,1.0,1.0,1.0,1.0,1.0,1.0,1.0,1.0,1.0,1.0,1.0,1.0,1.0,1.0,1.0,1.0,1.0,1.0,1.0,1.0,1.0,1.0,1.0,1.0,1.0,1.0,1.0,1.0,1.0,1.0,1.0,1.0,1.0,1.0,1.0,1.0,1.0,1.0,1.0,1.0,1.0,1.0,1.0,1.0,1.0,1.0,1.0,1.0,1.0,1.0,1.0,1.0,1.0,1.0,1.0,1.0,1.0,1.0,1.0,1.0,1.0,1.0,1.0,1.0,1.0,1.0,1.0,1.0,1.0,1.0,1.0,1.0,1.0,1.0,1.0,1.0,1.0,1.0,1.0,1.0,1.0,1.0,1.0,1.0,1.0,1.0,1.0,1.0,1.0,1.0,1.0,1.0,1.0,1.0,1.0,1.0,1.0,1.0,1.0,1.0,1.0,1.0,1.0,1.0,1.0,1.0,1.0,1.0,1.0,1.0,1.0,1.0,1.0,1.0,1.0,1.0,1.0,1.0,1.0,1.0,1.0,1.0,1.0,1.0,1.0,1.0,1.0,1.0,1.0,1.0,1.0,1.0,1.0,1.0,1.0,1.0,1.0,1.0,1.0,1.0,1.0,1.0,1.0,1.0,1.0,1.0,1.0,1.0,1.0,1.0,1.0,1.0,1.0,1.0,1.0,1.0,1.0,1.0,1.0,1.0,1.0,1.0,1.0,1.0,1.0,1.0,1.0,1.0,1.0,1.0,1.0,1.0,1.0,1.0,1.0,1.0,1.0,1.0,1.0,1.0,1.0,1.0,1.0,1.0,1.0,1.0,1.0,1.0,1.0,1.0,1.0,1.0,1.0,1.0,1.0,1.0,1.0,1.0,1.0,1.0,1.0,1.0,1.0,1.0,1.0,1.0,1.0,1.0,1.0,1.0,1.0,1.0,1.0,1.0,1.0,1.0,1.0,1.0,1.0,1.0,1.0,1.0,1.0,1.0,1.0,1.0,1.0,1.0,1.0,1.0,1.0,1.0,1.0,1.0,1.0,1.0,1.0,1.0,1.0,1.0,1.0,1.0,1.0,1.0,1.0,1.0,1.0,1.0,1.0,1.0,1.0,1.0,1.0,1.0,1.0,1.0,1.0,1.0,1.0,1.0,1.0,1.0,1.0,1.0,1.0,1.0,1.0,1.0,1.0,1.0,1.0,1.0,1.0,1.0,1.0,1.0,1.0,1.0,1.0,1.0,1.0,1.0,1.0,1.0,1.0,1.0,1.0,1.0,1.0,1.0,1.0,1.0,1.0,1.0,1.0,1.0,1.0,1.0,1.0,1.0,1.0,1.0,1.0,1.0,1.0,1.0,1.0,1.0,1.0,1.0,1.0,1.0,1.0,1.0,1.0,1.0,1.0,1.0,1.0,1.0,1.0,1.0,1.0,1.0,1.0,1.0,1.0,1.0,1.0,1.0,1.0,1.0,1.0,1.0,1.0,1.0,1.0,1.0,1.0,1.0,1.0,1.0,1.0,1.0,1.0,1.0,1.0,1.0,1.0,1.0,1.0,1.0,1.0,1.0,1.0,1.0,1.0,1.0,1.0,1.0,1.0,1.0,1.0,1.0,1.0,1.0,1.0,1.0,1.0,1.0,1.0,1.0,1.0,1.0,1.0,1.0,1.0,1.0,1.0,1.0,1.0,1.0,1.0,1.0,1.0,1.0,1.0,1.0,1.0,1.0,1.0,1.0,1.0,1.0,1.0,1.0,1.0,1.0,1.0,1.0,1.0,1.0,1.0,1.0,1.0,1.0,1.0,1.0,1.0,1.0,1.0,1.0,1.0,1.0,1.0,1.0,1.0,1.0,1.0,1.0,1.0,1.0,1.0,1.0,1.0,1.0,1.0,1.0,1.0,1.0,1.0,1.0,1.0,1.0,1.0,1.0,1.0,1.0,1.0,1.0,1.0,1.0,1.0,1.0,1.0,1.0,1.0,1.0,1.0,1.0,1.0,1.0,1.0,1.0,1.0,1.0,1.0,1.0,1.0,1.0,1.0,1.0,1.0,1.0,1.0,1.0,1.0,1.0,1.0,1.0,1.0,1.0,1.0,1.0,1.0,1.0,1.0,1.0,1.0,1.0,1.0,1.0,1.0,1.0,1.0,1.0,1.0,1.0,1.0,1.0,1.0,1.0,1.0,1.0,1.0,1.0,1.0,1.0,1.0,1.0,1.0,1.0,1.0,1.0,1.0,1.0,1.0,1.0,1.0,1.0,1.0,1.0,1.0,1.0,1.0,1.0,1.0,1.0,1.0,1.0,1.0,1.0,1.0,1.0,1.0,1.0,1.0,1.0,1.0,1.0,1.0,1.0,1.0,1.0,1.0,1.0,1.0,1.0,1.0,1.0,1.0,1.0,1.0,1.0,1.0,1.0,1.0,1.0,1.0,1.0,1.0,1.0,1.0,1.0,1.0,1.0,1.0,1.0,1.0,1.0,1.0,1.0,1.0,1.0,1.0,1.0,1.0,1.0,1.0,1.0,1.0,1.0,1.0,1.0,1.0,1.0,1.0,1.0,1.0,1.0,1.0,1.0,1.0,1.0,1.0,1.0,1.0,1.0,1.0,1.0,1.0,1.0,1.0,1.0,1.0,1.0,1.0,1.0,1.0,1.0,1.0,1.0,1.0,1.0,1.0,1.0,1.0,1.0,1.0,1.0,1.0,1.0,1.0,1.0,1.0,1.0,1.0,1.0,1.0,1.0,1.0,1.0,1.0,1.0,1.0,1.0,1.0,1.0,1.0,1.0,1.0,1.0,1.0,1.0,1.0,1.0,1.0,1.0,1.0,1.0,1.0,1.0,1.0,1.0,1.0,1.0,1.0,1.0,1.0,1.0,1.0,1.0,1.0,1.0,1.0,1.0,1.0,1.0,1.0,1.0,1.0,1.0,1.0,1.0,1.0,1.0,1.0,1.0,1.0,1.0,1.0,1.0,1.0,1.0,1.0,1.0,1.0,1.0,1.0,1.0,1.0,1.0,1.0,1.0,1.0,1.0,1.0,1.0,1.0,1.0,1.0,1.0,1.0,1.0,1.0,1.0,1.0,1.0,1.0,1.0,1.0,1.0,1.0,1.0,1.0,1.0,1.0,1.0,1.0,1.0,1.0,1.0,1.0,1.0,1.0,1.0,1.0,1.0,1.0,1.0,1.0,1.0,1.0,1.0,1.0,1.0,1.0,1.0,1.0,1.0,1.0,1.0,1.0,1.0,1.0,1.0,1.0,1.0,1.0,1.0,1.0,1.0,1.0,1.0,1.0,1.0,1.0,1.0,1.0,1.0,1.0,1.0,1.0,1.0,1.0,1.0,1.0,1.0,1.0,1.0,1.0,1.0,1.0,1.0,1.0,1.0,1.0,1.0,1.0,1.0,1.0,1.0,1.0,1.0,1.0,1.0,1.0,1.0,1.0,1.0,1.0,1.0,1.0,1.0,1.0,1.0,1.0,1.0,1.0,1.0,1.0,1.0,1.0,1.0,1.0,1.0,1.0,1.0,1.0,1.0,1.0,1.0,1.0,1.0,1.0,1.0,1.0,1.0,1.0,1.0,1.0,1.0,1.0,1.0,1.0,1.0,1.0,1.0,1.0,1.0,1.0,1.0,1.0,1.0,1.0,1.0,1.0,1.0,1.0,1.0,1.0,1.0,1.0,1.0,1.0,1.0,1.0,1.0,1.0,1.0,1.0,1.0,1.0,1.0,1.0,1.0,1.0,1.0,1.0,1.0,1.0,1.0,1.0,1.0,1.0,1.0,1.0,1.0,1.0,1.0,1.0,1.0,1.0,1.0,1.0,1.0,1.0,1.0,1.0,1.0,1.0,1.0,1.0,1.0,1.0,1.0,1.0,1.0,1.0,1.0,1.0,1.0,1.0,1.0,1.0,1.0,1.0,1.0,1.0,1.0,1.0,1.0,1.0,1.0,1.0,1.0,1.0,1.0,1.0,1.0,1.0,1.0,1.0,1.0,1.0,1.0,1.0,1.0,1.0,1.0,1.0,1.0,1.0,1.0,1.0,1.0,1.0,1.0,1.0,1.0,1.0,1.0,1.0,1.0,1.0,1.0,1.0,1.0,1.0,1.0,1.0,1.0,1.0,1.0,1.0,1.0,1.0,1.0,1.0,1.0,1.0,1.0,1.0,1.0,1.0,1.0,1.0,1.0,1.0,1.0,1.0,1.0,1.0,1.0,1.0,1.0,1.0,1.0,1.0,1.0,1.0,1.0,1.0,1.0,1.0,1.0,1.0,1.0,1.0,1.0,1.0,1.0,1.0,1.0,1.0,1.0,1.0,1.0,1.0,1.0,1.0,1.0,1.0,1.0,1.0,1.0,1.0,1.0,1.0,1.0,1.0,1.0,1.0,1.0,1.0,1.0,1.0,1.0,1.0,1.0,1.0,1.0,1.0,1.0,1.0,1.0,1.0,1.0,1.0,1.0,1.0,1.0,1.0,1.0,1.0,1.0,1.0,1.0,1.0,1.0,1.0,1.0,1.0,1.0,1.0,1.0,1.0,1.0,1.0,1.0,1.0,1.0,1.0,1.0,1.0,1.0,1.0,1.0,1.0,1.0,1.0,1.0,1.0,1.0,1.0,1.0,1.0,1.0,1.0,1.0,1.0,1.0,1.0,1.0,1.0,1.0,1.0,1.0,1.0,1.0,1.0,1.0,1.0,1.0,1.0,1.0,1.0,1.0,1.0,1.0,1.0,1.0,1.0,1.0,1.0,1.0,1.0,1.0,1.0,1.0,1.0,1.0,1.0,1.0,1.0,1.0,1.0,1.0,1.0,1.0,1.0,1.0,1.0,1.0,1.0,1.0,1.0,1.0,1.0,1.0,1.0,1.0,1.0,1.0,1.0,1.0,1.0,1.0,1.0,1.0,1.0,1.0,1.0,1.0,1.0,1.0,1.0,1.0,1.0,1.0,1.0,1.0,1.0,1.0,1.0,1.0,1.0,1.0,1.0,1.0,1.0,1.0,1.0,1.0,1.0,1.0,1.0,1.0,1.0,1.0,1.0,1.0,1.0,1.0,1.0,1.0,1.0,1.0,1.0,1.0,1.0,1.0,1.0,1.0,1.0,1.0,1.0,1.0,1.0,1.0,1.0,1.0,1.0,1.0,1.0,1.0,1.0,1.0,1.0,1.0,1.0,1.0,1.0,1.0,1.0,1.0,1.0,1.0,1.0,1.0,1.0,1.0,1.0,1.0,1.0,1.0,1.0,1.0,1.0,1.0,1.0,1.0,1.0,1.0,1.0,1.0,1.0,1.0,1.0,1.0,1.0,1.0,1.0,1.0,1.0,1.0,1.0,1.0,1.0,1.0,1.0,1.0,1.0,1.0,1.0,1.0,1.0,1.0,1.0,1.0,1.0,1.0,1.0,1.0,1.0,1.0,1.0,1.0,1.0,1.0,1.0,1.0,1.0,1.0,1.0,1.0,1.0,1.0,1.0,1.0,1.0,1.0,1.0,1.0,1.0,1.0,1.0,1.0,1.0,1.0,1.0,1.0,1.0,1.0,1.0,1.0,1.0,1.0,1.0,1.0,1.0,1.0,1.0,1.0,1.0,1.0,1.0,1.0,1.0,1.0,1.0,1.0,1.0,1.0,1.0,1.0,1.0,1.0,1.0,1.0,1.0,1.0,1.0,1.0,1.0,1.0,1.0,1.0,1.0,1.0,1.0,1.0,1.0,1.0,1.0,1.0,1.0,1.0,1.0,1.0,1.0,1.0,1.0,1.0,1.0,1.0,1.0,1.0,1.0,1.0,1.0,1.0,1.0,1.0,1.0,1.0,1.0,1.0,1.0,1.0,1.0,1.0,1.0,1.0,1.0,1.0,1.0,1.0,1.0,1.0,1.0,1.0,1.0,1.0,1.0,1.0,1.0,1.0,1.0,1.0,1.0,1.0,1.0,1.0,1.0,1.0,1.0,1.0,1.0,1.0,1.0,1.0,1.0,1.0,1.0,1.0,1.0,1.0,1.0,1.0,1.0,1.0,1.0,1.0,1.0,1.0,1.0,1.0,1.0,1.0,1.0,1.0,1.0,1.0,1.0,1.0,1.0,1.0,1.0,1.0,1.0,1.0,1.0,1.0,1.0,1.0,1.0,1.0,1.0,1.0,1.0,1.0,1.0,1.0,1.0,1.0,1.0,1.0,1.0,1.0,1.0,1.0,1.0,1.0,1.0,1.0,1.0,1.0,1.0,1.0,1.0,1.0,1.0,1.0,1.0,1.0,1.0,1.0,1.0,1.0,1.0,1.0,1.0,1.0,1.0,1.0,1.0,1.0,1.0,1.0,1.0,1.0,1.0,1.0,1.0,1.0,1.0,1.0,1.0,1.0,1.0,1.0,1.0,1.0,1.0,1.0,1.0,1.0,1.0,1.0,1.0,1.0,1.0,1.0,1.0,1.0,1.0,1.0,1.0,1.0,1.0,1.0,1.0,1.0,1.0,1.0,1.0,1.0,1.0,1.0,1.0,1.0,1.0,1.0,1.0,1.0,1.0,1.0,1.0,1.0,1.0,1.0,1.0,1.0,1.0,1.0,1.0,1.0,1.0,1.0,1.0,1.0,1.0,1.0,1.0,1.0,1.0,1.0,1.0,1.0,1.0,1.0,1.0,1.0,1.0,1.0,1.0,1.0,1.0,1.0,1.0,1.0,1.0,1.0,1.0,1.0,1.0,1.0,1.0,1.0,1.0,1.0,1.0,1.0,1.0,1.0,1.0,1.0,1.0,1.0,1.0,1.0,1.0,1.0,1.0,1.0,1.0,1.0,1.0,1.0,1.0,1.0,1.0,1.0,1.0,1.0,1.0,1.0,1.0,1.0,1.0,1.0,1.0,1.0,1.0,1.0,1.0,1.0,1.0,1.0,1.0,1.0,1.0,1.0,1.0,1.0,1.0,1.0,1.0,1.0,1.0,1.0,1.0,1.0,1.0,1.0,1.0,1.0,1.0,1.0,1.0,1.0,1.0,1.0,1.0,1.0,1.0,1.0,1.0,1.0,1.0,1.0,1.0,1.0,1.0,1.0,1.0,1.0,1.0,1.0,1.0,1.0,1.0,1.0,1.0,1.0,1.0,1.0,1.0,1.0,1.0,1.0,1.0,1.0,1.0,1.0,1.0,1.0,1.0,1.0,1.0,1.0,1.0,1.0,1.0,1.0,1.0,1.0,1.0,1.0,1.0,1.0,1.0,1.0,1.0,1.0,1.0,1.0,1.0,1.0,1.0,1.0,1.0,1.0,1.0,1.0,1.0,1.0,1.0,1.0,1.0,1.0,1.0,1.0,1.0,1.0,1.0,1.0,1.0,1.0,1.0,1.0,1.0,1.0,1.0,1.0,1.0,1.0,1.0,1.0,1.0,1.0,1.0,1.0,1.0,1.0,1.0,1.0,1.0,1.0,1.0,1.0,1.0,1.0,1.0,1.0,1.0,1.0,1.0,1.0,1.0,1.0,1.0,1.0,1.0,1.0,1.0,1.0,1.0,1.0,1.0,1.0,1.0,1.0,1.0,1.0,1.0,1.0,1.0,1.0,1.0,1.0,1.0,1.0,1.0,1.0,1.0,1.0,1.0,1.0,1.0,1.0,1.0,1.0,1.0,1.0,1.0,1.0,1.0,1.0,1.0,1.0,1.0,1.0,1.0,1.0,1.0,1.0,1.0,1.0,1.0,1.0,1.0,1.0,1.0,1.0,1.0,1.0,1.0,1.0,1.0,1.0,1.0,1.0,1.0,1.0,1.0,1.0,1.0,1.0,1.0,1.0,1.0,1.0,1.0,1.0,1.0,1.0,1.0,1.0,1.0,1.0,1.0,1.0,1.0,1.0,1.0,1.0,1.0,1.0,1.0,1.0,1.0,1.0,1.0,1.0,1.0,1.0,1.0,1.0,1.0,1.0,1.0,1.0,1.0,1.0,1.0,1.0,1.0,1.0,1.0,1.0,1.0,1.0,1.0,1.0,1.0,1.0,1.0,1.0,1.0,1.0,1.0,1.0,1.0,1.0,1.0,1.0,1.0,1.0,1.0,1.0,1.0,1.0,1.0,1.0,1.0,1.0,1.0,1.0,1.0,1.0,1.0,1.0,1.0,1.0,1.0,1.0,1.0,1.0,1.0,1.0,1.0,1.0,1.0,1.0,1.0,1.0,1.0,1.0,1.0,1.0,1.0,1.0,1.0,1.0,1.0,1.0,1.0,1.0,1.0,1.0,1.0,1.0,1.0,1.0,1.0,1.0,1.0,1.0,1.0,1.0,1.0,1.0,1.0,1.0,1.0,1.0,1.0,1.0,1.0,1.0,1.0,1.0,1.0,1.0,1.0,1.0,1.0,1.0,1.0,1.0,1.0,1.0,1.0,1.0,1.0,1.0,1.0,1.0,1.0,1.0,1.0,1.0,1.0,1.0,1.0,1.0,1.0,1.0,1.0,1.0,1.0,1.0,1.0,1.0,1.0,1.0,1.0,1.0,1.0,1.0,1.0,1.0,1.0,1.0,1.0,1.0,1.0,1.0,1.0,1.0,1.0,1.0,1.0,1.0,1.0,1.0,1.0,1.0,1.0,1.0,1.0,1.0,1.0,1.0,1.0,1.0,1.0,1.0,1.0,1.0,1.0,1.0,1.0,1.0,1.0,1.0,1.0,1.0,1.0,1.0,1.0,1.0,1.0,1.0,1.0,1.0,1.0,1.0,1.0,1.0,1.0,1.0,1.0,1.0,1.0,1.0,1.0,1.0,1.0,1.0,1.0,1.0,1.0,1.0,1.0,1.0,1.0,1.0,1.0,1.0,1.0,1.0,1.0,1.0,1.0,1.0,1.0,1.0,1.0,1.0,1.0,1.0,1.0,1.0,1.0,1.0,1.0,1.0,1.0,1.0,1.0,1.0,1.0,1.0,1.0,1.0,1.0,1.0,1.0,1.0,1.0,1.0,1.0,1.0,1.0,1.0,1.0,1.0,1.0,1.0,1.0,1.0,1.0,1.0,1.0,1.0,1.0,1.0,1.0,1.0,1.0,1.0,1.0,1.0,1.0,1.0,1.0,1.0,1.0,1.0,1.0,1.0,1.0,1.0,1.0,1.0,1.0,1.0,1.0,1.0,1.0,1.0,1.0,1.0,1.0,1.0,1.0,1.0,1.0,1.0,1.0,1.0,1.0,1.0,1.0,1.0,1.0,1.0,1.0,1.0,1.0,1.0,1.0,1.0,1.0,1.0,1.0,1.0,1.0,1.0,1.0,1.0,1.0,1.0,1.0,1.0,1.0,1.0,1.0,1.0,1.0,1.0,1.0,1.0,1.0,1.0,1.0,1.0,1.0,1.0,1.0,1.0,1.0,1.0,1.0,1.0,1.0,1.0,1.0,1.0,1.0,1.0,1.0,1.0,1.0,1.0,1.0,1.0,1.0,1.0,1.0,1.0,1.0,1.0,1.0,1.0,1.0,1.0,1.0,1.0,1.0,1.0,1.0,1.0,1.0,1.0,1.0,1.0,1.0,1.0,1.0,1.0,1.0,1.0,1.0,1.0,1.0,1.0,1.0,1.0,1.0,1.0,1.0,1.0,1.0,1.0,1.0,1.0,1.0,1.0,1.0,1.0,1.0,1.0,1.0,1.0,1.0,1.0,1.0,1.0,1.0,1.0,1.0,1.0,1.0,1.0,1.0,1.0,1.0,1.0,1.0,1.0,1.0,1.0,1.0,1.0,1.0,1.0,1.0,1.0,1.0,1.0,1.0,1.0,1.0,1.0,1.0,1.0,1.0,1.0,1.0,1.0,1.0,1.0,1.0,1.0,1.0,1.0,1.0,1.0,1.0,1.0,1.0,1.0,1.0,1.0,1.0,1.0,1.0,1.0,1.0,1.0,1.0,1.0,1.0,1.0,1.0,1.0,1.0,1.0,1.0,1.0,1.0,1.0,1.0,1.0,1.0,1.0,1.0,1.0,1.0,1.0,1.0,1.0,1.0,1.0,1.0,1.0,1.0,1.0,1.0,1.0,1.0,1.0,1.0,1.0,1.0,1.0,1.0,1.0,1.0,1.0,1.0,1.0,1.0,1.0,1.0,1.0,1.0,1.0,1.0,1.0,1.0,1.0,1.0,1.0,1.0,1.0,1.0,1.0,1.0,1.0,1.0,1.0,1.0,1.0,1.0,1.0,1.0,1.0,1.0,1.0,1.0,1.0,1.0,1.0,1.0,1.0,1.0,1.0,1.0,1.0,1.0,1.0,1.0,1.0,1.0,1.0,1.0,1.0,1.0,1.0,1.0,1.0,1.0,1.0,1.0,1.0,1.0,1.0,1.0,1.0,1.0,1.0,1.0,1.0,1.0,1.0,1.0,1.0,1.0,1.0,1.0,1.0,1.0,1.0,1.0,1.0,1.0,1.0,1.0,1.0,1.0,1.0,1.0,1.0,1.0,1.0,1.0,1.0,1.0,1.0,1.0,1.0,1.0,1.0,1.0,1.0,1.0,1.0,1.0,1.0,1.0,1.0,1.0,1.0,1.0,1.0,1.0,1.0,1.0,1.0,1.0,1.0,1.0,1.0,1.0,1.0,1.0,1.0,1.0,1.0,1.0,1.0,1.0,1.0,1.0,1.0,1.0,1.0,1.0,1.0,1.0,1.0,1.0,1.0,1.0,1.0,1.0,1.0,1.0,1.0,1.0,1.0,1.0,1.0,1.0,1.0,1.0,1.0,1.0,1.0,1.0,1.0,1.0,1.0,1.0,1.0,1.0,1.0,1.0,1.0,1.0,1.0,1.0,1.0,1.0,1.0,1.0,1.0,1.0,1.0,1.0,1.0,1.0,1.0,1.0,1.0,1.0,1.0,1.0,1.0,1.0,1.0,1.0,1.0,1.0,1.0,1.0,1.0,1.0,1.0,1.0,1.0,1.0,1.0,1.0,1.0,1.0,1.0,1.0,1.0,1.0,1.0,1.0,1.0,1.0,1.0,1.0,1.0,1.0,1.0,1.0,1.0,1.0,1.0,1.0,1.0,1.0,1.0,1.0,1.0,1.0,1.0,1.0,1.0,1.0,1.0,1.0,1.0,1.0,1.0,1.0,1.0,1.0,1.0,1.0,1.0,1.0,1.0,1.0,1.0,1.0,1.0,1.0,1.0,1.0,1.0,1.0,1.0,1.0,1.0,1.0,1.0,1.0,1.0,1.0,1.0,1.0,1.0,1.0,1.0,1.0,1.0,1.0,1.0,1.0,1.0,1.0,1.0,1.0,1.0,1.0,1.0,1.0,1.0,1.0,1.0,1.0,1.0,1.0,1.0,1.0,1.0,1.0,1.0,1.0,1.0,1.0,1.0,1.0,1.0,1.0,1.0,1.0,1.0,1.0,1.0,1.0,1.0,1.0,1.0,1.0,1.0,1.0,1.0,1.0,1.0,1.0,1.0,1.0,1.0,1.0,1.0,1.0,1.0,1.0,1.0,1.0,1.0,1.0,1.0,1.0,1.0,1.0,1.0,1.0,1.0,1.0,1.0,1.0,1.0,1.0,1.0,1.0,1.0,1.0,1.0,1.0,1.0,1.0,1.0,1.0,1.0,1.0,1.0,1.0,1.0,1.0,1.0,1.0,1.0,1.0,1.0,1.0,1.0,1.0,1.0,1.0,1.0,1.0,1.0,1.0,1.0,1.0,1.0,1.0,1.0,1.0,1.0,1.0,1.0,1.0,1.0,1.0,1.0,1.0,1.0,1.0,1.0,1.0,1.0,1.0,1.0,1.0,1.0,1.0,1.0,1.0,1.0,1.0,1.0,1.0,1.0,1.0,1.0,1.0,1.0,1.0,1.0,1.0,1.0,1.0,1.0,1.0,1.0,1.0,1.0,1.0,1.0,1.0,1.0,1.0,1.0,1.0,1.0,1.0,1.0,1.0,1.0,1.0,1.0,1.0,1.0,1.0,1.0,1.0,1.0,1.0,1.0,1.0,1.0,1.0,1.0,1.0,1.0,1.0,1.0,1.0,1.0,1.0,1.0,1.0,1.0,1.0,1.0,1.0,1.0,1.0,1.0,1.0,1.0,1.0,1.0,1.0,1.0,1.0,1.0,1.0,1.0,1.0,1.0,1.0,1.0,1.0,1.0,1.0,1.0,1.0,1.0,1.0,1.0,1.0,1.0,1.0,1.0,1.0,1.0,1.0,1.0,1.0,1.0,1.0,1.0,1.0,1.0,1.0,1.0,1.0,1.0,1.0,1.0,1.0,1.0,1.0,1.0,1.0,1.0,1.0,1.0,1.0,1.0,1.0,1.0,1.0,1.0,1.0,1.0,1.0,1.0,1.0,1.0,1.0,1.0,1.0,1.0,1.0,1.0,1.0,1.0,1.0,1.0,1.0,1.0,1.0,1.0,1.0,1.0,1.0,1.0,1.0,1.0,1.0,1.0,1.0,1.0,1.0,1.0,1.0,1.0,1.0,1.0,1.0,1.0,1.0,1.0,1.0,1.0,1.0,1.0,1.0,1.0,1.0,1.0,1.0,1.0,1.0,1.0,1.0,1.0,1.0,1.0,1.0,1.0,1.0,1.0,1.0,1.0,1.0,1.0,1.0,1.0,1.0,1.0,1.0,1.0,1.0,1.0,1.0,1.0,1.0,1.0,1.0,1.0,1.0,1.0,1.0,1.0,1.0,1.0,1.0,1.0,1.0,1.0,1.0,1.0,1.0,1.0,1.0,1.0,1.0,1.0,1.0,1.0,1.0,1.0,1.0,1.0,1.0,1.0,1.0,1.0,1.0,1.0,1.0,1.0,1.0,1.0,1.0,1.0,1.0,1.0,1.0,1.0,1.0,1.0,1.0,1.0,1.0,1.0,1.0,1.0,1.0,1.0,1.0,1.0,1.0,1.0,1.0,1.0,1.0,1.0,1.0,1.0,1.0,1.0,1.0,1.0,1.0,1.0,1.0,1.0,1.0,1.0,1.0,1.0,1.0,1.0,1.0,1.0,1.0,1.0,1.0,1.0,1.0,1.0,1.0,1.0,1.0,1.0,1.0,1.0,1.0,1.0,1.0,1.0,1.0,1.0,1.0,1.0,1.0,1.0,1.0,1.0,1.0,1.0,1.0,1.0,1.0,1.0,1.0,1.0,1.0,1.0,1.0,1.0,1.0,1.0,1.0,1.0,1.0,1.0,1.0,1.0,1.0,1.0,1.0,1.0,1.0,1.0,1.0,1.0,1.0,1.0,1.0,1.0,1.0,1.0,1.0,1.0,1.0,1.0,1.0,1.0,1.0,1.0,1.0,1.0,1.0,1.0,1.0,1.0,1.0,1.0,1.0,1.0,1.0,1.0,1.0,1.0,1.0,1.0,1.0,1.0,1.0,1.0,1.0,1.0,1.0,1.0,1.0,1.0,1.0,1.0,1.0,1.0,1.0,1.0,1.0,1.0,1.0,1.0,1.0,1.0,1.0,1.0,1.0,1.0,1.0,1.0,1.0,1.0,1.0,1.0,1.0,1.0,1.0,1.0,1.0,1.0,1.0,1.0,1.0,1.0,1.0,1.0,1.0,1.0,1.0,1.0,1.0,1.0,1.0,1.0,1.0,1.0,1.0,1.0,1.0,1.0,1.0,1.0,1.0,1.0,1.0,1.0,1.0,1.0,1.0,1.0,1.0,1.0,1.0,1.0,1.0,1.0,1.0,1.0,1.0,1.0,1.0,1.0,1.0,1.0,1.0,1.0,1.0,1.0,1.0,1.0,1.0,1.0,1.0,1.0,1.0,1.0,1.0,1.0,1.0,1.0,1.0,1.0,1.0,1.0,1.0,1.0,1.0,1.0,1.0,1.0,1.0,1.0,1.0,1.0,1.0,1.0,1.0,1.0,1.0,1.0,1.0,1.0,1.0,1.0,1.0,1.0,1.0,1.0,1.0,1.0,1.0,1.0,1.0,1.0,1.0,1.0,1.0,1.0,1.0,1.0,1.0,1.0,1.0,1.0,1.0,1.0,1.0,1.0,1.0,1.0,1.0,1.0,1.0,1.0,1.0,1.0,1.0,1.0,1.0,1.0,1.0,1.0,1.0,1.0,1.0,1.0,1.0,1.0,1.0,1.0,1.0,1.0,1.0,1.0,1.0,1.0,1.0,1.0,1.0,1.0,1.0,1.0,1.0,1.0,1.0,1.0,1.0,1.0,1.0,1.0,1.0,1.0,1.0,1.0,1.0,1.0,1.0,1.0,1.0,1.0,1.0,1.0,1.0,1.0,1.0,1.0,1.0,1.0,1.0,1.0,1.0,1.0,1.0,1.0,1.0,1.0,1.0,1.0,1.0,1.0,1.0,1.0,1.0,1.0,1.0,1.0,1.0,1.0,1.0,1.0,1.0,1.0,1.0,1.0,1.0,1.0,1.0,1.0,1.0,1.0,1.0,1.0,1.0,1.0,1.0,1.0,1.0,1.0,1.0,1.0,1.0,1.0,1.0,1.0,1.0,1.0,1.0,1.0,1.0,1.0,1.0,1.0,1.0,1.0,1.0,1.0,1.0,1.0,1.0,1.0,1.0,1.0,1.0,1.0,1.0,1.0,1.0,1.0,1.0,1.0,1.0,1.0,1.0,1.0,1.0,1.0,1.0,1.0,1.0,1.0,1.0,1.0,1.0,1.0,1.0,1.0,1.0,1.0,1.0,1.0,1.0,1.0,1.0,1.0,1.0,1.0,1.0,1.0,1.0,1.0,1.0,1.0,1.0,1.0,1.0,1.0,1.0,1.0,1.0,1.0,1.0,1.0,1.0,1.0,1.0,1.0,1.0,1.0,1.0,1.0,1.0,1.0,1.0,1.0,1.0,1.0,1.0,1.0,1.0,1.0,1.0,1.0,1.0,1.0,1.0,1.0,1.0,1.0,1.0,1.0,1.0,1.0,1.0,1.0,1.0,1.0,1.0,1.0,1.0,1.0,1.0,1.0,1.0,1.0,1.0,1.0,1.0,1.0,1.0,1.0,1.0,1.0,1.0,1.0,1.0,1.0,1.0,1.0,1.0,1.0,1.0,1.0,1.0,1.0,1.0,1.0,1.0,1.0,1.0,1.0,1.0,1.0,1.0,1.0,1.0,1.0,1.0,1.0,1.0,1.0,1.0,1.0,1.0,1.0,1.0,1.0,1.0,1.0,1.0,1.0,1.0,1.0,1.0,1.0,1.0,1.0,1.0,1.0,1.0,1.0,1.0,1.0,1.0,1.0,1.0,1.0,1.0,1.0,1.0,1.0,1.0,1.0,1.0,1.0,1.0,1.0,1.0,1.0,1.0,1.0,1.0,1.0,1.0,1.0,1.0,1.0,1.0,1.0,1.0,1.0,1.0,1.0,1.0,1.0,1.0,1.0,1.0,1.0,1.0,1.0,1.0,1.0,1.0,1.0,1.0,1.0,1.0,1.0,1.0,1.0,1.0,1.0,1.0,1.0,1.0,1.0,1.0,1.0,1.0,1.0,1.0,1.0,1.0,1.0,1.0,1.0,1.0,1.0,1.0,1.0,1.0,1.0,1.0,1.0,1.0,1.0,1.0,1.0,1.0,1.0,1.0,1.0,1.0,1.0,1.0,1.0,1.0,1.0,1.0,1.0,1.0,1.0,1.0,1.0,1.0,1.0,1.0,1.0,1.0,1.0,1.0,1.0,1.0,1.0,1.0,1.0,1.0,1.0,1.0,1.0,1.0,1.0,1.0,1.0,1.0,1.0,1.0,1.0,1.0,1.0,1.0,1.0,1.0,1.0,1.0,1.0,1.0,1.0,1.0,1.0,1.0,1.0,1.0,1.0,1.0,1.0,1.0,1.0,1.0,1.0,1.0,1.0,1.0,1.0,1.0,1.0,1.0,1.0,1.0,1.0,1.0,1.0,1.0,1.0,1.0,1.0,1.0,1.0,1.0,1.0,1.0,1.0,1.0,1.0,1.0,1.0,1.0,1.0,1.0,1.0,1.0,1.0,1.0,1.0,1.0,1.0,1.0,1.0,1.0,1.0,1.0,1.0,1.0,1.0,1.0,1.0,1.0,1.0,1.0,1.0,1.0,1.0,1.0,1.0,1.0,1.0,1.0,1.0,1.0,1.0,1.0,1.0,1.0,1.0,1.0,1.0,1.0,1.0,1.0,1.0,1.0,1.0,1.0,1.0,1.0,1.0,1.0,1.0,1.0,1.0,1.0,1.0,1.0,1.0,1.0,1.0,1.0,1.0,1.0,1.0,1.0,1.0,1.0,1.0,1.0,1.0,1.0,1.0,1.0,1.0,1.0,1.0,1.0,1.0,1.0,1.0,1.0,1.0,1.0,1.0,1.0,1.0,1.0,1.0,1.0,1.0,1.0,1.0,1.0,1.0,1.0,1.0,1.0,1.0,1.0,1.0,1.0,1.0,1.0,1.0,1.0,1.0,1.0,1.0,1.0,1.0,1.0,1.0,1.0,1.0,1.0,1.0,1.0,1.0,1.0,1.0,1.0,1.0,1.0,1.0,1.0,1.0,1.0,1.0,1.0,1.0,1.0,1.0,1.0,1.0,1.0,1.0,1.0,1.0,1.0,1.0,1.0,1.0,1.0,1.0,1.0,1.0,1.0,1.0,1.0,1.0,1.0,1.0,1.0,1.0,1.0,1.0,1.0,1.0,1.0,1.0,1.0,1.0,1.0,1.0,1.0,1.0,1.0,1.0,1.0,1.0,1.0,1.0,1.0,1.0,1.0,1.0,1.0,1.0,1.0,1.0,1.0,1.0,1.0,1.0,1.0,1.0,1.0,1.0,1.0,1.0,1.0,1.0,1.0,1.0,1.0,1.0,1.0,1.0,1.0,1.0,1.0,1.0,1.0,1.0,1.0,1.0,1.0,1.0,1.0,1.0,1.0,1.0,1.0,1.0,1.0,1.0,1.0,1.0,1.0,1.0,1.0,1.0,1.0,1.0,1.0,1.0,1.0,1.0,1.0,1.0,1.0,1.0,1.0,1.0,1.0,1.0,1.0,1.0,1.0,1.0,1.0,1.0,1.0,1.0,1.0,1.0,1.0,1.0,1.0,1.0,1.0,1.0,1.0,1.0,1.0,1.0,1.0,1.0,1.0,1.0,1.0,1.0,1.0,1.0,1.0,1.0,1.0,1.0,1.0,1.0,1.0,1.0,1.0,1.0,1.0,1.0,1.0,1.0,1.0,1.0,1.0,1.0,1.0,1.0,1.0,1.0,1.0,1.0,1.0,1.0,1.0,1.0,1.0,1.0,1.0,1.0,1.0,1.0,1.0,1.0,1.0,1.0,1.0,1.0,1.0,1.0,1.0,1.0,1.0,1.0,1.0,1.0,1.0,1.0,1.0,1.0,1.0,1.0,1.0,1.0,1.0,1.0,1.0,1.0,1.0,1.0,1.0,1.0,1.0,1.0,1.0,1.0,1.0,1.0,1.0,1.0,1.0,1.0,1.0,1.0,1.0,1.0,1.0,1.0,1.0,1.0,1.0,1.0,1.0,1.0,1.0,1.0,1.0,1.0,1.0,1.0,1.0,1.0,1.0,1.0,1.0,1.0,1.0,1.0,1.0,1.0,1.0,1.0,1.0,1.0,1.0,1.0,1.0,1.0,1.0,1.0,1.0,1.0,1.0,1.0,1.0,1.0,1.0,1.0,1.0,1.0,1.0,1.0,1.0,1.0,1.0,1.0,1.0,1.0,1.0,1.0,1.0,1.0,1.0,1.0,1.0,1.0,1.0,1.0,1.0,1.0,1.0,1.0,1.0,1.0,1.0,1.0,1.0,1.0,1.0,1.0,1.0,1.0,1.0,1.0,1.0,1.0,1.0,1.0,1.0,1.0,1.0,1.0,1.0,1.0,1.0,1.0,1.0,1.0,1.0,1.0,1.0,1.0,1.0,1.0,1.0,1.0,1.0,1.0,1.0,1.0,1.0,1.0,1.0,1.0,1.0,1.0,1.0,1.0,1.0,1.0,1.0,1.0,1.0,1.0,1.0,1.0,1.0,1.0,1.0,1.0,1.0,1.0,1.0,1.0,1.0,1.0,1.0,1.0,1.0,1.0,1.0,1.0,1.0,1.0,1.0,1.0,1.0,1.0,1.0,1.0,1.0,1.0,1.0,1.0,1.0,1.0,1.0,1.0,1.0,1.0,1.0,1.0,1.0,1.0,1.0,1.0,1.0,1.0,1.0,1.0,1.0,1.0,1.0,1.0,1.0,1.0,1.0,1.0,1.0,1.0,1.0,1.0,1.0,1.0,1.0,1.0,1.0,1.0,1.0,1.0,1.0,1.0,1.0,1.0,1.0,1.0,1.0,1.0,1.0,1.0,1.0,1.0,1.0,1.0,1.0,1.0,1.0,1.0,1.0,1.0,1.0,1.0,1.0,1.0,1.0,1.0,1.0,1.0,1.0,1.0,1.0,1.0,1.0],\"type\":\"pie\"}],                        {\"template\":{\"data\":{\"histogram2dcontour\":[{\"type\":\"histogram2dcontour\",\"colorbar\":{\"outlinewidth\":0,\"ticks\":\"\"},\"colorscale\":[[0.0,\"#0d0887\"],[0.1111111111111111,\"#46039f\"],[0.2222222222222222,\"#7201a8\"],[0.3333333333333333,\"#9c179e\"],[0.4444444444444444,\"#bd3786\"],[0.5555555555555556,\"#d8576b\"],[0.6666666666666666,\"#ed7953\"],[0.7777777777777778,\"#fb9f3a\"],[0.8888888888888888,\"#fdca26\"],[1.0,\"#f0f921\"]]}],\"choropleth\":[{\"type\":\"choropleth\",\"colorbar\":{\"outlinewidth\":0,\"ticks\":\"\"}}],\"histogram2d\":[{\"type\":\"histogram2d\",\"colorbar\":{\"outlinewidth\":0,\"ticks\":\"\"},\"colorscale\":[[0.0,\"#0d0887\"],[0.1111111111111111,\"#46039f\"],[0.2222222222222222,\"#7201a8\"],[0.3333333333333333,\"#9c179e\"],[0.4444444444444444,\"#bd3786\"],[0.5555555555555556,\"#d8576b\"],[0.6666666666666666,\"#ed7953\"],[0.7777777777777778,\"#fb9f3a\"],[0.8888888888888888,\"#fdca26\"],[1.0,\"#f0f921\"]]}],\"heatmap\":[{\"type\":\"heatmap\",\"colorbar\":{\"outlinewidth\":0,\"ticks\":\"\"},\"colorscale\":[[0.0,\"#0d0887\"],[0.1111111111111111,\"#46039f\"],[0.2222222222222222,\"#7201a8\"],[0.3333333333333333,\"#9c179e\"],[0.4444444444444444,\"#bd3786\"],[0.5555555555555556,\"#d8576b\"],[0.6666666666666666,\"#ed7953\"],[0.7777777777777778,\"#fb9f3a\"],[0.8888888888888888,\"#fdca26\"],[1.0,\"#f0f921\"]]}],\"heatmapgl\":[{\"type\":\"heatmapgl\",\"colorbar\":{\"outlinewidth\":0,\"ticks\":\"\"},\"colorscale\":[[0.0,\"#0d0887\"],[0.1111111111111111,\"#46039f\"],[0.2222222222222222,\"#7201a8\"],[0.3333333333333333,\"#9c179e\"],[0.4444444444444444,\"#bd3786\"],[0.5555555555555556,\"#d8576b\"],[0.6666666666666666,\"#ed7953\"],[0.7777777777777778,\"#fb9f3a\"],[0.8888888888888888,\"#fdca26\"],[1.0,\"#f0f921\"]]}],\"contourcarpet\":[{\"type\":\"contourcarpet\",\"colorbar\":{\"outlinewidth\":0,\"ticks\":\"\"}}],\"contour\":[{\"type\":\"contour\",\"colorbar\":{\"outlinewidth\":0,\"ticks\":\"\"},\"colorscale\":[[0.0,\"#0d0887\"],[0.1111111111111111,\"#46039f\"],[0.2222222222222222,\"#7201a8\"],[0.3333333333333333,\"#9c179e\"],[0.4444444444444444,\"#bd3786\"],[0.5555555555555556,\"#d8576b\"],[0.6666666666666666,\"#ed7953\"],[0.7777777777777778,\"#fb9f3a\"],[0.8888888888888888,\"#fdca26\"],[1.0,\"#f0f921\"]]}],\"surface\":[{\"type\":\"surface\",\"colorbar\":{\"outlinewidth\":0,\"ticks\":\"\"},\"colorscale\":[[0.0,\"#0d0887\"],[0.1111111111111111,\"#46039f\"],[0.2222222222222222,\"#7201a8\"],[0.3333333333333333,\"#9c179e\"],[0.4444444444444444,\"#bd3786\"],[0.5555555555555556,\"#d8576b\"],[0.6666666666666666,\"#ed7953\"],[0.7777777777777778,\"#fb9f3a\"],[0.8888888888888888,\"#fdca26\"],[1.0,\"#f0f921\"]]}],\"mesh3d\":[{\"type\":\"mesh3d\",\"colorbar\":{\"outlinewidth\":0,\"ticks\":\"\"}}],\"scatter\":[{\"fillpattern\":{\"fillmode\":\"overlay\",\"size\":10,\"solidity\":0.2},\"type\":\"scatter\"}],\"parcoords\":[{\"type\":\"parcoords\",\"line\":{\"colorbar\":{\"outlinewidth\":0,\"ticks\":\"\"}}}],\"scatterpolargl\":[{\"type\":\"scatterpolargl\",\"marker\":{\"colorbar\":{\"outlinewidth\":0,\"ticks\":\"\"}}}],\"bar\":[{\"error_x\":{\"color\":\"#2a3f5f\"},\"error_y\":{\"color\":\"#2a3f5f\"},\"marker\":{\"line\":{\"color\":\"#E5ECF6\",\"width\":0.5},\"pattern\":{\"fillmode\":\"overlay\",\"size\":10,\"solidity\":0.2}},\"type\":\"bar\"}],\"scattergeo\":[{\"type\":\"scattergeo\",\"marker\":{\"colorbar\":{\"outlinewidth\":0,\"ticks\":\"\"}}}],\"scatterpolar\":[{\"type\":\"scatterpolar\",\"marker\":{\"colorbar\":{\"outlinewidth\":0,\"ticks\":\"\"}}}],\"histogram\":[{\"marker\":{\"pattern\":{\"fillmode\":\"overlay\",\"size\":10,\"solidity\":0.2}},\"type\":\"histogram\"}],\"scattergl\":[{\"type\":\"scattergl\",\"marker\":{\"colorbar\":{\"outlinewidth\":0,\"ticks\":\"\"}}}],\"scatter3d\":[{\"type\":\"scatter3d\",\"line\":{\"colorbar\":{\"outlinewidth\":0,\"ticks\":\"\"}},\"marker\":{\"colorbar\":{\"outlinewidth\":0,\"ticks\":\"\"}}}],\"scattermapbox\":[{\"type\":\"scattermapbox\",\"marker\":{\"colorbar\":{\"outlinewidth\":0,\"ticks\":\"\"}}}],\"scatterternary\":[{\"type\":\"scatterternary\",\"marker\":{\"colorbar\":{\"outlinewidth\":0,\"ticks\":\"\"}}}],\"scattercarpet\":[{\"type\":\"scattercarpet\",\"marker\":{\"colorbar\":{\"outlinewidth\":0,\"ticks\":\"\"}}}],\"carpet\":[{\"aaxis\":{\"endlinecolor\":\"#2a3f5f\",\"gridcolor\":\"white\",\"linecolor\":\"white\",\"minorgridcolor\":\"white\",\"startlinecolor\":\"#2a3f5f\"},\"baxis\":{\"endlinecolor\":\"#2a3f5f\",\"gridcolor\":\"white\",\"linecolor\":\"white\",\"minorgridcolor\":\"white\",\"startlinecolor\":\"#2a3f5f\"},\"type\":\"carpet\"}],\"table\":[{\"cells\":{\"fill\":{\"color\":\"#EBF0F8\"},\"line\":{\"color\":\"white\"}},\"header\":{\"fill\":{\"color\":\"#C8D4E3\"},\"line\":{\"color\":\"white\"}},\"type\":\"table\"}],\"barpolar\":[{\"marker\":{\"line\":{\"color\":\"#E5ECF6\",\"width\":0.5},\"pattern\":{\"fillmode\":\"overlay\",\"size\":10,\"solidity\":0.2}},\"type\":\"barpolar\"}],\"pie\":[{\"automargin\":true,\"type\":\"pie\"}]},\"layout\":{\"autotypenumbers\":\"strict\",\"colorway\":[\"#636efa\",\"#EF553B\",\"#00cc96\",\"#ab63fa\",\"#FFA15A\",\"#19d3f3\",\"#FF6692\",\"#B6E880\",\"#FF97FF\",\"#FECB52\"],\"font\":{\"color\":\"#2a3f5f\"},\"hovermode\":\"closest\",\"hoverlabel\":{\"align\":\"left\"},\"paper_bgcolor\":\"white\",\"plot_bgcolor\":\"#E5ECF6\",\"polar\":{\"bgcolor\":\"#E5ECF6\",\"angularaxis\":{\"gridcolor\":\"white\",\"linecolor\":\"white\",\"ticks\":\"\"},\"radialaxis\":{\"gridcolor\":\"white\",\"linecolor\":\"white\",\"ticks\":\"\"}},\"ternary\":{\"bgcolor\":\"#E5ECF6\",\"aaxis\":{\"gridcolor\":\"white\",\"linecolor\":\"white\",\"ticks\":\"\"},\"baxis\":{\"gridcolor\":\"white\",\"linecolor\":\"white\",\"ticks\":\"\"},\"caxis\":{\"gridcolor\":\"white\",\"linecolor\":\"white\",\"ticks\":\"\"}},\"coloraxis\":{\"colorbar\":{\"outlinewidth\":0,\"ticks\":\"\"}},\"colorscale\":{\"sequential\":[[0.0,\"#0d0887\"],[0.1111111111111111,\"#46039f\"],[0.2222222222222222,\"#7201a8\"],[0.3333333333333333,\"#9c179e\"],[0.4444444444444444,\"#bd3786\"],[0.5555555555555556,\"#d8576b\"],[0.6666666666666666,\"#ed7953\"],[0.7777777777777778,\"#fb9f3a\"],[0.8888888888888888,\"#fdca26\"],[1.0,\"#f0f921\"]],\"sequentialminus\":[[0.0,\"#0d0887\"],[0.1111111111111111,\"#46039f\"],[0.2222222222222222,\"#7201a8\"],[0.3333333333333333,\"#9c179e\"],[0.4444444444444444,\"#bd3786\"],[0.5555555555555556,\"#d8576b\"],[0.6666666666666666,\"#ed7953\"],[0.7777777777777778,\"#fb9f3a\"],[0.8888888888888888,\"#fdca26\"],[1.0,\"#f0f921\"]],\"diverging\":[[0,\"#8e0152\"],[0.1,\"#c51b7d\"],[0.2,\"#de77ae\"],[0.3,\"#f1b6da\"],[0.4,\"#fde0ef\"],[0.5,\"#f7f7f7\"],[0.6,\"#e6f5d0\"],[0.7,\"#b8e186\"],[0.8,\"#7fbc41\"],[0.9,\"#4d9221\"],[1,\"#276419\"]]},\"xaxis\":{\"gridcolor\":\"white\",\"linecolor\":\"white\",\"ticks\":\"\",\"title\":{\"standoff\":15},\"zerolinecolor\":\"white\",\"automargin\":true,\"zerolinewidth\":2},\"yaxis\":{\"gridcolor\":\"white\",\"linecolor\":\"white\",\"ticks\":\"\",\"title\":{\"standoff\":15},\"zerolinecolor\":\"white\",\"automargin\":true,\"zerolinewidth\":2},\"scene\":{\"xaxis\":{\"backgroundcolor\":\"#E5ECF6\",\"gridcolor\":\"white\",\"linecolor\":\"white\",\"showbackground\":true,\"ticks\":\"\",\"zerolinecolor\":\"white\",\"gridwidth\":2},\"yaxis\":{\"backgroundcolor\":\"#E5ECF6\",\"gridcolor\":\"white\",\"linecolor\":\"white\",\"showbackground\":true,\"ticks\":\"\",\"zerolinecolor\":\"white\",\"gridwidth\":2},\"zaxis\":{\"backgroundcolor\":\"#E5ECF6\",\"gridcolor\":\"white\",\"linecolor\":\"white\",\"showbackground\":true,\"ticks\":\"\",\"zerolinecolor\":\"white\",\"gridwidth\":2}},\"shapedefaults\":{\"line\":{\"color\":\"#2a3f5f\"}},\"annotationdefaults\":{\"arrowcolor\":\"#2a3f5f\",\"arrowhead\":0,\"arrowwidth\":1},\"geo\":{\"bgcolor\":\"white\",\"landcolor\":\"#E5ECF6\",\"subunitcolor\":\"white\",\"showland\":true,\"showlakes\":true,\"lakecolor\":\"white\"},\"title\":{\"x\":0.05},\"mapbox\":{\"style\":\"light\"}}},\"legend\":{\"tracegroupgap\":0},\"title\":{\"text\":\"Ship Mode\"}},                        {\"responsive\": true}                    ).then(function(){\n",
              "                            \n",
              "var gd = document.getElementById('afcb339a-a4a3-4b62-adf2-731ba9c51958');\n",
              "var x = new MutationObserver(function (mutations, observer) {{\n",
              "        var display = window.getComputedStyle(gd).display;\n",
              "        if (!display || display === 'none') {{\n",
              "            console.log([gd, 'removed!']);\n",
              "            Plotly.purge(gd);\n",
              "            observer.disconnect();\n",
              "        }}\n",
              "}});\n",
              "\n",
              "// Listen for the removal of the full notebook cells\n",
              "var notebookContainer = gd.closest('#notebook-container');\n",
              "if (notebookContainer) {{\n",
              "    x.observe(notebookContainer, {childList: true});\n",
              "}}\n",
              "\n",
              "// Listen for the clearing of the current output cell\n",
              "var outputEl = gd.closest('.output');\n",
              "if (outputEl) {{\n",
              "    x.observe(outputEl, {childList: true});\n",
              "}}\n",
              "\n",
              "                        })                };                            </script>        </div>\n",
              "</body>\n",
              "</html>"
            ]
          },
          "metadata": {}
        }
      ]
    },
    {
      "cell_type": "code",
      "source": [
        "plt.figure(figsize=(10,5))\n",
        "df['Segment'].value_counts().plot.pie(autopct='%.1f%%')\n",
        "plt.show()"
      ],
      "metadata": {
        "colab": {
          "base_uri": "https://localhost:8080/",
          "height": 303
        },
        "id": "GG247rewHbGu",
        "outputId": "3974ce57-75d3-4ce0-8506-b1d8b257d59c"
      },
      "execution_count": 71,
      "outputs": [
        {
          "output_type": "display_data",
          "data": {
            "text/plain": [
              "<Figure size 720x360 with 1 Axes>"
            ],
            "image/png": "[encoded data removed]"
          },
          "metadata": {}
        }
      ]
    },
    {
      "cell_type": "code",
      "source": [
        "top_cities= df.groupby(\"City\").sum().sort_values(\"Sales_scaled\",ascending=False).head(15)\n",
        "top_cities= top_cities[['Sales_scaled']].round(2)\n",
        "top_cities.reset_index(inplace=True)\n",
        "top_cities\n",
        "\n",
        "fig=px.bar(top_cities,x='City',y='Sales_scaled',title=\"Top 15 Cities\",color_discrete_sequence=px.colors.sequential.RdBu)\n",
        "fig.show()"
      ],
      "metadata": {
        "colab": {
          "base_uri": "https://localhost:8080/",
          "height": 542
        },
        "id": "Y7FaVmqbHntw",
        "outputId": "6550bf63-9ae6-4ca1-d574-94d141d182c5"
      },
      "execution_count": 72,
      "outputs": [
        {
          "output_type": "display_data",
          "data": {
            "text/html": [
              "<html>\n",
              "<head><meta charset=\"utf-8\" /></head>\n",
              "<body>\n",
              "    <div>            <script src=\"https://cdnjs.cloudflare.com/ajax/libs/mathjax/2.7.5/MathJax.js?config=TeX-AMS-MML_SVG\"></script><script type=\"text/javascript\">if (window.MathJax && window.MathJax.Hub && window.MathJax.Hub.Config) {window.MathJax.Hub.Config({SVG: {font: \"STIX-Web\"}});}</script>                <script type=\"text/javascript\">window.PlotlyConfig = {MathJaxConfig: 'local'};</script>\n",
              "        <script src=\"https://cdn.plot.ly/plotly-2.18.2.min.js\"></script>                <div id=\"34e9e373-170f-490a-add2-9c4c8d7cfc87\" class=\"plotly-graph-div\" style=\"height:525px; width:100%;\"></div>            <script type=\"text/javascript\">                                    window.PLOTLYENV=window.PLOTLYENV || {};                                    if (document.getElementById(\"34e9e373-170f-490a-add2-9c4c8d7cfc87\")) {                    Plotly.newPlot(                        \"34e9e373-170f-490a-add2-9c4c8d7cfc87\",                        [{\"alignmentgroup\":\"True\",\"hovertemplate\":\"City=%{x}<br>Sales_scaled=%{y}<extra></extra>\",\"legendgroup\":\"\",\"marker\":{\"color\":\"rgb(103,0,31)\",\"pattern\":{\"shape\":\"\"}},\"name\":\"\",\"offsetgroup\":\"\",\"orientation\":\"v\",\"showlegend\":false,\"textposition\":\"auto\",\"x\":[\"New York City\",\"Los Angeles\",\"Philadelphia\",\"San Francisco\",\"Seattle\",\"Houston\",\"Chicago\",\"Columbus\",\"San Diego\",\"Springfield\",\"Dallas\",\"Detroit\",\"Jacksonville\",\"Newark\",\"Columbia\"],\"xaxis\":\"x\",\"y\":[3825.76,3126.63,2062.0,2047.89,1822.32,1397.69,1117.83,880.91,766.21,680.19,566.57,534.1,480.02,392.96,367.19],\"yaxis\":\"y\",\"type\":\"bar\"}],                        {\"template\":{\"data\":{\"histogram2dcontour\":[{\"type\":\"histogram2dcontour\",\"colorbar\":{\"outlinewidth\":0,\"ticks\":\"\"},\"colorscale\":[[0.0,\"#0d0887\"],[0.1111111111111111,\"#46039f\"],[0.2222222222222222,\"#7201a8\"],[0.3333333333333333,\"#9c179e\"],[0.4444444444444444,\"#bd3786\"],[0.5555555555555556,\"#d8576b\"],[0.6666666666666666,\"#ed7953\"],[0.7777777777777778,\"#fb9f3a\"],[0.8888888888888888,\"#fdca26\"],[1.0,\"#f0f921\"]]}],\"choropleth\":[{\"type\":\"choropleth\",\"colorbar\":{\"outlinewidth\":0,\"ticks\":\"\"}}],\"histogram2d\":[{\"type\":\"histogram2d\",\"colorbar\":{\"outlinewidth\":0,\"ticks\":\"\"},\"colorscale\":[[0.0,\"#0d0887\"],[0.1111111111111111,\"#46039f\"],[0.2222222222222222,\"#7201a8\"],[0.3333333333333333,\"#9c179e\"],[0.4444444444444444,\"#bd3786\"],[0.5555555555555556,\"#d8576b\"],[0.6666666666666666,\"#ed7953\"],[0.7777777777777778,\"#fb9f3a\"],[0.8888888888888888,\"#fdca26\"],[1.0,\"#f0f921\"]]}],\"heatmap\":[{\"type\":\"heatmap\",\"colorbar\":{\"outlinewidth\":0,\"ticks\":\"\"},\"colorscale\":[[0.0,\"#0d0887\"],[0.1111111111111111,\"#46039f\"],[0.2222222222222222,\"#7201a8\"],[0.3333333333333333,\"#9c179e\"],[0.4444444444444444,\"#bd3786\"],[0.5555555555555556,\"#d8576b\"],[0.6666666666666666,\"#ed7953\"],[0.7777777777777778,\"#fb9f3a\"],[0.8888888888888888,\"#fdca26\"],[1.0,\"#f0f921\"]]}],\"heatmapgl\":[{\"type\":\"heatmapgl\",\"colorbar\":{\"outlinewidth\":0,\"ticks\":\"\"},\"colorscale\":[[0.0,\"#0d0887\"],[0.1111111111111111,\"#46039f\"],[0.2222222222222222,\"#7201a8\"],[0.3333333333333333,\"#9c179e\"],[0.4444444444444444,\"#bd3786\"],[0.5555555555555556,\"#d8576b\"],[0.6666666666666666,\"#ed7953\"],[0.7777777777777778,\"#fb9f3a\"],[0.8888888888888888,\"#fdca26\"],[1.0,\"#f0f921\"]]}],\"contourcarpet\":[{\"type\":\"contourcarpet\",\"colorbar\":{\"outlinewidth\":0,\"ticks\":\"\"}}],\"contour\":[{\"type\":\"contour\",\"colorbar\":{\"outlinewidth\":0,\"ticks\":\"\"},\"colorscale\":[[0.0,\"#0d0887\"],[0.1111111111111111,\"#46039f\"],[0.2222222222222222,\"#7201a8\"],[0.3333333333333333,\"#9c179e\"],[0.4444444444444444,\"#bd3786\"],[0.5555555555555556,\"#d8576b\"],[0.6666666666666666,\"#ed7953\"],[0.7777777777777778,\"#fb9f3a\"],[0.8888888888888888,\"#fdca26\"],[1.0,\"#f0f921\"]]}],\"surface\":[{\"type\":\"surface\",\"colorbar\":{\"outlinewidth\":0,\"ticks\":\"\"},\"colorscale\":[[0.0,\"#0d0887\"],[0.1111111111111111,\"#46039f\"],[0.2222222222222222,\"#7201a8\"],[0.3333333333333333,\"#9c179e\"],[0.4444444444444444,\"#bd3786\"],[0.5555555555555556,\"#d8576b\"],[0.6666666666666666,\"#ed7953\"],[0.7777777777777778,\"#fb9f3a\"],[0.8888888888888888,\"#fdca26\"],[1.0,\"#f0f921\"]]}],\"mesh3d\":[{\"type\":\"mesh3d\",\"colorbar\":{\"outlinewidth\":0,\"ticks\":\"\"}}],\"scatter\":[{\"fillpattern\":{\"fillmode\":\"overlay\",\"size\":10,\"solidity\":0.2},\"type\":\"scatter\"}],\"parcoords\":[{\"type\":\"parcoords\",\"line\":{\"colorbar\":{\"outlinewidth\":0,\"ticks\":\"\"}}}],\"scatterpolargl\":[{\"type\":\"scatterpolargl\",\"marker\":{\"colorbar\":{\"outlinewidth\":0,\"ticks\":\"\"}}}],\"bar\":[{\"error_x\":{\"color\":\"#2a3f5f\"},\"error_y\":{\"color\":\"#2a3f5f\"},\"marker\":{\"line\":{\"color\":\"#E5ECF6\",\"width\":0.5},\"pattern\":{\"fillmode\":\"overlay\",\"size\":10,\"solidity\":0.2}},\"type\":\"bar\"}],\"scattergeo\":[{\"type\":\"scattergeo\",\"marker\":{\"colorbar\":{\"outlinewidth\":0,\"ticks\":\"\"}}}],\"scatterpolar\":[{\"type\":\"scatterpolar\",\"marker\":{\"colorbar\":{\"outlinewidth\":0,\"ticks\":\"\"}}}],\"histogram\":[{\"marker\":{\"pattern\":{\"fillmode\":\"overlay\",\"size\":10,\"solidity\":0.2}},\"type\":\"histogram\"}],\"scattergl\":[{\"type\":\"scattergl\",\"marker\":{\"colorbar\":{\"outlinewidth\":0,\"ticks\":\"\"}}}],\"scatter3d\":[{\"type\":\"scatter3d\",\"line\":{\"colorbar\":{\"outlinewidth\":0,\"ticks\":\"\"}},\"marker\":{\"colorbar\":{\"outlinewidth\":0,\"ticks\":\"\"}}}],\"scattermapbox\":[{\"type\":\"scattermapbox\",\"marker\":{\"colorbar\":{\"outlinewidth\":0,\"ticks\":\"\"}}}],\"scatterternary\":[{\"type\":\"scatterternary\",\"marker\":{\"colorbar\":{\"outlinewidth\":0,\"ticks\":\"\"}}}],\"scattercarpet\":[{\"type\":\"scattercarpet\",\"marker\":{\"colorbar\":{\"outlinewidth\":0,\"ticks\":\"\"}}}],\"carpet\":[{\"aaxis\":{\"endlinecolor\":\"#2a3f5f\",\"gridcolor\":\"white\",\"linecolor\":\"white\",\"minorgridcolor\":\"white\",\"startlinecolor\":\"#2a3f5f\"},\"baxis\":{\"endlinecolor\":\"#2a3f5f\",\"gridcolor\":\"white\",\"linecolor\":\"white\",\"minorgridcolor\":\"white\",\"startlinecolor\":\"#2a3f5f\"},\"type\":\"carpet\"}],\"table\":[{\"cells\":{\"fill\":{\"color\":\"#EBF0F8\"},\"line\":{\"color\":\"white\"}},\"header\":{\"fill\":{\"color\":\"#C8D4E3\"},\"line\":{\"color\":\"white\"}},\"type\":\"table\"}],\"barpolar\":[{\"marker\":{\"line\":{\"color\":\"#E5ECF6\",\"width\":0.5},\"pattern\":{\"fillmode\":\"overlay\",\"size\":10,\"solidity\":0.2}},\"type\":\"barpolar\"}],\"pie\":[{\"automargin\":true,\"type\":\"pie\"}]},\"layout\":{\"autotypenumbers\":\"strict\",\"colorway\":[\"#636efa\",\"#EF553B\",\"#00cc96\",\"#ab63fa\",\"#FFA15A\",\"#19d3f3\",\"#FF6692\",\"#B6E880\",\"#FF97FF\",\"#FECB52\"],\"font\":{\"color\":\"#2a3f5f\"},\"hovermode\":\"closest\",\"hoverlabel\":{\"align\":\"left\"},\"paper_bgcolor\":\"white\",\"plot_bgcolor\":\"#E5ECF6\",\"polar\":{\"bgcolor\":\"#E5ECF6\",\"angularaxis\":{\"gridcolor\":\"white\",\"linecolor\":\"white\",\"ticks\":\"\"},\"radialaxis\":{\"gridcolor\":\"white\",\"linecolor\":\"white\",\"ticks\":\"\"}},\"ternary\":{\"bgcolor\":\"#E5ECF6\",\"aaxis\":{\"gridcolor\":\"white\",\"linecolor\":\"white\",\"ticks\":\"\"},\"baxis\":{\"gridcolor\":\"white\",\"linecolor\":\"white\",\"ticks\":\"\"},\"caxis\":{\"gridcolor\":\"white\",\"linecolor\":\"white\",\"ticks\":\"\"}},\"coloraxis\":{\"colorbar\":{\"outlinewidth\":0,\"ticks\":\"\"}},\"colorscale\":{\"sequential\":[[0.0,\"#0d0887\"],[0.1111111111111111,\"#46039f\"],[0.2222222222222222,\"#7201a8\"],[0.3333333333333333,\"#9c179e\"],[0.4444444444444444,\"#bd3786\"],[0.5555555555555556,\"#d8576b\"],[0.6666666666666666,\"#ed7953\"],[0.7777777777777778,\"#fb9f3a\"],[0.8888888888888888,\"#fdca26\"],[1.0,\"#f0f921\"]],\"sequentialminus\":[[0.0,\"#0d0887\"],[0.1111111111111111,\"#46039f\"],[0.2222222222222222,\"#7201a8\"],[0.3333333333333333,\"#9c179e\"],[0.4444444444444444,\"#bd3786\"],[0.5555555555555556,\"#d8576b\"],[0.6666666666666666,\"#ed7953\"],[0.7777777777777778,\"#fb9f3a\"],[0.8888888888888888,\"#fdca26\"],[1.0,\"#f0f921\"]],\"diverging\":[[0,\"#8e0152\"],[0.1,\"#c51b7d\"],[0.2,\"#de77ae\"],[0.3,\"#f1b6da\"],[0.4,\"#fde0ef\"],[0.5,\"#f7f7f7\"],[0.6,\"#e6f5d0\"],[0.7,\"#b8e186\"],[0.8,\"#7fbc41\"],[0.9,\"#4d9221\"],[1,\"#276419\"]]},\"xaxis\":{\"gridcolor\":\"white\",\"linecolor\":\"white\",\"ticks\":\"\",\"title\":{\"standoff\":15},\"zerolinecolor\":\"white\",\"automargin\":true,\"zerolinewidth\":2},\"yaxis\":{\"gridcolor\":\"white\",\"linecolor\":\"white\",\"ticks\":\"\",\"title\":{\"standoff\":15},\"zerolinecolor\":\"white\",\"automargin\":true,\"zerolinewidth\":2},\"scene\":{\"xaxis\":{\"backgroundcolor\":\"#E5ECF6\",\"gridcolor\":\"white\",\"linecolor\":\"white\",\"showbackground\":true,\"ticks\":\"\",\"zerolinecolor\":\"white\",\"gridwidth\":2},\"yaxis\":{\"backgroundcolor\":\"#E5ECF6\",\"gridcolor\":\"white\",\"linecolor\":\"white\",\"showbackground\":true,\"ticks\":\"\",\"zerolinecolor\":\"white\",\"gridwidth\":2},\"zaxis\":{\"backgroundcolor\":\"#E5ECF6\",\"gridcolor\":\"white\",\"linecolor\":\"white\",\"showbackground\":true,\"ticks\":\"\",\"zerolinecolor\":\"white\",\"gridwidth\":2}},\"shapedefaults\":{\"line\":{\"color\":\"#2a3f5f\"}},\"annotationdefaults\":{\"arrowcolor\":\"#2a3f5f\",\"arrowhead\":0,\"arrowwidth\":1},\"geo\":{\"bgcolor\":\"white\",\"landcolor\":\"#E5ECF6\",\"subunitcolor\":\"white\",\"showland\":true,\"showlakes\":true,\"lakecolor\":\"white\"},\"title\":{\"x\":0.05},\"mapbox\":{\"style\":\"light\"}}},\"xaxis\":{\"anchor\":\"y\",\"domain\":[0.0,1.0],\"title\":{\"text\":\"City\"}},\"yaxis\":{\"anchor\":\"x\",\"domain\":[0.0,1.0],\"title\":{\"text\":\"Sales_scaled\"}},\"legend\":{\"tracegroupgap\":0},\"title\":{\"text\":\"Top 15 Cities\"},\"barmode\":\"relative\"},                        {\"responsive\": true}                    ).then(function(){\n",
              "                            \n",
              "var gd = document.getElementById('34e9e373-170f-490a-add2-9c4c8d7cfc87');\n",
              "var x = new MutationObserver(function (mutations, observer) {{\n",
              "        var display = window.getComputedStyle(gd).display;\n",
              "        if (!display || display === 'none') {{\n",
              "            console.log([gd, 'removed!']);\n",
              "            Plotly.purge(gd);\n",
              "            observer.disconnect();\n",
              "        }}\n",
              "}});\n",
              "\n",
              "// Listen for the removal of the full notebook cells\n",
              "var notebookContainer = gd.closest('#notebook-container');\n",
              "if (notebookContainer) {{\n",
              "    x.observe(notebookContainer, {childList: true});\n",
              "}}\n",
              "\n",
              "// Listen for the clearing of the current output cell\n",
              "var outputEl = gd.closest('.output');\n",
              "if (outputEl) {{\n",
              "    x.observe(outputEl, {childList: true});\n",
              "}}\n",
              "\n",
              "                        })                };                            </script>        </div>\n",
              "</body>\n",
              "</html>"
            ]
          },
          "metadata": {}
        }
      ]
    },
    {
      "cell_type": "code",
      "source": [
        "top_states= df.groupby(\"State\").sum().sort_values(\"Sales_scaled\",ascending=False).head(15)\n",
        "top_states= top_states[['Sales_scaled']].round(2)\n",
        "top_states.reset_index(inplace=True)\n",
        "top_states\n",
        "fig=px.bar(top_states,x='State',y='Sales_scaled',title=\"Top 15 Cities\")\n",
        "fig.show()"
      ],
      "metadata": {
        "colab": {
          "base_uri": "https://localhost:8080/",
          "height": 542
        },
        "id": "I_ShPHtDIRwE",
        "outputId": "0196f4f6-9344-4578-c253-04bf2f3d1c55"
      },
      "execution_count": 74,
      "outputs": [
        {
          "output_type": "display_data",
          "data": {
            "text/html": [
              "<html>\n",
              "<head><meta charset=\"utf-8\" /></head>\n",
              "<body>\n",
              "    <div>            <script src=\"https://cdnjs.cloudflare.com/ajax/libs/mathjax/2.7.5/MathJax.js?config=TeX-AMS-MML_SVG\"></script><script type=\"text/javascript\">if (window.MathJax && window.MathJax.Hub && window.MathJax.Hub.Config) {window.MathJax.Hub.Config({SVG: {font: \"STIX-Web\"}});}</script>                <script type=\"text/javascript\">window.PlotlyConfig = {MathJaxConfig: 'local'};</script>\n",
              "        <script src=\"https://cdn.plot.ly/plotly-2.18.2.min.js\"></script>                <div id=\"19194dde-df86-4d36-b8e4-c62ead08ed55\" class=\"plotly-graph-div\" style=\"height:525px; width:100%;\"></div>            <script type=\"text/javascript\">                                    window.PLOTLYENV=window.PLOTLYENV || {};                                    if (document.getElementById(\"19194dde-df86-4d36-b8e4-c62ead08ed55\")) {                    Plotly.newPlot(                        \"19194dde-df86-4d36-b8e4-c62ead08ed55\",                        [{\"alignmentgroup\":\"True\",\"hovertemplate\":\"State=%{x}<br>Sales_scaled=%{y}<extra></extra>\",\"legendgroup\":\"\",\"marker\":{\"color\":\"#636efa\",\"pattern\":{\"shape\":\"\"}},\"name\":\"\",\"offsetgroup\":\"\",\"orientation\":\"v\",\"showlegend\":false,\"textposition\":\"auto\",\"x\":[\"California\",\"New York\",\"Texas\",\"Pennsylvania\",\"Washington\",\"Illinois\",\"Ohio\",\"Florida\",\"Michigan\",\"Virginia\",\"North Carolina\",\"Arizona\",\"Georgia\",\"Colorado\",\"Tennessee\"],\"xaxis\":\"x\",\"y\":[8238.75,4700.63,3625.82,2257.68,2157.19,1812.02,1746.48,1428.64,1121.18,994.16,984.31,894.15,760.72,709.36,691.78],\"yaxis\":\"y\",\"type\":\"bar\"}],                        {\"template\":{\"data\":{\"histogram2dcontour\":[{\"type\":\"histogram2dcontour\",\"colorbar\":{\"outlinewidth\":0,\"ticks\":\"\"},\"colorscale\":[[0.0,\"#0d0887\"],[0.1111111111111111,\"#46039f\"],[0.2222222222222222,\"#7201a8\"],[0.3333333333333333,\"#9c179e\"],[0.4444444444444444,\"#bd3786\"],[0.5555555555555556,\"#d8576b\"],[0.6666666666666666,\"#ed7953\"],[0.7777777777777778,\"#fb9f3a\"],[0.8888888888888888,\"#fdca26\"],[1.0,\"#f0f921\"]]}],\"choropleth\":[{\"type\":\"choropleth\",\"colorbar\":{\"outlinewidth\":0,\"ticks\":\"\"}}],\"histogram2d\":[{\"type\":\"histogram2d\",\"colorbar\":{\"outlinewidth\":0,\"ticks\":\"\"},\"colorscale\":[[0.0,\"#0d0887\"],[0.1111111111111111,\"#46039f\"],[0.2222222222222222,\"#7201a8\"],[0.3333333333333333,\"#9c179e\"],[0.4444444444444444,\"#bd3786\"],[0.5555555555555556,\"#d8576b\"],[0.6666666666666666,\"#ed7953\"],[0.7777777777777778,\"#fb9f3a\"],[0.8888888888888888,\"#fdca26\"],[1.0,\"#f0f921\"]]}],\"heatmap\":[{\"type\":\"heatmap\",\"colorbar\":{\"outlinewidth\":0,\"ticks\":\"\"},\"colorscale\":[[0.0,\"#0d0887\"],[0.1111111111111111,\"#46039f\"],[0.2222222222222222,\"#7201a8\"],[0.3333333333333333,\"#9c179e\"],[0.4444444444444444,\"#bd3786\"],[0.5555555555555556,\"#d8576b\"],[0.6666666666666666,\"#ed7953\"],[0.7777777777777778,\"#fb9f3a\"],[0.8888888888888888,\"#fdca26\"],[1.0,\"#f0f921\"]]}],\"heatmapgl\":[{\"type\":\"heatmapgl\",\"colorbar\":{\"outlinewidth\":0,\"ticks\":\"\"},\"colorscale\":[[0.0,\"#0d0887\"],[0.1111111111111111,\"#46039f\"],[0.2222222222222222,\"#7201a8\"],[0.3333333333333333,\"#9c179e\"],[0.4444444444444444,\"#bd3786\"],[0.5555555555555556,\"#d8576b\"],[0.6666666666666666,\"#ed7953\"],[0.7777777777777778,\"#fb9f3a\"],[0.8888888888888888,\"#fdca26\"],[1.0,\"#f0f921\"]]}],\"contourcarpet\":[{\"type\":\"contourcarpet\",\"colorbar\":{\"outlinewidth\":0,\"ticks\":\"\"}}],\"contour\":[{\"type\":\"contour\",\"colorbar\":{\"outlinewidth\":0,\"ticks\":\"\"},\"colorscale\":[[0.0,\"#0d0887\"],[0.1111111111111111,\"#46039f\"],[0.2222222222222222,\"#7201a8\"],[0.3333333333333333,\"#9c179e\"],[0.4444444444444444,\"#bd3786\"],[0.5555555555555556,\"#d8576b\"],[0.6666666666666666,\"#ed7953\"],[0.7777777777777778,\"#fb9f3a\"],[0.8888888888888888,\"#fdca26\"],[1.0,\"#f0f921\"]]}],\"surface\":[{\"type\":\"surface\",\"colorbar\":{\"outlinewidth\":0,\"ticks\":\"\"},\"colorscale\":[[0.0,\"#0d0887\"],[0.1111111111111111,\"#46039f\"],[0.2222222222222222,\"#7201a8\"],[0.3333333333333333,\"#9c179e\"],[0.4444444444444444,\"#bd3786\"],[0.5555555555555556,\"#d8576b\"],[0.6666666666666666,\"#ed7953\"],[0.7777777777777778,\"#fb9f3a\"],[0.8888888888888888,\"#fdca26\"],[1.0,\"#f0f921\"]]}],\"mesh3d\":[{\"type\":\"mesh3d\",\"colorbar\":{\"outlinewidth\":0,\"ticks\":\"\"}}],\"scatter\":[{\"fillpattern\":{\"fillmode\":\"overlay\",\"size\":10,\"solidity\":0.2},\"type\":\"scatter\"}],\"parcoords\":[{\"type\":\"parcoords\",\"line\":{\"colorbar\":{\"outlinewidth\":0,\"ticks\":\"\"}}}],\"scatterpolargl\":[{\"type\":\"scatterpolargl\",\"marker\":{\"colorbar\":{\"outlinewidth\":0,\"ticks\":\"\"}}}],\"bar\":[{\"error_x\":{\"color\":\"#2a3f5f\"},\"error_y\":{\"color\":\"#2a3f5f\"},\"marker\":{\"line\":{\"color\":\"#E5ECF6\",\"width\":0.5},\"pattern\":{\"fillmode\":\"overlay\",\"size\":10,\"solidity\":0.2}},\"type\":\"bar\"}],\"scattergeo\":[{\"type\":\"scattergeo\",\"marker\":{\"colorbar\":{\"outlinewidth\":0,\"ticks\":\"\"}}}],\"scatterpolar\":[{\"type\":\"scatterpolar\",\"marker\":{\"colorbar\":{\"outlinewidth\":0,\"ticks\":\"\"}}}],\"histogram\":[{\"marker\":{\"pattern\":{\"fillmode\":\"overlay\",\"size\":10,\"solidity\":0.2}},\"type\":\"histogram\"}],\"scattergl\":[{\"type\":\"scattergl\",\"marker\":{\"colorbar\":{\"outlinewidth\":0,\"ticks\":\"\"}}}],\"scatter3d\":[{\"type\":\"scatter3d\",\"line\":{\"colorbar\":{\"outlinewidth\":0,\"ticks\":\"\"}},\"marker\":{\"colorbar\":{\"outlinewidth\":0,\"ticks\":\"\"}}}],\"scattermapbox\":[{\"type\":\"scattermapbox\",\"marker\":{\"colorbar\":{\"outlinewidth\":0,\"ticks\":\"\"}}}],\"scatterternary\":[{\"type\":\"scatterternary\",\"marker\":{\"colorbar\":{\"outlinewidth\":0,\"ticks\":\"\"}}}],\"scattercarpet\":[{\"type\":\"scattercarpet\",\"marker\":{\"colorbar\":{\"outlinewidth\":0,\"ticks\":\"\"}}}],\"carpet\":[{\"aaxis\":{\"endlinecolor\":\"#2a3f5f\",\"gridcolor\":\"white\",\"linecolor\":\"white\",\"minorgridcolor\":\"white\",\"startlinecolor\":\"#2a3f5f\"},\"baxis\":{\"endlinecolor\":\"#2a3f5f\",\"gridcolor\":\"white\",\"linecolor\":\"white\",\"minorgridcolor\":\"white\",\"startlinecolor\":\"#2a3f5f\"},\"type\":\"carpet\"}],\"table\":[{\"cells\":{\"fill\":{\"color\":\"#EBF0F8\"},\"line\":{\"color\":\"white\"}},\"header\":{\"fill\":{\"color\":\"#C8D4E3\"},\"line\":{\"color\":\"white\"}},\"type\":\"table\"}],\"barpolar\":[{\"marker\":{\"line\":{\"color\":\"#E5ECF6\",\"width\":0.5},\"pattern\":{\"fillmode\":\"overlay\",\"size\":10,\"solidity\":0.2}},\"type\":\"barpolar\"}],\"pie\":[{\"automargin\":true,\"type\":\"pie\"}]},\"layout\":{\"autotypenumbers\":\"strict\",\"colorway\":[\"#636efa\",\"#EF553B\",\"#00cc96\",\"#ab63fa\",\"#FFA15A\",\"#19d3f3\",\"#FF6692\",\"#B6E880\",\"#FF97FF\",\"#FECB52\"],\"font\":{\"color\":\"#2a3f5f\"},\"hovermode\":\"closest\",\"hoverlabel\":{\"align\":\"left\"},\"paper_bgcolor\":\"white\",\"plot_bgcolor\":\"#E5ECF6\",\"polar\":{\"bgcolor\":\"#E5ECF6\",\"angularaxis\":{\"gridcolor\":\"white\",\"linecolor\":\"white\",\"ticks\":\"\"},\"radialaxis\":{\"gridcolor\":\"white\",\"linecolor\":\"white\",\"ticks\":\"\"}},\"ternary\":{\"bgcolor\":\"#E5ECF6\",\"aaxis\":{\"gridcolor\":\"white\",\"linecolor\":\"white\",\"ticks\":\"\"},\"baxis\":{\"gridcolor\":\"white\",\"linecolor\":\"white\",\"ticks\":\"\"},\"caxis\":{\"gridcolor\":\"white\",\"linecolor\":\"white\",\"ticks\":\"\"}},\"coloraxis\":{\"colorbar\":{\"outlinewidth\":0,\"ticks\":\"\"}},\"colorscale\":{\"sequential\":[[0.0,\"#0d0887\"],[0.1111111111111111,\"#46039f\"],[0.2222222222222222,\"#7201a8\"],[0.3333333333333333,\"#9c179e\"],[0.4444444444444444,\"#bd3786\"],[0.5555555555555556,\"#d8576b\"],[0.6666666666666666,\"#ed7953\"],[0.7777777777777778,\"#fb9f3a\"],[0.8888888888888888,\"#fdca26\"],[1.0,\"#f0f921\"]],\"sequentialminus\":[[0.0,\"#0d0887\"],[0.1111111111111111,\"#46039f\"],[0.2222222222222222,\"#7201a8\"],[0.3333333333333333,\"#9c179e\"],[0.4444444444444444,\"#bd3786\"],[0.5555555555555556,\"#d8576b\"],[0.6666666666666666,\"#ed7953\"],[0.7777777777777778,\"#fb9f3a\"],[0.8888888888888888,\"#fdca26\"],[1.0,\"#f0f921\"]],\"diverging\":[[0,\"#8e0152\"],[0.1,\"#c51b7d\"],[0.2,\"#de77ae\"],[0.3,\"#f1b6da\"],[0.4,\"#fde0ef\"],[0.5,\"#f7f7f7\"],[0.6,\"#e6f5d0\"],[0.7,\"#b8e186\"],[0.8,\"#7fbc41\"],[0.9,\"#4d9221\"],[1,\"#276419\"]]},\"xaxis\":{\"gridcolor\":\"white\",\"linecolor\":\"white\",\"ticks\":\"\",\"title\":{\"standoff\":15},\"zerolinecolor\":\"white\",\"automargin\":true,\"zerolinewidth\":2},\"yaxis\":{\"gridcolor\":\"white\",\"linecolor\":\"white\",\"ticks\":\"\",\"title\":{\"standoff\":15},\"zerolinecolor\":\"white\",\"automargin\":true,\"zerolinewidth\":2},\"scene\":{\"xaxis\":{\"backgroundcolor\":\"#E5ECF6\",\"gridcolor\":\"white\",\"linecolor\":\"white\",\"showbackground\":true,\"ticks\":\"\",\"zerolinecolor\":\"white\",\"gridwidth\":2},\"yaxis\":{\"backgroundcolor\":\"#E5ECF6\",\"gridcolor\":\"white\",\"linecolor\":\"white\",\"showbackground\":true,\"ticks\":\"\",\"zerolinecolor\":\"white\",\"gridwidth\":2},\"zaxis\":{\"backgroundcolor\":\"#E5ECF6\",\"gridcolor\":\"white\",\"linecolor\":\"white\",\"showbackground\":true,\"ticks\":\"\",\"zerolinecolor\":\"white\",\"gridwidth\":2}},\"shapedefaults\":{\"line\":{\"color\":\"#2a3f5f\"}},\"annotationdefaults\":{\"arrowcolor\":\"#2a3f5f\",\"arrowhead\":0,\"arrowwidth\":1},\"geo\":{\"bgcolor\":\"white\",\"landcolor\":\"#E5ECF6\",\"subunitcolor\":\"white\",\"showland\":true,\"showlakes\":true,\"lakecolor\":\"white\"},\"title\":{\"x\":0.05},\"mapbox\":{\"style\":\"light\"}}},\"xaxis\":{\"anchor\":\"y\",\"domain\":[0.0,1.0],\"title\":{\"text\":\"State\"}},\"yaxis\":{\"anchor\":\"x\",\"domain\":[0.0,1.0],\"title\":{\"text\":\"Sales_scaled\"}},\"legend\":{\"tracegroupgap\":0},\"title\":{\"text\":\"Top 15 Cities\"},\"barmode\":\"relative\"},                        {\"responsive\": true}                    ).then(function(){\n",
              "                            \n",
              "var gd = document.getElementById('19194dde-df86-4d36-b8e4-c62ead08ed55');\n",
              "var x = new MutationObserver(function (mutations, observer) {{\n",
              "        var display = window.getComputedStyle(gd).display;\n",
              "        if (!display || display === 'none') {{\n",
              "            console.log([gd, 'removed!']);\n",
              "            Plotly.purge(gd);\n",
              "            observer.disconnect();\n",
              "        }}\n",
              "}});\n",
              "\n",
              "// Listen for the removal of the full notebook cells\n",
              "var notebookContainer = gd.closest('#notebook-container');\n",
              "if (notebookContainer) {{\n",
              "    x.observe(notebookContainer, {childList: true});\n",
              "}}\n",
              "\n",
              "// Listen for the clearing of the current output cell\n",
              "var outputEl = gd.closest('.output');\n",
              "if (outputEl) {{\n",
              "    x.observe(outputEl, {childList: true});\n",
              "}}\n",
              "\n",
              "                        })                };                            </script>        </div>\n",
              "</body>\n",
              "</html>"
            ]
          },
          "metadata": {}
        }
      ]
    },
    {
      "cell_type": "code",
      "source": [
        "plt.figure(figsize=(16,6))\n",
        "df['Ship Mode'].value_counts().plot.pie(autopct='%.1f%%')\n",
        "plt.show()"
      ],
      "metadata": {
        "colab": {
          "base_uri": "https://localhost:8080/",
          "height": 357
        },
        "id": "7WCqvjIBInQ-",
        "outputId": "733c4ecf-e792-49bf-82ac-17b069687093"
      },
      "execution_count": 76,
      "outputs": [
        {
          "output_type": "display_data",
          "data": {
            "text/plain": [
              "<Figure size 1152x432 with 1 Axes>"
            ],
            "image/png": "[encoded data removed]"
          },
          "metadata": {}
        }
      ]
    },
    {
      "cell_type": "code",
      "source": [
        "display(px.pie(df['Category'].value_counts().reset_index().rename(columns={'index':'Type'}), values='Category', names='Type', title='Category'))"
      ],
      "metadata": {
        "colab": {
          "base_uri": "https://localhost:8080/",
          "height": 542
        },
        "id": "GK32gFDJJCaH",
        "outputId": "464e7ea6-e93b-45c9-cef7-2d742d6d3c07"
      },
      "execution_count": 79,
      "outputs": [
        {
          "output_type": "display_data",
          "data": {
            "text/html": [
              "<html>\n",
              "<head><meta charset=\"utf-8\" /></head>\n",
              "<body>\n",
              "    <div>            <script src=\"https://cdnjs.cloudflare.com/ajax/libs/mathjax/2.7.5/MathJax.js?config=TeX-AMS-MML_SVG\"></script><script type=\"text/javascript\">if (window.MathJax && window.MathJax.Hub && window.MathJax.Hub.Config) {window.MathJax.Hub.Config({SVG: {font: \"STIX-Web\"}});}</script>                <script type=\"text/javascript\">window.PlotlyConfig = {MathJaxConfig: 'local'};</script>\n",
              "        <script src=\"https://cdn.plot.ly/plotly-2.18.2.min.js\"></script>                <div id=\"7cf90852-f14c-4260-9c67-ab87028710c0\" class=\"plotly-graph-div\" style=\"height:525px; width:100%;\"></div>            <script type=\"text/javascript\">                                    window.PLOTLYENV=window.PLOTLYENV || {};                                    if (document.getElementById(\"7cf90852-f14c-4260-9c67-ab87028710c0\")) {                    Plotly.newPlot(                        \"7cf90852-f14c-4260-9c67-ab87028710c0\",                        [{\"domain\":{\"x\":[0.0,1.0],\"y\":[0.0,1.0]},\"hovertemplate\":\"Type=%{label}<br>Category=%{value}<extra></extra>\",\"labels\":[\"Office Supplies\",\"Furniture\",\"Technology\"],\"legendgroup\":\"\",\"name\":\"\",\"showlegend\":true,\"values\":[5909,2077,1813],\"type\":\"pie\"}],                        {\"template\":{\"data\":{\"histogram2dcontour\":[{\"type\":\"histogram2dcontour\",\"colorbar\":{\"outlinewidth\":0,\"ticks\":\"\"},\"colorscale\":[[0.0,\"#0d0887\"],[0.1111111111111111,\"#46039f\"],[0.2222222222222222,\"#7201a8\"],[0.3333333333333333,\"#9c179e\"],[0.4444444444444444,\"#bd3786\"],[0.5555555555555556,\"#d8576b\"],[0.6666666666666666,\"#ed7953\"],[0.7777777777777778,\"#fb9f3a\"],[0.8888888888888888,\"#fdca26\"],[1.0,\"#f0f921\"]]}],\"choropleth\":[{\"type\":\"choropleth\",\"colorbar\":{\"outlinewidth\":0,\"ticks\":\"\"}}],\"histogram2d\":[{\"type\":\"histogram2d\",\"colorbar\":{\"outlinewidth\":0,\"ticks\":\"\"},\"colorscale\":[[0.0,\"#0d0887\"],[0.1111111111111111,\"#46039f\"],[0.2222222222222222,\"#7201a8\"],[0.3333333333333333,\"#9c179e\"],[0.4444444444444444,\"#bd3786\"],[0.5555555555555556,\"#d8576b\"],[0.6666666666666666,\"#ed7953\"],[0.7777777777777778,\"#fb9f3a\"],[0.8888888888888888,\"#fdca26\"],[1.0,\"#f0f921\"]]}],\"heatmap\":[{\"type\":\"heatmap\",\"colorbar\":{\"outlinewidth\":0,\"ticks\":\"\"},\"colorscale\":[[0.0,\"#0d0887\"],[0.1111111111111111,\"#46039f\"],[0.2222222222222222,\"#7201a8\"],[0.3333333333333333,\"#9c179e\"],[0.4444444444444444,\"#bd3786\"],[0.5555555555555556,\"#d8576b\"],[0.6666666666666666,\"#ed7953\"],[0.7777777777777778,\"#fb9f3a\"],[0.8888888888888888,\"#fdca26\"],[1.0,\"#f0f921\"]]}],\"heatmapgl\":[{\"type\":\"heatmapgl\",\"colorbar\":{\"outlinewidth\":0,\"ticks\":\"\"},\"colorscale\":[[0.0,\"#0d0887\"],[0.1111111111111111,\"#46039f\"],[0.2222222222222222,\"#7201a8\"],[0.3333333333333333,\"#9c179e\"],[0.4444444444444444,\"#bd3786\"],[0.5555555555555556,\"#d8576b\"],[0.6666666666666666,\"#ed7953\"],[0.7777777777777778,\"#fb9f3a\"],[0.8888888888888888,\"#fdca26\"],[1.0,\"#f0f921\"]]}],\"contourcarpet\":[{\"type\":\"contourcarpet\",\"colorbar\":{\"outlinewidth\":0,\"ticks\":\"\"}}],\"contour\":[{\"type\":\"contour\",\"colorbar\":{\"outlinewidth\":0,\"ticks\":\"\"},\"colorscale\":[[0.0,\"#0d0887\"],[0.1111111111111111,\"#46039f\"],[0.2222222222222222,\"#7201a8\"],[0.3333333333333333,\"#9c179e\"],[0.4444444444444444,\"#bd3786\"],[0.5555555555555556,\"#d8576b\"],[0.6666666666666666,\"#ed7953\"],[0.7777777777777778,\"#fb9f3a\"],[0.8888888888888888,\"#fdca26\"],[1.0,\"#f0f921\"]]}],\"surface\":[{\"type\":\"surface\",\"colorbar\":{\"outlinewidth\":0,\"ticks\":\"\"},\"colorscale\":[[0.0,\"#0d0887\"],[0.1111111111111111,\"#46039f\"],[0.2222222222222222,\"#7201a8\"],[0.3333333333333333,\"#9c179e\"],[0.4444444444444444,\"#bd3786\"],[0.5555555555555556,\"#d8576b\"],[0.6666666666666666,\"#ed7953\"],[0.7777777777777778,\"#fb9f3a\"],[0.8888888888888888,\"#fdca26\"],[1.0,\"#f0f921\"]]}],\"mesh3d\":[{\"type\":\"mesh3d\",\"colorbar\":{\"outlinewidth\":0,\"ticks\":\"\"}}],\"scatter\":[{\"fillpattern\":{\"fillmode\":\"overlay\",\"size\":10,\"solidity\":0.2},\"type\":\"scatter\"}],\"parcoords\":[{\"type\":\"parcoords\",\"line\":{\"colorbar\":{\"outlinewidth\":0,\"ticks\":\"\"}}}],\"scatterpolargl\":[{\"type\":\"scatterpolargl\",\"marker\":{\"colorbar\":{\"outlinewidth\":0,\"ticks\":\"\"}}}],\"bar\":[{\"error_x\":{\"color\":\"#2a3f5f\"},\"error_y\":{\"color\":\"#2a3f5f\"},\"marker\":{\"line\":{\"color\":\"#E5ECF6\",\"width\":0.5},\"pattern\":{\"fillmode\":\"overlay\",\"size\":10,\"solidity\":0.2}},\"type\":\"bar\"}],\"scattergeo\":[{\"type\":\"scattergeo\",\"marker\":{\"colorbar\":{\"outlinewidth\":0,\"ticks\":\"\"}}}],\"scatterpolar\":[{\"type\":\"scatterpolar\",\"marker\":{\"colorbar\":{\"outlinewidth\":0,\"ticks\":\"\"}}}],\"histogram\":[{\"marker\":{\"pattern\":{\"fillmode\":\"overlay\",\"size\":10,\"solidity\":0.2}},\"type\":\"histogram\"}],\"scattergl\":[{\"type\":\"scattergl\",\"marker\":{\"colorbar\":{\"outlinewidth\":0,\"ticks\":\"\"}}}],\"scatter3d\":[{\"type\":\"scatter3d\",\"line\":{\"colorbar\":{\"outlinewidth\":0,\"ticks\":\"\"}},\"marker\":{\"colorbar\":{\"outlinewidth\":0,\"ticks\":\"\"}}}],\"scattermapbox\":[{\"type\":\"scattermapbox\",\"marker\":{\"colorbar\":{\"outlinewidth\":0,\"ticks\":\"\"}}}],\"scatterternary\":[{\"type\":\"scatterternary\",\"marker\":{\"colorbar\":{\"outlinewidth\":0,\"ticks\":\"\"}}}],\"scattercarpet\":[{\"type\":\"scattercarpet\",\"marker\":{\"colorbar\":{\"outlinewidth\":0,\"ticks\":\"\"}}}],\"carpet\":[{\"aaxis\":{\"endlinecolor\":\"#2a3f5f\",\"gridcolor\":\"white\",\"linecolor\":\"white\",\"minorgridcolor\":\"white\",\"startlinecolor\":\"#2a3f5f\"},\"baxis\":{\"endlinecolor\":\"#2a3f5f\",\"gridcolor\":\"white\",\"linecolor\":\"white\",\"minorgridcolor\":\"white\",\"startlinecolor\":\"#2a3f5f\"},\"type\":\"carpet\"}],\"table\":[{\"cells\":{\"fill\":{\"color\":\"#EBF0F8\"},\"line\":{\"color\":\"white\"}},\"header\":{\"fill\":{\"color\":\"#C8D4E3\"},\"line\":{\"color\":\"white\"}},\"type\":\"table\"}],\"barpolar\":[{\"marker\":{\"line\":{\"color\":\"#E5ECF6\",\"width\":0.5},\"pattern\":{\"fillmode\":\"overlay\",\"size\":10,\"solidity\":0.2}},\"type\":\"barpolar\"}],\"pie\":[{\"automargin\":true,\"type\":\"pie\"}]},\"layout\":{\"autotypenumbers\":\"strict\",\"colorway\":[\"#636efa\",\"#EF553B\",\"#00cc96\",\"#ab63fa\",\"#FFA15A\",\"#19d3f3\",\"#FF6692\",\"#B6E880\",\"#FF97FF\",\"#FECB52\"],\"font\":{\"color\":\"#2a3f5f\"},\"hovermode\":\"closest\",\"hoverlabel\":{\"align\":\"left\"},\"paper_bgcolor\":\"white\",\"plot_bgcolor\":\"#E5ECF6\",\"polar\":{\"bgcolor\":\"#E5ECF6\",\"angularaxis\":{\"gridcolor\":\"white\",\"linecolor\":\"white\",\"ticks\":\"\"},\"radialaxis\":{\"gridcolor\":\"white\",\"linecolor\":\"white\",\"ticks\":\"\"}},\"ternary\":{\"bgcolor\":\"#E5ECF6\",\"aaxis\":{\"gridcolor\":\"white\",\"linecolor\":\"white\",\"ticks\":\"\"},\"baxis\":{\"gridcolor\":\"white\",\"linecolor\":\"white\",\"ticks\":\"\"},\"caxis\":{\"gridcolor\":\"white\",\"linecolor\":\"white\",\"ticks\":\"\"}},\"coloraxis\":{\"colorbar\":{\"outlinewidth\":0,\"ticks\":\"\"}},\"colorscale\":{\"sequential\":[[0.0,\"#0d0887\"],[0.1111111111111111,\"#46039f\"],[0.2222222222222222,\"#7201a8\"],[0.3333333333333333,\"#9c179e\"],[0.4444444444444444,\"#bd3786\"],[0.5555555555555556,\"#d8576b\"],[0.6666666666666666,\"#ed7953\"],[0.7777777777777778,\"#fb9f3a\"],[0.8888888888888888,\"#fdca26\"],[1.0,\"#f0f921\"]],\"sequentialminus\":[[0.0,\"#0d0887\"],[0.1111111111111111,\"#46039f\"],[0.2222222222222222,\"#7201a8\"],[0.3333333333333333,\"#9c179e\"],[0.4444444444444444,\"#bd3786\"],[0.5555555555555556,\"#d8576b\"],[0.6666666666666666,\"#ed7953\"],[0.7777777777777778,\"#fb9f3a\"],[0.8888888888888888,\"#fdca26\"],[1.0,\"#f0f921\"]],\"diverging\":[[0,\"#8e0152\"],[0.1,\"#c51b7d\"],[0.2,\"#de77ae\"],[0.3,\"#f1b6da\"],[0.4,\"#fde0ef\"],[0.5,\"#f7f7f7\"],[0.6,\"#e6f5d0\"],[0.7,\"#b8e186\"],[0.8,\"#7fbc41\"],[0.9,\"#4d9221\"],[1,\"#276419\"]]},\"xaxis\":{\"gridcolor\":\"white\",\"linecolor\":\"white\",\"ticks\":\"\",\"title\":{\"standoff\":15},\"zerolinecolor\":\"white\",\"automargin\":true,\"zerolinewidth\":2},\"yaxis\":{\"gridcolor\":\"white\",\"linecolor\":\"white\",\"ticks\":\"\",\"title\":{\"standoff\":15},\"zerolinecolor\":\"white\",\"automargin\":true,\"zerolinewidth\":2},\"scene\":{\"xaxis\":{\"backgroundcolor\":\"#E5ECF6\",\"gridcolor\":\"white\",\"linecolor\":\"white\",\"showbackground\":true,\"ticks\":\"\",\"zerolinecolor\":\"white\",\"gridwidth\":2},\"yaxis\":{\"backgroundcolor\":\"#E5ECF6\",\"gridcolor\":\"white\",\"linecolor\":\"white\",\"showbackground\":true,\"ticks\":\"\",\"zerolinecolor\":\"white\",\"gridwidth\":2},\"zaxis\":{\"backgroundcolor\":\"#E5ECF6\",\"gridcolor\":\"white\",\"linecolor\":\"white\",\"showbackground\":true,\"ticks\":\"\",\"zerolinecolor\":\"white\",\"gridwidth\":2}},\"shapedefaults\":{\"line\":{\"color\":\"#2a3f5f\"}},\"annotationdefaults\":{\"arrowcolor\":\"#2a3f5f\",\"arrowhead\":0,\"arrowwidth\":1},\"geo\":{\"bgcolor\":\"white\",\"landcolor\":\"#E5ECF6\",\"subunitcolor\":\"white\",\"showland\":true,\"showlakes\":true,\"lakecolor\":\"white\"},\"title\":{\"x\":0.05},\"mapbox\":{\"style\":\"light\"}}},\"legend\":{\"tracegroupgap\":0},\"title\":{\"text\":\"Category\"}},                        {\"responsive\": true}                    ).then(function(){\n",
              "                            \n",
              "var gd = document.getElementById('7cf90852-f14c-4260-9c67-ab87028710c0');\n",
              "var x = new MutationObserver(function (mutations, observer) {{\n",
              "        var display = window.getComputedStyle(gd).display;\n",
              "        if (!display || display === 'none') {{\n",
              "            console.log([gd, 'removed!']);\n",
              "            Plotly.purge(gd);\n",
              "            observer.disconnect();\n",
              "        }}\n",
              "}});\n",
              "\n",
              "// Listen for the removal of the full notebook cells\n",
              "var notebookContainer = gd.closest('#notebook-container');\n",
              "if (notebookContainer) {{\n",
              "    x.observe(notebookContainer, {childList: true});\n",
              "}}\n",
              "\n",
              "// Listen for the clearing of the current output cell\n",
              "var outputEl = gd.closest('.output');\n",
              "if (outputEl) {{\n",
              "    x.observe(outputEl, {childList: true});\n",
              "}}\n",
              "\n",
              "                        })                };                            </script>        </div>\n",
              "</body>\n",
              "</html>"
            ]
          },
          "metadata": {}
        }
      ]
    },
    {
      "cell_type": "code",
      "source": [
        "Categoris= df.groupby(\"Category\").sum().sort_values(\"Sales_scaled\",ascending=False).head(15)\n",
        "Categoris= Categoris[['Sales_scaled']].round(2)\n",
        "Categoris.reset_index(inplace=True)\n",
        "\n",
        "fig = px.pie(Categoris, values='Sales_scaled', names='Category', title='Categoris by its sales',color_discrete_sequence=px.colors.sequential.RdBu)\n",
        "fig.show()"
      ],
      "metadata": {
        "colab": {
          "base_uri": "https://localhost:8080/",
          "height": 542
        },
        "id": "Jmk4-YqhJP96",
        "outputId": "148c06ef-f5cc-4007-bc18-d8957026f533"
      },
      "execution_count": 80,
      "outputs": [
        {
          "output_type": "display_data",
          "data": {
            "text/html": [
              "<html>\n",
              "<head><meta charset=\"utf-8\" /></head>\n",
              "<body>\n",
              "    <div>            <script src=\"https://cdnjs.cloudflare.com/ajax/libs/mathjax/2.7.5/MathJax.js?config=TeX-AMS-MML_SVG\"></script><script type=\"text/javascript\">if (window.MathJax && window.MathJax.Hub && window.MathJax.Hub.Config) {window.MathJax.Hub.Config({SVG: {font: \"STIX-Web\"}});}</script>                <script type=\"text/javascript\">window.PlotlyConfig = {MathJaxConfig: 'local'};</script>\n",
              "        <script src=\"https://cdn.plot.ly/plotly-2.18.2.min.js\"></script>                <div id=\"73b00834-ca9f-4d1d-8e95-0dc1e83ae160\" class=\"plotly-graph-div\" style=\"height:525px; width:100%;\"></div>            <script type=\"text/javascript\">                                    window.PLOTLYENV=window.PLOTLYENV || {};                                    if (document.getElementById(\"73b00834-ca9f-4d1d-8e95-0dc1e83ae160\")) {                    Plotly.newPlot(                        \"73b00834-ca9f-4d1d-8e95-0dc1e83ae160\",                        [{\"domain\":{\"x\":[0.0,1.0],\"y\":[0.0,1.0]},\"hovertemplate\":\"Category=%{label}<br>Sales_scaled=%{value}<extra></extra>\",\"labels\":[\"Office Supplies\",\"Furniture\",\"Technology\"],\"legendgroup\":\"\",\"name\":\"\",\"showlegend\":true,\"values\":[20624.85,10321.6,9336.74],\"type\":\"pie\"}],                        {\"template\":{\"data\":{\"histogram2dcontour\":[{\"type\":\"histogram2dcontour\",\"colorbar\":{\"outlinewidth\":0,\"ticks\":\"\"},\"colorscale\":[[0.0,\"#0d0887\"],[0.1111111111111111,\"#46039f\"],[0.2222222222222222,\"#7201a8\"],[0.3333333333333333,\"#9c179e\"],[0.4444444444444444,\"#bd3786\"],[0.5555555555555556,\"#d8576b\"],[0.6666666666666666,\"#ed7953\"],[0.7777777777777778,\"#fb9f3a\"],[0.8888888888888888,\"#fdca26\"],[1.0,\"#f0f921\"]]}],\"choropleth\":[{\"type\":\"choropleth\",\"colorbar\":{\"outlinewidth\":0,\"ticks\":\"\"}}],\"histogram2d\":[{\"type\":\"histogram2d\",\"colorbar\":{\"outlinewidth\":0,\"ticks\":\"\"},\"colorscale\":[[0.0,\"#0d0887\"],[0.1111111111111111,\"#46039f\"],[0.2222222222222222,\"#7201a8\"],[0.3333333333333333,\"#9c179e\"],[0.4444444444444444,\"#bd3786\"],[0.5555555555555556,\"#d8576b\"],[0.6666666666666666,\"#ed7953\"],[0.7777777777777778,\"#fb9f3a\"],[0.8888888888888888,\"#fdca26\"],[1.0,\"#f0f921\"]]}],\"heatmap\":[{\"type\":\"heatmap\",\"colorbar\":{\"outlinewidth\":0,\"ticks\":\"\"},\"colorscale\":[[0.0,\"#0d0887\"],[0.1111111111111111,\"#46039f\"],[0.2222222222222222,\"#7201a8\"],[0.3333333333333333,\"#9c179e\"],[0.4444444444444444,\"#bd3786\"],[0.5555555555555556,\"#d8576b\"],[0.6666666666666666,\"#ed7953\"],[0.7777777777777778,\"#fb9f3a\"],[0.8888888888888888,\"#fdca26\"],[1.0,\"#f0f921\"]]}],\"heatmapgl\":[{\"type\":\"heatmapgl\",\"colorbar\":{\"outlinewidth\":0,\"ticks\":\"\"},\"colorscale\":[[0.0,\"#0d0887\"],[0.1111111111111111,\"#46039f\"],[0.2222222222222222,\"#7201a8\"],[0.3333333333333333,\"#9c179e\"],[0.4444444444444444,\"#bd3786\"],[0.5555555555555556,\"#d8576b\"],[0.6666666666666666,\"#ed7953\"],[0.7777777777777778,\"#fb9f3a\"],[0.8888888888888888,\"#fdca26\"],[1.0,\"#f0f921\"]]}],\"contourcarpet\":[{\"type\":\"contourcarpet\",\"colorbar\":{\"outlinewidth\":0,\"ticks\":\"\"}}],\"contour\":[{\"type\":\"contour\",\"colorbar\":{\"outlinewidth\":0,\"ticks\":\"\"},\"colorscale\":[[0.0,\"#0d0887\"],[0.1111111111111111,\"#46039f\"],[0.2222222222222222,\"#7201a8\"],[0.3333333333333333,\"#9c179e\"],[0.4444444444444444,\"#bd3786\"],[0.5555555555555556,\"#d8576b\"],[0.6666666666666666,\"#ed7953\"],[0.7777777777777778,\"#fb9f3a\"],[0.8888888888888888,\"#fdca26\"],[1.0,\"#f0f921\"]]}],\"surface\":[{\"type\":\"surface\",\"colorbar\":{\"outlinewidth\":0,\"ticks\":\"\"},\"colorscale\":[[0.0,\"#0d0887\"],[0.1111111111111111,\"#46039f\"],[0.2222222222222222,\"#7201a8\"],[0.3333333333333333,\"#9c179e\"],[0.4444444444444444,\"#bd3786\"],[0.5555555555555556,\"#d8576b\"],[0.6666666666666666,\"#ed7953\"],[0.7777777777777778,\"#fb9f3a\"],[0.8888888888888888,\"#fdca26\"],[1.0,\"#f0f921\"]]}],\"mesh3d\":[{\"type\":\"mesh3d\",\"colorbar\":{\"outlinewidth\":0,\"ticks\":\"\"}}],\"scatter\":[{\"fillpattern\":{\"fillmode\":\"overlay\",\"size\":10,\"solidity\":0.2},\"type\":\"scatter\"}],\"parcoords\":[{\"type\":\"parcoords\",\"line\":{\"colorbar\":{\"outlinewidth\":0,\"ticks\":\"\"}}}],\"scatterpolargl\":[{\"type\":\"scatterpolargl\",\"marker\":{\"colorbar\":{\"outlinewidth\":0,\"ticks\":\"\"}}}],\"bar\":[{\"error_x\":{\"color\":\"#2a3f5f\"},\"error_y\":{\"color\":\"#2a3f5f\"},\"marker\":{\"line\":{\"color\":\"#E5ECF6\",\"width\":0.5},\"pattern\":{\"fillmode\":\"overlay\",\"size\":10,\"solidity\":0.2}},\"type\":\"bar\"}],\"scattergeo\":[{\"type\":\"scattergeo\",\"marker\":{\"colorbar\":{\"outlinewidth\":0,\"ticks\":\"\"}}}],\"scatterpolar\":[{\"type\":\"scatterpolar\",\"marker\":{\"colorbar\":{\"outlinewidth\":0,\"ticks\":\"\"}}}],\"histogram\":[{\"marker\":{\"pattern\":{\"fillmode\":\"overlay\",\"size\":10,\"solidity\":0.2}},\"type\":\"histogram\"}],\"scattergl\":[{\"type\":\"scattergl\",\"marker\":{\"colorbar\":{\"outlinewidth\":0,\"ticks\":\"\"}}}],\"scatter3d\":[{\"type\":\"scatter3d\",\"line\":{\"colorbar\":{\"outlinewidth\":0,\"ticks\":\"\"}},\"marker\":{\"colorbar\":{\"outlinewidth\":0,\"ticks\":\"\"}}}],\"scattermapbox\":[{\"type\":\"scattermapbox\",\"marker\":{\"colorbar\":{\"outlinewidth\":0,\"ticks\":\"\"}}}],\"scatterternary\":[{\"type\":\"scatterternary\",\"marker\":{\"colorbar\":{\"outlinewidth\":0,\"ticks\":\"\"}}}],\"scattercarpet\":[{\"type\":\"scattercarpet\",\"marker\":{\"colorbar\":{\"outlinewidth\":0,\"ticks\":\"\"}}}],\"carpet\":[{\"aaxis\":{\"endlinecolor\":\"#2a3f5f\",\"gridcolor\":\"white\",\"linecolor\":\"white\",\"minorgridcolor\":\"white\",\"startlinecolor\":\"#2a3f5f\"},\"baxis\":{\"endlinecolor\":\"#2a3f5f\",\"gridcolor\":\"white\",\"linecolor\":\"white\",\"minorgridcolor\":\"white\",\"startlinecolor\":\"#2a3f5f\"},\"type\":\"carpet\"}],\"table\":[{\"cells\":{\"fill\":{\"color\":\"#EBF0F8\"},\"line\":{\"color\":\"white\"}},\"header\":{\"fill\":{\"color\":\"#C8D4E3\"},\"line\":{\"color\":\"white\"}},\"type\":\"table\"}],\"barpolar\":[{\"marker\":{\"line\":{\"color\":\"#E5ECF6\",\"width\":0.5},\"pattern\":{\"fillmode\":\"overlay\",\"size\":10,\"solidity\":0.2}},\"type\":\"barpolar\"}],\"pie\":[{\"automargin\":true,\"type\":\"pie\"}]},\"layout\":{\"autotypenumbers\":\"strict\",\"colorway\":[\"#636efa\",\"#EF553B\",\"#00cc96\",\"#ab63fa\",\"#FFA15A\",\"#19d3f3\",\"#FF6692\",\"#B6E880\",\"#FF97FF\",\"#FECB52\"],\"font\":{\"color\":\"#2a3f5f\"},\"hovermode\":\"closest\",\"hoverlabel\":{\"align\":\"left\"},\"paper_bgcolor\":\"white\",\"plot_bgcolor\":\"#E5ECF6\",\"polar\":{\"bgcolor\":\"#E5ECF6\",\"angularaxis\":{\"gridcolor\":\"white\",\"linecolor\":\"white\",\"ticks\":\"\"},\"radialaxis\":{\"gridcolor\":\"white\",\"linecolor\":\"white\",\"ticks\":\"\"}},\"ternary\":{\"bgcolor\":\"#E5ECF6\",\"aaxis\":{\"gridcolor\":\"white\",\"linecolor\":\"white\",\"ticks\":\"\"},\"baxis\":{\"gridcolor\":\"white\",\"linecolor\":\"white\",\"ticks\":\"\"},\"caxis\":{\"gridcolor\":\"white\",\"linecolor\":\"white\",\"ticks\":\"\"}},\"coloraxis\":{\"colorbar\":{\"outlinewidth\":0,\"ticks\":\"\"}},\"colorscale\":{\"sequential\":[[0.0,\"#0d0887\"],[0.1111111111111111,\"#46039f\"],[0.2222222222222222,\"#7201a8\"],[0.3333333333333333,\"#9c179e\"],[0.4444444444444444,\"#bd3786\"],[0.5555555555555556,\"#d8576b\"],[0.6666666666666666,\"#ed7953\"],[0.7777777777777778,\"#fb9f3a\"],[0.8888888888888888,\"#fdca26\"],[1.0,\"#f0f921\"]],\"sequentialminus\":[[0.0,\"#0d0887\"],[0.1111111111111111,\"#46039f\"],[0.2222222222222222,\"#7201a8\"],[0.3333333333333333,\"#9c179e\"],[0.4444444444444444,\"#bd3786\"],[0.5555555555555556,\"#d8576b\"],[0.6666666666666666,\"#ed7953\"],[0.7777777777777778,\"#fb9f3a\"],[0.8888888888888888,\"#fdca26\"],[1.0,\"#f0f921\"]],\"diverging\":[[0,\"#8e0152\"],[0.1,\"#c51b7d\"],[0.2,\"#de77ae\"],[0.3,\"#f1b6da\"],[0.4,\"#fde0ef\"],[0.5,\"#f7f7f7\"],[0.6,\"#e6f5d0\"],[0.7,\"#b8e186\"],[0.8,\"#7fbc41\"],[0.9,\"#4d9221\"],[1,\"#276419\"]]},\"xaxis\":{\"gridcolor\":\"white\",\"linecolor\":\"white\",\"ticks\":\"\",\"title\":{\"standoff\":15},\"zerolinecolor\":\"white\",\"automargin\":true,\"zerolinewidth\":2},\"yaxis\":{\"gridcolor\":\"white\",\"linecolor\":\"white\",\"ticks\":\"\",\"title\":{\"standoff\":15},\"zerolinecolor\":\"white\",\"automargin\":true,\"zerolinewidth\":2},\"scene\":{\"xaxis\":{\"backgroundcolor\":\"#E5ECF6\",\"gridcolor\":\"white\",\"linecolor\":\"white\",\"showbackground\":true,\"ticks\":\"\",\"zerolinecolor\":\"white\",\"gridwidth\":2},\"yaxis\":{\"backgroundcolor\":\"#E5ECF6\",\"gridcolor\":\"white\",\"linecolor\":\"white\",\"showbackground\":true,\"ticks\":\"\",\"zerolinecolor\":\"white\",\"gridwidth\":2},\"zaxis\":{\"backgroundcolor\":\"#E5ECF6\",\"gridcolor\":\"white\",\"linecolor\":\"white\",\"showbackground\":true,\"ticks\":\"\",\"zerolinecolor\":\"white\",\"gridwidth\":2}},\"shapedefaults\":{\"line\":{\"color\":\"#2a3f5f\"}},\"annotationdefaults\":{\"arrowcolor\":\"#2a3f5f\",\"arrowhead\":0,\"arrowwidth\":1},\"geo\":{\"bgcolor\":\"white\",\"landcolor\":\"#E5ECF6\",\"subunitcolor\":\"white\",\"showland\":true,\"showlakes\":true,\"lakecolor\":\"white\"},\"title\":{\"x\":0.05},\"mapbox\":{\"style\":\"light\"}}},\"legend\":{\"tracegroupgap\":0},\"title\":{\"text\":\"Categoris by its sales\"},\"piecolorway\":[\"rgb(103,0,31)\",\"rgb(178,24,43)\",\"rgb(214,96,77)\",\"rgb(244,165,130)\",\"rgb(253,219,199)\",\"rgb(247,247,247)\",\"rgb(209,229,240)\",\"rgb(146,197,222)\",\"rgb(67,147,195)\",\"rgb(33,102,172)\",\"rgb(5,48,97)\"]},                        {\"responsive\": true}                    ).then(function(){\n",
              "                            \n",
              "var gd = document.getElementById('73b00834-ca9f-4d1d-8e95-0dc1e83ae160');\n",
              "var x = new MutationObserver(function (mutations, observer) {{\n",
              "        var display = window.getComputedStyle(gd).display;\n",
              "        if (!display || display === 'none') {{\n",
              "            console.log([gd, 'removed!']);\n",
              "            Plotly.purge(gd);\n",
              "            observer.disconnect();\n",
              "        }}\n",
              "}});\n",
              "\n",
              "// Listen for the removal of the full notebook cells\n",
              "var notebookContainer = gd.closest('#notebook-container');\n",
              "if (notebookContainer) {{\n",
              "    x.observe(notebookContainer, {childList: true});\n",
              "}}\n",
              "\n",
              "// Listen for the clearing of the current output cell\n",
              "var outputEl = gd.closest('.output');\n",
              "if (outputEl) {{\n",
              "    x.observe(outputEl, {childList: true});\n",
              "}}\n",
              "\n",
              "                        })                };                            </script>        </div>\n",
              "</body>\n",
              "</html>"
            ]
          },
          "metadata": {}
        }
      ]
    },
    {
      "cell_type": "code",
      "source": [
        "df.columns"
      ],
      "metadata": {
        "colab": {
          "base_uri": "https://localhost:8080/"
        },
        "id": "k_wy3fyaJRDG",
        "outputId": "428f604d-befc-4242-da55-4b07f5459bfa"
      },
      "execution_count": 81,
      "outputs": [
        {
          "output_type": "execute_result",
          "data": {
            "text/plain": [
              "Index(['Order Date', 'Ship Date', 'Ship Mode', 'Segment', 'Country', 'City',\n",
              "       'State', 'Postal Code', 'Region', 'Category', 'Sub-Category',\n",
              "       'Product Name', 'Sales', 'Sales_scaled'],\n",
              "      dtype='object')"
            ]
          },
          "metadata": {},
          "execution_count": 81
        }
      ]
    },
    {
      "cell_type": "code",
      "source": [
        "sub_category = df.groupby(['Region']).sum().sort_values('Sales_scaled', ascending=False).head(10)\n",
        "sub_category = sub_category[['Sales_scaled']].round(3)\n",
        "sub_category"
      ],
      "metadata": {
        "colab": {
          "base_uri": "https://localhost:8080/",
          "height": 206
        },
        "id": "MRoCrEcPNxFd",
        "outputId": "076b31b7-ee68-419b-82cf-d073c13ddfb8"
      },
      "execution_count": 82,
      "outputs": [
        {
          "output_type": "execute_result",
          "data": {
            "text/plain": [
              "         Sales_scaled\n",
              "Region               \n",
              "West        13190.562\n",
              "East        11506.013\n",
              "Central      9016.346\n",
              "South        6570.262"
            ],
            "text/html": [
              "\n",
              "  <div id=\"df-54ad5cb8-2687-49d4-af59-c2be01b05a8a\">\n",
              "    <div class=\"colab-df-container\">\n",
              "      <div>\n",
              "<style scoped>\n",
              "    .dataframe tbody tr th:only-of-type {\n",
              "        vertical-align: middle;\n",
              "    }\n",
              "\n",
              "    .dataframe tbody tr th {\n",
              "        vertical-align: top;\n",
              "    }\n",
              "\n",
              "    .dataframe thead th {\n",
              "        text-align: right;\n",
              "    }\n",
              "</style>\n",
              "<table border=\"1\" class=\"dataframe\">\n",
              "  <thead>\n",
              "    <tr style=\"text-align: right;\">\n",
              "      <th></th>\n",
              "      <th>Sales_scaled</th>\n",
              "    </tr>\n",
              "    <tr>\n",
              "      <th>Region</th>\n",
              "      <th></th>\n",
              "    </tr>\n",
              "  </thead>\n",
              "  <tbody>\n",
              "    <tr>\n",
              "      <th>West</th>\n",
              "      <td>13190.562</td>\n",
              "    </tr>\n",
              "    <tr>\n",
              "      <th>East</th>\n",
              "      <td>11506.013</td>\n",
              "    </tr>\n",
              "    <tr>\n",
              "      <th>Central</th>\n",
              "      <td>9016.346</td>\n",
              "    </tr>\n",
              "    <tr>\n",
              "      <th>South</th>\n",
              "      <td>6570.262</td>\n",
              "    </tr>\n",
              "  </tbody>\n",
              "</table>\n",
              "</div>\n",
              "      <button class=\"colab-df-convert\" onclick=\"convertToInteractive('df-54ad5cb8-2687-49d4-af59-c2be01b05a8a')\"\n",
              "              title=\"Convert this dataframe to an interactive table.\"\n",
              "              style=\"display:none;\">\n",
              "        \n",
              "  <svg xmlns=\"http://www.w3.org/2000/svg\" height=\"24px\"viewBox=\"0 0 24 24\"\n",
              "       width=\"24px\">\n",
              "    <path d=\"M0 0h24v24H0V0z\" fill=\"none\"/>\n",
              "    <path d=\"M18.56 5.44l.94 2.06.94-2.06 2.06-.94-2.06-.94-.94-2.06-.94 2.06-2.06.94zm-11 1L8.5 8.5l.94-2.06 2.06-.94-2.06-.94L8.5 2.5l-.94 2.06-2.06.94zm10 10l.94 2.06.94-2.06 2.06-.94-2.06-.94-.94-2.06-.94 2.06-2.06.94z\"/><path d=\"M17.41 7.96l-1.37-1.37c-.4-.4-.92-.59-1.43-.59-.52 0-1.04.2-1.43.59L10.3 9.45l-7.72 7.72c-.78.78-.78 2.05 0 2.83L4 21.41c.39.39.9.59 1.41.59.51 0 1.02-.2 1.41-.59l7.78-7.78 2.81-2.81c.8-.78.8-2.07 0-2.86zM5.41 20L4 18.59l7.72-7.72 1.47 1.35L5.41 20z\"/>\n",
              "  </svg>\n",
              "      </button>\n",
              "      \n",
              "  <style>\n",
              "    .colab-df-container {\n",
              "      display:flex;\n",
              "      flex-wrap:wrap;\n",
              "      gap: 12px;\n",
              "    }\n",
              "\n",
              "    .colab-df-convert {\n",
              "      background-color: #E8F0FE;\n",
              "      border: none;\n",
              "      border-radius: 50%;\n",
              "      cursor: pointer;\n",
              "      display: none;\n",
              "      fill: #1967D2;\n",
              "      height: 32px;\n",
              "      padding: 0 0 0 0;\n",
              "      width: 32px;\n",
              "    }\n",
              "\n",
              "    .colab-df-convert:hover {\n",
              "      background-color: #E2EBFA;\n",
              "      box-shadow: 0px 1px 2px rgba(60, 64, 67, 0.3), 0px 1px 3px 1px rgba(60, 64, 67, 0.15);\n",
              "      fill: #174EA6;\n",
              "    }\n",
              "\n",
              "    [theme=dark] .colab-df-convert {\n",
              "      background-color: #3B4455;\n",
              "      fill: #D2E3FC;\n",
              "    }\n",
              "\n",
              "    [theme=dark] .colab-df-convert:hover {\n",
              "      background-color: #434B5C;\n",
              "      box-shadow: 0px 1px 3px 1px rgba(0, 0, 0, 0.15);\n",
              "      filter: drop-shadow(0px 1px 2px rgba(0, 0, 0, 0.3));\n",
              "      fill: #FFFFFF;\n",
              "    }\n",
              "  </style>\n",
              "\n",
              "      <script>\n",
              "        const buttonEl =\n",
              "          document.querySelector('#df-54ad5cb8-2687-49d4-af59-c2be01b05a8a button.colab-df-convert');\n",
              "        buttonEl.style.display =\n",
              "          google.colab.kernel.accessAllowed ? 'block' : 'none';\n",
              "\n",
              "        async function convertToInteractive(key) {\n",
              "          const element = document.querySelector('#df-54ad5cb8-2687-49d4-af59-c2be01b05a8a');\n",
              "          const dataTable =\n",
              "            await google.colab.kernel.invokeFunction('convertToInteractive',\n",
              "                                                     [key], {});\n",
              "          if (!dataTable) return;\n",
              "\n",
              "          const docLinkHtml = 'Like what you see? Visit the ' +\n",
              "            '<a target=\"_blank\" href=https://colab.research.google.com/notebooks/data_table.ipynb>data table notebook</a>'\n",
              "            + ' to learn more about interactive tables.';\n",
              "          element.innerHTML = '';\n",
              "          dataTable['output_type'] = 'display_data';\n",
              "          await google.colab.output.renderOutput(dataTable, element);\n",
              "          const docLink = document.createElement('div');\n",
              "          docLink.innerHTML = docLinkHtml;\n",
              "          element.appendChild(docLink);\n",
              "        }\n",
              "      </script>\n",
              "    </div>\n",
              "  </div>\n",
              "  "
            ]
          },
          "metadata": {},
          "execution_count": 82
        }
      ]
    },
    {
      "cell_type": "code",
      "source": [
        "sub_category.reset_index(inplace = True)"
      ],
      "metadata": {
        "id": "_PRP85RLN-4d"
      },
      "execution_count": 83,
      "outputs": []
    },
    {
      "cell_type": "code",
      "source": [
        "plt.figure(figsize=(16,6))\n",
        "\n",
        "plt.bar(sub_category['Region'],sub_category['Sales_scaled'] ,color=\"#99ff99\" , edgecolor='black')\n",
        "\n",
        "plt.xticks(rotation='horizontal')\n",
        "plt.title('States With High Revenu ',fontsize=15)\n",
        "plt.xlabel('State',fontsize=15)\n",
        "plt.ylabel('Revenu',fontsize=15)"
      ],
      "metadata": {
        "colab": {
          "base_uri": "https://localhost:8080/",
          "height": 429
        },
        "id": "1Xl5rO6JOIdg",
        "outputId": "ce655809-2ad6-4672-8daf-7cc4e4629486"
      },
      "execution_count": 84,
      "outputs": [
        {
          "output_type": "execute_result",
          "data": {
            "text/plain": [
              "Text(0, 0.5, 'Revenu')"
            ]
          },
          "metadata": {},
          "execution_count": 84
        },
        {
          "output_type": "display_data",
          "data": {
            "text/plain": [
              "<Figure size 1152x432 with 1 Axes>"
            ],
            "image/png": "[encoded data removed]"
          },
          "metadata": {
            "needs_background": "light"
          }
        }
      ]
    },
    {
      "cell_type": "code",
      "source": [
        "sns.countplot(x='Region',data=df)\n",
        "plt.show()"
      ],
      "metadata": {
        "colab": {
          "base_uri": "https://localhost:8080/",
          "height": 279
        },
        "id": "rV6u94eIOSUB",
        "outputId": "a46f940d-12a8-465e-84a3-9aa2a51c6f09"
      },
      "execution_count": 85,
      "outputs": [
        {
          "output_type": "display_data",
          "data": {
            "text/plain": [
              "<Figure size 432x288 with 1 Axes>"
            ],
            "image/png": "[encoded data removed]"
          },
          "metadata": {
            "needs_background": "light"
          }
        }
      ]
    },
    {
      "cell_type": "code",
      "source": [
        "Segments= df.groupby(\"Segment\").sum().sort_values(\"Sales_scaled\",ascending=False)\n",
        "Segments= Segments[['Sales_scaled']].round(2)\n",
        "Segments.reset_index(inplace=True)\n",
        "\n",
        "fig=px.pie(Segments,names='Segment',values='Sales_scaled',title=\"Segments by Sales\")\n",
        "fig.show()"
      ],
      "metadata": {
        "colab": {
          "base_uri": "https://localhost:8080/",
          "height": 542
        },
        "id": "GOHaG1mYOaCO",
        "outputId": "0e786e64-dd53-426e-8cc6-586cf09de7ee"
      },
      "execution_count": 87,
      "outputs": [
        {
          "output_type": "display_data",
          "data": {
            "text/html": [
              "<html>\n",
              "<head><meta charset=\"utf-8\" /></head>\n",
              "<body>\n",
              "    <div>            <script src=\"https://cdnjs.cloudflare.com/ajax/libs/mathjax/2.7.5/MathJax.js?config=TeX-AMS-MML_SVG\"></script><script type=\"text/javascript\">if (window.MathJax && window.MathJax.Hub && window.MathJax.Hub.Config) {window.MathJax.Hub.Config({SVG: {font: \"STIX-Web\"}});}</script>                <script type=\"text/javascript\">window.PlotlyConfig = {MathJaxConfig: 'local'};</script>\n",
              "        <script src=\"https://cdn.plot.ly/plotly-2.18.2.min.js\"></script>                <div id=\"8a5b5b55-a006-43e6-a769-cfb0c45b2449\" class=\"plotly-graph-div\" style=\"height:525px; width:100%;\"></div>            <script type=\"text/javascript\">                                    window.PLOTLYENV=window.PLOTLYENV || {};                                    if (document.getElementById(\"8a5b5b55-a006-43e6-a769-cfb0c45b2449\")) {                    Plotly.newPlot(                        \"8a5b5b55-a006-43e6-a769-cfb0c45b2449\",                        [{\"domain\":{\"x\":[0.0,1.0],\"y\":[0.0,1.0]},\"hovertemplate\":\"Segment=%{label}<br>Sales_scaled=%{value}<extra></extra>\",\"labels\":[\"Consumer\",\"Corporate\",\"Home Office\"],\"legendgroup\":\"\",\"name\":\"\",\"showlegend\":true,\"values\":[20926.7,12190.52,7165.96],\"type\":\"pie\"}],                        {\"template\":{\"data\":{\"histogram2dcontour\":[{\"type\":\"histogram2dcontour\",\"colorbar\":{\"outlinewidth\":0,\"ticks\":\"\"},\"colorscale\":[[0.0,\"#0d0887\"],[0.1111111111111111,\"#46039f\"],[0.2222222222222222,\"#7201a8\"],[0.3333333333333333,\"#9c179e\"],[0.4444444444444444,\"#bd3786\"],[0.5555555555555556,\"#d8576b\"],[0.6666666666666666,\"#ed7953\"],[0.7777777777777778,\"#fb9f3a\"],[0.8888888888888888,\"#fdca26\"],[1.0,\"#f0f921\"]]}],\"choropleth\":[{\"type\":\"choropleth\",\"colorbar\":{\"outlinewidth\":0,\"ticks\":\"\"}}],\"histogram2d\":[{\"type\":\"histogram2d\",\"colorbar\":{\"outlinewidth\":0,\"ticks\":\"\"},\"colorscale\":[[0.0,\"#0d0887\"],[0.1111111111111111,\"#46039f\"],[0.2222222222222222,\"#7201a8\"],[0.3333333333333333,\"#9c179e\"],[0.4444444444444444,\"#bd3786\"],[0.5555555555555556,\"#d8576b\"],[0.6666666666666666,\"#ed7953\"],[0.7777777777777778,\"#fb9f3a\"],[0.8888888888888888,\"#fdca26\"],[1.0,\"#f0f921\"]]}],\"heatmap\":[{\"type\":\"heatmap\",\"colorbar\":{\"outlinewidth\":0,\"ticks\":\"\"},\"colorscale\":[[0.0,\"#0d0887\"],[0.1111111111111111,\"#46039f\"],[0.2222222222222222,\"#7201a8\"],[0.3333333333333333,\"#9c179e\"],[0.4444444444444444,\"#bd3786\"],[0.5555555555555556,\"#d8576b\"],[0.6666666666666666,\"#ed7953\"],[0.7777777777777778,\"#fb9f3a\"],[0.8888888888888888,\"#fdca26\"],[1.0,\"#f0f921\"]]}],\"heatmapgl\":[{\"type\":\"heatmapgl\",\"colorbar\":{\"outlinewidth\":0,\"ticks\":\"\"},\"colorscale\":[[0.0,\"#0d0887\"],[0.1111111111111111,\"#46039f\"],[0.2222222222222222,\"#7201a8\"],[0.3333333333333333,\"#9c179e\"],[0.4444444444444444,\"#bd3786\"],[0.5555555555555556,\"#d8576b\"],[0.6666666666666666,\"#ed7953\"],[0.7777777777777778,\"#fb9f3a\"],[0.8888888888888888,\"#fdca26\"],[1.0,\"#f0f921\"]]}],\"contourcarpet\":[{\"type\":\"contourcarpet\",\"colorbar\":{\"outlinewidth\":0,\"ticks\":\"\"}}],\"contour\":[{\"type\":\"contour\",\"colorbar\":{\"outlinewidth\":0,\"ticks\":\"\"},\"colorscale\":[[0.0,\"#0d0887\"],[0.1111111111111111,\"#46039f\"],[0.2222222222222222,\"#7201a8\"],[0.3333333333333333,\"#9c179e\"],[0.4444444444444444,\"#bd3786\"],[0.5555555555555556,\"#d8576b\"],[0.6666666666666666,\"#ed7953\"],[0.7777777777777778,\"#fb9f3a\"],[0.8888888888888888,\"#fdca26\"],[1.0,\"#f0f921\"]]}],\"surface\":[{\"type\":\"surface\",\"colorbar\":{\"outlinewidth\":0,\"ticks\":\"\"},\"colorscale\":[[0.0,\"#0d0887\"],[0.1111111111111111,\"#46039f\"],[0.2222222222222222,\"#7201a8\"],[0.3333333333333333,\"#9c179e\"],[0.4444444444444444,\"#bd3786\"],[0.5555555555555556,\"#d8576b\"],[0.6666666666666666,\"#ed7953\"],[0.7777777777777778,\"#fb9f3a\"],[0.8888888888888888,\"#fdca26\"],[1.0,\"#f0f921\"]]}],\"mesh3d\":[{\"type\":\"mesh3d\",\"colorbar\":{\"outlinewidth\":0,\"ticks\":\"\"}}],\"scatter\":[{\"fillpattern\":{\"fillmode\":\"overlay\",\"size\":10,\"solidity\":0.2},\"type\":\"scatter\"}],\"parcoords\":[{\"type\":\"parcoords\",\"line\":{\"colorbar\":{\"outlinewidth\":0,\"ticks\":\"\"}}}],\"scatterpolargl\":[{\"type\":\"scatterpolargl\",\"marker\":{\"colorbar\":{\"outlinewidth\":0,\"ticks\":\"\"}}}],\"bar\":[{\"error_x\":{\"color\":\"#2a3f5f\"},\"error_y\":{\"color\":\"#2a3f5f\"},\"marker\":{\"line\":{\"color\":\"#E5ECF6\",\"width\":0.5},\"pattern\":{\"fillmode\":\"overlay\",\"size\":10,\"solidity\":0.2}},\"type\":\"bar\"}],\"scattergeo\":[{\"type\":\"scattergeo\",\"marker\":{\"colorbar\":{\"outlinewidth\":0,\"ticks\":\"\"}}}],\"scatterpolar\":[{\"type\":\"scatterpolar\",\"marker\":{\"colorbar\":{\"outlinewidth\":0,\"ticks\":\"\"}}}],\"histogram\":[{\"marker\":{\"pattern\":{\"fillmode\":\"overlay\",\"size\":10,\"solidity\":0.2}},\"type\":\"histogram\"}],\"scattergl\":[{\"type\":\"scattergl\",\"marker\":{\"colorbar\":{\"outlinewidth\":0,\"ticks\":\"\"}}}],\"scatter3d\":[{\"type\":\"scatter3d\",\"line\":{\"colorbar\":{\"outlinewidth\":0,\"ticks\":\"\"}},\"marker\":{\"colorbar\":{\"outlinewidth\":0,\"ticks\":\"\"}}}],\"scattermapbox\":[{\"type\":\"scattermapbox\",\"marker\":{\"colorbar\":{\"outlinewidth\":0,\"ticks\":\"\"}}}],\"scatterternary\":[{\"type\":\"scatterternary\",\"marker\":{\"colorbar\":{\"outlinewidth\":0,\"ticks\":\"\"}}}],\"scattercarpet\":[{\"type\":\"scattercarpet\",\"marker\":{\"colorbar\":{\"outlinewidth\":0,\"ticks\":\"\"}}}],\"carpet\":[{\"aaxis\":{\"endlinecolor\":\"#2a3f5f\",\"gridcolor\":\"white\",\"linecolor\":\"white\",\"minorgridcolor\":\"white\",\"startlinecolor\":\"#2a3f5f\"},\"baxis\":{\"endlinecolor\":\"#2a3f5f\",\"gridcolor\":\"white\",\"linecolor\":\"white\",\"minorgridcolor\":\"white\",\"startlinecolor\":\"#2a3f5f\"},\"type\":\"carpet\"}],\"table\":[{\"cells\":{\"fill\":{\"color\":\"#EBF0F8\"},\"line\":{\"color\":\"white\"}},\"header\":{\"fill\":{\"color\":\"#C8D4E3\"},\"line\":{\"color\":\"white\"}},\"type\":\"table\"}],\"barpolar\":[{\"marker\":{\"line\":{\"color\":\"#E5ECF6\",\"width\":0.5},\"pattern\":{\"fillmode\":\"overlay\",\"size\":10,\"solidity\":0.2}},\"type\":\"barpolar\"}],\"pie\":[{\"automargin\":true,\"type\":\"pie\"}]},\"layout\":{\"autotypenumbers\":\"strict\",\"colorway\":[\"#636efa\",\"#EF553B\",\"#00cc96\",\"#ab63fa\",\"#FFA15A\",\"#19d3f3\",\"#FF6692\",\"#B6E880\",\"#FF97FF\",\"#FECB52\"],\"font\":{\"color\":\"#2a3f5f\"},\"hovermode\":\"closest\",\"hoverlabel\":{\"align\":\"left\"},\"paper_bgcolor\":\"white\",\"plot_bgcolor\":\"#E5ECF6\",\"polar\":{\"bgcolor\":\"#E5ECF6\",\"angularaxis\":{\"gridcolor\":\"white\",\"linecolor\":\"white\",\"ticks\":\"\"},\"radialaxis\":{\"gridcolor\":\"white\",\"linecolor\":\"white\",\"ticks\":\"\"}},\"ternary\":{\"bgcolor\":\"#E5ECF6\",\"aaxis\":{\"gridcolor\":\"white\",\"linecolor\":\"white\",\"ticks\":\"\"},\"baxis\":{\"gridcolor\":\"white\",\"linecolor\":\"white\",\"ticks\":\"\"},\"caxis\":{\"gridcolor\":\"white\",\"linecolor\":\"white\",\"ticks\":\"\"}},\"coloraxis\":{\"colorbar\":{\"outlinewidth\":0,\"ticks\":\"\"}},\"colorscale\":{\"sequential\":[[0.0,\"#0d0887\"],[0.1111111111111111,\"#46039f\"],[0.2222222222222222,\"#7201a8\"],[0.3333333333333333,\"#9c179e\"],[0.4444444444444444,\"#bd3786\"],[0.5555555555555556,\"#d8576b\"],[0.6666666666666666,\"#ed7953\"],[0.7777777777777778,\"#fb9f3a\"],[0.8888888888888888,\"#fdca26\"],[1.0,\"#f0f921\"]],\"sequentialminus\":[[0.0,\"#0d0887\"],[0.1111111111111111,\"#46039f\"],[0.2222222222222222,\"#7201a8\"],[0.3333333333333333,\"#9c179e\"],[0.4444444444444444,\"#bd3786\"],[0.5555555555555556,\"#d8576b\"],[0.6666666666666666,\"#ed7953\"],[0.7777777777777778,\"#fb9f3a\"],[0.8888888888888888,\"#fdca26\"],[1.0,\"#f0f921\"]],\"diverging\":[[0,\"#8e0152\"],[0.1,\"#c51b7d\"],[0.2,\"#de77ae\"],[0.3,\"#f1b6da\"],[0.4,\"#fde0ef\"],[0.5,\"#f7f7f7\"],[0.6,\"#e6f5d0\"],[0.7,\"#b8e186\"],[0.8,\"#7fbc41\"],[0.9,\"#4d9221\"],[1,\"#276419\"]]},\"xaxis\":{\"gridcolor\":\"white\",\"linecolor\":\"white\",\"ticks\":\"\",\"title\":{\"standoff\":15},\"zerolinecolor\":\"white\",\"automargin\":true,\"zerolinewidth\":2},\"yaxis\":{\"gridcolor\":\"white\",\"linecolor\":\"white\",\"ticks\":\"\",\"title\":{\"standoff\":15},\"zerolinecolor\":\"white\",\"automargin\":true,\"zerolinewidth\":2},\"scene\":{\"xaxis\":{\"backgroundcolor\":\"#E5ECF6\",\"gridcolor\":\"white\",\"linecolor\":\"white\",\"showbackground\":true,\"ticks\":\"\",\"zerolinecolor\":\"white\",\"gridwidth\":2},\"yaxis\":{\"backgroundcolor\":\"#E5ECF6\",\"gridcolor\":\"white\",\"linecolor\":\"white\",\"showbackground\":true,\"ticks\":\"\",\"zerolinecolor\":\"white\",\"gridwidth\":2},\"zaxis\":{\"backgroundcolor\":\"#E5ECF6\",\"gridcolor\":\"white\",\"linecolor\":\"white\",\"showbackground\":true,\"ticks\":\"\",\"zerolinecolor\":\"white\",\"gridwidth\":2}},\"shapedefaults\":{\"line\":{\"color\":\"#2a3f5f\"}},\"annotationdefaults\":{\"arrowcolor\":\"#2a3f5f\",\"arrowhead\":0,\"arrowwidth\":1},\"geo\":{\"bgcolor\":\"white\",\"landcolor\":\"#E5ECF6\",\"subunitcolor\":\"white\",\"showland\":true,\"showlakes\":true,\"lakecolor\":\"white\"},\"title\":{\"x\":0.05},\"mapbox\":{\"style\":\"light\"}}},\"legend\":{\"tracegroupgap\":0},\"title\":{\"text\":\"Segments by Sales\"}},                        {\"responsive\": true}                    ).then(function(){\n",
              "                            \n",
              "var gd = document.getElementById('8a5b5b55-a006-43e6-a769-cfb0c45b2449');\n",
              "var x = new MutationObserver(function (mutations, observer) {{\n",
              "        var display = window.getComputedStyle(gd).display;\n",
              "        if (!display || display === 'none') {{\n",
              "            console.log([gd, 'removed!']);\n",
              "            Plotly.purge(gd);\n",
              "            observer.disconnect();\n",
              "        }}\n",
              "}});\n",
              "\n",
              "// Listen for the removal of the full notebook cells\n",
              "var notebookContainer = gd.closest('#notebook-container');\n",
              "if (notebookContainer) {{\n",
              "    x.observe(notebookContainer, {childList: true});\n",
              "}}\n",
              "\n",
              "// Listen for the clearing of the current output cell\n",
              "var outputEl = gd.closest('.output');\n",
              "if (outputEl) {{\n",
              "    x.observe(outputEl, {childList: true});\n",
              "}}\n",
              "\n",
              "                        })                };                            </script>        </div>\n",
              "</body>\n",
              "</html>"
            ]
          },
          "metadata": {}
        }
      ]
    },
    {
      "cell_type": "code",
      "source": [
        "plt.figure(figsize=(18,10))\n",
        "top_cities= df.groupby([\"City\",\"Category\"]).sum().sort_values(\"Sales_scaled\",ascending=False).head(40)\n",
        "top_cities= top_cities[['Sales_scaled']].round(2)\n",
        "top_cities.reset_index(inplace=True)\n",
        "sns.barplot(x='City',y='Sales_scaled',hue='Category',data=top_cities)\n",
        "plt.xticks(rotation='vertical')\n",
        "plt.show()"
      ],
      "metadata": {
        "colab": {
          "base_uri": "https://localhost:8080/",
          "height": 664
        },
        "id": "KBu4YISFOt1W",
        "outputId": "aec8713f-5d23-41e2-aa83-7f3569a9b1b5"
      },
      "execution_count": 89,
      "outputs": [
        {
          "output_type": "display_data",
          "data": {
            "text/plain": [
              "<Figure size 1296x720 with 1 Axes>"
            ],
            "image/png": "[encoded data removed]"
          },
          "metadata": {
            "needs_background": "light"
          }
        }
      ]
    },
    {
      "cell_type": "code",
      "source": [],
      "metadata": {
        "id": "W-5fcYXQPQL3"
      },
      "execution_count": null,
      "outputs": []
    }
  ]
}